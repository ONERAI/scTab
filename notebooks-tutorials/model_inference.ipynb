{
 "cells": [
  {
   "cell_type": "markdown",
   "id": "c22f2934-1b06-40bf-8360-ad884a3e27d0",
   "metadata": {},
   "source": [
    "# Model inference example notebook"
   ]
  },
  {
   "cell_type": "code",
   "execution_count": 1,
   "id": "06af81a7",
   "metadata": {
    "collapsed": false,
    "tags": []
   },
   "outputs": [
    {
     "name": "stderr",
     "output_type": "stream",
     "text": [
      "/usr/local/lib/python3.8/dist-packages/tqdm/auto.py:21: TqdmWarning: IProgress not found. Please update jupyter and ipywidgets. See https://ipywidgets.readthedocs.io/en/stable/user_install.html\n",
      "  from .autonotebook import tqdm as notebook_tqdm\n"
     ]
    }
   ],
   "source": [
    "from os.path import join\n",
    "\n",
    "import anndata\n",
    "import numpy as np\n",
    "import pandas as pd\n",
    "import scanpy as sc\n",
    "import torch\n",
    "\n",
    "from tqdm.auto import tqdm"
   ]
  },
  {
   "cell_type": "markdown",
   "id": "ec909451-f531-4eb2-b43b-33b69d8d2c76",
   "metadata": {},
   "source": [
    "## Load example data set"
   ]
  },
  {
   "cell_type": "code",
   "execution_count": null,
   "id": "a79e902f-3d01-4144-ae25-12617fecc8af",
   "metadata": {
    "tags": []
   },
   "outputs": [],
   "source": [
    "# Download example data\n",
    "!wget https://datasets.cellxgene.cziscience.com/f8f41e86-e9ed-4de7-a155-836b2f243fd0.h5ad"
   ]
  },
  {
   "cell_type": "code",
   "execution_count": 2,
   "id": "2170b572-bcc7-4fac-90eb-3d40e88ffd4d",
   "metadata": {
    "tags": []
   },
   "outputs": [
    {
     "data": {
      "text/plain": [
       "AnnData object with n_obs × n_vars = 5000 × 36263\n",
       "    obs: 'nCount_RNA', 'nFeature_RNA', 'nCount_HTO', 'nFeature_HTO', 'HTO_maxID', 'HTO_secondID', 'HTO_margin', 'HTO_classification.global', 'sample', 'donor_id', 'CHIP', 'LANE', 'ProjectID', 'MUTATION', 'MUTATION.GROUP', 'sex_ontology_term_id', 'HTOID', 'percent.mt', 'nCount_SCT', 'nFeature_SCT', 'scType_celltype', 'pANN', 'development_stage_ontology_term_id', 'cell_type_ontology_term_id', 'self_reported_ethnicity_ontology_term_id', 'assay_ontology_term_id', 'suspension_type', 'is_primary_data', 'tissue_type', 'tissue_ontology_term_id', 'organism_ontology_term_id', 'disease_ontology_term_id', 'cell_type', 'assay', 'disease', 'organism', 'sex', 'tissue', 'self_reported_ethnicity', 'development_stage', 'observation_joinid'\n",
       "    var: 'feature_is_filtered', 'feature_name', 'feature_reference', 'feature_biotype', 'feature_length'\n",
       "    uns: 'citation', 'default_embedding', 'schema_reference', 'schema_version', 'title'\n",
       "    obsm: 'X_umap'"
      ]
     },
     "execution_count": 2,
     "metadata": {},
     "output_type": "execute_result"
    }
   ],
   "source": [
    "adata = anndata.read_h5ad('f8f41e86-e9ed-4de7-a155-836b2f243fd0.h5ad')\n",
    "# subsample to 5000 cells to make inference run faster\n",
    "sc.pp.subsample(adata, n_obs=5000)\n",
    "adata"
   ]
  },
  {
   "cell_type": "code",
   "execution_count": 3,
   "id": "a4240173-c70e-4ae4-85e8-d9073dbfc5da",
   "metadata": {
    "tags": []
   },
   "outputs": [],
   "source": [
    "# use raw counts\n",
    "adata.X = adata.raw.X"
   ]
  },
  {
   "cell_type": "markdown",
   "id": "1143d50f-ec2e-4117-8125-c58c0f3318f7",
   "metadata": {},
   "source": [
    "## Inference steps"
   ]
  },
  {
   "cell_type": "markdown",
   "id": "98fcabb7-986d-4504-819b-dba05d7c263d",
   "metadata": {},
   "source": [
    "To run this notebook you first need to download all relevant data:\n",
    "* Minimal store: https://pklab.med.harvard.edu/felix/data/merlin_cxg_2023_05_15_sf-log1p_minimal.tar.gz\n",
    "    * Includes `var.parquet` file\n",
    "    * Includes `cell_type.parquet` file under `categorical_lookup/cell_type.parquet`\n",
    "* scTab checkpoints: https://pklab.med.harvard.edu/felix/data/scTab-checkpoints.tar.gz\n",
    "    * Includes all the checkpoint files"
   ]
  },
  {
   "cell_type": "code",
   "execution_count": null,
   "id": "5b14feab-d845-4174-8549-4ce15b6fbd63",
   "metadata": {
    "tags": []
   },
   "outputs": [],
   "source": [
    "# Download data\n",
    "!wget https://pklab.med.harvard.edu/felix/data/merlin_cxg_2023_05_15_sf-log1p_minimal.tar.gz\n",
    "!wget https://pklab.med.harvard.edu/felix/data/scTab-checkpoints.tar.gz"
   ]
  },
  {
   "cell_type": "code",
   "execution_count": null,
   "id": "8b966c51-2087-4c24-bdc5-e4b218d2e5ac",
   "metadata": {
    "tags": []
   },
   "outputs": [],
   "source": [
    "# extract data\n",
    "!tar -xzvf merlin_cxg_2023_05_15_sf-log1p_minimal.tar.gz\n",
    "!tar -xzvf scTab-checkpoints.tar.gz"
   ]
  },
  {
   "cell_type": "markdown",
   "id": "a16c3721-b1c1-476f-897a-f84a7c0e6a2c",
   "metadata": {},
   "source": [
    "### 1. Preprocess data for model inference"
   ]
  },
  {
   "cell_type": "markdown",
   "id": "1eaff8c2-e17d-4f41-9b7d-7bfd825ccb21",
   "metadata": {},
   "source": [
    "Data preparation involves the following steps:\n",
    "\n",
    "1. Streamline feature space (select genes + arrange them in the same order as model was fitted on). \n",
    "    * Currently, the model uses Ensembl version 104 - that's the version CELLxGENE uses\n",
    "    * If you have the same Ensembl release we can just do string matching and rearrange the gene matrix\n",
    "    * If this in not done, the code below does not give the right results\n",
    "    * If you use a different Ensembl version, the output of the code below might not be correct\n",
    "2. Wrap data set into PyTorch data loader &rarr; use this to feed data into model"
   ]
  },
  {
   "cell_type": "markdown",
   "id": "8c7d0774-b532-47b4-a6f7-0ceef9aa11c4",
   "metadata": {},
   "source": [
    "#### 1. Streamline feature space"
   ]
  },
  {
   "cell_type": "code",
   "execution_count": 4,
   "id": "c7b77042-f56a-4592-b261-159fef6bd59f",
   "metadata": {
    "tags": []
   },
   "outputs": [
    {
     "data": {
      "text/html": [
       "<div>\n",
       "<style scoped>\n",
       "    .dataframe tbody tr th:only-of-type {\n",
       "        vertical-align: middle;\n",
       "    }\n",
       "\n",
       "    .dataframe tbody tr th {\n",
       "        vertical-align: top;\n",
       "    }\n",
       "\n",
       "    .dataframe thead th {\n",
       "        text-align: right;\n",
       "    }\n",
       "</style>\n",
       "<table border=\"1\" class=\"dataframe\">\n",
       "  <thead>\n",
       "    <tr style=\"text-align: right;\">\n",
       "      <th></th>\n",
       "      <th>feature_is_filtered</th>\n",
       "      <th>feature_name</th>\n",
       "      <th>feature_reference</th>\n",
       "      <th>feature_biotype</th>\n",
       "      <th>feature_length</th>\n",
       "    </tr>\n",
       "  </thead>\n",
       "  <tbody>\n",
       "    <tr>\n",
       "      <th>ENSG00000243485</th>\n",
       "      <td>False</td>\n",
       "      <td>MIR1302-2HG</td>\n",
       "      <td>NCBITaxon:9606</td>\n",
       "      <td>gene</td>\n",
       "      <td>1021</td>\n",
       "    </tr>\n",
       "    <tr>\n",
       "      <th>ENSG00000237613</th>\n",
       "      <td>False</td>\n",
       "      <td>FAM138A</td>\n",
       "      <td>NCBITaxon:9606</td>\n",
       "      <td>gene</td>\n",
       "      <td>1219</td>\n",
       "    </tr>\n",
       "    <tr>\n",
       "      <th>ENSG00000186092</th>\n",
       "      <td>False</td>\n",
       "      <td>OR4F5</td>\n",
       "      <td>NCBITaxon:9606</td>\n",
       "      <td>gene</td>\n",
       "      <td>2618</td>\n",
       "    </tr>\n",
       "    <tr>\n",
       "      <th>ENSG00000238009</th>\n",
       "      <td>False</td>\n",
       "      <td>ENSG00000238009.6</td>\n",
       "      <td>NCBITaxon:9606</td>\n",
       "      <td>gene</td>\n",
       "      <td>3726</td>\n",
       "    </tr>\n",
       "    <tr>\n",
       "      <th>ENSG00000239945</th>\n",
       "      <td>False</td>\n",
       "      <td>ENSG00000239945.1</td>\n",
       "      <td>NCBITaxon:9606</td>\n",
       "      <td>gene</td>\n",
       "      <td>1319</td>\n",
       "    </tr>\n",
       "  </tbody>\n",
       "</table>\n",
       "</div>"
      ],
      "text/plain": [
       "                 feature_is_filtered       feature_name feature_reference  \\\n",
       "ENSG00000243485                False        MIR1302-2HG    NCBITaxon:9606   \n",
       "ENSG00000237613                False            FAM138A    NCBITaxon:9606   \n",
       "ENSG00000186092                False              OR4F5    NCBITaxon:9606   \n",
       "ENSG00000238009                False  ENSG00000238009.6    NCBITaxon:9606   \n",
       "ENSG00000239945                False  ENSG00000239945.1    NCBITaxon:9606   \n",
       "\n",
       "                feature_biotype feature_length  \n",
       "ENSG00000243485            gene           1021  \n",
       "ENSG00000237613            gene           1219  \n",
       "ENSG00000186092            gene           2618  \n",
       "ENSG00000238009            gene           3726  \n",
       "ENSG00000239945            gene           1319  "
      ]
     },
     "execution_count": 4,
     "metadata": {},
     "output_type": "execute_result"
    }
   ],
   "source": [
    "adata.var.head()"
   ]
  },
  {
   "cell_type": "code",
   "execution_count": 5,
   "id": "215010ff-da4e-4b1a-aa0b-6097aa41fb9e",
   "metadata": {
    "tags": []
   },
   "outputs": [
    {
     "data": {
      "text/html": [
       "<div>\n",
       "<style scoped>\n",
       "    .dataframe tbody tr th:only-of-type {\n",
       "        vertical-align: middle;\n",
       "    }\n",
       "\n",
       "    .dataframe tbody tr th {\n",
       "        vertical-align: top;\n",
       "    }\n",
       "\n",
       "    .dataframe thead th {\n",
       "        text-align: right;\n",
       "    }\n",
       "</style>\n",
       "<table border=\"1\" class=\"dataframe\">\n",
       "  <thead>\n",
       "    <tr style=\"text-align: right;\">\n",
       "      <th></th>\n",
       "      <th>feature_id</th>\n",
       "      <th>feature_name</th>\n",
       "    </tr>\n",
       "  </thead>\n",
       "  <tbody>\n",
       "    <tr>\n",
       "      <th>0</th>\n",
       "      <td>ENSG00000186092</td>\n",
       "      <td>OR4F5</td>\n",
       "    </tr>\n",
       "    <tr>\n",
       "      <th>1</th>\n",
       "      <td>ENSG00000284733</td>\n",
       "      <td>OR4F29</td>\n",
       "    </tr>\n",
       "    <tr>\n",
       "      <th>2</th>\n",
       "      <td>ENSG00000284662</td>\n",
       "      <td>OR4F16</td>\n",
       "    </tr>\n",
       "    <tr>\n",
       "      <th>3</th>\n",
       "      <td>ENSG00000187634</td>\n",
       "      <td>SAMD11</td>\n",
       "    </tr>\n",
       "    <tr>\n",
       "      <th>4</th>\n",
       "      <td>ENSG00000188976</td>\n",
       "      <td>NOC2L</td>\n",
       "    </tr>\n",
       "  </tbody>\n",
       "</table>\n",
       "</div>"
      ],
      "text/plain": [
       "        feature_id feature_name\n",
       "0  ENSG00000186092        OR4F5\n",
       "1  ENSG00000284733       OR4F29\n",
       "2  ENSG00000284662       OR4F16\n",
       "3  ENSG00000187634       SAMD11\n",
       "4  ENSG00000188976        NOC2L"
      ]
     },
     "execution_count": 5,
     "metadata": {},
     "output_type": "execute_result"
    }
   ],
   "source": [
    "# load the gene order on which model was trained on\n",
    "genes_from_model = pd.read_parquet('merlin_cxg_2023_05_15_sf-log1p_minimal/var.parquet')\n",
    "genes_from_model.head()"
   ]
  },
  {
   "cell_type": "code",
   "execution_count": 7,
   "id": "929ae0c7",
   "metadata": {
    "collapsed": false,
    "tags": []
   },
   "outputs": [
    {
     "data": {
      "text/plain": [
       "(5000, 19331)"
      ]
     },
     "execution_count": 7,
     "metadata": {},
     "output_type": "execute_result"
    }
   ],
   "source": [
    "from scipy.sparse import csc_matrix\n",
    "from cellnet.utils.data_loading import streamline_count_matrix\n",
    "\n",
    "# subset gene space only to genes used by the model\n",
    "adata = adata[:, adata.var.feature_name.isin(genes_from_model.feature_name).to_numpy()]\n",
    "# pass the count matrix in csc_matrix to make column slicing efficient\n",
    "x_streamlined = streamline_count_matrix(\n",
    "    csc_matrix(adata.X), \n",
    "    adata.var.feature_name,  # change this if gene names are stored in different column\n",
    "    genes_from_model.feature_name\n",
    ")\n",
    "x_streamlined.shape"
   ]
  },
  {
   "cell_type": "markdown",
   "id": "2dfc8d40-61e8-4ca7-a112-744ca0b91f5a",
   "metadata": {},
   "source": [
    "#### 2. Wrap into pytroch data loader"
   ]
  },
  {
   "cell_type": "code",
   "execution_count": 8,
   "id": "0ff6e766-014f-49f7-9f69-2939c1d60f24",
   "metadata": {
    "tags": []
   },
   "outputs": [],
   "source": [
    "from cellnet.utils.data_loading import dataloader_factory\n",
    "\n",
    "# Wrap dataset into pytorch data loader to use for batched inference\n",
    "loader = dataloader_factory(x_streamlined, batch_size=2048)"
   ]
  },
  {
   "cell_type": "markdown",
   "id": "3a44f88a-7515-4706-8520-54e7e477048d",
   "metadata": {},
   "source": [
    "## 2. Load weights from checkpoint and intialize model"
   ]
  },
  {
   "cell_type": "code",
   "execution_count": 9,
   "id": "d51502d4-699d-4f50-973b-2b5728668acd",
   "metadata": {
    "tags": []
   },
   "outputs": [],
   "source": [
    "from collections import OrderedDict\n",
    "import yaml"
   ]
  },
  {
   "cell_type": "code",
   "execution_count": 10,
   "id": "2f54a308-61f7-477f-887d-84d8683bdc5b",
   "metadata": {
    "tags": []
   },
   "outputs": [],
   "source": [
    "# load checkpoint\n",
    "if torch.cuda.is_available():\n",
    "    ckpt = torch.load(\n",
    "        'scTab-checkpoints/scTab/run5/val_f1_macro_epoch=41_val_f1_macro=0.847.ckpt', \n",
    "    )\n",
    "else:\n",
    "    # map to cpu if there is not gpu available\n",
    "    ckpt = torch.load(\n",
    "        'scTab-checkpoints/scTab/run5/val_f1_macro_epoch=41_val_f1_macro=0.847.ckpt', \n",
    "        map_location=torch.device('cpu')\n",
    "    )\n",
    "\n",
    "# extract state_dict of tabnet model from checkpoint\n",
    "# I can do this as well and just send you the updated checkpoint file - I think this would be the best solution\n",
    "# I just put this here for completeness\n",
    "tabnet_weights = OrderedDict()\n",
    "for name, weight in ckpt['state_dict'].items():\n",
    "    if 'classifier.' in name:\n",
    "        tabnet_weights[name.replace('classifier.', '')] = weight\n"
   ]
  },
  {
   "cell_type": "code",
   "execution_count": 12,
   "id": "2b2934ac-4864-4fde-8c64-48d1d38d4ecb",
   "metadata": {
    "tags": []
   },
   "outputs": [],
   "source": [
    "from cellnet.tabnet.tab_network import TabNet\n",
    "\n",
    "\n",
    "# load in hparams file of model to get model architecture\n",
    "with open('scTab-checkpoints/scTab/run5/hparams.yaml') as f:\n",
    "    model_params = yaml.full_load(f.read())\n",
    "\n",
    "\n",
    "# initialzie model with hparams from hparams.yaml file\n",
    "tabnet = TabNet(\n",
    "    input_dim=model_params['gene_dim'],\n",
    "    output_dim=model_params['type_dim'],\n",
    "    n_d=model_params['n_d'],\n",
    "    n_a=model_params['n_a'],\n",
    "    n_steps=model_params['n_steps'],\n",
    "    gamma=model_params['gamma'],\n",
    "    n_independent=model_params['n_independent'],\n",
    "    n_shared=model_params['n_shared'],\n",
    "    epsilon=model_params['epsilon'],\n",
    "    virtual_batch_size=model_params['virtual_batch_size'],\n",
    "    momentum=model_params['momentum'],\n",
    "    mask_type=model_params['mask_type'],\n",
    ")\n",
    "\n",
    "# load trained weights\n",
    "tabnet.load_state_dict(tabnet_weights)\n",
    "# set model to inference mode\n",
    "tabnet.eval();"
   ]
  },
  {
   "cell_type": "markdown",
   "id": "c77f515b-4841-4460-a205-a061309d011d",
   "metadata": {},
   "source": [
    "## 3. Run model inference"
   ]
  },
  {
   "cell_type": "code",
   "execution_count": 13,
   "id": "05b2ac0e",
   "metadata": {
    "collapsed": false,
    "tags": []
   },
   "outputs": [],
   "source": [
    "def sf_log1p_norm(x):\n",
    "    \"\"\"Normalize each cell to have 10000 counts and apply log(x+1) transform.\"\"\"\n",
    "\n",
    "    counts = torch.sum(x, dim=1, keepdim=True)\n",
    "    # avoid zero division error\n",
    "    counts += counts == 0.\n",
    "    scaling_factor = 10000. / counts\n",
    "\n",
    "    return torch.log1p(scaling_factor * x)\n"
   ]
  },
  {
   "cell_type": "code",
   "execution_count": 14,
   "id": "06c50c15-d2ab-4347-9643-0f80a1a27f21",
   "metadata": {
    "tags": []
   },
   "outputs": [
    {
     "name": "stderr",
     "output_type": "stream",
     "text": [
      "100%|██████████| 3/3 [00:08<00:00,  2.91s/it]\n"
     ]
    }
   ],
   "source": [
    "preds = []\n",
    "\n",
    "with torch.no_grad():\n",
    "    for batch in tqdm(loader):\n",
    "        # normalize data\n",
    "        x_input = sf_log1p_norm(batch[0]['X'])\n",
    "        logits, _ = tabnet(x_input)\n",
    "        preds.append(torch.argmax(logits, dim=1).numpy())\n",
    "\n",
    "\n",
    "preds = np.hstack(preds)"
   ]
  },
  {
   "cell_type": "code",
   "execution_count": 15,
   "id": "da32c5c9-52c6-4290-8942-c5c2a6cc5135",
   "metadata": {
    "tags": []
   },
   "outputs": [
    {
     "data": {
      "text/plain": [
       "array([127,  54, 125, ..., 106,  54,  22])"
      ]
     },
     "execution_count": 15,
     "metadata": {},
     "output_type": "execute_result"
    }
   ],
   "source": [
    "preds"
   ]
  },
  {
   "cell_type": "code",
   "execution_count": 16,
   "id": "72917ef9-5973-433f-8b32-3f1c7c02fc9b",
   "metadata": {
    "tags": []
   },
   "outputs": [],
   "source": [
    "# model outputs just integers -> each int corresponds to a specific cell type\n",
    "# revert this mapping now\n",
    "cell_type_mapping = pd.read_parquet('merlin_cxg_2023_05_15_sf-log1p_minimal/categorical_lookup/cell_type.parquet')"
   ]
  },
  {
   "cell_type": "code",
   "execution_count": 17,
   "id": "d4629760-fb02-4ce1-a08f-bf191e8cdb3f",
   "metadata": {
    "tags": []
   },
   "outputs": [
    {
     "data": {
      "text/plain": [
       "array(['natural killer cell', 'dendritic cell',\n",
       "       'naive thymus-derived CD8-positive, alpha-beta T cell', ...,\n",
       "       'macrophage', 'dendritic cell', 'T cell'], dtype=object)"
      ]
     },
     "execution_count": 17,
     "metadata": {},
     "output_type": "execute_result"
    }
   ],
   "source": [
    "preds = cell_type_mapping.loc[preds]['label'].to_numpy()\n",
    "preds"
   ]
  },
  {
   "cell_type": "code",
   "execution_count": 18,
   "id": "be65ee0c-5e26-417d-84e2-b428910f22ac",
   "metadata": {
    "tags": []
   },
   "outputs": [
    {
     "data": {
      "text/plain": [
       "(5000,)"
      ]
     },
     "execution_count": 18,
     "metadata": {},
     "output_type": "execute_result"
    }
   ],
   "source": [
    "preds.shape"
   ]
  },
  {
   "cell_type": "code",
   "execution_count": null,
   "id": "b728bfce-177f-4227-a349-f56924dadf3c",
   "metadata": {},
   "outputs": [],
   "source": []
  }
 ],
 "metadata": {
  "kernelspec": {
   "display_name": "Python 3 (ipykernel)",
   "language": "python",
   "name": "python3"
  },
  "language_info": {
   "codemirror_mode": {
    "name": "ipython",
    "version": 3
   },
   "file_extension": ".py",
   "mimetype": "text/x-python",
   "name": "python",
   "nbconvert_exporter": "python",
   "pygments_lexer": "ipython3",
   "version": "3.8.10"
  }
 },
 "nbformat": 4,
 "nbformat_minor": 5
}
