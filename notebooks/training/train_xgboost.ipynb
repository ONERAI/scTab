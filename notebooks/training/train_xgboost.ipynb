{
 "cells": [
  {
   "cell_type": "code",
   "execution_count": null,
   "id": "845de29e-86f5-4b4b-8bc8-4fcef7d25706",
   "metadata": {
    "tags": []
   },
   "outputs": [],
   "source": [
    "# !pip install dask-ml[xgboost]\n",
    "!pip install xgboost\n",
    "!pip install scikit-learn"
   ]
  },
  {
   "cell_type": "markdown",
   "id": "08bacdfd-eb46-45fb-8daa-927d597710b3",
   "metadata": {},
   "source": [
    "# Train XGBoost on 256 PCA components"
   ]
  },
  {
   "cell_type": "code",
   "execution_count": 1,
   "id": "948708a6-e94e-449a-90fc-43d327d12674",
   "metadata": {
    "tags": []
   },
   "outputs": [],
   "source": [
    "from os.path import join\n",
    "\n",
    "import xgboost as xgb\n",
    "import numpy as np\n",
    "import dask.dataframe as dd"
   ]
  },
  {
   "cell_type": "code",
   "execution_count": 2,
   "id": "98089ad9-efdd-459f-8545-85ddcc4dcb46",
   "metadata": {
    "tags": []
   },
   "outputs": [],
   "source": [
    "DATA_PATH = '/mnt/dssmcmlfs01/merlin_cxg_simple_norm_parquet'"
   ]
  },
  {
   "cell_type": "code",
   "execution_count": 3,
   "id": "abdf1337-e80e-4e15-83b3-056a2a6a01f2",
   "metadata": {
    "tags": []
   },
   "outputs": [],
   "source": [
    "x_train = np.load(join(DATA_PATH, 'pca/x_pca_training_train_split_256.npy'))\n",
    "y_train = dd.read_parquet(join(DATA_PATH, 'train'), columns='cell_type').compute().to_numpy()\n",
    "\n",
    "x_val = np.load(join(DATA_PATH, 'pca/x_pca_training_val_split_256.npy'))\n",
    "y_val = dd.read_parquet(join(DATA_PATH, 'val'), columns='cell_type').compute().to_numpy()\n",
    "\n",
    "class_weights = np.load(join(DATA_PATH, 'class_weights.npy'))"
   ]
  },
  {
   "cell_type": "code",
   "execution_count": 4,
   "id": "ac43212b-edf1-4cee-9116-c2d887b5a6f1",
   "metadata": {
    "tags": []
   },
   "outputs": [],
   "source": [
    "class_weights = {i: weight for i, weight in enumerate(np.load(join(DATA_PATH, 'class_weights.npy')))}\n",
    "weights = np.array([class_weights[label] for label in y_train])"
   ]
  },
  {
   "cell_type": "code",
   "execution_count": 5,
   "id": "72a702fa-3256-409c-b522-4e7869a020ab",
   "metadata": {
    "tags": []
   },
   "outputs": [
    {
     "name": "stdout",
     "output_type": "stream",
     "text": [
      "[0]\tvalidation_0-mlogloss:2.10118\n",
      "[1]\tvalidation_0-mlogloss:1.93694\n",
      "[2]\tvalidation_0-mlogloss:1.81939\n",
      "[3]\tvalidation_0-mlogloss:1.72482\n",
      "[4]\tvalidation_0-mlogloss:1.64597\n",
      "[5]\tvalidation_0-mlogloss:1.57715\n",
      "[6]\tvalidation_0-mlogloss:1.51643\n",
      "[7]\tvalidation_0-mlogloss:1.46269\n",
      "[8]\tvalidation_0-mlogloss:1.41416\n",
      "[9]\tvalidation_0-mlogloss:1.37082\n",
      "[10]\tvalidation_0-mlogloss:1.33098\n",
      "[11]\tvalidation_0-mlogloss:1.29495\n",
      "[12]\tvalidation_0-mlogloss:1.26117\n",
      "[13]\tvalidation_0-mlogloss:1.23021\n",
      "[14]\tvalidation_0-mlogloss:1.20158\n",
      "[15]\tvalidation_0-mlogloss:1.17507\n",
      "[16]\tvalidation_0-mlogloss:1.15024\n",
      "[17]\tvalidation_0-mlogloss:1.12724\n",
      "[18]\tvalidation_0-mlogloss:1.10570\n",
      "[19]\tvalidation_0-mlogloss:1.08525\n",
      "[20]\tvalidation_0-mlogloss:1.06623\n",
      "[21]\tvalidation_0-mlogloss:1.04858\n",
      "[22]\tvalidation_0-mlogloss:1.03150\n",
      "[23]\tvalidation_0-mlogloss:1.01581\n",
      "[24]\tvalidation_0-mlogloss:1.00115\n",
      "[25]\tvalidation_0-mlogloss:0.98713\n",
      "[26]\tvalidation_0-mlogloss:0.97399\n",
      "[27]\tvalidation_0-mlogloss:0.96165\n",
      "[28]\tvalidation_0-mlogloss:0.95010\n",
      "[29]\tvalidation_0-mlogloss:0.93872\n",
      "[30]\tvalidation_0-mlogloss:0.92829\n",
      "[31]\tvalidation_0-mlogloss:0.91838\n",
      "[32]\tvalidation_0-mlogloss:0.90892\n",
      "[33]\tvalidation_0-mlogloss:0.89987\n",
      "[34]\tvalidation_0-mlogloss:0.89154\n",
      "[35]\tvalidation_0-mlogloss:0.88354\n",
      "[36]\tvalidation_0-mlogloss:0.87601\n",
      "[37]\tvalidation_0-mlogloss:0.86893\n",
      "[38]\tvalidation_0-mlogloss:0.86226\n",
      "[39]\tvalidation_0-mlogloss:0.85576\n",
      "[40]\tvalidation_0-mlogloss:0.84957\n",
      "[41]\tvalidation_0-mlogloss:0.84366\n",
      "[42]\tvalidation_0-mlogloss:0.83808\n",
      "[43]\tvalidation_0-mlogloss:0.83281\n",
      "[44]\tvalidation_0-mlogloss:0.82785\n",
      "[45]\tvalidation_0-mlogloss:0.82314\n",
      "[46]\tvalidation_0-mlogloss:0.81865\n",
      "[47]\tvalidation_0-mlogloss:0.81430\n",
      "[48]\tvalidation_0-mlogloss:0.81001\n",
      "[49]\tvalidation_0-mlogloss:0.80595\n",
      "[50]\tvalidation_0-mlogloss:0.80213\n",
      "[51]\tvalidation_0-mlogloss:0.79856\n",
      "[52]\tvalidation_0-mlogloss:0.79525\n",
      "[53]\tvalidation_0-mlogloss:0.79201\n",
      "[54]\tvalidation_0-mlogloss:0.78895\n",
      "[55]\tvalidation_0-mlogloss:0.78597\n",
      "[56]\tvalidation_0-mlogloss:0.78314\n",
      "[57]\tvalidation_0-mlogloss:0.78036\n",
      "[58]\tvalidation_0-mlogloss:0.77768\n",
      "[59]\tvalidation_0-mlogloss:0.77525\n",
      "[60]\tvalidation_0-mlogloss:0.77295\n",
      "[61]\tvalidation_0-mlogloss:0.77066\n",
      "[62]\tvalidation_0-mlogloss:0.76863\n",
      "[63]\tvalidation_0-mlogloss:0.76668\n",
      "[64]\tvalidation_0-mlogloss:0.76485\n",
      "[65]\tvalidation_0-mlogloss:0.76306\n",
      "[66]\tvalidation_0-mlogloss:0.76142\n",
      "[67]\tvalidation_0-mlogloss:0.75978\n",
      "[68]\tvalidation_0-mlogloss:0.75824\n",
      "[69]\tvalidation_0-mlogloss:0.75674\n",
      "[70]\tvalidation_0-mlogloss:0.75528\n",
      "[71]\tvalidation_0-mlogloss:0.75383\n",
      "[72]\tvalidation_0-mlogloss:0.75242\n",
      "[73]\tvalidation_0-mlogloss:0.75116\n",
      "[74]\tvalidation_0-mlogloss:0.75000\n",
      "[75]\tvalidation_0-mlogloss:0.74878\n",
      "[76]\tvalidation_0-mlogloss:0.74769\n",
      "[77]\tvalidation_0-mlogloss:0.74654\n",
      "[78]\tvalidation_0-mlogloss:0.74556\n",
      "[79]\tvalidation_0-mlogloss:0.74459\n",
      "[80]\tvalidation_0-mlogloss:0.74380\n",
      "[81]\tvalidation_0-mlogloss:0.74292\n",
      "[82]\tvalidation_0-mlogloss:0.74203\n",
      "[83]\tvalidation_0-mlogloss:0.74126\n",
      "[84]\tvalidation_0-mlogloss:0.74053\n",
      "[85]\tvalidation_0-mlogloss:0.73984\n",
      "[86]\tvalidation_0-mlogloss:0.73918\n",
      "[87]\tvalidation_0-mlogloss:0.73852\n",
      "[88]\tvalidation_0-mlogloss:0.73794\n",
      "[89]\tvalidation_0-mlogloss:0.73752\n",
      "[90]\tvalidation_0-mlogloss:0.73703\n",
      "[91]\tvalidation_0-mlogloss:0.73654\n",
      "[92]\tvalidation_0-mlogloss:0.73611\n",
      "[93]\tvalidation_0-mlogloss:0.73567\n",
      "[94]\tvalidation_0-mlogloss:0.73525\n",
      "[95]\tvalidation_0-mlogloss:0.73486\n",
      "[96]\tvalidation_0-mlogloss:0.73453\n",
      "[97]\tvalidation_0-mlogloss:0.73423\n",
      "[98]\tvalidation_0-mlogloss:0.73396\n",
      "[99]\tvalidation_0-mlogloss:0.73373\n",
      "[100]\tvalidation_0-mlogloss:0.73350\n",
      "[101]\tvalidation_0-mlogloss:0.73321\n",
      "[102]\tvalidation_0-mlogloss:0.73300\n",
      "[103]\tvalidation_0-mlogloss:0.73283\n",
      "[104]\tvalidation_0-mlogloss:0.73262\n",
      "[105]\tvalidation_0-mlogloss:0.73248\n",
      "[106]\tvalidation_0-mlogloss:0.73224\n",
      "[107]\tvalidation_0-mlogloss:0.73211\n",
      "[108]\tvalidation_0-mlogloss:0.73200\n",
      "[109]\tvalidation_0-mlogloss:0.73189\n",
      "[110]\tvalidation_0-mlogloss:0.73180\n",
      "[111]\tvalidation_0-mlogloss:0.73172\n",
      "[112]\tvalidation_0-mlogloss:0.73153\n",
      "[113]\tvalidation_0-mlogloss:0.73144\n",
      "[114]\tvalidation_0-mlogloss:0.73138\n",
      "[115]\tvalidation_0-mlogloss:0.73138\n",
      "[116]\tvalidation_0-mlogloss:0.73140\n",
      "[117]\tvalidation_0-mlogloss:0.73132\n",
      "[118]\tvalidation_0-mlogloss:0.73139\n",
      "[119]\tvalidation_0-mlogloss:0.73141\n",
      "[120]\tvalidation_0-mlogloss:0.73132\n",
      "[121]\tvalidation_0-mlogloss:0.73129\n",
      "[122]\tvalidation_0-mlogloss:0.73129\n",
      "[123]\tvalidation_0-mlogloss:0.73124\n",
      "[124]\tvalidation_0-mlogloss:0.73126\n",
      "[125]\tvalidation_0-mlogloss:0.73127\n",
      "[126]\tvalidation_0-mlogloss:0.73125\n",
      "[127]\tvalidation_0-mlogloss:0.73126\n",
      "[128]\tvalidation_0-mlogloss:0.73131\n",
      "[129]\tvalidation_0-mlogloss:0.73131\n",
      "[130]\tvalidation_0-mlogloss:0.73135\n",
      "[131]\tvalidation_0-mlogloss:0.73149\n",
      "[132]\tvalidation_0-mlogloss:0.73155\n"
     ]
    }
   ],
   "source": [
    "clf = xgb.XGBClassifier(\n",
    "    tree_method='gpu_hist',\n",
    "    gpu_id=0,\n",
    "    n_estimators=1000,\n",
    "    eta=0.1,\n",
    "    subsample=0.75,\n",
    "    max_depth=20,\n",
    "    n_jobs=20,\n",
    "    early_stopping_rounds=10\n",
    ")\n",
    "clf = clf.fit(\n",
    "    x_train, y_train, sample_weight=weights, \n",
    "    eval_set=[(x_val, y_val)]\n",
    ")"
   ]
  },
  {
   "cell_type": "code",
   "execution_count": 6,
   "id": "8723fffb-786e-48e0-a021-6a5d1e4fdf83",
   "metadata": {
    "tags": []
   },
   "outputs": [],
   "source": [
    "clf.save_model('model6.json')"
   ]
  },
  {
   "cell_type": "code",
   "execution_count": null,
   "id": "f01dc191-6f72-4d8f-9a7b-6f5bc46f2ad7",
   "metadata": {},
   "outputs": [],
   "source": []
  }
 ],
 "metadata": {
  "kernelspec": {
   "display_name": "Python 3 (ipykernel)",
   "language": "python",
   "name": "python3"
  },
  "language_info": {
   "codemirror_mode": {
    "name": "ipython",
    "version": 3
   },
   "file_extension": ".py",
   "mimetype": "text/x-python",
   "name": "python",
   "nbconvert_exporter": "python",
   "pygments_lexer": "ipython3",
   "version": "3.8.10"
  }
 },
 "nbformat": 4,
 "nbformat_minor": 5
}
