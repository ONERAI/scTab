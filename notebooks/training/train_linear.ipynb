{
 "cells": [
  {
   "cell_type": "code",
   "execution_count": null,
   "id": "6ffb0367-a4cd-45ad-91ea-53075470a3e1",
   "metadata": {
    "tags": []
   },
   "outputs": [],
   "source": [
    "!pip install -e /dss/dsshome1/04/di93zer/git/cellnet --no-deps"
   ]
  },
  {
   "cell_type": "code",
   "execution_count": null,
   "id": "ed98a4a8-9985-4d40-994b-4822658cf9ae",
   "metadata": {
    "tags": []
   },
   "outputs": [],
   "source": [
    "import os\n",
    "import seaborn as sns\n",
    "import torch\n",
    "\n",
    "from lightning.pytorch.callbacks import ModelCheckpoint, LearningRateMonitor, TQDMProgressBar\n",
    "from lightning.pytorch.loggers import TensorBoardLogger\n",
    "from lightning.pytorch.utilities.model_summary import ModelSummary\n",
    "from lightning.pytorch import seed_everything"
   ]
  },
  {
   "cell_type": "code",
   "execution_count": null,
   "id": "f920fa0f-e133-439f-b765-a68be8ac8ed4",
   "metadata": {
    "tags": []
   },
   "outputs": [],
   "source": [
    "torch.set_float32_matmul_precision('high')"
   ]
  },
  {
   "cell_type": "code",
   "execution_count": null,
   "id": "40e1942f-4780-4f29-9ecb-4863a9251159",
   "metadata": {
    "tags": []
   },
   "outputs": [],
   "source": [
    "%load_ext autoreload"
   ]
  },
  {
   "cell_type": "code",
   "execution_count": null,
   "id": "56ebb8a5-0acf-4ffc-a5fc-95ff9c56c29e",
   "metadata": {
    "tags": []
   },
   "outputs": [],
   "source": [
    "%autoreload\n",
    "from cellnet.estimators import EstimatorCellTypeClassifier"
   ]
  },
  {
   "cell_type": "markdown",
   "id": "96c00147-7e0b-4c7f-8935-7f10b3d8767b",
   "metadata": {},
   "source": [
    "# Init model"
   ]
  },
  {
   "cell_type": "code",
   "execution_count": null,
   "id": "3119057e-2f21-4f31-9265-b9b51cbfc5c1",
   "metadata": {
    "tags": []
   },
   "outputs": [],
   "source": [
    "# config parameters\n",
    "MODEL = 'cxg_2023_05_15_linear'\n",
    "CHECKPOINT_PATH = os.path.join('/mnt/dssfs02/tb_logs', MODEL)\n",
    "LOGS_PATH = os.path.join('/mnt/dssfs02/tb_logs', MODEL)\n",
    "DATA_PATH = '/mnt/dssmcmlfs01/merlin_cxg_2023_05_15_sf-log1p_subsample_15'\n",
    "SEED = 1\n",
    "\n",
    "\n",
    "estim = EstimatorCellTypeClassifier(DATA_PATH)\n",
    "seed_everything(SEED)\n",
    "estim.init_datamodule(batch_size=2048)\n",
    "estim.init_trainer(\n",
    "    trainer_kwargs={\n",
    "        'max_epochs': 12,\n",
    "        'default_root_dir': CHECKPOINT_PATH,\n",
    "        'accelerator': 'gpu',\n",
    "        'devices': 1,\n",
    "        'num_sanity_val_steps': 0,\n",
    "        'check_val_every_n_epoch': 1,\n",
    "        'logger': [TensorBoardLogger(LOGS_PATH, name='default')],\n",
    "        'log_every_n_steps': 100,\n",
    "        'detect_anomaly': False,\n",
    "        'enable_progress_bar': True,\n",
    "        'enable_model_summary': False,\n",
    "        'enable_checkpointing': True,\n",
    "        'callbacks': [\n",
    "            TQDMProgressBar(refresh_rate=50),\n",
    "            LearningRateMonitor(logging_interval='step'),\n",
    "            ModelCheckpoint(filename='val_f1_macro_{epoch}_{val_f1_macro:.3f}', monitor='val_f1_macro', mode='max',\n",
    "                            every_n_epochs=1, save_top_k=2),\n",
    "            ModelCheckpoint(filename='val_loss_{epoch}_{val_loss:.3f}', monitor='val_loss', mode='min',\n",
    "                            every_n_epochs=1, save_top_k=2)\n",
    "        ],\n",
    "    }\n",
    ")\n",
    "estim.init_model(\n",
    "    model_type='linear',\n",
    "    model_kwargs={\n",
    "        'learning_rate': 0.0005,\n",
    "        'weight_decay': 0.05,\n",
    "        'optimizer': torch.optim.AdamW,\n",
    "        'lr_scheduler': torch.optim.lr_scheduler.StepLR,\n",
    "        'lr_scheduler_kwargs': {\n",
    "            'step_size': 3,\n",
    "            'gamma': 0.9,\n",
    "            'verbose': True\n",
    "        },\n",
    "    },\n",
    ")\n",
    "print(ModelSummary(estim.model))"
   ]
  },
  {
   "cell_type": "code",
   "execution_count": null,
   "id": "64c24b97-c444-4903-85dd-37b972e2da13",
   "metadata": {
    "tags": []
   },
   "outputs": [],
   "source": []
  },
  {
   "cell_type": "markdown",
   "id": "7c968df4-ad6c-403f-82ba-fbd189d9691b",
   "metadata": {
    "tags": []
   },
   "source": [
    "# Find learning rate"
   ]
  },
  {
   "cell_type": "code",
   "execution_count": null,
   "id": "c7a14e18-707d-4671-ae83-0910c149ea25",
   "metadata": {
    "tags": []
   },
   "outputs": [],
   "source": [
    "lr_find_res = estim.find_lr(lr_find_kwargs={'early_stop_threshold': 10., 'min_lr': 1e-8, 'max_lr': 10., 'num_training': 120})"
   ]
  },
  {
   "cell_type": "code",
   "execution_count": null,
   "id": "dbe0d2b0-8688-49da-a4c3-84c988689199",
   "metadata": {
    "tags": []
   },
   "outputs": [],
   "source": [
    "ax = sns.lineplot(x=lr_find_res[1]['lr'], y=lr_find_res[1]['loss'])\n",
    "ax.set_xscale('log')\n",
    "ax.set_ylim(2., top=9.)\n",
    "ax.set_xlim(1e-6, 10.)\n",
    "print(f'Suggested learning rate: {lr_find_res[0]}')"
   ]
  },
  {
   "cell_type": "code",
   "execution_count": null,
   "id": "1497c99c-db63-469b-8f98-401f2e075424",
   "metadata": {},
   "outputs": [],
   "source": []
  },
  {
   "cell_type": "markdown",
   "id": "90bf1b36-fd69-4ee8-aa10-003e50b9e7d4",
   "metadata": {},
   "source": [
    "# Fit model"
   ]
  },
  {
   "cell_type": "code",
   "execution_count": null,
   "id": "dd8a3efe-fb56-4794-9991-4f36816b0d85",
   "metadata": {
    "tags": []
   },
   "outputs": [],
   "source": [
    "estim.train()"
   ]
  },
  {
   "cell_type": "code",
   "execution_count": null,
   "id": "9bd533cd-f029-492e-af35-49c841dc6394",
   "metadata": {},
   "outputs": [],
   "source": []
  }
 ],
 "metadata": {
  "kernelspec": {
   "display_name": "Python 3 (ipykernel)",
   "language": "python",
   "name": "python3"
  },
  "language_info": {
   "codemirror_mode": {
    "name": "ipython",
    "version": 3
   },
   "file_extension": ".py",
   "mimetype": "text/x-python",
   "name": "python",
   "nbconvert_exporter": "python",
   "pygments_lexer": "ipython3",
   "version": "3.8.10"
  }
 },
 "nbformat": 4,
 "nbformat_minor": 5
}
