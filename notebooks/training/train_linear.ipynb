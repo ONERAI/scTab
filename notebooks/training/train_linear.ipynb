{
 "cells": [
  {
   "cell_type": "code",
   "execution_count": 1,
   "id": "6ffb0367-a4cd-45ad-91ea-53075470a3e1",
   "metadata": {
    "tags": []
   },
   "outputs": [
    {
     "name": "stdout",
     "output_type": "stream",
     "text": [
      "Obtaining file:///dss/dsshome1/04/di93zer/git/cellnet\n",
      "  Preparing metadata (setup.py) ... \u001b[?25ldone\n",
      "\u001b[?25hInstalling collected packages: cellnet\n",
      "  Running setup.py develop for cellnet\n",
      "Successfully installed cellnet\n",
      "\n",
      "\u001b[1m[\u001b[0m\u001b[34;49mnotice\u001b[0m\u001b[1;39;49m]\u001b[0m\u001b[39;49m A new release of pip is available: \u001b[0m\u001b[31;49m23.1.1\u001b[0m\u001b[39;49m -> \u001b[0m\u001b[32;49m23.1.2\u001b[0m\n",
      "\u001b[1m[\u001b[0m\u001b[34;49mnotice\u001b[0m\u001b[1;39;49m]\u001b[0m\u001b[39;49m To update, run: \u001b[0m\u001b[32;49mpython3 -m pip install --upgrade pip\u001b[0m\n"
     ]
    }
   ],
   "source": [
    "!pip install -e /dss/dsshome1/04/di93zer/git/cellnet --no-deps"
   ]
  },
  {
   "cell_type": "code",
   "execution_count": 1,
   "id": "ed98a4a8-9985-4d40-994b-4822658cf9ae",
   "metadata": {
    "tags": []
   },
   "outputs": [
    {
     "name": "stderr",
     "output_type": "stream",
     "text": [
      "/usr/local/lib/python3.8/dist-packages/tqdm/auto.py:21: TqdmWarning: IProgress not found. Please update jupyter and ipywidgets. See https://ipywidgets.readthedocs.io/en/stable/user_install.html\n",
      "  from .autonotebook import tqdm as notebook_tqdm\n"
     ]
    }
   ],
   "source": [
    "import os\n",
    "import seaborn as sns\n",
    "import torch\n",
    "\n",
    "from lightning.pytorch.callbacks import ModelCheckpoint, LearningRateMonitor, TQDMProgressBar\n",
    "from lightning.pytorch.loggers import TensorBoardLogger\n",
    "from lightning.pytorch.utilities.model_summary import ModelSummary\n",
    "from lightning.pytorch import seed_everything"
   ]
  },
  {
   "cell_type": "code",
   "execution_count": 2,
   "id": "f920fa0f-e133-439f-b765-a68be8ac8ed4",
   "metadata": {
    "tags": []
   },
   "outputs": [],
   "source": [
    "torch.set_float32_matmul_precision('high')"
   ]
  },
  {
   "cell_type": "code",
   "execution_count": 3,
   "id": "40e1942f-4780-4f29-9ecb-4863a9251159",
   "metadata": {
    "tags": []
   },
   "outputs": [],
   "source": [
    "%load_ext autoreload"
   ]
  },
  {
   "cell_type": "code",
   "execution_count": 4,
   "id": "56ebb8a5-0acf-4ffc-a5fc-95ff9c56c29e",
   "metadata": {
    "tags": []
   },
   "outputs": [
    {
     "name": "stderr",
     "output_type": "stream",
     "text": [
      "/usr/local/lib/python3.8/dist-packages/merlin/dtypes/mappings/tf.py:52: UserWarning: Tensorflow dtype mappings did not load successfully due to an error: No module named 'tensorflow'\n",
      "  warn(f\"Tensorflow dtype mappings did not load successfully due to an error: {exc.msg}\")\n"
     ]
    }
   ],
   "source": [
    "%autoreload\n",
    "from cellnet.estimators import EstimatorCellTypeClassifier"
   ]
  },
  {
   "cell_type": "markdown",
   "id": "96c00147-7e0b-4c7f-8935-7f10b3d8767b",
   "metadata": {},
   "source": [
    "# Init model"
   ]
  },
  {
   "cell_type": "code",
   "execution_count": 5,
   "id": "3119057e-2f21-4f31-9265-b9b51cbfc5c1",
   "metadata": {
    "tags": []
   },
   "outputs": [
    {
     "name": "stderr",
     "output_type": "stream",
     "text": [
      "[rank: 0] Global seed set to 1\n",
      "GPU available: True (cuda), used: True\n",
      "TPU available: False, using: 0 TPU cores\n",
      "IPU available: False, using: 0 IPUs\n",
      "HPU available: False, using: 0 HPUs\n"
     ]
    },
    {
     "name": "stdout",
     "output_type": "stream",
     "text": [
      "  | Name          | Type             | Params\n",
      "---------------------------------------------------\n",
      "0 | train_metrics | MetricCollection | 0     \n",
      "1 | val_metrics   | MetricCollection | 0     \n",
      "2 | test_metrics  | MetricCollection | 0     \n",
      "3 | classifier    | Linear           | 3.0 M \n",
      "---------------------------------------------------\n",
      "3.0 M     Trainable params\n",
      "0         Non-trainable params\n",
      "3.0 M     Total params\n",
      "12.140    Total estimated model params size (MB)\n"
     ]
    }
   ],
   "source": [
    "# config parameters\n",
    "MODEL = 'cxg_2023_05_15_linear'\n",
    "CHECKPOINT_PATH = os.path.join('/mnt/dssfs02/tb_logs', MODEL)\n",
    "LOGS_PATH = os.path.join('/mnt/dssfs02/tb_logs', MODEL)\n",
    "DATA_PATH = '/mnt/dssmcmlfs01/merlin_cxg_2023_05_15_sf-log1p'\n",
    "\n",
    "\n",
    "estim = EstimatorCellTypeClassifier(DATA_PATH)\n",
    "seed_everything(1)\n",
    "estim.init_datamodule(batch_size=2048)\n",
    "estim.init_trainer(\n",
    "    trainer_kwargs={\n",
    "        'max_epochs': 250,\n",
    "        'default_root_dir': CHECKPOINT_PATH,\n",
    "        'accelerator': 'gpu',\n",
    "        'devices': 1,\n",
    "        'num_sanity_val_steps': 0,\n",
    "        'check_val_every_n_epoch': 1,\n",
    "        'logger': [TensorBoardLogger(LOGS_PATH, name='default')],\n",
    "        'log_every_n_steps': 100,\n",
    "        'detect_anomaly': False,\n",
    "        'enable_progress_bar': True,\n",
    "        'enable_model_summary': False,\n",
    "        'enable_checkpointing': True,\n",
    "        'callbacks': [\n",
    "            TQDMProgressBar(refresh_rate=50),\n",
    "            LearningRateMonitor(logging_interval='step'),\n",
    "            ModelCheckpoint(filename='val_f1_macro_{epoch}_{val_f1_macro:.3f}', monitor='val_f1_macro', mode='max',\n",
    "                            every_n_epochs=1, save_top_k=2),\n",
    "            ModelCheckpoint(filename='val_loss_{epoch}_{val_loss:.3f}', monitor='val_loss', mode='min',\n",
    "                            every_n_epochs=1, save_top_k=2)\n",
    "        ],\n",
    "    }\n",
    ")\n",
    "estim.init_model(\n",
    "    model_type='linear',\n",
    "    model_kwargs={\n",
    "        'learning_rate': 0.0005,\n",
    "        'weight_decay': 0.01,\n",
    "        'optimizer': torch.optim.AdamW,\n",
    "        'lr_scheduler': torch.optim.lr_scheduler.StepLR,\n",
    "        'lr_scheduler_kwargs': {\n",
    "            'step_size': 1,\n",
    "            'gamma': 0.9,\n",
    "            'verbose': True\n",
    "        },\n",
    "    },\n",
    ")\n",
    "print(ModelSummary(estim.model))"
   ]
  },
  {
   "cell_type": "code",
   "execution_count": null,
   "id": "64c24b97-c444-4903-85dd-37b972e2da13",
   "metadata": {
    "tags": []
   },
   "outputs": [],
   "source": []
  },
  {
   "cell_type": "markdown",
   "id": "7c968df4-ad6c-403f-82ba-fbd189d9691b",
   "metadata": {
    "tags": []
   },
   "source": [
    "# Find learning rate"
   ]
  },
  {
   "cell_type": "code",
   "execution_count": 6,
   "id": "c7a14e18-707d-4671-ae83-0910c149ea25",
   "metadata": {
    "tags": []
   },
   "outputs": [
    {
     "name": "stderr",
     "output_type": "stream",
     "text": [
      "LOCAL_RANK: 0 - CUDA_VISIBLE_DEVICES: [0]\n"
     ]
    },
    {
     "name": "stdout",
     "output_type": "stream",
     "text": [
      "Adjusting learning rate of group 0 to 1.0000e-03.\n"
     ]
    },
    {
     "name": "stderr",
     "output_type": "stream",
     "text": [
      "Finding best initial lr:  83%|████████▎ | 100/120 [00:28<00:05,  3.50it/s]\n",
      "LR finder stopped early after 100 steps due to diverging loss.\n",
      "Learning rate set to 0.002511886431509579\n",
      "Restoring states from the checkpoint path at /mnt/dssfs02/tb_logs/cellnet_split_by_tech_sample_linear/.lr_find_c890d0c6-69ea-416a-a425-7b6221607ae7.ckpt\n",
      "Restored all states from the checkpoint at /mnt/dssfs02/tb_logs/cellnet_split_by_tech_sample_linear/.lr_find_c890d0c6-69ea-416a-a425-7b6221607ae7.ckpt\n"
     ]
    }
   ],
   "source": [
    "lr_find_res = estim.find_lr(lr_find_kwargs={'early_stop_threshold': 10., 'min_lr': 1e-8, 'max_lr': 10., 'num_training': 120})"
   ]
  },
  {
   "cell_type": "code",
   "execution_count": 7,
   "id": "dbe0d2b0-8688-49da-a4c3-84c988689199",
   "metadata": {
    "tags": []
   },
   "outputs": [
    {
     "name": "stdout",
     "output_type": "stream",
     "text": [
      "Suggested learning rate: 0.002511886431509579\n"
     ]
    },
    {
     "data": {
      "image/png": "[encoded data removed]",
      "text/plain": [
       "<Figure size 640x480 with 1 Axes>"
      ]
     },
     "metadata": {},
     "output_type": "display_data"
    }
   ],
   "source": [
    "ax = sns.lineplot(x=lr_find_res[1]['lr'], y=lr_find_res[1]['loss'])\n",
    "ax.set_xscale('log')\n",
    "ax.set_ylim(2., top=9.)\n",
    "ax.set_xlim(1e-6, 10.)\n",
    "print(f'Suggested learning rate: {lr_find_res[0]}')"
   ]
  },
  {
   "cell_type": "code",
   "execution_count": null,
   "id": "1497c99c-db63-469b-8f98-401f2e075424",
   "metadata": {},
   "outputs": [],
   "source": []
  },
  {
   "cell_type": "markdown",
   "id": "90bf1b36-fd69-4ee8-aa10-003e50b9e7d4",
   "metadata": {},
   "source": [
    "# Fit model"
   ]
  },
  {
   "cell_type": "code",
   "execution_count": null,
   "id": "dd8a3efe-fb56-4794-9991-4f36816b0d85",
   "metadata": {
    "tags": []
   },
   "outputs": [],
   "source": [
    "estim.train()"
   ]
  },
  {
   "cell_type": "code",
   "execution_count": null,
   "id": "9bd533cd-f029-492e-af35-49c841dc6394",
   "metadata": {},
   "outputs": [],
   "source": []
  },
  {
   "cell_type": "code",
   "execution_count": null,
   "id": "e653b1a6-a33b-4500-ace4-a183842d3f6a",
   "metadata": {},
   "outputs": [],
   "source": []
  },
  {
   "cell_type": "code",
   "execution_count": null,
   "id": "f832c41e-f8eb-41b6-a454-78685d09b6ca",
   "metadata": {},
   "outputs": [],
   "source": []
  },
  {
   "cell_type": "code",
   "execution_count": null,
   "id": "4805fdf5-70ec-49e3-b648-8d6189fc3622",
   "metadata": {},
   "outputs": [],
   "source": []
  },
  {
   "cell_type": "code",
   "execution_count": null,
   "id": "9e67c2cd-a7a4-4fbf-a31d-bda3ef9e6828",
   "metadata": {},
   "outputs": [],
   "source": []
  }
 ],
 "metadata": {
  "kernelspec": {
   "display_name": "Python 3 (ipykernel)",
   "language": "python",
   "name": "python3"
  },
  "language_info": {
   "codemirror_mode": {
    "name": "ipython",
    "version": 3
   },
   "file_extension": ".py",
   "mimetype": "text/x-python",
   "name": "python",
   "nbconvert_exporter": "python",
   "pygments_lexer": "ipython3",
   "version": "3.8.10"
  }
 },
 "nbformat": 4,
 "nbformat_minor": 5
}
