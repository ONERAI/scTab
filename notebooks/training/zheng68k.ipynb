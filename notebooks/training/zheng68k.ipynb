{
 "cells": [
  {
   "cell_type": "code",
   "execution_count": 1,
   "id": "15935df0-bc8a-47e0-a6ee-d126916ccb93",
   "metadata": {
    "tags": []
   },
   "outputs": [],
   "source": [
    "import anndata\n",
    "import scanpy as sc\n",
    "import pandas as pd\n",
    "import numpy as np\n",
    "import torch\n",
    "\n",
    "from tqdm.auto import tqdm"
   ]
  },
  {
   "cell_type": "code",
   "execution_count": 2,
   "id": "c43aa1fb-cf31-4d1a-9212-5dea60f722e3",
   "metadata": {},
   "outputs": [],
   "source": [
    "torch.set_float32_matmul_precision('high')"
   ]
  },
  {
   "cell_type": "markdown",
   "id": "2d8e7ccc-b7a3-4813-a0ab-bfeea41ca86d",
   "metadata": {
    "jp-MarkdownHeadingCollapsed": true
   },
   "source": [
    "## Download data"
   ]
  },
  {
   "cell_type": "code",
   "execution_count": 2,
   "id": "bedf5ee8-631a-403f-bd22-be8d2313b943",
   "metadata": {
    "tags": []
   },
   "outputs": [],
   "source": [
    "# download from scVelo: https://github.com/theislab/scvelo/blob/main/scvelo/datasets/_datasets.py#L278-L302C17\n",
    "\n",
    "\n",
    "def pbmc68k(file_path):\n",
    "    \"\"\"Peripheral blood mononuclear cells.\n",
    "\n",
    "    Data from `Zheng et al. (2017) <https://doi.org/10.1038/ncomms14049>`__.\n",
    "\n",
    "    This experiment contains 68k peripheral blood mononuclear cells (PBMC) measured\n",
    "    using 10X.\n",
    "\n",
    "    PBMCs are a diverse mixture of highly specialized immune cells.\n",
    "    They originate from hematopoietic stem cells (HSCs) that reside in the bone marrow\n",
    "    and give rise to all blood cells of the immune system (hematopoiesis).\n",
    "    HSCs give rise to myeloid (monocytes, macrophages, granulocytes, megakaryocytes,\n",
    "    dendritic cells, erythrocytes) and lymphoid (T cells, B cells, NK cells) lineages.\n",
    "\n",
    "    .. image:: https://user-images.githubusercontent.com/31883718/118402351-e1243580-b669-11eb-8256-4a49c299da3d.png\n",
    "       :width: 600px\n",
    "\n",
    "    Returns\n",
    "    -------\n",
    "    Returns `adata` object\n",
    "    \"\"\"\n",
    "    url = \"https://ndownloader.figshare.com/files/27686886\"\n",
    "    adata = sc.read(file_path, backup_url=url, sparse=True, cache=True)\n",
    "    adata.var_names_make_unique()\n",
    "    return adata\n"
   ]
  },
  {
   "cell_type": "code",
   "execution_count": 8,
   "id": "b64f98c0-c876-460a-bc47-0abffeefdf2d",
   "metadata": {
    "tags": []
   },
   "outputs": [
    {
     "name": "stderr",
     "output_type": "stream",
     "text": [
      "100%|██████████| 118M/118M [00:26<00:00, 4.60MB/s] \n"
     ]
    },
    {
     "data": {
      "text/plain": [
       "AnnData object with n_obs × n_vars = 65877 × 33939\n",
       "    obs: 'celltype'\n",
       "    var: 'Accession', 'Chromosome', 'End', 'Start', 'Strand'\n",
       "    obsm: 'X_tsne'\n",
       "    layers: 'spliced', 'unspliced'"
      ]
     },
     "execution_count": 8,
     "metadata": {},
     "output_type": "execute_result"
    }
   ],
   "source": [
    "pbmc68k('/mnt/dssfs02/pbmc68k.h5ad')"
   ]
  },
  {
   "cell_type": "code",
   "execution_count": null,
   "id": "d38a1c76-4bc7-40e7-91b0-48cf7e65fe60",
   "metadata": {},
   "outputs": [],
   "source": []
  },
  {
   "cell_type": "markdown",
   "id": "3d4be867-b583-4979-a513-5a54f78c367c",
   "metadata": {},
   "source": [
    "## Load and streamline data"
   ]
  },
  {
   "cell_type": "code",
   "execution_count": 3,
   "id": "39861b4b-b17e-47c4-8fca-5954fb7ac126",
   "metadata": {
    "tags": []
   },
   "outputs": [
    {
     "name": "stderr",
     "output_type": "stream",
     "text": [
      "/home/ubuntu/miniconda3/envs/merlin-2312/lib/python3.10/site-packages/anndata/__init__.py:51: FutureWarning: `anndata.read` is deprecated, use `anndata.read_h5ad` instead. `ad.read` will be removed in mid 2024.\n",
      "  warnings.warn(\n"
     ]
    },
    {
     "data": {
      "text/plain": [
       "AnnData object with n_obs × n_vars = 64846 × 33939\n",
       "    obs: 'celltype', 'n_counts'\n",
       "    var: 'Accession', 'Chromosome', 'End', 'Start', 'Strand'\n",
       "    obsm: 'X_tsne'\n",
       "    layers: 'spliced', 'unspliced'"
      ]
     },
     "execution_count": 3,
     "metadata": {},
     "output_type": "execute_result"
    }
   ],
   "source": [
    "adata = sc.read('/vol/data/h5ads/pbmc68k.h5ad')\n",
    "sc.pp.filter_cells(adata, min_counts=50)\n",
    "adata"
   ]
  },
  {
   "cell_type": "code",
   "execution_count": 4,
   "id": "77ea6ea2-d815-4301-98fb-a33d2dbc014b",
   "metadata": {
    "tags": []
   },
   "outputs": [],
   "source": [
    "adata.var = adata.var.set_index('Accession')"
   ]
  },
  {
   "cell_type": "code",
   "execution_count": 5,
   "id": "85a79fcc-4646-4e39-825f-6455ac8f75c6",
   "metadata": {
    "tags": []
   },
   "outputs": [
    {
     "data": {
      "text/html": [
       "<div>\n",
       "<style scoped>\n",
       "    .dataframe tbody tr th:only-of-type {\n",
       "        vertical-align: middle;\n",
       "    }\n",
       "\n",
       "    .dataframe tbody tr th {\n",
       "        vertical-align: top;\n",
       "    }\n",
       "\n",
       "    .dataframe thead th {\n",
       "        text-align: right;\n",
       "    }\n",
       "</style>\n",
       "<table border=\"1\" class=\"dataframe\">\n",
       "  <thead>\n",
       "    <tr style=\"text-align: right;\">\n",
       "      <th></th>\n",
       "      <th>Chromosome</th>\n",
       "      <th>End</th>\n",
       "      <th>Start</th>\n",
       "      <th>Strand</th>\n",
       "    </tr>\n",
       "    <tr>\n",
       "      <th>Accession</th>\n",
       "      <th></th>\n",
       "      <th></th>\n",
       "      <th></th>\n",
       "      <th></th>\n",
       "    </tr>\n",
       "  </thead>\n",
       "  <tbody>\n",
       "    <tr>\n",
       "      <th>ENSG00000237613</th>\n",
       "      <td>1</td>\n",
       "      <td>36081</td>\n",
       "      <td>34554</td>\n",
       "      <td>-</td>\n",
       "    </tr>\n",
       "    <tr>\n",
       "      <th>ENSG00000238009</th>\n",
       "      <td>1</td>\n",
       "      <td>133723</td>\n",
       "      <td>89295</td>\n",
       "      <td>-</td>\n",
       "    </tr>\n",
       "    <tr>\n",
       "      <th>ENSG00000239945</th>\n",
       "      <td>1</td>\n",
       "      <td>91105</td>\n",
       "      <td>89551</td>\n",
       "      <td>-</td>\n",
       "    </tr>\n",
       "    <tr>\n",
       "      <th>ENSG00000239906</th>\n",
       "      <td>1</td>\n",
       "      <td>140339</td>\n",
       "      <td>139790</td>\n",
       "      <td>-</td>\n",
       "    </tr>\n",
       "    <tr>\n",
       "      <th>ENSG00000284733</th>\n",
       "      <td>1</td>\n",
       "      <td>451697</td>\n",
       "      <td>450703</td>\n",
       "      <td>-</td>\n",
       "    </tr>\n",
       "  </tbody>\n",
       "</table>\n",
       "</div>"
      ],
      "text/plain": [
       "                Chromosome     End   Start Strand\n",
       "Accession                                        \n",
       "ENSG00000237613          1   36081   34554      -\n",
       "ENSG00000238009          1  133723   89295      -\n",
       "ENSG00000239945          1   91105   89551      -\n",
       "ENSG00000239906          1  140339  139790      -\n",
       "ENSG00000284733          1  451697  450703      -"
      ]
     },
     "execution_count": 5,
     "metadata": {},
     "output_type": "execute_result"
    }
   ],
   "source": [
    "adata.var.head()"
   ]
  },
  {
   "cell_type": "code",
   "execution_count": 6,
   "id": "23e5868f-d9bf-49e2-8989-de9e107dbef6",
   "metadata": {
    "tags": []
   },
   "outputs": [
    {
     "data": {
      "text/plain": [
       "(64846, 19331)"
      ]
     },
     "execution_count": 6,
     "metadata": {},
     "output_type": "execute_result"
    }
   ],
   "source": [
    "from cellnet.utils.data_loading import streamline_count_matrix\n",
    "from scipy.sparse import csc_matrix\n",
    "\n",
    "\n",
    "genes_from_model = pd.read_parquet('/vol/data/merlin_cxg_2023_05_15_sf-log1p/var.parquet')\n",
    "genes_from_model.head()\n",
    "\n",
    "gene_names_model = genes_from_model.feature_id.tolist()\n",
    "gene_names_raw = adata.var.index.tolist()\n",
    "adata.X = csc_matrix(adata.X)\n",
    "adata = adata[:, np.isin(gene_names_raw, gene_names_model)].copy()\n",
    "\n",
    "x_streamlined = streamline_count_matrix(adata.X, adata.var.index.tolist(), gene_names_model)\n",
    "x_streamlined.shape"
   ]
  },
  {
   "cell_type": "code",
   "execution_count": 7,
   "id": "258ac7d3-04fa-4b93-a319-19eddd054b71",
   "metadata": {
    "tags": []
   },
   "outputs": [],
   "source": [
    "adata = anndata.AnnData(X=x_streamlined, obs=adata.obs, var=genes_from_model)"
   ]
  },
  {
   "cell_type": "code",
   "execution_count": 8,
   "id": "7a32e280-3b39-4f4d-a614-76ef9d35fe37",
   "metadata": {
    "tags": []
   },
   "outputs": [],
   "source": [
    "sc.pp.normalize_total(adata, target_sum=10000)\n",
    "sc.pp.log1p(adata)"
   ]
  },
  {
   "cell_type": "code",
   "execution_count": 9,
   "id": "b7600317-362e-41e8-91af-cb9852a34cf9",
   "metadata": {
    "tags": []
   },
   "outputs": [
    {
     "data": {
      "text/plain": [
       "<64846x19331 sparse matrix of type '<class 'numpy.float32'>'\n",
       "\twith 6941563 stored elements in Compressed Sparse Row format>"
      ]
     },
     "execution_count": 9,
     "metadata": {},
     "output_type": "execute_result"
    }
   ],
   "source": [
    "adata.X"
   ]
  },
  {
   "cell_type": "code",
   "execution_count": 10,
   "id": "5d8c84c0-3361-48b3-95ce-d9a1adfa57b1",
   "metadata": {
    "tags": []
   },
   "outputs": [],
   "source": [
    "adata.obs['cell_type'] = adata.obs.celltype.astype('category')\n",
    "adata.obs = adata.obs[['cell_type']]"
   ]
  },
  {
   "cell_type": "code",
   "execution_count": 11,
   "id": "46f503e8-5a2f-4c36-82fa-c67081e0078f",
   "metadata": {
    "tags": []
   },
   "outputs": [],
   "source": [
    "from sklearn.model_selection import train_test_split\n",
    "\n",
    "\n",
    "idxs_train, idxs_test = train_test_split(\n",
    "    np.arange(len(adata)), train_size=0.7, test_size=0.3, stratify=adata.obs.cell_type, random_state=1)\n",
    "idxs_test, idxs_val = train_test_split(\n",
    "    idxs_test, train_size=0.5, test_size=0.5, stratify=adata.obs.cell_type.iloc[idxs_test], random_state=1)\n",
    "\n",
    "splits = {'train': idxs_train, 'val': idxs_val, 'test': idxs_test}"
   ]
  },
  {
   "cell_type": "code",
   "execution_count": 12,
   "id": "9933cf3b-faba-4c3f-9660-da0f89f5b2d7",
   "metadata": {
    "tags": []
   },
   "outputs": [],
   "source": [
    "adata_train = adata[splits['train']].copy()\n",
    "adata_val = adata[splits['val']].copy()\n",
    "adata_test = adata[splits['test']].copy()"
   ]
  },
  {
   "cell_type": "code",
   "execution_count": 13,
   "id": "8c47655a-8635-4221-85d3-9b49c3b3b9b6",
   "metadata": {
    "tags": []
   },
   "outputs": [],
   "source": [
    "adata_train.X = adata_train.X.toarray()\n",
    "adata_val.X = adata_val.X.toarray()\n",
    "adata_test.X = adata_test.X.toarray()"
   ]
  },
  {
   "cell_type": "code",
   "execution_count": null,
   "id": "553434c6-b399-4185-a2ab-28c4f14d4520",
   "metadata": {
    "tags": []
   },
   "outputs": [],
   "source": []
  },
  {
   "cell_type": "markdown",
   "id": "66fbd178-219c-4f19-a640-dc2903d701a6",
   "metadata": {
    "tags": []
   },
   "source": [
    "## Train models"
   ]
  },
  {
   "cell_type": "markdown",
   "id": "8afc3b68-5dc5-4643-bd48-19e4c77b7e80",
   "metadata": {},
   "source": [
    "#### scTab"
   ]
  },
  {
   "cell_type": "code",
   "execution_count": 14,
   "id": "73f1df96-a79f-410f-9b13-1060fa85317e",
   "metadata": {
    "tags": []
   },
   "outputs": [],
   "source": [
    "import torch\n",
    "import torch.nn as nn\n",
    "import lightning as L\n",
    "import torch.nn.functional as F\n",
    "\n",
    "from torchmetrics import MetricCollection\n",
    "from torchmetrics.classification import MulticlassF1Score\n",
    "\n",
    "\n",
    "def augment_data(x: torch.Tensor, augmentation_vectors: torch.Tensor):\n",
    "    augmentations = augmentation_vectors[\n",
    "        torch.randint(0, augmentation_vectors.shape[0], (x.shape[0], ), device=x.device), :\n",
    "    ]\n",
    "    sign = 2. * (torch.bernoulli(.5 * torch.ones(x.shape[0], 1, device=x.device)) - .5)\n",
    "\n",
    "    return torch.clamp(x + (sign * augmentations), min=0., max=9.)\n",
    "\n",
    "\n",
    "class LitTabnet(L.LightningModule):\n",
    "    \n",
    "    def __init__(\n",
    "        self, \n",
    "        model, \n",
    "        type_dim,\n",
    "        augmentations,\n",
    "        learning_rate,\n",
    "        weight_decay,\n",
    "        lambda_sparse,\n",
    "        augment\n",
    "    ):\n",
    "        super().__init__()\n",
    "        self.model = model\n",
    "        self.lr = learning_rate\n",
    "        self.weight_decay = weight_decay\n",
    "        self.lambda_sparse = lambda_sparse\n",
    "\n",
    "        metrics = MetricCollection({\n",
    "            'f1_micro': MulticlassF1Score(num_classes=type_dim, average='micro'),\n",
    "            'f1_macro': MulticlassF1Score(num_classes=type_dim, average='macro'),\n",
    "        })\n",
    "        self.train_metrics = metrics.clone(prefix='train_')\n",
    "        self.val_metrics = metrics.clone(prefix='val_')\n",
    "        self.test_metrics = metrics.clone(prefix='test_')\n",
    "        self.augment = augment\n",
    "        self.register_buffer('augmentations', torch.tensor(augmentations.astype('f4')))\n",
    "\n",
    "        self.optim = torch.optim.AdamW\n",
    "\n",
    "    def on_after_batch_transfer(self, batch, dataloader_idx):\n",
    "        with torch.no_grad():\n",
    "            batch = batch[0]\n",
    "            batch['cell_type'] = torch.squeeze(batch['cell_type'])\n",
    "\n",
    "        return batch\n",
    "\n",
    "    def training_step(self, batch, batch_idx):\n",
    "        x = augment_data(batch['X'], self.augmentations) if self.augment else batch['X']\n",
    "        logits, m_loss = self.model(x)\n",
    "        preds = torch.argmax(logits, dim=1)\n",
    "        loss = F.cross_entropy(logits, batch['cell_type']) - self.lambda_sparse * m_loss\n",
    "        metrics = self.train_metrics(preds, batch['cell_type'])\n",
    "        self.log_dict(metrics)\n",
    "        self.log('train_loss', loss)\n",
    "\n",
    "        return loss\n",
    "\n",
    "    def validation_step(self, batch, batch_idx):\n",
    "        logits, m_loss = self.model(batch['X'])\n",
    "        preds = torch.argmax(logits, dim=1)\n",
    "        loss = F.cross_entropy(logits, batch['cell_type'])\n",
    "        metrics = self.val_metrics(preds, batch['cell_type'])\n",
    "        self.log_dict(metrics)\n",
    "        self.log('val_loss', loss)\n",
    "\n",
    "    def test_step(self, batch, batch_idx):\n",
    "        logits, _ = self.model(batch['X'])\n",
    "        preds = torch.argmax(logits, dim=1)\n",
    "        loss = F.cross_entropy(logits, batch['cell_type'])\n",
    "        metrics = self.test_metrics(preds, batch['cell_type'])\n",
    "        self.log_dict(metrics)\n",
    "        self.log('test_loss', loss)\n",
    "\n",
    "    def predict_step(self, batch, batch_idx, dataloader_idx=None):\n",
    "        logits, _ = self.model(batch['X'])\n",
    "        preds = torch.argmax(logits, dim=1)\n",
    "        return preds\n",
    "\n",
    "    def configure_optimizers(self):\n",
    "        optimizer_config = {'optimizer': self.optim(self.parameters(), lr=self.lr, weight_decay=self.weight_decay)}\n",
    "\n",
    "        return optimizer_config\n"
   ]
  },
  {
   "cell_type": "code",
   "execution_count": null,
   "id": "aa9f879e-8e47-4556-90d3-a598df9e2a17",
   "metadata": {},
   "outputs": [],
   "source": []
  },
  {
   "cell_type": "code",
   "execution_count": null,
   "id": "cba5e4d5-60e8-4d8a-800d-dd05875aa219",
   "metadata": {
    "tags": []
   },
   "outputs": [],
   "source": [
    "import os\n",
    "import wandb\n",
    "\n",
    "from lightning.pytorch.callbacks import ModelCheckpoint, TQDMProgressBar\n",
    "from lightning.pytorch.loggers import WandbLogger\n",
    "from lightning.pytorch import seed_everything\n",
    "from cellnet.tabnet.tab_network import TabNet\n",
    "from cellnet.utils.data_loading import dataloader_factory\n",
    "\n",
    "seed_everything(1)\n",
    "\n",
    "\n",
    "VERSION = 'scTab_big'\n",
    "os.makedirs(f'/vol/data/tb_logs/zheng68k/{VERSION}')\n",
    "\n",
    "\n",
    "# init model\n",
    "tabnet = TabNet(\n",
    "    input_dim=adata.X.shape[1],\n",
    "    output_dim=adata.obs.cell_type.nunique(),\n",
    "    n_d=128,\n",
    "    n_a=64,\n",
    "    n_steps=1,\n",
    "    gamma=1.3,\n",
    "    n_independent=5,\n",
    "    n_shared=3,\n",
    "    epsilon=1e-15,\n",
    "    virtual_batch_size=128,\n",
    "    momentum=0.02,\n",
    "    mask_type='entmax',\n",
    ")\n",
    "augmentations = np.load('/vol/data/merlin_cxg_2023_05_15_sf-log1p/augmentations.npy')\n",
    "lit_tabnet = LitTabnet(\n",
    "    tabnet, \n",
    "    adata.obs.cell_type.nunique(), \n",
    "    augmentations,\n",
    "    learning_rate=5e-3,\n",
    "    weight_decay=0.05,\n",
    "    lambda_sparse=1e-5,\n",
    "    augment=True\n",
    ")\n",
    "\n",
    "# train model\n",
    "logger = WandbLogger(project='zheng68k', version=VERSION)\n",
    "trainer = L.Trainer(\n",
    "    max_epochs=15,\n",
    "    gradient_clip_val=1.,\n",
    "    gradient_clip_algorithm='norm',\n",
    "    accelerator='gpu',\n",
    "    devices=1,\n",
    "    num_sanity_val_steps=0,\n",
    "    logger=logger,\n",
    "    callbacks=[\n",
    "        ModelCheckpoint(\n",
    "            dirpath=f'/vol/data/tb_logs/zheng68k/{logger.version}',\n",
    "            filename='val_f1_micro_{epoch}_{val_f1_micro:.3f}', \n",
    "            monitor='val_f1_micro', \n",
    "            mode='max', save_top_k=1),\n",
    "    ]\n",
    ")\n",
    "loader_train = dataloader_factory(x=adata_train.X, obs=adata_train.obs, batch_size=256)\n",
    "loader_val = dataloader_factory(x=adata_val.X, obs=adata_val.obs, batch_size=256)\n",
    "trainer.fit(model=lit_tabnet, train_dataloaders=loader_train, val_dataloaders=loader_val)\n",
    "\n",
    "wandb.finish()"
   ]
  },
  {
   "cell_type": "code",
   "execution_count": null,
   "id": "ac5b06d9-4b75-4024-96c0-577cfd0633db",
   "metadata": {},
   "outputs": [],
   "source": []
  },
  {
   "cell_type": "markdown",
   "id": "a0e5c317-9b5d-4fe7-b3ec-2052e2e182cf",
   "metadata": {},
   "source": [
    "#### CellTypist"
   ]
  },
  {
   "cell_type": "code",
   "execution_count": 30,
   "id": "1becd1d8-df7c-4857-a1ac-d5a172161f9a",
   "metadata": {},
   "outputs": [],
   "source": [
    "import celltypist"
   ]
  },
  {
   "cell_type": "code",
   "execution_count": null,
   "id": "51396d0a-efab-4868-bbd3-e39d35f9978e",
   "metadata": {},
   "outputs": [],
   "source": [
    "new_model = celltypist.train(\n",
    "    adata_train, \n",
    "    labels='cell_type', \n",
    "    n_jobs=16,\n",
    "    feature_selection=True,\n",
    "    use_SGD=True, \n",
    "    mini_batch=True,\n",
    "    with_mean=False,\n",
    "    random_state=1\n",
    ")\n",
    "new_model.write('/vol/data/tb_logs/zheng68k/celltypist.pkl')"
   ]
  },
  {
   "cell_type": "code",
   "execution_count": null,
   "id": "b1963cc6-1e21-41bc-b943-49670df7b8bc",
   "metadata": {},
   "outputs": [],
   "source": []
  },
  {
   "cell_type": "code",
   "execution_count": null,
   "id": "10a44193-a5dc-499e-af04-22ab4150d682",
   "metadata": {},
   "outputs": [],
   "source": []
  },
  {
   "cell_type": "markdown",
   "id": "278dd368-c2a8-4bf6-93dd-6b0a6444d259",
   "metadata": {},
   "source": [
    "## Evalutate performance"
   ]
  },
  {
   "cell_type": "code",
   "execution_count": 26,
   "id": "ec87f4de-35c6-4897-b4ab-dc0959e99207",
   "metadata": {},
   "outputs": [],
   "source": [
    "from sklearn.metrics import classification_report"
   ]
  },
  {
   "cell_type": "markdown",
   "id": "b7cd1939-171b-4498-a6a1-0b14c7a9fbe7",
   "metadata": {},
   "source": [
    "#### scTab"
   ]
  },
  {
   "cell_type": "code",
   "execution_count": 24,
   "id": "25f21862-1b07-46ab-aac1-f0c874565e0b",
   "metadata": {},
   "outputs": [
    {
     "name": "stderr",
     "output_type": "stream",
     "text": [
      "Restoring states from the checkpoint path at /vol/data/tb_logs/zheng68k/scTab_big/val_f1_micro_epoch=5_val_f1_micro=0.616.ckpt\n",
      "LOCAL_RANK: 0 - CUDA_VISIBLE_DEVICES: [0]\n",
      "Loaded model weights from the checkpoint at /vol/data/tb_logs/zheng68k/scTab_big/val_f1_micro_epoch=5_val_f1_micro=0.616.ckpt\n",
      "/home/ubuntu/miniconda3/envs/merlin-2312/lib/python3.10/site-packages/lightning/pytorch/trainer/connectors/data_connector.py:441: The 'predict_dataloader' does not have many workers which may be a bottleneck. Consider increasing the value of the `num_workers` argument` to `num_workers=15` in the `DataLoader` to improve performance.\n"
     ]
    },
    {
     "data": {
      "application/vnd.jupyter.widget-view+json": {
       "model_id": "dbd6dde2354f4487a57418c339453822",
       "version_major": 2,
       "version_minor": 0
      },
      "text/plain": [
       "Predicting: |          | 0/? [00:00<?, ?it/s]"
      ]
     },
     "metadata": {},
     "output_type": "display_data"
    }
   ],
   "source": [
    "loader_test = dataloader_factory(x=adata_test.X, obs=adata_test.obs, batch_size=256)\n",
    "preds_tabnet = torch.cat(trainer.predict(\n",
    "    model=lit_tabnet, \n",
    "    dataloaders=loader_test,\n",
    "    ckpt_path='/vol/data/tb_logs/zheng68k/scTab_big/val_f1_micro_epoch=5_val_f1_micro=0.616.ckpt'\n",
    ")).numpy()\n",
    "\n",
    "celltype_mapping = dict(enumerate(adata_train.obs.cell_type.cat.categories))\n",
    "preds_tabnet = np.array([celltype_mapping[elem] for elem in preds_tabnet])"
   ]
  },
  {
   "cell_type": "code",
   "execution_count": 28,
   "id": "ac5910f9-8a6d-44e9-a169-fb271762720d",
   "metadata": {},
   "outputs": [
    {
     "data": {
      "text/html": [
       "<div>\n",
       "<style scoped>\n",
       "    .dataframe tbody tr th:only-of-type {\n",
       "        vertical-align: middle;\n",
       "    }\n",
       "\n",
       "    .dataframe tbody tr th {\n",
       "        vertical-align: top;\n",
       "    }\n",
       "\n",
       "    .dataframe thead th {\n",
       "        text-align: right;\n",
       "    }\n",
       "</style>\n",
       "<table border=\"1\" class=\"dataframe\">\n",
       "  <thead>\n",
       "    <tr style=\"text-align: right;\">\n",
       "      <th></th>\n",
       "      <th>precision</th>\n",
       "      <th>recall</th>\n",
       "      <th>f1-score</th>\n",
       "      <th>support</th>\n",
       "    </tr>\n",
       "  </thead>\n",
       "  <tbody>\n",
       "    <tr>\n",
       "      <th>CD14+ Monocyte</th>\n",
       "      <td>0.751634</td>\n",
       "      <td>0.849754</td>\n",
       "      <td>0.797688</td>\n",
       "      <td>406.00000</td>\n",
       "    </tr>\n",
       "    <tr>\n",
       "      <th>CD19+ B</th>\n",
       "      <td>0.915468</td>\n",
       "      <td>0.616970</td>\n",
       "      <td>0.737147</td>\n",
       "      <td>825.00000</td>\n",
       "    </tr>\n",
       "    <tr>\n",
       "      <th>CD34+</th>\n",
       "      <td>0.903226</td>\n",
       "      <td>0.756757</td>\n",
       "      <td>0.823529</td>\n",
       "      <td>37.00000</td>\n",
       "    </tr>\n",
       "    <tr>\n",
       "      <th>CD4+ T Helper2</th>\n",
       "      <td>0.000000</td>\n",
       "      <td>0.000000</td>\n",
       "      <td>0.000000</td>\n",
       "      <td>12.00000</td>\n",
       "    </tr>\n",
       "    <tr>\n",
       "      <th>CD4+/CD25 T Reg</th>\n",
       "      <td>0.356272</td>\n",
       "      <td>0.467963</td>\n",
       "      <td>0.404550</td>\n",
       "      <td>874.00000</td>\n",
       "    </tr>\n",
       "    <tr>\n",
       "      <th>CD4+/CD45RA+/CD25- Naive T</th>\n",
       "      <td>0.000000</td>\n",
       "      <td>0.000000</td>\n",
       "      <td>0.000000</td>\n",
       "      <td>268.00000</td>\n",
       "    </tr>\n",
       "    <tr>\n",
       "      <th>CD4+/CD45RO+ Memory</th>\n",
       "      <td>0.000000</td>\n",
       "      <td>0.000000</td>\n",
       "      <td>0.000000</td>\n",
       "      <td>435.00000</td>\n",
       "    </tr>\n",
       "    <tr>\n",
       "      <th>CD56+ NK</th>\n",
       "      <td>0.830769</td>\n",
       "      <td>0.857143</td>\n",
       "      <td>0.843750</td>\n",
       "      <td>1260.00000</td>\n",
       "    </tr>\n",
       "    <tr>\n",
       "      <th>CD8+ Cytotoxic T</th>\n",
       "      <td>0.659278</td>\n",
       "      <td>0.541470</td>\n",
       "      <td>0.594595</td>\n",
       "      <td>2966.00000</td>\n",
       "    </tr>\n",
       "    <tr>\n",
       "      <th>CD8+/CD45RA+ Naive Cytotoxic</th>\n",
       "      <td>0.528167</td>\n",
       "      <td>0.804521</td>\n",
       "      <td>0.637691</td>\n",
       "      <td>2389.00000</td>\n",
       "    </tr>\n",
       "    <tr>\n",
       "      <th>Dendritic</th>\n",
       "      <td>0.643312</td>\n",
       "      <td>0.396078</td>\n",
       "      <td>0.490291</td>\n",
       "      <td>255.00000</td>\n",
       "    </tr>\n",
       "    <tr>\n",
       "      <th>accuracy</th>\n",
       "      <td>0.616840</td>\n",
       "      <td>0.616840</td>\n",
       "      <td>0.616840</td>\n",
       "      <td>0.61684</td>\n",
       "    </tr>\n",
       "    <tr>\n",
       "      <th>macro avg</th>\n",
       "      <td>0.508011</td>\n",
       "      <td>0.480969</td>\n",
       "      <td>0.484476</td>\n",
       "      <td>9727.00000</td>\n",
       "    </tr>\n",
       "    <tr>\n",
       "      <th>weighted avg</th>\n",
       "      <td>0.599696</td>\n",
       "      <td>0.616840</td>\n",
       "      <td>0.595375</td>\n",
       "      <td>9727.00000</td>\n",
       "    </tr>\n",
       "  </tbody>\n",
       "</table>\n",
       "</div>"
      ],
      "text/plain": [
       "                              precision    recall  f1-score     support\n",
       "CD14+ Monocyte                 0.751634  0.849754  0.797688   406.00000\n",
       "CD19+ B                        0.915468  0.616970  0.737147   825.00000\n",
       "CD34+                          0.903226  0.756757  0.823529    37.00000\n",
       "CD4+ T Helper2                 0.000000  0.000000  0.000000    12.00000\n",
       "CD4+/CD25 T Reg                0.356272  0.467963  0.404550   874.00000\n",
       "CD4+/CD45RA+/CD25- Naive T     0.000000  0.000000  0.000000   268.00000\n",
       "CD4+/CD45RO+ Memory            0.000000  0.000000  0.000000   435.00000\n",
       "CD56+ NK                       0.830769  0.857143  0.843750  1260.00000\n",
       "CD8+ Cytotoxic T               0.659278  0.541470  0.594595  2966.00000\n",
       "CD8+/CD45RA+ Naive Cytotoxic   0.528167  0.804521  0.637691  2389.00000\n",
       "Dendritic                      0.643312  0.396078  0.490291   255.00000\n",
       "accuracy                       0.616840  0.616840  0.616840     0.61684\n",
       "macro avg                      0.508011  0.480969  0.484476  9727.00000\n",
       "weighted avg                   0.599696  0.616840  0.595375  9727.00000"
      ]
     },
     "execution_count": 28,
     "metadata": {},
     "output_type": "execute_result"
    }
   ],
   "source": [
    "pd.DataFrame(classification_report(\n",
    "    adata_test.obs.cell_type.to_numpy(),\n",
    "    preds_tabnet,\n",
    "    output_dict=True,\n",
    "    zero_division=0.\n",
    ")).T"
   ]
  },
  {
   "cell_type": "code",
   "execution_count": null,
   "id": "c626b85e-04ee-44fe-9bf6-5cf7feecfd78",
   "metadata": {},
   "outputs": [],
   "source": []
  },
  {
   "cell_type": "markdown",
   "id": "608f000d-9ebd-441d-b49c-6580b4fa9db3",
   "metadata": {},
   "source": [
    "#### CellTypist"
   ]
  },
  {
   "cell_type": "code",
   "execution_count": 38,
   "id": "ed1fa24a-a09e-4442-938e-8203e43ba6da",
   "metadata": {},
   "outputs": [],
   "source": [
    "import celltypist"
   ]
  },
  {
   "cell_type": "code",
   "execution_count": 45,
   "id": "27182fc1-9b18-417e-b29c-c714c7b8292a",
   "metadata": {},
   "outputs": [
    {
     "name": "stderr",
     "output_type": "stream",
     "text": [
      "🔬 Input data has 9727 cells and 19331 genes\n",
      "🔗 Matching reference genes in the model\n",
      "🧬 2624 features used for prediction\n",
      "⚖️ Scaling input data\n",
      "🖋️ Predicting labels\n",
      "✅ Prediction done!\n"
     ]
    }
   ],
   "source": [
    "preds = celltypist.annotate(adata_test, model='/vol/data/tb_logs/zheng68k/celltypist.pkl')"
   ]
  },
  {
   "cell_type": "code",
   "execution_count": 46,
   "id": "20b40c40-2cbc-4968-9281-0e62670c49c0",
   "metadata": {},
   "outputs": [
    {
     "data": {
      "text/html": [
       "<div>\n",
       "<style scoped>\n",
       "    .dataframe tbody tr th:only-of-type {\n",
       "        vertical-align: middle;\n",
       "    }\n",
       "\n",
       "    .dataframe tbody tr th {\n",
       "        vertical-align: top;\n",
       "    }\n",
       "\n",
       "    .dataframe thead th {\n",
       "        text-align: right;\n",
       "    }\n",
       "</style>\n",
       "<table border=\"1\" class=\"dataframe\">\n",
       "  <thead>\n",
       "    <tr style=\"text-align: right;\">\n",
       "      <th></th>\n",
       "      <th>precision</th>\n",
       "      <th>recall</th>\n",
       "      <th>f1-score</th>\n",
       "      <th>support</th>\n",
       "    </tr>\n",
       "  </thead>\n",
       "  <tbody>\n",
       "    <tr>\n",
       "      <th>CD14+ Monocyte</th>\n",
       "      <td>0.743523</td>\n",
       "      <td>0.706897</td>\n",
       "      <td>0.724747</td>\n",
       "      <td>406.000000</td>\n",
       "    </tr>\n",
       "    <tr>\n",
       "      <th>CD19+ B</th>\n",
       "      <td>0.692635</td>\n",
       "      <td>0.592727</td>\n",
       "      <td>0.638798</td>\n",
       "      <td>825.000000</td>\n",
       "    </tr>\n",
       "    <tr>\n",
       "      <th>CD34+</th>\n",
       "      <td>0.769231</td>\n",
       "      <td>0.810811</td>\n",
       "      <td>0.789474</td>\n",
       "      <td>37.000000</td>\n",
       "    </tr>\n",
       "    <tr>\n",
       "      <th>CD4+ T Helper2</th>\n",
       "      <td>0.000000</td>\n",
       "      <td>0.000000</td>\n",
       "      <td>0.000000</td>\n",
       "      <td>12.000000</td>\n",
       "    </tr>\n",
       "    <tr>\n",
       "      <th>CD4+/CD25 T Reg</th>\n",
       "      <td>0.306452</td>\n",
       "      <td>0.173913</td>\n",
       "      <td>0.221898</td>\n",
       "      <td>874.000000</td>\n",
       "    </tr>\n",
       "    <tr>\n",
       "      <th>CD4+/CD45RA+/CD25- Naive T</th>\n",
       "      <td>0.140449</td>\n",
       "      <td>0.093284</td>\n",
       "      <td>0.112108</td>\n",
       "      <td>268.000000</td>\n",
       "    </tr>\n",
       "    <tr>\n",
       "      <th>CD4+/CD45RO+ Memory</th>\n",
       "      <td>0.161943</td>\n",
       "      <td>0.091954</td>\n",
       "      <td>0.117302</td>\n",
       "      <td>435.000000</td>\n",
       "    </tr>\n",
       "    <tr>\n",
       "      <th>CD56+ NK</th>\n",
       "      <td>0.734848</td>\n",
       "      <td>0.846825</td>\n",
       "      <td>0.786873</td>\n",
       "      <td>1260.000000</td>\n",
       "    </tr>\n",
       "    <tr>\n",
       "      <th>CD8+ Cytotoxic T</th>\n",
       "      <td>0.494996</td>\n",
       "      <td>0.583614</td>\n",
       "      <td>0.535665</td>\n",
       "      <td>2966.000000</td>\n",
       "    </tr>\n",
       "    <tr>\n",
       "      <th>CD8+/CD45RA+ Naive Cytotoxic</th>\n",
       "      <td>0.507305</td>\n",
       "      <td>0.523231</td>\n",
       "      <td>0.515145</td>\n",
       "      <td>2389.000000</td>\n",
       "    </tr>\n",
       "    <tr>\n",
       "      <th>Dendritic</th>\n",
       "      <td>0.449799</td>\n",
       "      <td>0.439216</td>\n",
       "      <td>0.444444</td>\n",
       "      <td>255.000000</td>\n",
       "    </tr>\n",
       "    <tr>\n",
       "      <th>accuracy</th>\n",
       "      <td>0.532847</td>\n",
       "      <td>0.532847</td>\n",
       "      <td>0.532847</td>\n",
       "      <td>0.532847</td>\n",
       "    </tr>\n",
       "    <tr>\n",
       "      <th>macro avg</th>\n",
       "      <td>0.454653</td>\n",
       "      <td>0.442043</td>\n",
       "      <td>0.444223</td>\n",
       "      <td>9727.000000</td>\n",
       "    </tr>\n",
       "    <tr>\n",
       "      <th>weighted avg</th>\n",
       "      <td>0.513868</td>\n",
       "      <td>0.532847</td>\n",
       "      <td>0.519146</td>\n",
       "      <td>9727.000000</td>\n",
       "    </tr>\n",
       "  </tbody>\n",
       "</table>\n",
       "</div>"
      ],
      "text/plain": [
       "                              precision    recall  f1-score      support\n",
       "CD14+ Monocyte                 0.743523  0.706897  0.724747   406.000000\n",
       "CD19+ B                        0.692635  0.592727  0.638798   825.000000\n",
       "CD34+                          0.769231  0.810811  0.789474    37.000000\n",
       "CD4+ T Helper2                 0.000000  0.000000  0.000000    12.000000\n",
       "CD4+/CD25 T Reg                0.306452  0.173913  0.221898   874.000000\n",
       "CD4+/CD45RA+/CD25- Naive T     0.140449  0.093284  0.112108   268.000000\n",
       "CD4+/CD45RO+ Memory            0.161943  0.091954  0.117302   435.000000\n",
       "CD56+ NK                       0.734848  0.846825  0.786873  1260.000000\n",
       "CD8+ Cytotoxic T               0.494996  0.583614  0.535665  2966.000000\n",
       "CD8+/CD45RA+ Naive Cytotoxic   0.507305  0.523231  0.515145  2389.000000\n",
       "Dendritic                      0.449799  0.439216  0.444444   255.000000\n",
       "accuracy                       0.532847  0.532847  0.532847     0.532847\n",
       "macro avg                      0.454653  0.442043  0.444223  9727.000000\n",
       "weighted avg                   0.513868  0.532847  0.519146  9727.000000"
      ]
     },
     "execution_count": 46,
     "metadata": {},
     "output_type": "execute_result"
    }
   ],
   "source": [
    "pd.DataFrame(classification_report(\n",
    "    adata_test.obs.cell_type.to_numpy(),\n",
    "    preds.predicted_labels.predicted_labels.to_numpy().flatten(),\n",
    "    output_dict=True\n",
    ")).T"
   ]
  },
  {
   "cell_type": "code",
   "execution_count": null,
   "id": "93df088b-e3eb-4778-95e4-2684505a2770",
   "metadata": {},
   "outputs": [],
   "source": []
  }
 ],
 "metadata": {
  "kernelspec": {
   "display_name": "merlin-2312",
   "language": "python",
   "name": "merlin-2312"
  },
  "language_info": {
   "codemirror_mode": {
    "name": "ipython",
    "version": 3
   },
   "file_extension": ".py",
   "mimetype": "text/x-python",
   "name": "python",
   "nbconvert_exporter": "python",
   "pygments_lexer": "ipython3",
   "version": "3.10.13"
  }
 },
 "nbformat": 4,
 "nbformat_minor": 5
}
