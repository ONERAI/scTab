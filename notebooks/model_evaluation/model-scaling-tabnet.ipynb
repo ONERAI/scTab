{
 "cells": [
  {
   "cell_type": "code",
   "execution_count": 1,
   "id": "85c59384-5a02-4804-916c-bb86ab8e08e9",
   "metadata": {
    "tags": []
   },
   "outputs": [
    {
     "name": "stdout",
     "output_type": "stream",
     "text": [
      "Obtaining file:///dss/dsshome1/04/di93zer/git/cellnet\n",
      "  Preparing metadata (setup.py) ... \u001b[?25ldone\n",
      "\u001b[?25hInstalling collected packages: cellnet\n",
      "  Running setup.py develop for cellnet\n",
      "Successfully installed cellnet\n"
     ]
    }
   ],
   "source": [
    "!pip install -e /dss/dsshome1/04/di93zer/git/cellnet --no-deps"
   ]
  },
  {
   "cell_type": "code",
   "execution_count": 1,
   "id": "da81cedd-cb71-43f4-a308-5e9b5c39be30",
   "metadata": {
    "tags": []
   },
   "outputs": [
    {
     "name": "stderr",
     "output_type": "stream",
     "text": [
      "/usr/local/lib/python3.8/dist-packages/tqdm/auto.py:21: TqdmWarning: IProgress not found. Please update jupyter and ipywidgets. See https://ipywidgets.readthedocs.io/en/stable/user_install.html\n",
      "  from .autonotebook import tqdm as notebook_tqdm\n"
     ]
    }
   ],
   "source": [
    "import torch\n",
    "torch.set_float32_matmul_precision('high')"
   ]
  },
  {
   "cell_type": "code",
   "execution_count": 2,
   "id": "95173974-6afc-4008-9200-87bc4d79b8de",
   "metadata": {
    "tags": []
   },
   "outputs": [
    {
     "name": "stderr",
     "output_type": "stream",
     "text": [
      "/usr/local/lib/python3.8/dist-packages/merlin/dtypes/mappings/tf.py:52: UserWarning: Tensorflow dtype mappings did not load successfully due to an error: No module named 'tensorflow'\n",
      "  warn(f\"Tensorflow dtype mappings did not load successfully due to an error: {exc.msg}\")\n"
     ]
    }
   ],
   "source": [
    "from os.path import join\n",
    "import yaml\n",
    "\n",
    "import numpy as np\n",
    "import pandas as pd\n",
    "import lightning.pytorch as pl\n",
    "import dask.dataframe as dd\n",
    "import seaborn as sns\n",
    "\n",
    "from cellnet.estimators import EstimatorCellTypeClassifier\n",
    "from cellnet.models import TabnetClassifier"
   ]
  },
  {
   "cell_type": "code",
   "execution_count": 3,
   "id": "6d21a22d-59e2-433f-b475-65a8eb9b3aaa",
   "metadata": {
    "tags": []
   },
   "outputs": [],
   "source": [
    "DATA_PATH = '/mnt/dssmcmlfs01/merlin_cxg_simple_norm_parquet'"
   ]
  },
  {
   "cell_type": "code",
   "execution_count": 4,
   "id": "58f9aa28-0e2c-46ee-aaa5-cc4012c38723",
   "metadata": {
    "tags": []
   },
   "outputs": [],
   "source": [
    "cell_type_mapping = pd.read_parquet(join(DATA_PATH, 'categorical_lookup/cell_type.parquet'))\n",
    "cell_type_hierarchy = np.load(join(DATA_PATH, 'cell_type_hierarchy/child_matrix.npy'))\n",
    "y_true = dd.read_parquet(join(DATA_PATH, 'test'), columns='cell_type').compute().to_numpy()"
   ]
  },
  {
   "cell_type": "code",
   "execution_count": null,
   "id": "20665f9c-5285-4e15-b3bf-d29d9b9f2281",
   "metadata": {},
   "outputs": [],
   "source": []
  },
  {
   "cell_type": "markdown",
   "id": "1c4e03dc-03e0-4341-93a7-d09a93ed09ec",
   "metadata": {},
   "source": [
    "# f1-score vs training data size"
   ]
  },
  {
   "cell_type": "code",
   "execution_count": 5,
   "id": "f5c08cf6-2fd6-4fee-99cb-00600c1ca21f",
   "metadata": {
    "tags": []
   },
   "outputs": [],
   "source": [
    "from sklearn.metrics import classification_report\n",
    "from utils import correct_labels"
   ]
  },
  {
   "cell_type": "code",
   "execution_count": 6,
   "id": "840b782c-d55c-4b0d-98b4-2a7f64bae3d0",
   "metadata": {
    "tags": []
   },
   "outputs": [],
   "source": [
    "CKPT_PATHS = [\n",
    "    '/mnt/dssfs02/tb_logs/juwles/tabnet/default/version_7/checkpoints/val_f1_macro_epoch=46_val_f1_macro=0.751.ckpt',  # full data set\n",
    "    '/mnt/dssfs02/tb_logs/juwles/tabnet/default/version_13/checkpoints/val_f1_macro_epoch=69_val_f1_macro=0.748.ckpt',  # 0.75 data set\n",
    "    '/mnt/dssfs02/tb_logs/juwles/tabnet/default/version_14/checkpoints/val_f1_macro_epoch=71_val_f1_macro=0.746.ckpt',  # 0.5 data set\n",
    "    '/mnt/dssfs02/tb_logs/juwles/tabnet/default/version_15/checkpoints/val_f1_macro_epoch=137_val_f1_macro=0.741.ckpt',  # 0.25 data set\n",
    "    '/mnt/dssfs02/tb_logs/juwles/tabnet/default/version_16/checkpoints/val_f1_macro_epoch=384_val_f1_macro=0.735.ckpt',  # 0.1 data set\n",
    "]"
   ]
  },
  {
   "cell_type": "code",
   "execution_count": 7,
   "id": "d8048bc7-575d-410a-83e6-efa4ed11e87c",
   "metadata": {
    "tags": []
   },
   "outputs": [
    {
     "name": "stderr",
     "output_type": "stream",
     "text": [
      "GPU available: True (cuda), used: True\n",
      "TPU available: False, using: 0 TPU cores\n",
      "IPU available: False, using: 0 IPUs\n",
      "HPU available: False, using: 0 HPUs\n",
      "LOCAL_RANK: 0 - CUDA_VISIBLE_DEVICES: [0]\n",
      "SLURM auto-requeueing enabled. Setting signal handlers.\n"
     ]
    },
    {
     "name": "stdout",
     "output_type": "stream",
     "text": [
      "Predicting DataLoader 0: 100%|██████████| 686/686 [03:17<00:00,  3.48it/s]\n"
     ]
    },
    {
     "name": "stderr",
     "output_type": "stream",
     "text": [
      "LOCAL_RANK: 0 - CUDA_VISIBLE_DEVICES: [0]\n",
      "SLURM auto-requeueing enabled. Setting signal handlers.\n"
     ]
    },
    {
     "name": "stdout",
     "output_type": "stream",
     "text": [
      "Predicting DataLoader 0: 100%|██████████| 686/686 [03:44<00:00,  3.05it/s]\n"
     ]
    },
    {
     "name": "stderr",
     "output_type": "stream",
     "text": [
      "LOCAL_RANK: 0 - CUDA_VISIBLE_DEVICES: [0]\n",
      "SLURM auto-requeueing enabled. Setting signal handlers.\n"
     ]
    },
    {
     "name": "stdout",
     "output_type": "stream",
     "text": [
      "Predicting DataLoader 0: 100%|██████████| 686/686 [03:49<00:00,  2.99it/s]\n"
     ]
    },
    {
     "name": "stderr",
     "output_type": "stream",
     "text": [
      "LOCAL_RANK: 0 - CUDA_VISIBLE_DEVICES: [0]\n",
      "SLURM auto-requeueing enabled. Setting signal handlers.\n"
     ]
    },
    {
     "name": "stdout",
     "output_type": "stream",
     "text": [
      "Predicting DataLoader 0: 100%|██████████| 686/686 [04:06<00:00,  2.78it/s]\n"
     ]
    },
    {
     "name": "stderr",
     "output_type": "stream",
     "text": [
      "LOCAL_RANK: 0 - CUDA_VISIBLE_DEVICES: [0]\n",
      "SLURM auto-requeueing enabled. Setting signal handlers.\n"
     ]
    },
    {
     "name": "stdout",
     "output_type": "stream",
     "text": [
      "Predicting DataLoader 0: 100%|██████████| 686/686 [04:01<00:00,  2.84it/s]\n"
     ]
    }
   ],
   "source": [
    "import gc\n",
    "\n",
    "\n",
    "train_size = []\n",
    "f1_score = []\n",
    "\n",
    "\n",
    "estim = EstimatorCellTypeClassifier(DATA_PATH)\n",
    "estim.init_datamodule(batch_size=2048)\n",
    "estim.trainer = pl.Trainer(logger=[], accelerator='gpu', devices=1)\n",
    "\n",
    "\n",
    "for ckpt in CKPT_PATHS:\n",
    "    with open(join(ckpt.split('checkpoints')[0], 'hparams.yaml')) as f:\n",
    "        hparams = yaml.full_load(f.read())\n",
    "        train_size.append(hparams['train_set_size'])\n",
    "    \n",
    "    estim.model = TabnetClassifier.load_from_checkpoint(ckpt, **estim.get_fixed_model_params('tabnet'))\n",
    "    probas = estim.predict(estim.datamodule.test_dataloader())\n",
    "    y_pred = np.argmax(probas, axis=1)\n",
    "    y_pred_corr = correct_labels(y_true, y_pred, cell_type_hierarchy)\n",
    "    clf_report = pd.DataFrame(classification_report(y_true, y_pred_corr, output_dict=True)).T\n",
    "    \n",
    "    f1_score.append(clf_report.loc['macro avg', 'f1-score'])\n",
    "    gc.collect()\n"
   ]
  },
  {
   "cell_type": "code",
   "execution_count": 8,
   "id": "2e961487-1fcd-4b07-a6a3-a6071e8f0de2",
   "metadata": {
    "tags": []
   },
   "outputs": [
    {
     "data": {
      "image/png": "[encoded data removed]",
      "text/plain": [
       "<Figure size 640x480 with 1 Axes>"
      ]
     },
     "metadata": {},
     "output_type": "display_data"
    }
   ],
   "source": [
    "ax = sns.lineplot(\n",
    "    x='# training samples',\n",
    "    y='f1-score (macro avg.)',\n",
    "    marker='o',\n",
    "    data=pd.DataFrame({\n",
    "        '# training samples' : train_size,\n",
    "        'f1-score (macro avg.)': f1_score\n",
    "    })\n",
    ");"
   ]
  },
  {
   "cell_type": "code",
   "execution_count": null,
   "id": "5890e680-84bc-4068-b115-757bdfb1d028",
   "metadata": {},
   "outputs": [],
   "source": []
  }
 ],
 "metadata": {
  "kernelspec": {
   "display_name": "Python 3 (ipykernel)",
   "language": "python",
   "name": "python3"
  },
  "language_info": {
   "codemirror_mode": {
    "name": "ipython",
    "version": 3
   },
   "file_extension": ".py",
   "mimetype": "text/x-python",
   "name": "python",
   "nbconvert_exporter": "python",
   "pygments_lexer": "ipython3",
   "version": "3.8.10"
  }
 },
 "nbformat": 4,
 "nbformat_minor": 5
}
