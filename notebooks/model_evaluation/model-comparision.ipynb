{
 "cells": [
  {
   "cell_type": "code",
   "execution_count": 3,
   "id": "4c1eee3b-f179-480f-ae47-d5e755eb01fa",
   "metadata": {
    "tags": []
   },
   "outputs": [
    {
     "name": "stdout",
     "output_type": "stream",
     "text": [
      "Obtaining file:///dss/dsshome1/04/di93zer/git/cellnet\n",
      "  Preparing metadata (setup.py) ... \u001b[?25ldone\n",
      "\u001b[?25hInstalling collected packages: cellnet\n",
      "  Running setup.py develop for cellnet\n",
      "Successfully installed cellnet\n",
      "\n",
      "\u001b[1m[\u001b[0m\u001b[34;49mnotice\u001b[0m\u001b[1;39;49m]\u001b[0m\u001b[39;49m A new release of pip is available: \u001b[0m\u001b[31;49m23.1.1\u001b[0m\u001b[39;49m -> \u001b[0m\u001b[32;49m23.2.1\u001b[0m\n",
      "\u001b[1m[\u001b[0m\u001b[34;49mnotice\u001b[0m\u001b[1;39;49m]\u001b[0m\u001b[39;49m To update, run: \u001b[0m\u001b[32;49mpython3 -m pip install --upgrade pip\u001b[0m\n"
     ]
    }
   ],
   "source": [
    "!pip install -e /dss/dsshome1/04/di93zer/git/cellnet --no-deps"
   ]
  },
  {
   "cell_type": "code",
   "execution_count": null,
   "id": "e5d5f16a-0644-485f-bc41-47515f0102e1",
   "metadata": {},
   "outputs": [],
   "source": [
    "!pip install celltypist"
   ]
  },
  {
   "cell_type": "code",
   "execution_count": 1,
   "id": "b5233885-5ceb-455e-97f1-b8370cceaa2f",
   "metadata": {
    "tags": []
   },
   "outputs": [
    {
     "name": "stderr",
     "output_type": "stream",
     "text": [
      "/usr/local/lib/python3.8/dist-packages/tqdm/auto.py:21: TqdmWarning: IProgress not found. Please update jupyter and ipywidgets. See https://ipywidgets.readthedocs.io/en/stable/user_install.html\n",
      "  from .autonotebook import tqdm as notebook_tqdm\n",
      "/usr/local/lib/python3.8/dist-packages/merlin/dtypes/mappings/tf.py:52: UserWarning: Tensorflow dtype mappings did not load successfully due to an error: No module named 'tensorflow'\n",
      "  warn(f\"Tensorflow dtype mappings did not load successfully due to an error: {exc.msg}\")\n"
     ]
    }
   ],
   "source": [
    "import os\n",
    "import re\n",
    "import gc\n",
    "from os.path import join\n",
    "\n",
    "import anndata\n",
    "import numpy as np\n",
    "import pandas as pd\n",
    "import xgboost as xgb\n",
    "import dask.dataframe as dd\n",
    "import pandas as pd\n",
    "import lightning.pytorch as pl\n",
    "import seaborn as sns\n",
    "import matplotlib.pyplot as plt\n",
    "\n",
    "from scipy.sparse import csr_matrix\n",
    "from sklearn.metrics import classification_report\n",
    "from cellnet.estimators import EstimatorCellTypeClassifier\n",
    "from cellnet.models import TabnetClassifier, LinearClassifier, MLPClassifier\n",
    "from utils import correct_labels, get_best_ckpts, macro_f1_per_group, BIONETWORK_GROUPING"
   ]
  },
  {
   "cell_type": "code",
   "execution_count": null,
   "id": "2de6e8f5-c21c-4b3d-a070-f60e6286a48c",
   "metadata": {
    "tags": []
   },
   "outputs": [],
   "source": []
  },
  {
   "cell_type": "code",
   "execution_count": 2,
   "id": "489e8d83-86bc-470b-94db-6362d5bef782",
   "metadata": {
    "tags": []
   },
   "outputs": [],
   "source": [
    "def get_count_matrix(ddf):\n",
    "    x = (\n",
    "        ddf['X']\n",
    "        .map_partitions(\n",
    "            lambda xx: pd.DataFrame(np.vstack(xx.tolist())), \n",
    "            meta={col: 'f4' for col in range(19331)}\n",
    "        )\n",
    "        .to_dask_array(lengths=[1024] * ddf.npartitions)\n",
    "    )\n",
    "    \n",
    "    return x\n"
   ]
  },
  {
   "cell_type": "code",
   "execution_count": 3,
   "id": "32eb687b-0edc-4b1d-a605-7a17fa8482da",
   "metadata": {
    "tags": []
   },
   "outputs": [],
   "source": [
    "def eval_tabnet(ckpts, data_path):\n",
    "    estim = EstimatorCellTypeClassifier(data_path)\n",
    "    estim.init_datamodule(batch_size=2048)\n",
    "    estim.trainer = pl.Trainer(logger=[], accelerator='gpu', devices=1)\n",
    "\n",
    "    preds = []\n",
    "    for ckpt in ckpts:\n",
    "        estim.model = TabnetClassifier.load_from_checkpoint(ckpt, **estim.get_fixed_model_params('tabnet'))\n",
    "        probas = estim.predict(estim.datamodule.test_dataloader())\n",
    "        preds.append(np.argmax(probas, axis=1))\n",
    "        gc.collect()\n",
    "\n",
    "    return preds\n",
    "\n",
    "\n",
    "def eval_linear(ckpts, data_path):\n",
    "    estim = EstimatorCellTypeClassifier(data_path)\n",
    "    estim.init_datamodule(batch_size=2048)\n",
    "    estim.trainer = pl.Trainer(logger=[], accelerator='gpu', devices=1)\n",
    "\n",
    "    preds = []\n",
    "    for ckpt in ckpts:\n",
    "        estim.model = LinearClassifier.load_from_checkpoint(ckpt, **estim.get_fixed_model_params('linear'))\n",
    "        probas = estim.predict(estim.datamodule.test_dataloader())\n",
    "        preds.append(np.argmax(probas, axis=1))\n",
    "        gc.collect()\n",
    "\n",
    "    return preds\n",
    "\n",
    "\n",
    "def eval_xgboost(ckpts, data_path):\n",
    "    x_test = np.load(join(data_path, 'pca/x_pca_training_test_split_256.npy'))\n",
    "    \n",
    "    preds = []\n",
    "    for ckpt in ckpts:\n",
    "        clf = xgb.XGBClassifier()\n",
    "        clf.load_model(ckpt)\n",
    "        clf.set_params(predictor='gpu_predictor')\n",
    "        preds.append(clf.predict(x_test))\n",
    "\n",
    "    return preds\n",
    "\n",
    "\n",
    "def eval_mlp(ckpts, data_path):\n",
    "    estim = EstimatorCellTypeClassifier(data_path)\n",
    "    estim.init_datamodule(batch_size=2048)\n",
    "    estim.trainer = pl.Trainer(logger=[], accelerator='gpu', devices=1)\n",
    "\n",
    "    preds = []\n",
    "    for ckpt in ckpts:\n",
    "        estim.model = MLPClassifier.load_from_checkpoint(ckpt, **estim.get_fixed_model_params('mlp'))\n",
    "        probas = estim.predict(estim.datamodule.test_dataloader())\n",
    "        preds.append(np.argmax(probas, axis=1))\n",
    "        gc.collect()\n",
    "\n",
    "    return preds\n",
    "\n",
    "\n",
    "def eval_celltypist(ckpts, data_path):\n",
    "    import celltypist\n",
    "    \n",
    "    ddf = dd.read_parquet(join(data_path, 'test'), split_row_groups=True)\n",
    "    x = get_count_matrix(ddf)\n",
    "    var = pd.read_parquet(join(data_path, 'var.parquet'))\n",
    "\n",
    "    preds = []\n",
    "    for ckpt in ckpts:\n",
    "        preds_ckpt = []\n",
    "        # run this in batches to keep the memory footprint in check\n",
    "        for i, idxs in enumerate(np.array_split(np.arange(x.shape[0]), 20)):\n",
    "            # data is already normalized\n",
    "            adata_test = anndata.AnnData(\n",
    "                X=x[idxs, :].map_blocks(csr_matrix).compute(), \n",
    "                var=var.set_index('feature_name')\n",
    "            )\n",
    "            preds_ckpt.append(celltypist.annotate(adata_test, model=ckpt))\n",
    "\n",
    "        preds.append(\n",
    "            np.concatenate([batch.predicted_labels.to_numpy().flatten() for batch in preds_ckpt])\n",
    "        )\n",
    "\n",
    "    return preds\n"
   ]
  },
  {
   "cell_type": "markdown",
   "id": "e527a9dc-8538-4868-afaf-96e8992e4ca4",
   "metadata": {
    "tags": []
   },
   "source": [
    "# Evaluate performance"
   ]
  },
  {
   "cell_type": "code",
   "execution_count": 4,
   "id": "cc1a1313-945d-4c5a-98ea-25210da899e3",
   "metadata": {
    "tags": []
   },
   "outputs": [],
   "source": [
    "DATA_PATH = '/mnt/dssmcmlfs01/merlin_cxg_2023_05_15_sf-log1p'\n",
    "\n",
    "LOGS_TABNET = '/mnt/dssfs02/tb_logs/cxg_2023_05_15_tabnet/default'\n",
    "LOGS_LINEAR = '/mnt/dssfs02/tb_logs/juwles/cxg_2023_05_15_linear/default'\n",
    "LOGS_XGBOOST = '/mnt/dssfs02/tb_logs/cxg_2023_05_15_xgboost'\n",
    "LOGS_MLP = '/mnt/dssfs02/tb_logs/cxg_2023_05_15_mlp/default'\n",
    "LOGS_CELLTYPIST = '/mnt/dssfs02/tb_logs/cxg_2023_05_15_celltypist'\n",
    "\n",
    "\n",
    "CKPTS = {\n",
    "    'xgboost': [join(LOGS_XGBOOST, f'version_20_{i}.json') for i in range(1, 6)],\n",
    "    'xgboost_default': [join(LOGS_XGBOOST, f'default_params_{i}.json') for i in range(1, 5)],\n",
    "    'tabnet': get_best_ckpts(LOGS_TABNET, [f'w_augment_{i}' for i in range(1, 6)]),\n",
    "    'linear': get_best_ckpts(LOGS_LINEAR, [f'version_{i}' for i in range(1, 5)]),\n",
    "    'MLP': get_best_ckpts(LOGS_MLP, [f'version_{i}' for i in range(3, 8)]),\n",
    "    'celltypist': [join(LOGS_CELLTYPIST, f'model_1500000_cells_run{i}.pkl') for i in range(1, 5)],\n",
    "    'celltypist_default': [join(LOGS_CELLTYPIST, f'model_1000000_cells_with_mean_run{i}.pkl') for i in range(1, 5)]\n",
    "}"
   ]
  },
  {
   "cell_type": "code",
   "execution_count": 5,
   "id": "ff97fd35-2255-47a4-a41c-4092862a1e90",
   "metadata": {
    "tags": []
   },
   "outputs": [],
   "source": [
    "cell_type_hierarchy = np.load(join(DATA_PATH, 'cell_type_hierarchy/child_matrix.npy'))\n",
    "y_true = dd.read_parquet(join(DATA_PATH, 'test'), columns='cell_type').compute().to_numpy()\n",
    "tissue_general_mapping = pd.read_parquet(join(DATA_PATH, 'categorical_lookup/tissue_general.parquet'))\n",
    "tissue_general = dd.read_parquet(join(DATA_PATH, 'test'), columns='tissue_general').compute().to_numpy()"
   ]
  },
  {
   "cell_type": "markdown",
   "id": "d7e81359-7142-4313-a601-5897daccb8e6",
   "metadata": {
    "tags": []
   },
   "source": [
    "## Overall"
   ]
  },
  {
   "cell_type": "code",
   "execution_count": 6,
   "id": "613bc3e8-33bf-489a-a9c4-d33e55a72eaa",
   "metadata": {
    "tags": []
   },
   "outputs": [],
   "source": [
    "res = pd.read_csv('model_comparision.csv', index_col=0)"
   ]
  },
  {
   "cell_type": "code",
   "execution_count": 7,
   "id": "9830a24c-f2b4-4f9c-8d54-4b80854fffee",
   "metadata": {
    "tags": []
   },
   "outputs": [],
   "source": [
    "results = {'f1-score (macro avg.)': [], 'model': [], 'run': []}\n",
    "\n",
    "\n",
    "for model, ckpts in CKPTS.items():\n",
    "    if model not in res.model.tolist():\n",
    "        if model == 'tabnet':\n",
    "            preds = eval_tabnet(ckpts, DATA_PATH)\n",
    "        elif model == 'linear':\n",
    "            preds = eval_linear(ckpts, DATA_PATH)\n",
    "        elif model == 'xgboost':\n",
    "            preds = eval_xgboost(ckpts, DATA_PATH)\n",
    "        elif model == 'xgboost_default':\n",
    "            preds = eval_xgboost(ckpts, DATA_PATH)\n",
    "        elif model == 'MLP':\n",
    "            preds = eval_mlp(ckpts, DATA_PATH)\n",
    "        elif model == 'celltypist':\n",
    "            preds = eval_celltypist(ckpts, DATA_PATH)\n",
    "        elif model == 'celltypist_default':\n",
    "            preds = eval_celltypist(ckpts, DATA_PATH)\n",
    "        else:\n",
    "            raise ValueError\n",
    "\n",
    "        for run, y_pred in enumerate(preds):\n",
    "            y_pred_corr = correct_labels(y_true, y_pred, cell_type_hierarchy)\n",
    "            clf_report = pd.DataFrame(classification_report(y_true, y_pred_corr, output_dict=True)).T\n",
    "            results['f1-score (macro avg.)'].append(clf_report.loc['macro avg', 'f1-score'])\n",
    "            results['model'].append(model)\n",
    "            results['run'].append(f'{model}_run{run}')\n"
   ]
  },
  {
   "cell_type": "code",
   "execution_count": 8,
   "id": "e53dcde6-81af-4ba6-9931-5c1604be8411",
   "metadata": {
    "tags": []
   },
   "outputs": [],
   "source": [
    "res = pd.concat([res, pd.DataFrame(results)]).reset_index(drop=True)"
   ]
  },
  {
   "cell_type": "code",
   "execution_count": null,
   "id": "1e490fb3-d4b3-45c0-8fa7-69f2e141a2d8",
   "metadata": {
    "tags": []
   },
   "outputs": [],
   "source": [
    "res.to_csv('model_comparision.csv')"
   ]
  },
  {
   "cell_type": "code",
   "execution_count": 13,
   "id": "43f52bff-d5c6-47a7-b45b-7aa6f28d0c62",
   "metadata": {
    "tags": []
   },
   "outputs": [
    {
     "data": {
      "text/html": [
       "<div>\n",
       "<style scoped>\n",
       "    .dataframe tbody tr th:only-of-type {\n",
       "        vertical-align: middle;\n",
       "    }\n",
       "\n",
       "    .dataframe tbody tr th {\n",
       "        vertical-align: top;\n",
       "    }\n",
       "\n",
       "    .dataframe thead th {\n",
       "        text-align: right;\n",
       "    }\n",
       "</style>\n",
       "<table border=\"1\" class=\"dataframe\">\n",
       "  <thead>\n",
       "    <tr style=\"text-align: right;\">\n",
       "      <th></th>\n",
       "      <th>mean</th>\n",
       "      <th>std</th>\n",
       "    </tr>\n",
       "    <tr>\n",
       "      <th>model</th>\n",
       "      <th></th>\n",
       "      <th></th>\n",
       "    </tr>\n",
       "  </thead>\n",
       "  <tbody>\n",
       "    <tr>\n",
       "      <th>MLP</th>\n",
       "      <td>0.7971</td>\n",
       "      <td>0.0012</td>\n",
       "    </tr>\n",
       "    <tr>\n",
       "      <th>celltypist</th>\n",
       "      <td>0.7304</td>\n",
       "      <td>0.0015</td>\n",
       "    </tr>\n",
       "    <tr>\n",
       "      <th>celltypist_default</th>\n",
       "      <td>0.6258</td>\n",
       "      <td>0.0036</td>\n",
       "    </tr>\n",
       "    <tr>\n",
       "      <th>linear</th>\n",
       "      <td>0.7848</td>\n",
       "      <td>0.0001</td>\n",
       "    </tr>\n",
       "    <tr>\n",
       "      <th>tabnet</th>\n",
       "      <td>0.8295</td>\n",
       "      <td>0.0007</td>\n",
       "    </tr>\n",
       "    <tr>\n",
       "      <th>xgboost</th>\n",
       "      <td>0.8127</td>\n",
       "      <td>0.0005</td>\n",
       "    </tr>\n",
       "    <tr>\n",
       "      <th>xgboost_default</th>\n",
       "      <td>0.5855</td>\n",
       "      <td>0.0112</td>\n",
       "    </tr>\n",
       "  </tbody>\n",
       "</table>\n",
       "</div>"
      ],
      "text/plain": [
       "                      mean     std\n",
       "model                             \n",
       "MLP                 0.7971  0.0012\n",
       "celltypist          0.7304  0.0015\n",
       "celltypist_default  0.6258  0.0036\n",
       "linear              0.7848  0.0001\n",
       "tabnet              0.8295  0.0007\n",
       "xgboost             0.8127  0.0005\n",
       "xgboost_default     0.5855  0.0112"
      ]
     },
     "execution_count": 13,
     "metadata": {},
     "output_type": "execute_result"
    }
   ],
   "source": [
    "(\n",
    "    res\n",
    "    .groupby('model')['f1-score (macro avg.)']\n",
    "    .aggregate(['mean', 'std'])\n",
    "    .applymap(\"{0:.4f}\".format)\n",
    ")"
   ]
  },
  {
   "cell_type": "code",
   "execution_count": 19,
   "id": "f30b22fc-7f36-4520-9af5-f135abfe5dfa",
   "metadata": {
    "tags": []
   },
   "outputs": [
    {
     "data": {
      "text/html": [
       "<div>\n",
       "<style scoped>\n",
       "    .dataframe tbody tr th:only-of-type {\n",
       "        vertical-align: middle;\n",
       "    }\n",
       "\n",
       "    .dataframe tbody tr th {\n",
       "        vertical-align: top;\n",
       "    }\n",
       "\n",
       "    .dataframe thead th {\n",
       "        text-align: right;\n",
       "    }\n",
       "</style>\n",
       "<table border=\"1\" class=\"dataframe\">\n",
       "  <thead>\n",
       "    <tr style=\"text-align: right;\">\n",
       "      <th></th>\n",
       "      <th>mean</th>\n",
       "      <th>var</th>\n",
       "    </tr>\n",
       "    <tr>\n",
       "      <th>model</th>\n",
       "      <th></th>\n",
       "      <th></th>\n",
       "    </tr>\n",
       "  </thead>\n",
       "  <tbody>\n",
       "    <tr>\n",
       "      <th>linear</th>\n",
       "      <td>0.78483384</td>\n",
       "      <td>0.00000002</td>\n",
       "    </tr>\n",
       "    <tr>\n",
       "      <th>tabnet</th>\n",
       "      <td>0.82949732</td>\n",
       "      <td>0.00000055</td>\n",
       "    </tr>\n",
       "  </tbody>\n",
       "</table>\n",
       "</div>"
      ],
      "text/plain": [
       "              mean         var\n",
       "model                         \n",
       "linear  0.78483384  0.00000002\n",
       "tabnet  0.82949732  0.00000055"
      ]
     },
     "execution_count": 19,
     "metadata": {},
     "output_type": "execute_result"
    }
   ],
   "source": [
    "(\n",
    "    res[res.model.isin(['linear', 'tabnet'])]\n",
    "    .groupby('model')['f1-score (macro avg.)']\n",
    "    .aggregate(['mean', 'var'])\n",
    "    .applymap(\"{0:.8f}\".format)\n",
    ")"
   ]
  },
  {
   "cell_type": "code",
   "execution_count": 21,
   "id": "0b860740-2037-4075-9bfd-144f9d137948",
   "metadata": {
    "tags": []
   },
   "outputs": [
    {
     "data": {
      "text/plain": [
       "'0.0447±0.0008'"
      ]
     },
     "execution_count": 21,
     "metadata": {},
     "output_type": "execute_result"
    }
   ],
   "source": [
    "f'{0.82949732 - 0.78483384:.4f}±{(0.00000055 + 0.00000002)**0.5:.4f}'"
   ]
  },
  {
   "cell_type": "code",
   "execution_count": null,
   "id": "f2f986ad-677a-4bb4-b180-a28412622684",
   "metadata": {
    "tags": []
   },
   "outputs": [],
   "source": []
  },
  {
   "cell_type": "markdown",
   "id": "171af6e5-56a5-4072-b777-8a9b76ee44dc",
   "metadata": {
    "tags": []
   },
   "source": [
    "# Plot model comparision"
   ]
  },
  {
   "cell_type": "code",
   "execution_count": 5,
   "id": "56a1c2de-5d1f-4f72-8dfc-1e20a45a29c0",
   "metadata": {
    "tags": []
   },
   "outputs": [],
   "source": [
    "import pandas as pd\n",
    "import seaborn as sns\n",
    "import matplotlib.pyplot as plt"
   ]
  },
  {
   "cell_type": "code",
   "execution_count": 6,
   "id": "403970d9-9944-4175-8930-c7d3facbacb3",
   "metadata": {
    "tags": []
   },
   "outputs": [
    {
     "data": {
      "text/html": [
       "<div>\n",
       "<style scoped>\n",
       "    .dataframe tbody tr th:only-of-type {\n",
       "        vertical-align: middle;\n",
       "    }\n",
       "\n",
       "    .dataframe tbody tr th {\n",
       "        vertical-align: top;\n",
       "    }\n",
       "\n",
       "    .dataframe thead th {\n",
       "        text-align: right;\n",
       "    }\n",
       "</style>\n",
       "<table border=\"1\" class=\"dataframe\">\n",
       "  <thead>\n",
       "    <tr style=\"text-align: right;\">\n",
       "      <th></th>\n",
       "      <th>f1-score (macro avg.)</th>\n",
       "      <th>model</th>\n",
       "      <th>run</th>\n",
       "    </tr>\n",
       "  </thead>\n",
       "  <tbody>\n",
       "    <tr>\n",
       "      <th>2</th>\n",
       "      <td>0.812918</td>\n",
       "      <td>xgboost</td>\n",
       "      <td>xgboost_run2</td>\n",
       "    </tr>\n",
       "    <tr>\n",
       "      <th>28</th>\n",
       "      <td>0.627432</td>\n",
       "      <td>celltypist_default</td>\n",
       "      <td>celltypist_default_run1</td>\n",
       "    </tr>\n",
       "    <tr>\n",
       "      <th>0</th>\n",
       "      <td>0.812979</td>\n",
       "      <td>xgboost</td>\n",
       "      <td>xgboost_run0</td>\n",
       "    </tr>\n",
       "    <tr>\n",
       "      <th>13</th>\n",
       "      <td>0.784686</td>\n",
       "      <td>linear</td>\n",
       "      <td>linear_run3</td>\n",
       "    </tr>\n",
       "    <tr>\n",
       "      <th>1</th>\n",
       "      <td>0.813049</td>\n",
       "      <td>xgboost</td>\n",
       "      <td>xgboost_run1</td>\n",
       "    </tr>\n",
       "  </tbody>\n",
       "</table>\n",
       "</div>"
      ],
      "text/plain": [
       "    f1-score (macro avg.)               model                      run\n",
       "2                0.812918             xgboost             xgboost_run2\n",
       "28               0.627432  celltypist_default  celltypist_default_run1\n",
       "0                0.812979             xgboost             xgboost_run0\n",
       "13               0.784686              linear              linear_run3\n",
       "1                0.813049             xgboost             xgboost_run1"
      ]
     },
     "execution_count": 6,
     "metadata": {},
     "output_type": "execute_result"
    }
   ],
   "source": [
    "model_comparision_df = pd.read_csv('model_comparision.csv', index_col=0)\n",
    "model_comparision_df[~model_comparision_df.model.isin(['xgboost_default', 'celltypist_default'])]\n",
    "model_comparision_df.sample(5)"
   ]
  },
  {
   "cell_type": "code",
   "execution_count": 28,
   "id": "e70bb3ac-8258-46d6-9e71-073193e03217",
   "metadata": {
    "tags": []
   },
   "outputs": [
    {
     "data": {
      "image/png": "[encoded data removed]",
      "text/plain": [
       "<Figure size 610x400 with 1 Axes>"
      ]
     },
     "metadata": {},
     "output_type": "display_data"
    }
   ],
   "source": [
    "fig, ax = plt.subplots(1, 1, figsize=(6.1, 4))\n",
    "\n",
    "ax = sns.barplot(\n",
    "    x='model',\n",
    "    y='f1-score (macro avg.)',\n",
    "    order=['celltypist', 'linear', 'tabnet', 'xgboost', 'MLP'],\n",
    "    errorbar='sd',\n",
    "    palette=['#9467bd', '#1f77b4', '#ff7f0e', '#ff7f0e', '#ff7f0e'],\n",
    "    data=model_comparision_df\n",
    ")\n",
    "ax.set_ylabel('F1-Score (macro avg.)')\n",
    "ax.set_xlabel('')\n",
    "ax.set_xticklabels(['CellTypist', 'Linear (ours)', 'TabNet', 'XGBoost', 'MLP'])\n",
    "ax.set_ylim(0., 1.)\n",
    "\n",
    "\n",
    "for p in ax.patches:\n",
    "    ax.annotate(format(p.get_height(), '.2f'), \n",
    "                (p.get_x() + p.get_width() / 2., p.get_height()), \n",
    "                ha = 'center', va = 'center', \n",
    "                xytext = (0, 9), \n",
    "                textcoords = 'offset points')\n",
    "\n",
    "\n",
    "fs = 6.5\n",
    "ax.annotate('nonlinear model', xy=(0.7, 1.45), xytext=(0.7, 1.55), xycoords='axes fraction', \n",
    "            fontsize=fs*1.5, ha='center', va='bottom',\n",
    "            bbox=dict(boxstyle='square', fc='white', color='k'),\n",
    "            arrowprops=dict(arrowstyle='-[, widthB=9., lengthB=1.', lw=1.5, color='k'))\n",
    "\n",
    "ax.annotate('more training data', xy=(0.6, 1.1), xytext=(0.6, 1.2), xycoords='axes fraction', \n",
    "            fontsize=fs*1.5, ha='center', va='bottom',\n",
    "            bbox=dict(boxstyle='square', fc='white', color='k'),\n",
    "            arrowprops=dict(arrowstyle='-[, widthB=12.8, lengthB=1.', lw=1.5, color='k'))\n",
    "\n",
    "ax.annotate('reference\\nmodel', xy=(0.1, 1.1), xytext=(0.1, 1.2), xycoords='axes fraction', \n",
    "            fontsize=fs*1.5, ha='center', va='bottom',\n",
    "            bbox=dict(boxstyle='square', fc='white', color='k'),\n",
    "            arrowprops=dict(arrowstyle='-[, widthB=2., lengthB=1.', lw=1.5, color='k'))\n",
    "\n",
    "plt.tight_layout()\n",
    "plt.savefig('/dss/dsshome1/04/di93zer/git/cellnet/figure-plots/figure1/model-comparision.pdf')\n",
    "plt.savefig('/dss/dsshome1/04/di93zer/git/cellnet/figure-plots/figure1/model-comparision.png', dpi=300)"
   ]
  },
  {
   "cell_type": "code",
   "execution_count": null,
   "id": "1c5526d0-0b06-4e04-be91-d376182ce4d6",
   "metadata": {
    "tags": []
   },
   "outputs": [],
   "source": []
  },
  {
   "cell_type": "markdown",
   "id": "ceceb461-dfc9-494d-87e8-0daa85d0715d",
   "metadata": {
    "tags": []
   },
   "source": [
    "## Grouped by bionetwork"
   ]
  },
  {
   "cell_type": "code",
   "execution_count": 56,
   "id": "0374854f-acdc-4434-8879-1568fb34bd70",
   "metadata": {
    "tags": []
   },
   "outputs": [],
   "source": [
    "# only do this for TabNet + Linear model for now"
   ]
  },
  {
   "cell_type": "code",
   "execution_count": null,
   "id": "2f4abb35-8425-4131-befb-b6fc2339d55f",
   "metadata": {
    "tags": []
   },
   "outputs": [],
   "source": [
    "preds_tabnet = eval_tabnet(\n",
    "    get_best_ckpts(LOGS_TABNET, [f'w_augment_{i}' for i in range(1, 6)]), DATA_PATH\n",
    ")"
   ]
  },
  {
   "cell_type": "code",
   "execution_count": null,
   "id": "fd53c34c-bb97-46a4-a1f2-fecc4cdfc440",
   "metadata": {
    "tags": []
   },
   "outputs": [],
   "source": [
    "preds_linear = eval_linear(\n",
    "    get_best_ckpts(LOGS_LINEAR, [f'version_{i}' for i in range(1, 5)]), DATA_PATH\n",
    ")"
   ]
  },
  {
   "cell_type": "code",
   "execution_count": 53,
   "id": "37e8dc27-5784-40ad-af79-31dbbbd0309d",
   "metadata": {
    "tags": []
   },
   "outputs": [],
   "source": [
    "tissue = tissue_general_mapping.loc[tissue_general].to_numpy().flatten()\n",
    "res = {'f1-score (macro avg.)': [], 'bionetwork': [], 'run': [], 'model': []}\n",
    "\n",
    "\n",
    "for model, preds in [('TabNet', preds_tabnet), ('Linear', preds_linear)]:\n",
    "    for i, y_pred in enumerate(preds):\n",
    "        y_pred_corr = correct_labels(y_true, y_pred, cell_type_hierarchy)\n",
    "        f1_score_per_bionetwork = macro_f1_per_group(y_true, y_pred, tissue, BIONETWORK_GROUPING)\n",
    "        res['f1-score (macro avg.)'] += f1_score_per_bionetwork.f1_score.tolist()\n",
    "        res['bionetwork'] += f1_score_per_bionetwork.group.tolist()\n",
    "        res['run'] += [f'run{i}'] * len(f1_score_per_bionetwork)\n",
    "        res['model'] += [model] * len(f1_score_per_bionetwork)\n",
    "        gc.collect()\n"
   ]
  },
  {
   "cell_type": "code",
   "execution_count": 54,
   "id": "c7c570f2-5fdc-4901-8f8c-01aff8448a60",
   "metadata": {
    "tags": []
   },
   "outputs": [],
   "source": [
    "df = pd.DataFrame(res)\n",
    "df.to_csv('linear_vs_tabnet_per_organ.csv')"
   ]
  },
  {
   "cell_type": "code",
   "execution_count": 30,
   "id": "d5cdfa1c-f36e-4a2e-bfc8-3fd3ab2d620c",
   "metadata": {
    "tags": []
   },
   "outputs": [],
   "source": [
    "shortend_bionetworks = {\n",
    "    'oral and craniofacial': 'craniofacial\\noral',\n",
    "    'blood and immune': 'blood\\nimmune',\n",
    "    'nervous system': 'nervous\\nsystem',\n",
    "    'musculoskeletal': 'musculo\\nskeletal',\n",
    "}"
   ]
  },
  {
   "cell_type": "code",
   "execution_count": 31,
   "id": "d67e705b-da57-4230-ab1d-084b695f7448",
   "metadata": {
    "tags": []
   },
   "outputs": [
    {
     "data": {
      "image/png": "[encoded data removed]",
      "text/plain": [
       "<Figure size 610x300 with 1 Axes>"
      ]
     },
     "metadata": {},
     "output_type": "display_data"
    }
   ],
   "source": [
    "fig, ax = plt.subplots(1, 1, figsize=(6.1, 3.))\n",
    "\n",
    "df = pd.read_csv('linear_vs_tabnet_per_organ.csv', index_col=0)\n",
    "df['bionetwork'] = (\n",
    "    df['bionetwork']\n",
    "    .str.replace('_', ' ')\n",
    "    .replace(shortend_bionetworks)\n",
    ")\n",
    "ax = sns.barplot(\n",
    "    x='bionetwork',\n",
    "    y='f1-score (macro avg.)',\n",
    "    hue='model',\n",
    "    hue_order=['Linear', 'TabNet'],\n",
    "    data=df[df.bionetwork != 'adipose'],\n",
    "    ax=ax,\n",
    ")\n",
    "ax.set_xlabel('')\n",
    "ax.set_ylabel('F1-score (macro avg.)')\n",
    "ax.tick_params(axis='x', labelrotation=70)\n",
    "ax.legend(title='')\n",
    "ax.set_ylim(0., 1.)\n",
    "\n",
    "plt.tight_layout()\n",
    "plt.savefig('/dss/dsshome1/04/di93zer/git/cellnet/figure-plots/figure1/organ_wise_performance.pdf')\n",
    "plt.savefig('/dss/dsshome1/04/di93zer/git/cellnet/figure-plots/figure1/organ_wise_performance.png', dpi=300)"
   ]
  },
  {
   "cell_type": "code",
   "execution_count": null,
   "id": "9d78e5dc-d26e-46be-bdde-5686747d8e7e",
   "metadata": {
    "tags": []
   },
   "outputs": [],
   "source": []
  },
  {
   "cell_type": "markdown",
   "id": "12c6474f-2fb0-4199-870b-892f0f324473",
   "metadata": {
    "tags": []
   },
   "source": [
    "# Lung only vs cross organ model"
   ]
  },
  {
   "cell_type": "code",
   "execution_count": 4,
   "id": "2aa03fef-b9ed-41fc-bdc1-c423bf9928b7",
   "metadata": {
    "tags": []
   },
   "outputs": [],
   "source": [
    "from statistics import mean, stdev\n",
    "from scipy.stats import ttest_ind"
   ]
  },
  {
   "cell_type": "code",
   "execution_count": 5,
   "id": "63399759-57b4-4324-8bb3-d12c8825dd6f",
   "metadata": {
    "tags": []
   },
   "outputs": [],
   "source": [
    "DATA_PATH = '/mnt/dssmcmlfs01/merlin_cxg_2023_05_15_sf-log1p_lung_only'"
   ]
  },
  {
   "cell_type": "code",
   "execution_count": 6,
   "id": "71334750-49de-4a75-970a-070b2f43b8e7",
   "metadata": {
    "tags": []
   },
   "outputs": [],
   "source": [
    "cell_type_hierarchy = np.load(join(DATA_PATH, 'cell_type_hierarchy/child_matrix.npy'))\n",
    "y_true = dd.read_parquet(join(DATA_PATH, 'test'), columns='cell_type').compute().to_numpy()\n",
    "tissue_general_mapping = pd.read_parquet(join(DATA_PATH, 'categorical_lookup/tissue_general.parquet'))\n",
    "tissue_general = dd.read_parquet(join(DATA_PATH, 'test'), columns='tissue_general').compute().to_numpy()"
   ]
  },
  {
   "cell_type": "code",
   "execution_count": 7,
   "id": "53a86396-81a9-4d8e-927d-b9ebdfd5c9ff",
   "metadata": {
    "tags": []
   },
   "outputs": [],
   "source": [
    "LOGS_CROSS_ORGAN = '/mnt/dssfs02/tb_logs/cxg_2023_05_15_tabnet/default'\n",
    "LOGS_LUNG_ONLY = '/mnt/dssfs02/tb_logs/cxg_2023_05_15_lung_only_tabnet/default'\n",
    "LOGS_CROSS_ORGAN_LINEAR = '/mnt/dssfs02/tb_logs/cxg_2023_05_15_linear/default'\n",
    "LOGS_LUNG_ONLY_LINEAR = '/mnt/dssfs02/tb_logs/cxg_2023_05_15_lung_only_linear/default'\n",
    "\n",
    "ckpts_cross_organ = get_best_ckpts(LOGS_CROSS_ORGAN, [f'no_augment_{i}' for i in range(1, 6)])\n",
    "ckpts_lung_only = get_best_ckpts(LOGS_LUNG_ONLY, [f'no_augment_{i}' for i in range(1, 6)])\n",
    "ckpts_cross_organ_linear = get_best_ckpts(LOGS_CROSS_ORGAN_LINEAR, [f'version_{i}' for i in range(1, 5)])\n",
    "ckpts_lung_only_linear = get_best_ckpts(LOGS_LUNG_ONLY_LINEAR, [f'version_{i}' for i in range(1, 6)])"
   ]
  },
  {
   "cell_type": "code",
   "execution_count": null,
   "id": "d71319ed-fc29-4502-84ba-c81f25ef57ee",
   "metadata": {
    "tags": []
   },
   "outputs": [],
   "source": [
    "preds_cross_organ = eval_tabnet(ckpts_cross_organ, DATA_PATH)"
   ]
  },
  {
   "cell_type": "code",
   "execution_count": null,
   "id": "1f0b6c20-b897-48d6-9ccb-00f80a7e74f1",
   "metadata": {
    "tags": []
   },
   "outputs": [],
   "source": [
    "preds_cross_organ_linear = eval_linear(ckpts_cross_organ_linear, DATA_PATH)"
   ]
  },
  {
   "cell_type": "code",
   "execution_count": null,
   "id": "26214f3d-9efb-4656-9c9a-55ba403193aa",
   "metadata": {
    "tags": []
   },
   "outputs": [],
   "source": [
    "preds_lung_only = eval_tabnet(ckpts_lung_only, DATA_PATH)"
   ]
  },
  {
   "cell_type": "code",
   "execution_count": null,
   "id": "d07bb50c-bdb5-4939-821f-68c37cd93464",
   "metadata": {
    "tags": []
   },
   "outputs": [],
   "source": [
    "preds_lung_only_linear = eval_linear(ckpts_lung_only_linear, DATA_PATH)"
   ]
  },
  {
   "cell_type": "code",
   "execution_count": 12,
   "id": "fc449c35-a686-4703-ac84-8b5b53bc1205",
   "metadata": {
    "tags": []
   },
   "outputs": [
    {
     "name": "stdout",
     "output_type": "stream",
     "text": [
      "0.7062 +/- 0.0122\n"
     ]
    }
   ],
   "source": [
    "f1_scores_cross_organ = []\n",
    "\n",
    "for y_pred in preds_cross_organ:\n",
    "    y_pred_corr = correct_labels(y_true, y_pred, cell_type_hierarchy)\n",
    "    f1_scores_cross_organ.append(\n",
    "        float(pd.DataFrame(classification_report(\n",
    "            y_true, \n",
    "            y_pred_corr, \n",
    "            labels=np.unique(y_true),\n",
    "            zero_division=0.,\n",
    "            output_dict=True\n",
    "        )).T.loc['macro avg', 'f1-score'])\n",
    "    )\n",
    "\n",
    "print(f'{mean(f1_scores_cross_organ):.4f} +/- {stdev(f1_scores_cross_organ):.4f}')"
   ]
  },
  {
   "cell_type": "code",
   "execution_count": 13,
   "id": "438f5ff7-aeda-48d4-9758-014764d61c6f",
   "metadata": {
    "tags": []
   },
   "outputs": [
    {
     "name": "stdout",
     "output_type": "stream",
     "text": [
      "0.5291 +/- 0.0041\n"
     ]
    }
   ],
   "source": [
    "f1_scores_cross_organ_linear = []\n",
    "\n",
    "for y_pred in preds_cross_organ_linear:\n",
    "    y_pred_corr = correct_labels(y_true, y_pred, cell_type_hierarchy)\n",
    "    f1_scores_cross_organ_linear.append(\n",
    "        float(pd.DataFrame(classification_report(\n",
    "            y_true, \n",
    "            y_pred_corr, \n",
    "            labels=np.unique(y_true),\n",
    "            zero_division=0.,\n",
    "            output_dict=True\n",
    "        )).T.loc['macro avg', 'f1-score'])\n",
    "    )\n",
    "\n",
    "print(f'{mean(f1_scores_cross_organ_linear):.4f} +/- {stdev(f1_scores_cross_organ_linear):.4f}')"
   ]
  },
  {
   "cell_type": "code",
   "execution_count": 14,
   "id": "dd1991b0-29f2-4dc0-a6a3-8688d8938982",
   "metadata": {
    "tags": []
   },
   "outputs": [
    {
     "name": "stdout",
     "output_type": "stream",
     "text": [
      "0.7220 +/- 0.0078\n"
     ]
    }
   ],
   "source": [
    "f1_scores_lung_only = []\n",
    "\n",
    "for y_pred in preds_lung_only:\n",
    "    y_pred_corr = correct_labels(y_true, y_pred, cell_type_hierarchy)\n",
    "    f1_scores_lung_only.append(\n",
    "        float(pd.DataFrame(classification_report(\n",
    "            y_true, \n",
    "            y_pred_corr, \n",
    "            labels=np.unique(y_true),\n",
    "            zero_division=0.,\n",
    "            output_dict=True\n",
    "        )).T.loc['macro avg', 'f1-score'])\n",
    "    )\n",
    "\n",
    "print(f'{mean(f1_scores_lung_only):.4f} +/- {stdev(f1_scores_lung_only):.4f}')"
   ]
  },
  {
   "cell_type": "code",
   "execution_count": 15,
   "id": "cac0476d-2776-4538-8958-73e58ea92d6f",
   "metadata": {
    "tags": []
   },
   "outputs": [
    {
     "name": "stdout",
     "output_type": "stream",
     "text": [
      "0.7146 +/- 0.0040\n"
     ]
    }
   ],
   "source": [
    "f1_scores_lung_only_linear = []\n",
    "\n",
    "for y_pred in preds_lung_only_linear:\n",
    "    y_pred_corr = correct_labels(y_true, y_pred, cell_type_hierarchy)\n",
    "    f1_scores_lung_only_linear.append(\n",
    "        float(pd.DataFrame(classification_report(\n",
    "            y_true, \n",
    "            y_pred_corr, \n",
    "            labels=np.unique(y_true),\n",
    "            zero_division=0.,\n",
    "            output_dict=True\n",
    "        )).T.loc['macro avg', 'f1-score'])\n",
    "    )\n",
    "\n",
    "print(f'{mean(f1_scores_lung_only_linear):.4f} +/- {stdev(f1_scores_lung_only_linear):.4f}')"
   ]
  },
  {
   "cell_type": "code",
   "execution_count": 16,
   "id": "169e7d10-3a3f-4842-9be5-007aa4895b19",
   "metadata": {
    "tags": []
   },
   "outputs": [
    {
     "name": "stdout",
     "output_type": "stream",
     "text": [
      "p-value: 0.0403\n"
     ]
    }
   ],
   "source": [
    "print(f'p-value: {ttest_ind(f1_scores_lung_only, f1_scores_cross_organ).pvalue:.4f}')"
   ]
  },
  {
   "cell_type": "code",
   "execution_count": 21,
   "id": "aa9c6d66-3a69-4877-8516-c3b75ee20339",
   "metadata": {
    "tags": []
   },
   "outputs": [
    {
     "data": {
      "image/png": "[encoded data removed]",
      "text/plain": [
       "<Figure size 540x270 with 1 Axes>"
      ]
     },
     "metadata": {},
     "output_type": "display_data"
    }
   ],
   "source": [
    "df_cross_organ_vs_lung = pd.DataFrame({\n",
    "    'F1-score (macro avg.)': (\n",
    "        f1_scores_cross_organ + \n",
    "        f1_scores_lung_only + \n",
    "        f1_scores_cross_organ_linear + \n",
    "        f1_scores_lung_only_linear\n",
    "    ),\n",
    "    'training': (\n",
    "        ['cross-organ'] * len(f1_scores_cross_organ) + \n",
    "        ['organ-specfic\\n (lung)'] * len(f1_scores_lung_only) +\n",
    "        ['cross-organ'] * len(f1_scores_cross_organ_linear) + \n",
    "        ['organ-specfic\\n (lung)'] * len(f1_scores_lung_only_linear)\n",
    "    ),\n",
    "    'model': (\n",
    "        ['TabNet'] * len(f1_scores_cross_organ) + \n",
    "        ['TabNet'] * len(f1_scores_lung_only) +\n",
    "        ['Linear'] * len(f1_scores_cross_organ_linear) + \n",
    "        ['Linear'] * len(f1_scores_lung_only_linear)\n",
    "    )\n",
    "}).sort_values('training', ascending=False)\n",
    "\n",
    "\n",
    "fig, ax = plt.subplots(1, 1, figsize=[5.4, 2.7])\n",
    "sns.lineplot(\n",
    "    x='training',\n",
    "    y='F1-score (macro avg.)',\n",
    "    hue='model',\n",
    "    hue_order=['Linear', 'TabNet'],\n",
    "    data=df_cross_organ_vs_lung,\n",
    "    marker='o',\n",
    "    markersize=8,\n",
    "    sort=False,\n",
    "    ax=ax\n",
    ")\n",
    "# ax.set_ylim(0.4, 0.9)\n",
    "ax.set_xlim([-0.2, 1.2])\n",
    "ax.set_xlabel('')\n",
    "ax.set_yticks(np.linspace(0.52, 0.72, 6))\n",
    "ax.legend(title='')\n",
    "\n",
    "plt.tight_layout()\n",
    "plt.savefig('/dss/dsshome1/04/di93zer/git/cellnet/figure-plots/figure2/cross_organ_vs_lung_only.pdf')\n",
    "plt.savefig('/dss/dsshome1/04/di93zer/git/cellnet/figure-plots/figure2/cross_organ_vs_lung_only.png', dpi=300)"
   ]
  },
  {
   "cell_type": "code",
   "execution_count": null,
   "id": "f96208c5-fb06-4a29-8a9c-92fd57142b14",
   "metadata": {},
   "outputs": [],
   "source": []
  }
 ],
 "metadata": {
  "kernelspec": {
   "display_name": "Python 3 (ipykernel)",
   "language": "python",
   "name": "python3"
  },
  "language_info": {
   "codemirror_mode": {
    "name": "ipython",
    "version": 3
   },
   "file_extension": ".py",
   "mimetype": "text/x-python",
   "name": "python",
   "nbconvert_exporter": "python",
   "pygments_lexer": "ipython3",
   "version": "3.8.10"
  }
 },
 "nbformat": 4,
 "nbformat_minor": 5
}
