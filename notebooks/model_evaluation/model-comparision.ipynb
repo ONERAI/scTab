{
 "cells": [
  {
   "cell_type": "code",
   "execution_count": 1,
   "id": "4c1eee3b-f179-480f-ae47-d5e755eb01fa",
   "metadata": {
    "tags": []
   },
   "outputs": [
    {
     "name": "stdout",
     "output_type": "stream",
     "text": [
      "Obtaining file:///dss/dsshome1/04/di93zer/git/cellnet\n",
      "  Preparing metadata (setup.py) ... \u001b[?25ldone\n",
      "\u001b[?25hInstalling collected packages: cellnet\n",
      "  Running setup.py develop for cellnet\n",
      "Successfully installed cellnet\n",
      "\n",
      "\u001b[1m[\u001b[0m\u001b[34;49mnotice\u001b[0m\u001b[1;39;49m]\u001b[0m\u001b[39;49m A new release of pip is available: \u001b[0m\u001b[31;49m23.1.1\u001b[0m\u001b[39;49m -> \u001b[0m\u001b[32;49m24.0\u001b[0m\n",
      "\u001b[1m[\u001b[0m\u001b[34;49mnotice\u001b[0m\u001b[1;39;49m]\u001b[0m\u001b[39;49m To update, run: \u001b[0m\u001b[32;49mpython3 -m pip install --upgrade pip\u001b[0m\n"
     ]
    }
   ],
   "source": [
    "!pip install -e /dss/dsshome1/04/di93zer/git/cellnet --no-deps"
   ]
  },
  {
   "cell_type": "code",
   "execution_count": null,
   "id": "e5d5f16a-0644-485f-bc41-47515f0102e1",
   "metadata": {},
   "outputs": [],
   "source": [
    "!pip install celltypist==1.5.3"
   ]
  },
  {
   "cell_type": "code",
   "execution_count": 5,
   "id": "b5233885-5ceb-455e-97f1-b8370cceaa2f",
   "metadata": {
    "tags": []
   },
   "outputs": [
    {
     "name": "stderr",
     "output_type": "stream",
     "text": [
      "/usr/local/lib/python3.8/dist-packages/tqdm/auto.py:21: TqdmWarning: IProgress not found. Please update jupyter and ipywidgets. See https://ipywidgets.readthedocs.io/en/stable/user_install.html\n",
      "  from .autonotebook import tqdm as notebook_tqdm\n",
      "/usr/local/lib/python3.8/dist-packages/merlin/dtypes/mappings/tf.py:52: UserWarning: Tensorflow dtype mappings did not load successfully due to an error: No module named 'tensorflow'\n",
      "  warn(f\"Tensorflow dtype mappings did not load successfully due to an error: {exc.msg}\")\n"
     ]
    }
   ],
   "source": [
    "import os\n",
    "import re\n",
    "import gc\n",
    "from os.path import join\n",
    "\n",
    "import anndata\n",
    "import numpy as np\n",
    "import pandas as pd\n",
    "import xgboost as xgb\n",
    "import dask.dataframe as dd\n",
    "import pandas as pd\n",
    "import lightning.pytorch as pl\n",
    "import seaborn as sns\n",
    "import matplotlib.pyplot as plt\n",
    "\n",
    "from scipy.sparse import csr_matrix\n",
    "from sklearn.metrics import classification_report\n",
    "from cellnet.estimators import EstimatorCellTypeClassifier\n",
    "from cellnet.models import TabnetClassifier, LinearClassifier, MLPClassifier\n",
    "from utils import correct_labels, get_best_ckpts, macro_f1_per_group, BIONETWORK_GROUPING"
   ]
  },
  {
   "cell_type": "code",
   "execution_count": 6,
   "id": "2de6e8f5-c21c-4b3d-a070-f60e6286a48c",
   "metadata": {
    "tags": []
   },
   "outputs": [],
   "source": [
    "from predictions import (\n",
    "    get_count_matrix,\n",
    "    eval_tabnet,\n",
    "    eval_linear,\n",
    "    eval_xgboost,\n",
    "    eval_mlp,\n",
    "    eval_celltypist\n",
    ")"
   ]
  },
  {
   "cell_type": "code",
   "execution_count": null,
   "id": "6a43aa46-7916-4a19-9151-c35345b29be5",
   "metadata": {},
   "outputs": [],
   "source": []
  },
  {
   "cell_type": "markdown",
   "id": "e527a9dc-8538-4868-afaf-96e8992e4ca4",
   "metadata": {
    "tags": []
   },
   "source": [
    "# Evaluate performance"
   ]
  },
  {
   "cell_type": "code",
   "execution_count": 3,
   "id": "cc1a1313-945d-4c5a-98ea-25210da899e3",
   "metadata": {
    "tags": []
   },
   "outputs": [],
   "source": [
    "DATA_PATH = '/mnt/dssmcmlfs01/merlin_cxg_2023_05_15_sf-log1p'\n",
    "\n",
    "LOGS_TABNET = '/mnt/dssfs02/tb_logs/cxg_2023_05_15_tabnet/default'\n",
    "LOGS_LINEAR = '/mnt/dssfs02/tb_logs/juwles/cxg_2023_05_15_linear/default'\n",
    "LOGS_XGBOOST = '/mnt/dssfs02/tb_logs/cxg_2023_05_15_xgboost'\n",
    "LOGS_MLP = '/mnt/dssfs02/tb_logs/cxg_2023_05_15_mlp/default'\n",
    "LOGS_CELLTYPIST = '/mnt/dssfs02/tb_logs/cxg_2023_05_15_celltypist'\n",
    "\n",
    "\n",
    "CKPTS = {\n",
    "    'xgboost': [join(LOGS_XGBOOST, f'version_20_{i}.json') for i in range(1, 6)],\n",
    "    'xgboost_default': [join(LOGS_XGBOOST, f'default_params_{i}.json') for i in range(1, 5)],\n",
    "    'tabnet': get_best_ckpts(LOGS_TABNET, [f'w_augment_{i}' for i in range(1, 6)]),\n",
    "    'linear': get_best_ckpts(LOGS_LINEAR, [f'version_{i}' for i in range(1, 5)]),\n",
    "    'MLP': get_best_ckpts(LOGS_MLP, [f'version_{i}' for i in range(3, 8)]),\n",
    "    'celltypist': [join(LOGS_CELLTYPIST, f'model_1500000_cells_run{i}.pkl') for i in range(1, 5)],\n",
    "    'celltypist_default': [join(LOGS_CELLTYPIST, f'model_1000000_cells_with_mean_run{i}.pkl') for i in range(1, 5)]\n",
    "}"
   ]
  },
  {
   "cell_type": "code",
   "execution_count": 4,
   "id": "ff97fd35-2255-47a4-a41c-4092862a1e90",
   "metadata": {
    "tags": []
   },
   "outputs": [],
   "source": [
    "cell_type_hierarchy = np.load(join(DATA_PATH, 'cell_type_hierarchy/child_matrix.npy'))\n",
    "y_true = dd.read_parquet(join(DATA_PATH, 'test'), columns='cell_type').compute().to_numpy()\n",
    "tissue_general_mapping = pd.read_parquet(join(DATA_PATH, 'categorical_lookup/tissue_general.parquet'))\n",
    "tissue_general = dd.read_parquet(join(DATA_PATH, 'test'), columns='tissue_general').compute().to_numpy()"
   ]
  },
  {
   "cell_type": "markdown",
   "id": "d7e81359-7142-4313-a601-5897daccb8e6",
   "metadata": {
    "tags": []
   },
   "source": [
    "## Overall"
   ]
  },
  {
   "cell_type": "code",
   "execution_count": 5,
   "id": "613bc3e8-33bf-489a-a9c4-d33e55a72eaa",
   "metadata": {
    "tags": []
   },
   "outputs": [],
   "source": [
    "res = pd.read_csv('model_eval_cache/model_comparision.csv', index_col=0)"
   ]
  },
  {
   "cell_type": "code",
   "execution_count": 6,
   "id": "9830a24c-f2b4-4f9c-8d54-4b80854fffee",
   "metadata": {
    "tags": []
   },
   "outputs": [],
   "source": [
    "results = {'f1-score (macro avg.)': [], 'model': [], 'run': []}\n",
    "\n",
    "\n",
    "for model, ckpts in CKPTS.items():\n",
    "    if model not in res.model.tolist():\n",
    "        if model == 'tabnet':\n",
    "            preds = eval_tabnet(ckpts, DATA_PATH)\n",
    "        elif model == 'linear':\n",
    "            preds = eval_linear(ckpts, DATA_PATH)\n",
    "        elif model == 'xgboost':\n",
    "            preds = eval_xgboost(ckpts, DATA_PATH)\n",
    "        elif model == 'xgboost_default':\n",
    "            preds = eval_xgboost(ckpts, DATA_PATH)\n",
    "        elif model == 'MLP':\n",
    "            preds = eval_mlp(ckpts, DATA_PATH)\n",
    "        elif model == 'celltypist':\n",
    "            preds = eval_celltypist(ckpts, DATA_PATH)\n",
    "        elif model == 'celltypist_default':\n",
    "            preds = eval_celltypist(ckpts, DATA_PATH)\n",
    "        else:\n",
    "            raise ValueError\n",
    "\n",
    "        for run, y_pred in enumerate(preds):\n",
    "            y_pred_corr = correct_labels(y_true, y_pred, cell_type_hierarchy)\n",
    "            clf_report = pd.DataFrame(classification_report(y_true, y_pred_corr, output_dict=True)).T\n",
    "            results['f1-score (macro avg.)'].append(clf_report.loc['macro avg', 'f1-score'])\n",
    "            results['model'].append(model)\n",
    "            results['run'].append(f'{model}_run{run}')\n"
   ]
  },
  {
   "cell_type": "code",
   "execution_count": 7,
   "id": "e53dcde6-81af-4ba6-9931-5c1604be8411",
   "metadata": {
    "tags": []
   },
   "outputs": [],
   "source": [
    "res = pd.concat([res, pd.DataFrame(results)]).reset_index(drop=True)"
   ]
  },
  {
   "cell_type": "code",
   "execution_count": 8,
   "id": "1e490fb3-d4b3-45c0-8fa7-69f2e141a2d8",
   "metadata": {
    "tags": []
   },
   "outputs": [],
   "source": [
    "res.to_csv('model_eval_cache/model_comparision.csv')"
   ]
  },
  {
   "cell_type": "code",
   "execution_count": 9,
   "id": "43f52bff-d5c6-47a7-b45b-7aa6f28d0c62",
   "metadata": {
    "tags": []
   },
   "outputs": [
    {
     "data": {
      "text/html": [
       "<div>\n",
       "<style scoped>\n",
       "    .dataframe tbody tr th:only-of-type {\n",
       "        vertical-align: middle;\n",
       "    }\n",
       "\n",
       "    .dataframe tbody tr th {\n",
       "        vertical-align: top;\n",
       "    }\n",
       "\n",
       "    .dataframe thead th {\n",
       "        text-align: right;\n",
       "    }\n",
       "</style>\n",
       "<table border=\"1\" class=\"dataframe\">\n",
       "  <thead>\n",
       "    <tr style=\"text-align: right;\">\n",
       "      <th></th>\n",
       "      <th>mean</th>\n",
       "      <th>std</th>\n",
       "    </tr>\n",
       "    <tr>\n",
       "      <th>model</th>\n",
       "      <th></th>\n",
       "      <th></th>\n",
       "    </tr>\n",
       "  </thead>\n",
       "  <tbody>\n",
       "    <tr>\n",
       "      <th>MLP</th>\n",
       "      <td>0.7971</td>\n",
       "      <td>0.0012</td>\n",
       "    </tr>\n",
       "    <tr>\n",
       "      <th>celltypist</th>\n",
       "      <td>0.7304</td>\n",
       "      <td>0.0015</td>\n",
       "    </tr>\n",
       "    <tr>\n",
       "      <th>celltypist_default</th>\n",
       "      <td>0.6258</td>\n",
       "      <td>0.0036</td>\n",
       "    </tr>\n",
       "    <tr>\n",
       "      <th>linear</th>\n",
       "      <td>0.7848</td>\n",
       "      <td>0.0001</td>\n",
       "    </tr>\n",
       "    <tr>\n",
       "      <th>tabnet</th>\n",
       "      <td>0.8295</td>\n",
       "      <td>0.0007</td>\n",
       "    </tr>\n",
       "    <tr>\n",
       "      <th>xgboost</th>\n",
       "      <td>0.8127</td>\n",
       "      <td>0.0005</td>\n",
       "    </tr>\n",
       "    <tr>\n",
       "      <th>xgboost_default</th>\n",
       "      <td>0.5855</td>\n",
       "      <td>0.0112</td>\n",
       "    </tr>\n",
       "  </tbody>\n",
       "</table>\n",
       "</div>"
      ],
      "text/plain": [
       "                      mean     std\n",
       "model                             \n",
       "MLP                 0.7971  0.0012\n",
       "celltypist          0.7304  0.0015\n",
       "celltypist_default  0.6258  0.0036\n",
       "linear              0.7848  0.0001\n",
       "tabnet              0.8295  0.0007\n",
       "xgboost             0.8127  0.0005\n",
       "xgboost_default     0.5855  0.0112"
      ]
     },
     "execution_count": 9,
     "metadata": {},
     "output_type": "execute_result"
    }
   ],
   "source": [
    "(\n",
    "    res\n",
    "    .groupby('model')['f1-score (macro avg.)']\n",
    "    .aggregate(['mean', 'std'])\n",
    "    .applymap(\"{0:.4f}\".format)\n",
    ")"
   ]
  },
  {
   "cell_type": "code",
   "execution_count": 10,
   "id": "f30b22fc-7f36-4520-9af5-f135abfe5dfa",
   "metadata": {
    "tags": []
   },
   "outputs": [
    {
     "data": {
      "text/html": [
       "<div>\n",
       "<style scoped>\n",
       "    .dataframe tbody tr th:only-of-type {\n",
       "        vertical-align: middle;\n",
       "    }\n",
       "\n",
       "    .dataframe tbody tr th {\n",
       "        vertical-align: top;\n",
       "    }\n",
       "\n",
       "    .dataframe thead th {\n",
       "        text-align: right;\n",
       "    }\n",
       "</style>\n",
       "<table border=\"1\" class=\"dataframe\">\n",
       "  <thead>\n",
       "    <tr style=\"text-align: right;\">\n",
       "      <th></th>\n",
       "      <th>mean</th>\n",
       "      <th>var</th>\n",
       "    </tr>\n",
       "    <tr>\n",
       "      <th>model</th>\n",
       "      <th></th>\n",
       "      <th></th>\n",
       "    </tr>\n",
       "  </thead>\n",
       "  <tbody>\n",
       "    <tr>\n",
       "      <th>linear</th>\n",
       "      <td>0.78483384</td>\n",
       "      <td>0.00000002</td>\n",
       "    </tr>\n",
       "    <tr>\n",
       "      <th>tabnet</th>\n",
       "      <td>0.82949732</td>\n",
       "      <td>0.00000055</td>\n",
       "    </tr>\n",
       "  </tbody>\n",
       "</table>\n",
       "</div>"
      ],
      "text/plain": [
       "              mean         var\n",
       "model                         \n",
       "linear  0.78483384  0.00000002\n",
       "tabnet  0.82949732  0.00000055"
      ]
     },
     "execution_count": 10,
     "metadata": {},
     "output_type": "execute_result"
    }
   ],
   "source": [
    "(\n",
    "    res[res.model.isin(['linear', 'tabnet'])]\n",
    "    .groupby('model')['f1-score (macro avg.)']\n",
    "    .aggregate(['mean', 'var'])\n",
    "    .applymap(\"{0:.8f}\".format)\n",
    ")"
   ]
  },
  {
   "cell_type": "code",
   "execution_count": 11,
   "id": "0b860740-2037-4075-9bfd-144f9d137948",
   "metadata": {
    "tags": []
   },
   "outputs": [
    {
     "data": {
      "text/plain": [
       "'0.0447±0.0008'"
      ]
     },
     "execution_count": 11,
     "metadata": {},
     "output_type": "execute_result"
    }
   ],
   "source": [
    "f'{0.82949732 - 0.78483384:.4f}±{(0.00000055 + 0.00000002)**0.5:.4f}'"
   ]
  },
  {
   "cell_type": "code",
   "execution_count": null,
   "id": "f2f986ad-677a-4bb4-b180-a28412622684",
   "metadata": {
    "tags": []
   },
   "outputs": [],
   "source": []
  },
  {
   "cell_type": "markdown",
   "id": "171af6e5-56a5-4072-b777-8a9b76ee44dc",
   "metadata": {
    "tags": []
   },
   "source": [
    "# Plot model comparision"
   ]
  },
  {
   "cell_type": "code",
   "execution_count": 12,
   "id": "56a1c2de-5d1f-4f72-8dfc-1e20a45a29c0",
   "metadata": {
    "tags": []
   },
   "outputs": [],
   "source": [
    "import pandas as pd\n",
    "import seaborn as sns\n",
    "import matplotlib.pyplot as plt"
   ]
  },
  {
   "cell_type": "code",
   "execution_count": 13,
   "id": "403970d9-9944-4175-8930-c7d3facbacb3",
   "metadata": {
    "tags": []
   },
   "outputs": [
    {
     "data": {
      "text/html": [
       "<div>\n",
       "<style scoped>\n",
       "    .dataframe tbody tr th:only-of-type {\n",
       "        vertical-align: middle;\n",
       "    }\n",
       "\n",
       "    .dataframe tbody tr th {\n",
       "        vertical-align: top;\n",
       "    }\n",
       "\n",
       "    .dataframe thead th {\n",
       "        text-align: right;\n",
       "    }\n",
       "</style>\n",
       "<table border=\"1\" class=\"dataframe\">\n",
       "  <thead>\n",
       "    <tr style=\"text-align: right;\">\n",
       "      <th></th>\n",
       "      <th>f1-score (macro avg.)</th>\n",
       "      <th>model</th>\n",
       "      <th>run</th>\n",
       "    </tr>\n",
       "  </thead>\n",
       "  <tbody>\n",
       "    <tr>\n",
       "      <th>1</th>\n",
       "      <td>0.813049</td>\n",
       "      <td>xgboost</td>\n",
       "      <td>xgboost_run1</td>\n",
       "    </tr>\n",
       "    <tr>\n",
       "      <th>0</th>\n",
       "      <td>0.812979</td>\n",
       "      <td>xgboost</td>\n",
       "      <td>xgboost_run0</td>\n",
       "    </tr>\n",
       "    <tr>\n",
       "      <th>10</th>\n",
       "      <td>0.784772</td>\n",
       "      <td>linear</td>\n",
       "      <td>linear_run0</td>\n",
       "    </tr>\n",
       "    <tr>\n",
       "      <th>18</th>\n",
       "      <td>0.795423</td>\n",
       "      <td>MLP</td>\n",
       "      <td>MLP_run4</td>\n",
       "    </tr>\n",
       "    <tr>\n",
       "      <th>29</th>\n",
       "      <td>0.628721</td>\n",
       "      <td>celltypist_default</td>\n",
       "      <td>celltypist_default_run2</td>\n",
       "    </tr>\n",
       "  </tbody>\n",
       "</table>\n",
       "</div>"
      ],
      "text/plain": [
       "    f1-score (macro avg.)               model                      run\n",
       "1                0.813049             xgboost             xgboost_run1\n",
       "0                0.812979             xgboost             xgboost_run0\n",
       "10               0.784772              linear              linear_run0\n",
       "18               0.795423                 MLP                 MLP_run4\n",
       "29               0.628721  celltypist_default  celltypist_default_run2"
      ]
     },
     "execution_count": 13,
     "metadata": {},
     "output_type": "execute_result"
    }
   ],
   "source": [
    "model_comparision_df = pd.read_csv('model_eval_cache/model_comparision.csv', index_col=0)\n",
    "model_comparision_df[~model_comparision_df.model.isin(['xgboost_default', 'celltypist_default'])]\n",
    "model_comparision_df.sample(5)"
   ]
  },
  {
   "cell_type": "code",
   "execution_count": 14,
   "id": "e70bb3ac-8258-46d6-9e71-073193e03217",
   "metadata": {
    "tags": []
   },
   "outputs": [
    {
     "data": {
      "image/png": "[encoded data removed]",
      "text/plain": [
       "<Figure size 610x400 with 1 Axes>"
      ]
     },
     "metadata": {},
     "output_type": "display_data"
    }
   ],
   "source": [
    "fig, ax = plt.subplots(1, 1, figsize=(6.1, 4))\n",
    "\n",
    "ax = sns.barplot(\n",
    "    x='model',\n",
    "    y='f1-score (macro avg.)',\n",
    "    order=['celltypist', 'linear', 'tabnet', 'xgboost', 'MLP'],\n",
    "    errorbar='sd',\n",
    "    palette=['#9467bd', '#1f77b4', '#ff7f0e', '#ff7f0e', '#ff7f0e'],\n",
    "    data=model_comparision_df\n",
    ")\n",
    "ax.set_ylabel('F1-Score (macro avg.)')\n",
    "ax.set_xlabel('')\n",
    "ax.set_xticklabels(['CellTypist', 'Optimized linear', 'scTab', 'XGBoost', 'MLP'])\n",
    "ax.set_ylim(0., 1.)\n",
    "\n",
    "\n",
    "for p in ax.patches:\n",
    "    ax.annotate(format(p.get_height(), '.2f'), \n",
    "                (p.get_x() + p.get_width() / 2., p.get_height()), \n",
    "                ha = 'center', va = 'center', \n",
    "                xytext = (0, 9), \n",
    "                textcoords = 'offset points')\n",
    "\n",
    "\n",
    "fs = 6.5\n",
    "ax.annotate('Nonlinear model', xy=(0.7, 1.45), xytext=(0.7, 1.55), xycoords='axes fraction', \n",
    "            fontsize=fs*1.5, ha='center', va='bottom',\n",
    "            bbox=dict(boxstyle='square', fc='white', color='k'),\n",
    "            arrowprops=dict(arrowstyle='-[, widthB=9., lengthB=1.', lw=1.5, color='k'))\n",
    "\n",
    "ax.annotate('More training data', xy=(0.6, 1.1), xytext=(0.6, 1.2), xycoords='axes fraction', \n",
    "            fontsize=fs*1.5, ha='center', va='bottom',\n",
    "            bbox=dict(boxstyle='square', fc='white', color='k'),\n",
    "            arrowprops=dict(arrowstyle='-[, widthB=12.8, lengthB=1.', lw=1.5, color='k'))\n",
    "\n",
    "ax.annotate('Reference\\nmodel', xy=(0.1, 1.1), xytext=(0.1, 1.2), xycoords='axes fraction', \n",
    "            fontsize=fs*1.5, ha='center', va='bottom',\n",
    "            bbox=dict(boxstyle='square', fc='white', color='k'),\n",
    "            arrowprops=dict(arrowstyle='-[, widthB=2., lengthB=1.', lw=1.5, color='k'))\n",
    "\n",
    "plt.tight_layout()\n",
    "plt.savefig('/dss/dsshome1/04/di93zer/git/cellnet/figure-plots/figure1/model-comparision.pdf')\n",
    "plt.savefig('/dss/dsshome1/04/di93zer/git/cellnet/figure-plots/figure1/model-comparision.png', dpi=300)"
   ]
  },
  {
   "cell_type": "code",
   "execution_count": null,
   "id": "1c5526d0-0b06-4e04-be91-d376182ce4d6",
   "metadata": {
    "tags": []
   },
   "outputs": [],
   "source": []
  },
  {
   "cell_type": "markdown",
   "id": "ceceb461-dfc9-494d-87e8-0daa85d0715d",
   "metadata": {
    "tags": []
   },
   "source": [
    "## Grouped by bionetwork"
   ]
  },
  {
   "cell_type": "code",
   "execution_count": 15,
   "id": "0374854f-acdc-4434-8879-1568fb34bd70",
   "metadata": {
    "tags": []
   },
   "outputs": [],
   "source": [
    "# only do this for TabNet + Linear model for now"
   ]
  },
  {
   "cell_type": "code",
   "execution_count": null,
   "id": "2f4abb35-8425-4131-befb-b6fc2339d55f",
   "metadata": {
    "tags": []
   },
   "outputs": [],
   "source": [
    "preds_tabnet = eval_tabnet(\n",
    "    get_best_ckpts(LOGS_TABNET, [f'w_augment_{i}' for i in range(1, 6)]), DATA_PATH\n",
    ")"
   ]
  },
  {
   "cell_type": "code",
   "execution_count": null,
   "id": "fd53c34c-bb97-46a4-a1f2-fecc4cdfc440",
   "metadata": {
    "tags": []
   },
   "outputs": [],
   "source": [
    "preds_linear = eval_linear(\n",
    "    get_best_ckpts(LOGS_LINEAR, [f'version_{i}' for i in range(1, 5)]), DATA_PATH\n",
    ")"
   ]
  },
  {
   "cell_type": "code",
   "execution_count": 53,
   "id": "37e8dc27-5784-40ad-af79-31dbbbd0309d",
   "metadata": {
    "tags": []
   },
   "outputs": [],
   "source": [
    "tissue = tissue_general_mapping.loc[tissue_general].to_numpy().flatten()\n",
    "res = {'f1-score (macro avg.)': [], 'bionetwork': [], 'run': [], 'model': []}\n",
    "\n",
    "\n",
    "for model, preds in [('TabNet', preds_tabnet), ('Linear', preds_linear)]:\n",
    "    for i, y_pred in enumerate(preds):\n",
    "        y_pred_corr = correct_labels(y_true, y_pred, cell_type_hierarchy)\n",
    "        f1_score_per_bionetwork = macro_f1_per_group(y_true, y_pred, tissue, BIONETWORK_GROUPING)\n",
    "        res['f1-score (macro avg.)'] += f1_score_per_bionetwork.f1_score.tolist()\n",
    "        res['bionetwork'] += f1_score_per_bionetwork.group.tolist()\n",
    "        res['run'] += [f'run{i}'] * len(f1_score_per_bionetwork)\n",
    "        res['model'] += [model] * len(f1_score_per_bionetwork)\n",
    "        gc.collect()\n"
   ]
  },
  {
   "cell_type": "code",
   "execution_count": 54,
   "id": "c7c570f2-5fdc-4901-8f8c-01aff8448a60",
   "metadata": {
    "tags": []
   },
   "outputs": [],
   "source": [
    "df = pd.DataFrame(res)\n",
    "df.to_csv('model_eval_cache/linear_vs_tabnet_per_organ.csv')"
   ]
  },
  {
   "cell_type": "code",
   "execution_count": 17,
   "id": "d5cdfa1c-f36e-4a2e-bfc8-3fd3ab2d620c",
   "metadata": {
    "tags": []
   },
   "outputs": [],
   "source": [
    "shortend_bionetworks = {\n",
    "    'oral and craniofacial': 'craniofacial\\noral',\n",
    "    'blood and immune': 'blood\\nimmune',\n",
    "    'nervous system': 'nervous\\nsystem',\n",
    "    'musculoskeletal': 'musculo\\nskeletal',\n",
    "}"
   ]
  },
  {
   "cell_type": "code",
   "execution_count": 19,
   "id": "d67e705b-da57-4230-ab1d-084b695f7448",
   "metadata": {
    "tags": []
   },
   "outputs": [
    {
     "data": {
      "image/png": "[encoded data removed]",
      "text/plain": [
       "<Figure size 610x300 with 1 Axes>"
      ]
     },
     "metadata": {},
     "output_type": "display_data"
    }
   ],
   "source": [
    "fig, ax = plt.subplots(1, 1, figsize=(6.1, 3.))\n",
    "\n",
    "df = pd.read_csv('model_eval_cache/linear_vs_tabnet_per_organ.csv', index_col=0)\n",
    "df['bionetwork'] = (\n",
    "    df['bionetwork']\n",
    "    .str.replace('_', ' ')\n",
    "    .replace(shortend_bionetworks)\n",
    ")\n",
    "df['model'] = df.model.replace({'TabNet': 'scTab', 'Linear': 'Optimized linear'})\n",
    "ax = sns.barplot(\n",
    "    x='bionetwork',\n",
    "    y='f1-score (macro avg.)',\n",
    "    hue='model',\n",
    "    hue_order=['Optimized linear', 'scTab'],\n",
    "    data=df[df.bionetwork != 'adipose'],\n",
    "    ax=ax,\n",
    ")\n",
    "ax.set_xlabel('')\n",
    "ax.set_ylabel('F1-score (macro avg.)')\n",
    "ax.tick_params(axis='x', labelrotation=70)\n",
    "ax.legend(title='')\n",
    "ax.set_ylim(0., 1.)\n",
    "\n",
    "plt.tight_layout()\n",
    "plt.savefig('/dss/dsshome1/04/di93zer/git/cellnet/figure-plots/figure1/organ_wise_performance.pdf')\n",
    "plt.savefig('/dss/dsshome1/04/di93zer/git/cellnet/figure-plots/figure1/organ_wise_performance.png', dpi=300)"
   ]
  },
  {
   "cell_type": "code",
   "execution_count": null,
   "id": "1e9ed425-3069-4b4a-8487-880199993fe2",
   "metadata": {},
   "outputs": [],
   "source": []
  },
  {
   "cell_type": "code",
   "execution_count": null,
   "id": "647fef8d-6a1f-4b47-98e6-b9249488baa0",
   "metadata": {},
   "outputs": [],
   "source": []
  },
  {
   "cell_type": "markdown",
   "id": "f6b262c4-bcd9-4007-a333-17f11eb47f51",
   "metadata": {
    "tags": []
   },
   "source": [
    "# Organ-specific vs cross organ model"
   ]
  },
  {
   "cell_type": "code",
   "execution_count": 20,
   "id": "bc8b044a-7ecc-437b-9ac2-922c91417e60",
   "metadata": {
    "tags": []
   },
   "outputs": [],
   "source": [
    "import pickle\n",
    "import os\n",
    "\n",
    "from statistics import mean, stdev\n",
    "from scipy.stats import ttest_ind\n",
    "from sklearn.metrics import f1_score"
   ]
  },
  {
   "cell_type": "code",
   "execution_count": 21,
   "id": "19ed3792-639f-4e3f-a0f8-6885d2eb199e",
   "metadata": {
    "tags": []
   },
   "outputs": [],
   "source": [
    "DATA_PATH = '/mnt/dssmcmlfs01/merlin_cxg_2023_05_15_sf-log1p'"
   ]
  },
  {
   "cell_type": "code",
   "execution_count": 22,
   "id": "9d78e5dc-d26e-46be-bdde-5686747d8e7e",
   "metadata": {
    "tags": []
   },
   "outputs": [],
   "source": [
    "cell_type_hierarchy = np.load(join(DATA_PATH, 'cell_type_hierarchy/child_matrix.npy'))"
   ]
  },
  {
   "cell_type": "code",
   "execution_count": 23,
   "id": "2d4e8f48-c106-454b-b18d-c3b8bc3e783e",
   "metadata": {
    "tags": []
   },
   "outputs": [],
   "source": [
    "ORGANS = ['lung', 'kidney', 'heart', 'gut', 'breast', 'blood+immune']"
   ]
  },
  {
   "cell_type": "code",
   "execution_count": 24,
   "id": "27d918fa-4a75-491f-80f5-95201a132af0",
   "metadata": {
    "tags": []
   },
   "outputs": [],
   "source": [
    "logs_cross_organ_tabnet = '/mnt/dssfs02/tb_logs/cxg_2023_05_15_tabnet/default'\n",
    "logs_cross_organ_linear = '/mnt/dssfs02/tb_logs/cxg_2023_05_15_linear/default'\n",
    "ckpts_cross_organ_tabnet = get_best_ckpts(logs_cross_organ_tabnet, [f'w_augment_{i}' for i in range(1, 5)])\n",
    "ckpts_cross_organ_linear = get_best_ckpts(logs_cross_organ_linear, [f'version_{i}' for i in range(1, 5)])\n",
    "\n",
    "\n",
    "results = {'f1-score': [], 'organ': [], 'cross-organ': [], 'model': [], 'run': []}\n",
    "\n",
    "\n",
    "for organ in ORGANS:\n",
    "    data_path = f'/mnt/dssmcmlfs01/merlin_cxg_2023_05_15_sf-log1p_{organ}_only'\n",
    "    y_true = dd.read_parquet(join(data_path, 'test'), columns='cell_type').compute().to_numpy()\n",
    "    logs_organ_specific_tabnet = f'/mnt/dssfs02/tb_logs/cxg_2023_05_15_{organ}_only_tabnet/default'\n",
    "    logs_organ_specific_linear = f'/mnt/dssfs02/tb_logs/cxg_2023_05_15_{organ}_only_linear/default'\n",
    "\n",
    "    ckpts_organ_specific_tabnet = get_best_ckpts(logs_organ_specific_tabnet, [f'version_{i}' for i in range(1, 5)])\n",
    "    ckpts_organ_specific_linear = get_best_ckpts(logs_organ_specific_linear, [f'version_{i}' for i in range(1, 5)])\n",
    "    \n",
    "    if os.path.isfile(f'model_eval_cache/preds_{organ}.pkl'):\n",
    "        with open(f'model_eval_cache/preds_{organ}.pkl', 'rb') as f:\n",
    "            preds_cross_organ_tabnet, \\\n",
    "            preds_organ_specific_tabnet, \\\n",
    "            preds_cross_organ_linear, \\\n",
    "            preds_organ_specific_linear = pickle.load(f)\n",
    "    else:\n",
    "        preds_cross_organ_tabnet = eval_tabnet(ckpts_cross_organ_tabnet, data_path)\n",
    "        preds_organ_specific_tabnet = eval_tabnet(ckpts_organ_specific_tabnet, data_path)\n",
    "        preds_cross_organ_linear = eval_linear(ckpts_cross_organ_linear, data_path)\n",
    "        preds_organ_specific_linear = eval_linear(ckpts_organ_specific_linear, data_path)\n",
    "        with open(f'model_eval_cache/preds_{organ}.pkl', 'wb') as f:\n",
    "            pickle.dump((\n",
    "                preds_cross_organ_tabnet,\n",
    "                preds_organ_specific_tabnet,\n",
    "                preds_cross_organ_linear,\n",
    "                preds_organ_specific_linear\n",
    "            ), f)\n",
    "    \n",
    "    for cross_organ, model, preds in [\n",
    "        (True, 'scTab', preds_cross_organ_tabnet),\n",
    "        (False, 'scTab', preds_organ_specific_tabnet),\n",
    "        (True, 'Optimized Linear', preds_cross_organ_linear),\n",
    "        (False, 'Optimized Linear', preds_organ_specific_linear)\n",
    "    ]:\n",
    "        for i, y_pred in enumerate(preds):\n",
    "            y_pred = correct_labels(y_true, y_pred, cell_type_hierarchy)\n",
    "            results['f1-score'].append(f1_score(y_true, y_pred, average='macro', labels=np.unique(y_true)))\n",
    "            results['organ'].append(organ)\n",
    "            results['cross-organ'].append(cross_organ)\n",
    "            results['model'].append(model)\n",
    "            results['run'].append(i)\n"
   ]
  },
  {
   "cell_type": "code",
   "execution_count": 55,
   "id": "1acd68c8-754c-47be-be42-a325b3d285a0",
   "metadata": {
    "tags": []
   },
   "outputs": [
    {
     "data": {
      "image/png": "[encoded data removed]",
      "text/plain": [
       "<Figure size 600x300 with 2 Axes>"
      ]
     },
     "metadata": {},
     "output_type": "display_data"
    }
   ],
   "source": [
    "from pandas.api.types import CategoricalDtype\n",
    "\n",
    "fig, ax = plt.subplots(1, 2, figsize=[6, 3], sharey=True, width_ratios=[1, 1])\n",
    "\n",
    "data = pd.DataFrame(results)\n",
    "data['cross-organ'] = (\n",
    "    data['cross-organ']\n",
    "    .replace({True: 'Cross\\norgan', False: 'Organ\\nspecfic'})\n",
    "    .astype(CategoricalDtype(categories=['Organ\\nspecfic', 'Cross\\norgan'], ordered=True))\n",
    ")\n",
    "sns.lineplot(\n",
    "    x='cross-organ',\n",
    "    y='f1-score',\n",
    "    hue='organ',\n",
    "    data=data.query('model == \"scTab\"'),\n",
    "    marker='o',\n",
    "    markersize=8,\n",
    "    sort=False,\n",
    "    ax=ax[0]\n",
    ")\n",
    "sns.lineplot(\n",
    "    x='cross-organ',\n",
    "    y='f1-score',\n",
    "    hue='organ',\n",
    "    # hue_order=['Optimized Linear', 'scTab'],\n",
    "    data=data.query('model == \"Optimized Linear\"'),\n",
    "    marker='o',\n",
    "    markersize=8,\n",
    "    sort=False,\n",
    "    ax=ax[1]\n",
    ")\n",
    "\n",
    "ax[0].set_title('scTab')\n",
    "ax[1].set_title('Optimized linear')\n",
    "ax[0].set_ylabel('F1-Score (macro avg.)')\n",
    "ax[0].set_ylim(0, 1)\n",
    "ax[0].get_legend().set_visible(False)\n",
    "ax[1].legend(title='')\n",
    "ax[0].set_xlabel('')\n",
    "ax[1].set_xlabel('')\n",
    "# sns.move_legend(ax[1], 'upper left', bbox_to_anchor=(1, 0.95))\n",
    "# handles, labels = ax[1].get_legend_handles_labels()\n",
    "ax[1].legend(handles, labels, loc='center left', bbox_to_anchor=(1., 0.5))\n",
    "\n",
    "plt.tight_layout()\n",
    "plt.savefig('/dss/dsshome1/04/di93zer/git/cellnet/figure-plots/figure2/cross_organ_vs_organ_specific.pdf')\n",
    "plt.savefig('/dss/dsshome1/04/di93zer/git/cellnet/figure-plots/figure2/cross_organ_vs_organ_specific.png', dpi=300)"
   ]
  },
  {
   "cell_type": "code",
   "execution_count": null,
   "id": "50673f42-d17f-4b2a-a5c0-ccaf36a41cea",
   "metadata": {
    "tags": []
   },
   "outputs": [],
   "source": []
  },
  {
   "cell_type": "markdown",
   "id": "3b8386ff-d97f-4766-9411-6bf1ea7049b9",
   "metadata": {},
   "source": [
    "# Reviewer 1 - Comment 6"
   ]
  },
  {
   "cell_type": "markdown",
   "id": "43562e5b-c5eb-4efa-abd6-e71c3ab681e2",
   "metadata": {},
   "source": [
    "6. In connection with the previous point, could the authors show whether the improvement between cross-organ and individual tissue models is driven by specific cell type classes? Do the classes driving the improvement in performance change according to tissue? Are misclassified cells always the same cell type? The authors could provide a scatter plot showing the correlation between per-class F1-scores in scTab versus the optimized linear model and show the actual cell type labels that vary the most between models."
   ]
  },
  {
   "cell_type": "code",
   "execution_count": 1,
   "id": "07a5f4d8-5aec-4a2e-a2d9-a04f3c88cea1",
   "metadata": {
    "tags": []
   },
   "outputs": [],
   "source": [
    "import pickle\n",
    "import os\n",
    "\n",
    "from statistics import mean, stdev\n",
    "from scipy.stats import ttest_ind\n",
    "from sklearn.metrics import classification_report"
   ]
  },
  {
   "cell_type": "code",
   "execution_count": 2,
   "id": "94f4c122-36a6-4ae6-b4c3-e7e98798de5f",
   "metadata": {
    "tags": []
   },
   "outputs": [],
   "source": [
    "import yaml\n",
    "\n",
    "with open('shortend_cell_types.yaml', 'r') as f:\n",
    "    shortend_cell_types = yaml.safe_load(f)"
   ]
  },
  {
   "cell_type": "code",
   "execution_count": 3,
   "id": "eb2149c5-00b8-46a6-b21b-77e41b7768b6",
   "metadata": {
    "tags": []
   },
   "outputs": [],
   "source": [
    "DATA_PATH = '/mnt/dssmcmlfs01/merlin_cxg_2023_05_15_sf-log1p'"
   ]
  },
  {
   "cell_type": "code",
   "execution_count": 7,
   "id": "6a1704b3-ca8a-49c9-bbf5-31c326c61858",
   "metadata": {
    "tags": []
   },
   "outputs": [],
   "source": [
    "cell_type_hierarchy = np.load(join(DATA_PATH, 'cell_type_hierarchy/child_matrix.npy'))\n",
    "cell_type_mapping = pd.read_parquet(join(DATA_PATH, 'categorical_lookup/cell_type.parquet'))"
   ]
  },
  {
   "cell_type": "code",
   "execution_count": 8,
   "id": "5367a6e8-1782-46f5-bd69-b5fdabd2eef9",
   "metadata": {
    "tags": []
   },
   "outputs": [],
   "source": [
    "ORGANS = ['lung', 'kidney', 'heart', 'gut', 'breast', 'blood+immune']"
   ]
  },
  {
   "cell_type": "code",
   "execution_count": 9,
   "id": "4b1445fd-1c14-4693-9b65-2a38334890eb",
   "metadata": {
    "tags": []
   },
   "outputs": [],
   "source": [
    "logs_cross_organ_tabnet = '/mnt/dssfs02/tb_logs/cxg_2023_05_15_tabnet/default'\n",
    "logs_cross_organ_linear = '/mnt/dssfs02/tb_logs/cxg_2023_05_15_linear/default'\n",
    "ckpts_cross_organ_tabnet = get_best_ckpts(logs_cross_organ_tabnet, [f'w_augment_{i}' for i in range(1, 5)])\n",
    "ckpts_cross_organ_linear = get_best_ckpts(logs_cross_organ_linear, [f'version_{i}' for i in range(1, 5)])\n",
    "\n",
    "\n",
    "clf_reports = {organ: {'scTab': [], 'Optimized Linear': []} for organ in ORGANS}\n",
    "\n",
    "for organ in ORGANS:\n",
    "    data_path = f'/mnt/dssmcmlfs01/merlin_cxg_2023_05_15_sf-log1p_{organ}_only'\n",
    "    y_true = dd.read_parquet(join(data_path, 'test'), columns='cell_type').compute().to_numpy()\n",
    "    \n",
    "    if os.path.isfile(f'model_eval_cache/preds_{organ}.pkl'):\n",
    "        with open(f'model_eval_cache/preds_{organ}.pkl', 'rb') as f:\n",
    "            preds_cross_organ_tabnet, _, preds_cross_organ_linear, _ = pickle.load(f)\n",
    "    else:\n",
    "        raise RuntimeError('Run above section to compute predictions')\n",
    "        \n",
    "    for model, preds in [\n",
    "        ('scTab', preds_cross_organ_tabnet),\n",
    "        ('Optimized Linear', preds_cross_organ_linear)\n",
    "    ]:\n",
    "        for i, y_pred in enumerate(preds):\n",
    "            y_pred = correct_labels(y_true, y_pred, cell_type_hierarchy)\n",
    "            \n",
    "            clf_reports[organ][model] += [pd.DataFrame(classification_report(\n",
    "                y_true, \n",
    "                y_pred, \n",
    "                labels=np.unique(y_true),\n",
    "                zero_division=0.,\n",
    "                output_dict=True\n",
    "            )).T]\n"
   ]
  },
  {
   "cell_type": "code",
   "execution_count": 10,
   "id": "3b4a06d8-d788-4601-b1d8-d187a9894b75",
   "metadata": {
    "tags": []
   },
   "outputs": [
    {
     "data": {
      "image/png": "[encoded data removed]",
      "text/plain": [
       "<Figure size 900x600 with 6 Axes>"
      ]
     },
     "metadata": {},
     "output_type": "display_data"
    }
   ],
   "source": [
    "fig, axs = plt.subplots(2, 3, figsize=[9, 6], sharex=True, sharey=True)\n",
    "biggest_difference = {}\n",
    "scores = {}\n",
    "\n",
    "\n",
    "def average_runs(reports):\n",
    "    return np.stack([\n",
    "        report['f1-score'].iloc[:-3].to_numpy() for report in reports\n",
    "    ], axis=1).mean(axis=1)\n",
    "\n",
    "\n",
    "for i, organ in enumerate(ORGANS):\n",
    "    assert np.array_equal(\n",
    "        clf_reports[organ]['scTab'][0].index.to_numpy(),\n",
    "        clf_reports[organ]['Optimized Linear'][0].index.to_numpy()\n",
    "    )\n",
    "    index = clf_reports[organ]['scTab'][0].iloc[:-3].index.to_numpy()\n",
    "    \n",
    "    data = pd.DataFrame({\n",
    "        'F1-score (scTab)': average_runs(clf_reports[organ]['scTab']),\n",
    "        'F1-score (Optimized Linear)': average_runs(clf_reports[organ]['Optimized Linear']),\n",
    "    }, index=index)\n",
    "    \n",
    "    ax = axs[np.unravel_index(i, (2, 3))]\n",
    "    sns.scatterplot(\n",
    "        data=data, \n",
    "        x='F1-score (Optimized Linear)', \n",
    "        y='F1-score (scTab)', \n",
    "        ax=ax\n",
    "    )\n",
    "    sns.lineplot(x=[0., 1.], y=[0., 1.], color='red', ax=ax)\n",
    "    ax.set_title(f'{organ}')\n",
    "    \n",
    "    # find cell types with biggest difference\n",
    "    biggest_difference[organ] = (\n",
    "        (data['F1-score (scTab)'] -  data['F1-score (Optimized Linear)'])\n",
    "        .sort_values(ascending=False)\n",
    "        .rename_axis('cell_type').reset_index()\n",
    "        .rename(columns={0: 'f1_score_diff'})\n",
    "        .assign(\n",
    "            cell_type=lambda df: df.cell_type.astype(int).replace(cell_type_mapping.label.to_dict())\n",
    "        )\n",
    "    )\n",
    "    scores[organ] = data \n"
   ]
  },
  {
   "cell_type": "code",
   "execution_count": null,
   "id": "3f29b3cc-014e-469a-b613-90d21de6d6e0",
   "metadata": {},
   "outputs": [],
   "source": []
  },
  {
   "cell_type": "code",
   "execution_count": 11,
   "id": "6a87d81d-7f4c-4326-a07e-efa6eec84721",
   "metadata": {
    "tags": []
   },
   "outputs": [
    {
     "data": {
      "text/markdown": [
       "**lung**"
      ],
      "text/plain": [
       "<IPython.core.display.Markdown object>"
      ]
     },
     "metadata": {},
     "output_type": "display_data"
    },
    {
     "data": {
      "text/markdown": [
       "- CD4-positive helper T cell\n",
       "- T-helper 17 cell\n",
       "- Schwann cell\n",
       "- CD16-positive, CD56-dim natural killer cell, human\n",
       "- CD8-positive, alpha-beta cytotoxic T cell\n",
       "- vascular associated smooth muscle cell\n",
       "- effector memory CD8-positive, alpha-beta T cell\n"
      ],
      "text/plain": [
       "<IPython.core.display.Markdown object>"
      ]
     },
     "metadata": {},
     "output_type": "display_data"
    },
    {
     "data": {
      "text/markdown": [
       "**kidney**"
      ],
      "text/plain": [
       "<IPython.core.display.Markdown object>"
      ]
     },
     "metadata": {},
     "output_type": "display_data"
    },
    {
     "data": {
      "text/markdown": [
       "- pericyte\n",
       "- conventional dendritic cell\n",
       "- alternatively activated macrophage\n",
       "- monocyte\n",
       "- CD4-positive, alpha-beta T cell\n",
       "- non-classical monocyte\n",
       "- renal interstitial pericyte\n"
      ],
      "text/plain": [
       "<IPython.core.display.Markdown object>"
      ]
     },
     "metadata": {},
     "output_type": "display_data"
    },
    {
     "data": {
      "text/markdown": [
       "**heart**"
      ],
      "text/plain": [
       "<IPython.core.display.Markdown object>"
      ]
     },
     "metadata": {},
     "output_type": "display_data"
    },
    {
     "data": {
      "text/markdown": [
       "- lymphoid lineage restricted progenitor cell\n",
       "- Schwann cell\n",
       "- mature NK T cell\n",
       "- vein endothelial cell\n",
       "- immature innate lymphoid cell\n",
       "- capillary endothelial cell\n",
       "- lymphocyte\n"
      ],
      "text/plain": [
       "<IPython.core.display.Markdown object>"
      ]
     },
     "metadata": {},
     "output_type": "display_data"
    },
    {
     "data": {
      "text/markdown": [
       "**gut**"
      ],
      "text/plain": [
       "<IPython.core.display.Markdown object>"
      ]
     },
     "metadata": {},
     "output_type": "display_data"
    },
    {
     "data": {
      "text/markdown": [
       "- effector memory CD8-positive, alpha-beta T cell, terminally differentiated\n",
       "- erythroblast\n",
       "- myoepithelial cell of mammary gland\n",
       "- T follicular helper cell\n",
       "- CD16-negative, CD56-bright natural killer cell, human\n",
       "- CD8-alpha-alpha-positive, alpha-beta intraepithelial T cell\n",
       "- precursor B cell\n"
      ],
      "text/plain": [
       "<IPython.core.display.Markdown object>"
      ]
     },
     "metadata": {},
     "output_type": "display_data"
    },
    {
     "data": {
      "text/markdown": [
       "**breast**"
      ],
      "text/plain": [
       "<IPython.core.display.Markdown object>"
      ]
     },
     "metadata": {},
     "output_type": "display_data"
    },
    {
     "data": {
      "text/markdown": [
       "- myoepithelial cell of mammary gland\n",
       "- gamma-delta T cell\n",
       "- naive B cell\n",
       "- effector memory CD8-positive, alpha-beta T cell\n",
       "- mature NK T cell\n",
       "- activated CD8-positive, alpha-beta T cell\n",
       "- class switched memory B cell\n"
      ],
      "text/plain": [
       "<IPython.core.display.Markdown object>"
      ]
     },
     "metadata": {},
     "output_type": "display_data"
    },
    {
     "data": {
      "text/markdown": [
       "**blood+immune**"
      ],
      "text/plain": [
       "<IPython.core.display.Markdown object>"
      ]
     },
     "metadata": {},
     "output_type": "display_data"
    },
    {
     "data": {
      "text/markdown": [
       "- pro-B cell\n",
       "- immature innate lymphoid cell\n",
       "- precursor B cell\n",
       "- promonocyte\n",
       "- effector memory CD8-positive, alpha-beta T cell, terminally differentiated\n",
       "- IgA plasma cell\n",
       "- activated CD4-positive, alpha-beta T cell\n"
      ],
      "text/plain": [
       "<IPython.core.display.Markdown object>"
      ]
     },
     "metadata": {},
     "output_type": "display_data"
    }
   ],
   "source": [
    "from IPython.display import display, Markdown\n",
    "\n",
    "\n",
    "def list_to_markdown(lst, indentation=0):\n",
    "    markdown = \"\"\n",
    "    for item in lst:\n",
    "        if isinstance(item, list):\n",
    "            markdown += list_to_markdown(item, indentation + 2)\n",
    "        else:\n",
    "            markdown += \" \" * indentation + \"- \" + str(item) + \"\\n\"\n",
    "    return markdown\n",
    "\n",
    "\n",
    "for organ, differences in biggest_difference.items():\n",
    "    display(Markdown(f'**{organ}**'))\n",
    "    differences = differences.iloc[:7]\n",
    "    display(Markdown(list_to_markdown(differences.cell_type.to_list())))\n"
   ]
  },
  {
   "cell_type": "code",
   "execution_count": null,
   "id": "844e0362-2f9f-4ea5-86ad-fd7ca249147e",
   "metadata": {
    "tags": []
   },
   "outputs": [],
   "source": [
    "# Schwann cell (neuron subtype) in lung: https://cellxgene.cziscience.com/e/3dc61ca1-ce40-46b6-8337-f27260fd9a03.cxg/\n",
    "# neuron in lung: https://cellxgene.cziscience.com/e/d8da613f-e681-4c69-b463-e94f5e66847f.cxg/\n",
    "# vascular associated smooth muscle cell in kidney: https://cellxgene.cziscience.com/e/be39785b-67cb-4177-be19-a40ee3747e45.cxg/\n",
    "# lymphoid lineage restricted progenitor cell in heart: https://cellxgene.cziscience.com/e/1c739a3e-c3f5-49d5-98e0-73975e751201.cxg/"
   ]
  },
  {
   "cell_type": "code",
   "execution_count": null,
   "id": "71bc9e12-51b0-4409-8875-0c2581c26e1d",
   "metadata": {
    "tags": []
   },
   "outputs": [],
   "source": []
  },
  {
   "cell_type": "code",
   "execution_count": 12,
   "id": "216834dd-d442-4797-a3ef-5393ef8b9af6",
   "metadata": {
    "tags": []
   },
   "outputs": [
    {
     "data": {
      "text/markdown": [
       "**lung**"
      ],
      "text/plain": [
       "<IPython.core.display.Markdown object>"
      ]
     },
     "metadata": {},
     "output_type": "display_data"
    },
    {
     "data": {
      "text/markdown": [
       "- intermediate monocyte\n",
       "- naive thymus-derived CD8-positive, alpha-beta T cell\n",
       "- effector CD8-positive, alpha-beta T cell\n"
      ],
      "text/plain": [
       "<IPython.core.display.Markdown object>"
      ]
     },
     "metadata": {},
     "output_type": "display_data"
    },
    {
     "data": {
      "text/markdown": [
       "**kidney**"
      ],
      "text/plain": [
       "<IPython.core.display.Markdown object>"
      ]
     },
     "metadata": {},
     "output_type": "display_data"
    },
    {
     "data": {
      "text/markdown": [
       "- CD4-positive helper T cell\n",
       "- CD8-positive, alpha-beta T cell\n",
       "- capillary endothelial cell\n"
      ],
      "text/plain": [
       "<IPython.core.display.Markdown object>"
      ]
     },
     "metadata": {},
     "output_type": "display_data"
    },
    {
     "data": {
      "text/markdown": [
       "**heart**"
      ],
      "text/plain": [
       "<IPython.core.display.Markdown object>"
      ]
     },
     "metadata": {},
     "output_type": "display_data"
    },
    {
     "data": {
      "text/markdown": [
       "- vein endothelial cell\n",
       "- B cell\n",
       "- endothelial cell of artery\n"
      ],
      "text/plain": [
       "<IPython.core.display.Markdown object>"
      ]
     },
     "metadata": {},
     "output_type": "display_data"
    },
    {
     "data": {
      "text/markdown": [
       "**gut**"
      ],
      "text/plain": [
       "<IPython.core.display.Markdown object>"
      ]
     },
     "metadata": {},
     "output_type": "display_data"
    },
    {
     "data": {
      "text/markdown": [
       "- alveolar macrophage\n",
       "- inflammatory macrophage\n",
       "- T-helper 17 cell\n"
      ],
      "text/plain": [
       "<IPython.core.display.Markdown object>"
      ]
     },
     "metadata": {},
     "output_type": "display_data"
    },
    {
     "data": {
      "text/markdown": [
       "**breast**"
      ],
      "text/plain": [
       "<IPython.core.display.Markdown object>"
      ]
     },
     "metadata": {},
     "output_type": "display_data"
    },
    {
     "data": {
      "text/markdown": [
       "- CD8-positive, alpha-beta T cell\n",
       "- B cell\n",
       "- memory B cell\n"
      ],
      "text/plain": [
       "<IPython.core.display.Markdown object>"
      ]
     },
     "metadata": {},
     "output_type": "display_data"
    },
    {
     "data": {
      "text/markdown": [
       "**blood+immune**"
      ],
      "text/plain": [
       "<IPython.core.display.Markdown object>"
      ]
     },
     "metadata": {},
     "output_type": "display_data"
    },
    {
     "data": {
      "text/markdown": [
       "- lymphoid lineage restricted progenitor cell\n",
       "- capillary endothelial cell\n",
       "- pericyte\n"
      ],
      "text/plain": [
       "<IPython.core.display.Markdown object>"
      ]
     },
     "metadata": {},
     "output_type": "display_data"
    }
   ],
   "source": [
    "for organ, score_tissue in scores.items():\n",
    "    display(Markdown(f'**{organ}**'))\n",
    "    score_tissue = differences.iloc[-10:]\n",
    "    display(Markdown(list_to_markdown([\n",
    "        cell_type_mapping.label.to_dict()[int(elem)] for elem in\n",
    "        scores[organ]['F1-score (scTab)'].sort_values().iloc[:3].index.tolist()\n",
    "    ])))"
   ]
  },
  {
   "cell_type": "code",
   "execution_count": null,
   "id": "6e2fea25-a90c-4b5e-83e5-d4664e14d871",
   "metadata": {
    "tags": []
   },
   "outputs": [],
   "source": []
  }
 ],
 "metadata": {
  "kernelspec": {
   "display_name": "Python 3 (ipykernel)",
   "language": "python",
   "name": "python3"
  },
  "language_info": {
   "codemirror_mode": {
    "name": "ipython",
    "version": 3
   },
   "file_extension": ".py",
   "mimetype": "text/x-python",
   "name": "python",
   "nbconvert_exporter": "python",
   "pygments_lexer": "ipython3",
   "version": "3.8.10"
  }
 },
 "nbformat": 4,
 "nbformat_minor": 5
}
