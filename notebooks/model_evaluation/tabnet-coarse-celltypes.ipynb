{
 "cells": [
  {
   "cell_type": "code",
   "execution_count": 1,
   "id": "3c3228c4-c2ec-4d31-9ee5-576e9369aa9b",
   "metadata": {
    "tags": []
   },
   "outputs": [
    {
     "name": "stdout",
     "output_type": "stream",
     "text": [
      "Obtaining file:///dss/dsshome1/04/di93zer/git/cellnet\n",
      "  Preparing metadata (setup.py) ... \u001b[?25ldone\n",
      "\u001b[?25hInstalling collected packages: cellnet\n",
      "  Attempting uninstall: cellnet\n",
      "    Found existing installation: cellnet 0.1.0\n",
      "    Can't uninstall 'cellnet'. No files were found to uninstall.\n",
      "  Running setup.py develop for cellnet\n",
      "Successfully installed cellnet\n",
      "\n",
      "\u001b[1m[\u001b[0m\u001b[34;49mnotice\u001b[0m\u001b[1;39;49m]\u001b[0m\u001b[39;49m A new release of pip is available: \u001b[0m\u001b[31;49m23.1.1\u001b[0m\u001b[39;49m -> \u001b[0m\u001b[32;49m24.0\u001b[0m\n",
      "\u001b[1m[\u001b[0m\u001b[34;49mnotice\u001b[0m\u001b[1;39;49m]\u001b[0m\u001b[39;49m To update, run: \u001b[0m\u001b[32;49mpython3 -m pip install --upgrade pip\u001b[0m\n"
     ]
    }
   ],
   "source": [
    "!pip install -e /dss/dsshome1/04/di93zer/git/cellnet --no-deps"
   ]
  },
  {
   "cell_type": "code",
   "execution_count": 2,
   "id": "13f1086e-80d4-4323-91c9-c79f772e2f67",
   "metadata": {
    "tags": []
   },
   "outputs": [
    {
     "name": "stdout",
     "output_type": "stream",
     "text": [
      "\n",
      "\u001b[1m[\u001b[0m\u001b[34;49mnotice\u001b[0m\u001b[1;39;49m]\u001b[0m\u001b[39;49m A new release of pip is available: \u001b[0m\u001b[31;49m23.1.1\u001b[0m\u001b[39;49m -> \u001b[0m\u001b[32;49m24.0\u001b[0m\n",
      "\u001b[1m[\u001b[0m\u001b[34;49mnotice\u001b[0m\u001b[1;39;49m]\u001b[0m\u001b[39;49m To update, run: \u001b[0m\u001b[32;49mpython3 -m pip install --upgrade pip\u001b[0m\n"
     ]
    }
   ],
   "source": [
    "!pip install -q SPARQLWrapper"
   ]
  },
  {
   "cell_type": "code",
   "execution_count": 3,
   "id": "bae47fd1-cae4-4e10-9de6-f1bcfef3b95b",
   "metadata": {
    "tags": []
   },
   "outputs": [
    {
     "name": "stdout",
     "output_type": "stream",
     "text": [
      "\n",
      "\u001b[1m[\u001b[0m\u001b[34;49mnotice\u001b[0m\u001b[1;39;49m]\u001b[0m\u001b[39;49m A new release of pip is available: \u001b[0m\u001b[31;49m23.1.1\u001b[0m\u001b[39;49m -> \u001b[0m\u001b[32;49m24.0\u001b[0m\n",
      "\u001b[1m[\u001b[0m\u001b[34;49mnotice\u001b[0m\u001b[1;39;49m]\u001b[0m\u001b[39;49m To update, run: \u001b[0m\u001b[32;49mpython3 -m pip install --upgrade pip\u001b[0m\n"
     ]
    }
   ],
   "source": [
    "# !pip install -q cellxgene-census\n",
    "!pip install -q obonet"
   ]
  },
  {
   "cell_type": "code",
   "execution_count": 1,
   "id": "a963c7bb-3fc9-4a7d-a726-34210643f593",
   "metadata": {
    "tags": []
   },
   "outputs": [],
   "source": [
    "%load_ext autoreload"
   ]
  },
  {
   "cell_type": "code",
   "execution_count": 2,
   "id": "2cb6adb4-ad6a-4018-9252-2a312697bad8",
   "metadata": {
    "tags": []
   },
   "outputs": [
    {
     "name": "stderr",
     "output_type": "stream",
     "text": [
      "/usr/local/lib/python3.8/dist-packages/tqdm/auto.py:21: TqdmWarning: IProgress not found. Please update jupyter and ipywidgets. See https://ipywidgets.readthedocs.io/en/stable/user_install.html\n",
      "  from .autonotebook import tqdm as notebook_tqdm\n"
     ]
    }
   ],
   "source": [
    "import pickle\n",
    "import os\n",
    "from os.path import join\n",
    "\n",
    "\n",
    "import numpy as np\n",
    "import pandas as pd\n",
    "import seaborn as sns\n",
    "import scanpy as sc\n",
    "import matplotlib.pyplot as plt\n",
    "import dask.dataframe as dd\n",
    "import lightning.pytorch as pl\n",
    "import torch"
   ]
  },
  {
   "cell_type": "markdown",
   "id": "cdb58624-f989-4cef-875b-a7ddb60dbf27",
   "metadata": {
    "tags": []
   },
   "source": [
    "## Create Ontology ID to cell type label mapping"
   ]
  },
  {
   "cell_type": "code",
   "execution_count": null,
   "id": "9649c447-0af9-4ea4-a213-842a3aadffd8",
   "metadata": {
    "tags": []
   },
   "outputs": [],
   "source": [
    "census = cellxgene_census.open_soma(census_version=\"2023-05-15\")\n",
    "summary = census[\"census_info\"]['summary']\n",
    "protocols = [\n",
    "    \"10x 5' v2\", \n",
    "    \"10x 3' v3\", \n",
    "    \"10x 3' v2\", \n",
    "    \"10x 5' v1\", \n",
    "    \"10x 3' v1\", \n",
    "    \"10x 3' transcription profiling\", \n",
    "    \"10x 5' transcription profiling\"\n",
    "]\n",
    "obs = (\n",
    "    census[\"census_data\"][\"homo_sapiens\"]\n",
    "    .obs\n",
    "    .read(\n",
    "        column_names=[\"cell_type\", \"cell_type_ontology_term_id\"],\n",
    "        value_filter=f\"is_primary_data == True and assay in {protocols}\"\n",
    "    )\n",
    "    .concat().to_pandas()\n",
    ")\n",
    "id_mapping = obs[['cell_type', 'cell_type_ontology_term_id']].drop_duplicates()\n",
    "id_mapping.to_parquet('model_eval_cache/id_mapping.parquet')"
   ]
  },
  {
   "cell_type": "code",
   "execution_count": null,
   "id": "2e0ee4da-7d21-4d16-ada1-9e0ca026c030",
   "metadata": {},
   "outputs": [],
   "source": []
  },
  {
   "cell_type": "markdown",
   "id": "c08a77e0-9bb0-4242-a4ed-7e9ce9c65da2",
   "metadata": {
    "tags": []
   },
   "source": [
    "## Pre-calculate predictions"
   ]
  },
  {
   "cell_type": "code",
   "execution_count": 3,
   "id": "9d454b81-3ae3-441d-ba0a-545f89592bff",
   "metadata": {
    "tags": []
   },
   "outputs": [],
   "source": [
    "DATA_PATH = '/mnt/dssmcmlfs01/merlin_cxg_2023_05_15_sf-log1p'\n",
    "CKPT_PATH_TABNET = '/mnt/dssfs02/tb_logs/cxg_2023_05_15_tabnet/default/w_augment_4/checkpoints/val_f1_macro_epoch=45_val_f1_macro=0.847.ckpt'\n",
    "CKPT_PATH_LINEAR = '/mnt/dssfs02/tb_logs/juwles/cxg_2023_05_15_linear/default/version_1/checkpoints/val_f1_macro_epoch=33_val_f1_macro=0.773.ckpt'"
   ]
  },
  {
   "cell_type": "code",
   "execution_count": 4,
   "id": "0af9b264-05ce-47d3-9597-7cfdde793090",
   "metadata": {
    "tags": []
   },
   "outputs": [
    {
     "name": "stderr",
     "output_type": "stream",
     "text": [
      "/usr/local/lib/python3.8/dist-packages/merlin/dtypes/mappings/tf.py:52: UserWarning: Tensorflow dtype mappings did not load successfully due to an error: No module named 'tensorflow'\n",
      "  warn(f\"Tensorflow dtype mappings did not load successfully due to an error: {exc.msg}\")\n"
     ]
    }
   ],
   "source": [
    "from predictions import eval_tabnet, eval_linear"
   ]
  },
  {
   "cell_type": "code",
   "execution_count": 5,
   "id": "0299692d-4a01-40a4-bcd2-f9fb74558ffd",
   "metadata": {
    "tags": []
   },
   "outputs": [],
   "source": [
    "if not os.path.isfile('model_eval_cache/preds_tabnet.pkl'):\n",
    "    preds_tabnet = eval_tabnet([CKPT_PATH_TABNET], DATA_PATH)[0]\n",
    "    # save predictions to disk\n",
    "    with open('model_eval_cache/preds_tabnet.pkl', 'wb') as f:\n",
    "        pickle.dump(preds_tabnet, f)\n",
    "else:\n",
    "    # load cached predictions\n",
    "    with open('model_eval_cache/preds_tabnet.pkl', 'rb') as f:\n",
    "        preds_tabnet = pickle.load(f)\n",
    "\n",
    "        \n",
    "if not os.path.isfile('model_eval_cache/preds_linear.pkl'):\n",
    "    preds_linear = eval_linear([CKPT_PATH_LINEAR], DATA_PATH)[0]\n",
    "    # save predictions to disk\n",
    "    with open('model_eval_cache/preds_linear.pkl', 'wb') as f:\n",
    "        pickle.dump(preds_linear, f)\n",
    "else:\n",
    "    # load cached predictions\n",
    "    with open('model_eval_cache/preds_linear.pkl', 'rb') as f:\n",
    "        preds_linear = pickle.load(f)"
   ]
  },
  {
   "cell_type": "markdown",
   "id": "7caefbaf-865d-459a-9f01-00ec0c3080ce",
   "metadata": {
    "tags": []
   },
   "source": [
    "## Define cell type grouping"
   ]
  },
  {
   "cell_type": "code",
   "execution_count": 6,
   "id": "d0e58658-0e59-4ebc-84bc-8a68864279e0",
   "metadata": {
    "tags": []
   },
   "outputs": [],
   "source": [
    "id_mapping = (\n",
    "    pd.read_parquet('model_eval_cache/id_mapping.parquet')\n",
    "    .set_index('cell_type_ontology_term_id')\n",
    "    ['cell_type']\n",
    "    .to_dict()\n",
    ")"
   ]
  },
  {
   "cell_type": "code",
   "execution_count": 7,
   "id": "46887d40-2352-43f8-b1ea-99031e2d0a52",
   "metadata": {
    "tags": []
   },
   "outputs": [],
   "source": [
    "cell_type_mapping = pd.read_parquet(join(DATA_PATH, 'categorical_lookup/cell_type.parquet'))"
   ]
  },
  {
   "cell_type": "code",
   "execution_count": 8,
   "id": "fcc8d024-208d-44d6-8e23-74f06bb7b185",
   "metadata": {
    "tags": []
   },
   "outputs": [],
   "source": [
    "import obonet\n",
    "import networkx\n",
    "\n",
    "\n",
    "url = 'https://github.com/obophenotype/cell-ontology/releases/download/v2023-08-24/cl-simple.obo'\n",
    "graph = obonet.read_obo(url, ignore_obsolete=True)\n",
    "\n",
    "# only use \"is_a\" edges\n",
    "edges_to_delete = []\n",
    "for i, x in enumerate(graph.edges):\n",
    "    if x[2] != 'is_a':\n",
    "        edges_to_delete.append((x[0], x[1]))\n",
    "for x in edges_to_delete:\n",
    "    graph.remove_edge(u=x[0], v=x[1])\n",
    "\n",
    "# define mapping from id to name\n",
    "id_to_name = {id_: data.get('name') for id_, data in graph.nodes(data=True)}\n",
    "# define inverse mapping from name to id\n",
    "name_to_id = {v: k for k, v in id_to_name.items()}\n",
    "\n",
    "\n",
    "def find_child_nodes(cell_type):\n",
    "    return [id_to_name[node] for node in networkx.ancestors(graph, name_to_id[cell_type])]\n",
    "\n",
    "\n",
    "def find_parent_nodes(cell_type):\n",
    "    return [id_to_name[node] for node in networkx.descendants(graph, name_to_id[cell_type])]\n"
   ]
  },
  {
   "cell_type": "code",
   "execution_count": null,
   "id": "819a590f-e24b-46da-9b5e-1eee182d9cf6",
   "metadata": {
    "tags": []
   },
   "outputs": [],
   "source": []
  },
  {
   "cell_type": "code",
   "execution_count": 9,
   "id": "3456b603-e2cb-4c14-8cbb-5b882dbc0a44",
   "metadata": {
    "tags": []
   },
   "outputs": [],
   "source": [
    "from SPARQLWrapper import SPARQLWrapper, JSON\n",
    "import csv\n",
    "\n",
    "# Set up the SPARQL endpoint\n",
    "sparql = SPARQLWrapper(\"https://ubergraph.apps.renci.org/sparql\")\n",
    "# Set the SPARQL query\n",
    "sparql.setQuery(\n",
    "f\"\"\"\n",
    "PREFIX CL: <http://purl.obolibrary.org/obo/CL_>\n",
    "\n",
    "SELECT ?cell ?ic_score\n",
    "WHERE {{\n",
    "  ?cell <http://reasoner.renci.org/vocab/normalizedInformationContent> ?ic_score .\n",
    "  VALUES ?cell {{ {' '.join(list(id_mapping.keys()))} }}\n",
    "}}\n",
    "\"\"\"\n",
    ")\n",
    "\n",
    "# Set the return format as JSON\n",
    "sparql.setReturnFormat(JSON)\n",
    "\n",
    "# Use POST method\n",
    "sparql.method = 'POST'\n",
    "\n",
    "# Execute the query\n",
    "results = sparql.query().convert()\n",
    "\n",
    "# Extract relevant data\n",
    "bindings = results['results']['bindings']\n",
    "ic_scores = {}\n",
    "for binding in bindings:\n",
    "    cell = id_mapping[str(binding['cell']['value']).lstrip('http://purl.obolibrary.org/obo/').replace('_', ':')]\n",
    "    ic_scores[cell] = float(binding['ic_score']['value'])\n"
   ]
  },
  {
   "cell_type": "code",
   "execution_count": 10,
   "id": "aae818d0-f05e-4d34-97d1-fe336f0ff2e2",
   "metadata": {
    "tags": []
   },
   "outputs": [
    {
     "data": {
      "text/plain": [
       "<Axes: ylabel='Count'>"
      ]
     },
     "execution_count": 10,
     "metadata": {},
     "output_type": "execute_result"
    },
    {
     "data": {
      "image/png": "[encoded data removed]",
      "text/plain": [
       "<Figure size 640x480 with 1 Axes>"
      ]
     },
     "metadata": {},
     "output_type": "display_data"
    }
   ],
   "source": [
    "import seaborn as sns\n",
    "import numpy as np\n",
    "\n",
    "\n",
    "sns.histplot(list(ic_scores.values()))"
   ]
  },
  {
   "cell_type": "code",
   "execution_count": 11,
   "id": "436741e4-02bd-4d4b-97c9-67613f24bdc2",
   "metadata": {
    "tags": []
   },
   "outputs": [],
   "source": [
    "coarse_labels = [(k, v) for k, v in ic_scores.items() if v <= 60]\n",
    "# sort labels by IC score\n",
    "coarse_labels = [k for k, _ in sorted(coarse_labels, key=lambda x: -x[1])]\n",
    "# subset to subtypes of \"native cell\"\n",
    "native_cell_subtypes = find_child_nodes('native cell')\n",
    "coarse_labels = [elem for elem in coarse_labels if elem in native_cell_subtypes]"
   ]
  },
  {
   "cell_type": "code",
   "execution_count": null,
   "id": "202047d5-ec33-44a4-a743-e796f30adad6",
   "metadata": {
    "tags": []
   },
   "outputs": [],
   "source": []
  },
  {
   "cell_type": "code",
   "execution_count": 12,
   "id": "b9525fdf-aa41-4942-8218-8258f13ab33c",
   "metadata": {
    "tags": []
   },
   "outputs": [],
   "source": [
    "from cellnet.utils.cell_ontology import retrieve_child_nodes_from_ubergraph\n",
    "\n",
    "\n",
    "grouping = {label: [] for label in coarse_labels}\n",
    "labels = list(ic_scores.keys())\n",
    "\n",
    "for coarse in coarse_labels:\n",
    "    subtypes = find_child_nodes(coarse) + [coarse]\n",
    "    added_types = []\n",
    "    for elem in labels:\n",
    "        if elem in subtypes:\n",
    "            grouping[coarse].append(elem)\n",
    "            added_types.append(elem)\n",
    "    \n",
    "    for elem in added_types:\n",
    "        labels.remove(elem)\n",
    "\n",
    "grouping = {k: [elem for elem in v if elem in cell_type_mapping.label.tolist()] for k, v in grouping.items()}\n",
    "grouping = {k: v for k, v in grouping.items() if v}"
   ]
  },
  {
   "cell_type": "code",
   "execution_count": 13,
   "id": "ad9439e7-e8cf-4857-9644-a86241097db9",
   "metadata": {
    "tags": []
   },
   "outputs": [
    {
     "data": {
      "text/plain": [
       "31"
      ]
     },
     "execution_count": 13,
     "metadata": {},
     "output_type": "execute_result"
    }
   ],
   "source": [
    "len(grouping)"
   ]
  },
  {
   "cell_type": "code",
   "execution_count": 14,
   "id": "3c4c2bfc-b9b4-4b51-ad40-3c503f489933",
   "metadata": {
    "tags": []
   },
   "outputs": [
    {
     "data": {
      "text/plain": [
       "164"
      ]
     },
     "execution_count": 14,
     "metadata": {},
     "output_type": "execute_result"
    }
   ],
   "source": [
    "len(sum(grouping.values(), []))"
   ]
  },
  {
   "cell_type": "code",
   "execution_count": 15,
   "id": "11c9a249-d7cb-400f-8e34-37c99a4b936a",
   "metadata": {
    "tags": []
   },
   "outputs": [
    {
     "data": {
      "text/plain": [
       "['erythroid lineage cell',\n",
       " 'mature T cell',\n",
       " 'glandular epithelial cell',\n",
       " 'phagocyte',\n",
       " 'fibroblast',\n",
       " 'myeloid leukocyte',\n",
       " 'B cell',\n",
       " 'T cell',\n",
       " 'professional antigen presenting cell',\n",
       " 'columnar/cuboidal epithelial cell',\n",
       " 'hematopoietic stem cell',\n",
       " 'blood cell',\n",
       " 'blood vessel endothelial cell',\n",
       " 'endothelial cell of vascular tree',\n",
       " 'endothelial cell',\n",
       " 'hematopoietic precursor cell',\n",
       " 'glial cell',\n",
       " 'squamous epithelial cell',\n",
       " 'neuron associated cell',\n",
       " 'inhibitory interneuron',\n",
       " 'neuronal receptor cell',\n",
       " 'lymphocyte',\n",
       " 'glutamatergic neuron',\n",
       " 'progenitor cell',\n",
       " 'connective tissue cell',\n",
       " 'leukocyte',\n",
       " 'muscle cell',\n",
       " 'stem cell',\n",
       " 'epithelial cell',\n",
       " 'interneuron',\n",
       " 'neuron']"
      ]
     },
     "execution_count": 15,
     "metadata": {},
     "output_type": "execute_result"
    }
   ],
   "source": [
    "list(grouping.keys())"
   ]
  },
  {
   "cell_type": "code",
   "execution_count": null,
   "id": "74411c47-6de2-4008-bfff-37550fdc6f22",
   "metadata": {},
   "outputs": [],
   "source": []
  },
  {
   "cell_type": "code",
   "execution_count": 16,
   "id": "22a57056-fd22-4249-bd5f-a62aa5951203",
   "metadata": {
    "tags": []
   },
   "outputs": [],
   "source": [
    "from cellnet.utils.cell_ontology import retrieve_child_nodes_from_ubergraph\n",
    "\n",
    "\n",
    "# define hierachy matrices + cell type mapping\n",
    "coarse_celltype_mapping = {i: celltype for i, celltype in enumerate(sorted(grouping.keys()))}\n",
    "inverse_mapping = {v: k for k, v in coarse_celltype_mapping.items()}\n",
    "celltypes = list(grouping.keys())\n",
    "child_nodes_dict = {}\n",
    "for k, v in {k: find_child_nodes(k) for k in celltypes}.items():\n",
    "    child_nodes_dict[k] = [elem for elem in v if elem in celltypes]\n",
    "\n",
    "children_idx = []\n",
    "for cell_type in coarse_celltype_mapping.values():\n",
    "    child_nodes = child_nodes_dict[cell_type]\n",
    "    children_idx.append([inverse_mapping[node] for node in child_nodes])\n",
    "\n",
    "child_matrix = np.eye(len(coarse_celltype_mapping))\n",
    "for i, child_nodes in enumerate(children_idx):\n",
    "    child_matrix[i, child_nodes] = 1.\n"
   ]
  },
  {
   "cell_type": "code",
   "execution_count": null,
   "id": "6c3d7108-9898-4d9e-b767-1bbeeeb80806",
   "metadata": {},
   "outputs": [],
   "source": []
  },
  {
   "cell_type": "markdown",
   "id": "c40bbff4-a4d8-4ec3-b18c-87bfd867adf0",
   "metadata": {
    "tags": []
   },
   "source": [
    "## Evaluation on coarse cell type labels (Reviewer #1 - comment 2)"
   ]
  },
  {
   "cell_type": "code",
   "execution_count": 17,
   "id": "16132e1e-5f6e-476f-8df0-a1b5aac2bd32",
   "metadata": {
    "tags": []
   },
   "outputs": [],
   "source": [
    "from utils import correct_labels\n",
    "from sklearn.metrics import classification_report"
   ]
  },
  {
   "cell_type": "code",
   "execution_count": 18,
   "id": "d0a12649-6b5c-4470-8f55-42f1889322fa",
   "metadata": {
    "tags": []
   },
   "outputs": [],
   "source": [
    "y_true = dd.read_parquet(join(DATA_PATH, 'test'), columns='cell_type').compute().to_numpy()\n",
    "cell_type_mapping = pd.read_parquet(join(DATA_PATH, 'categorical_lookup/cell_type.parquet'))\n",
    "inverse_cell_type_mapping = {v: k for k, v in cell_type_mapping.label.to_dict().items()}"
   ]
  },
  {
   "cell_type": "code",
   "execution_count": 19,
   "id": "d62f0336-c8bc-4757-87ea-a9fb8637d807",
   "metadata": {
    "tags": []
   },
   "outputs": [],
   "source": [
    "y_true_coarse = np.ones(y_true.shape, dtype='i8') * -1\n",
    "\n",
    "for coarse, fine in grouping.items():\n",
    "    y_true_coarse[\n",
    "        np.isin(y_true, [inverse_cell_type_mapping[elem] for elem in fine])\n",
    "    ] = inverse_mapping[coarse]\n"
   ]
  },
  {
   "cell_type": "markdown",
   "id": "15877217-62c4-4a32-9919-fd5ad1b7da0b",
   "metadata": {},
   "source": [
    "### TabNet"
   ]
  },
  {
   "cell_type": "code",
   "execution_count": 20,
   "id": "b4de4c7c-fb2c-40e9-8449-21fe9c92bae1",
   "metadata": {
    "tags": []
   },
   "outputs": [],
   "source": [
    "preds_tabnet_coarse = np.ones(preds_tabnet.shape, dtype='i8') * -1\n",
    "\n",
    "for coarse, fine in grouping.items():\n",
    "    preds_tabnet_coarse[\n",
    "        np.isin(preds_tabnet, [inverse_cell_type_mapping[elem] for elem in fine])\n",
    "    ] = inverse_mapping[coarse]"
   ]
  },
  {
   "cell_type": "code",
   "execution_count": 21,
   "id": "566efd7a-1c68-4f2d-a6b8-d7b1d9733393",
   "metadata": {
    "tags": []
   },
   "outputs": [
    {
     "data": {
      "text/html": [
       "<div>\n",
       "<style scoped>\n",
       "    .dataframe tbody tr th:only-of-type {\n",
       "        vertical-align: middle;\n",
       "    }\n",
       "\n",
       "    .dataframe tbody tr th {\n",
       "        vertical-align: top;\n",
       "    }\n",
       "\n",
       "    .dataframe thead th {\n",
       "        text-align: right;\n",
       "    }\n",
       "</style>\n",
       "<table border=\"1\" class=\"dataframe\">\n",
       "  <thead>\n",
       "    <tr style=\"text-align: right;\">\n",
       "      <th></th>\n",
       "      <th>precision</th>\n",
       "      <th>recall</th>\n",
       "      <th>f1-score</th>\n",
       "      <th>support</th>\n",
       "    </tr>\n",
       "  </thead>\n",
       "  <tbody>\n",
       "    <tr>\n",
       "      <th>accuracy</th>\n",
       "      <td>0.958956</td>\n",
       "      <td>0.958956</td>\n",
       "      <td>0.958956</td>\n",
       "      <td>9.589560e-01</td>\n",
       "    </tr>\n",
       "    <tr>\n",
       "      <th>macro avg</th>\n",
       "      <td>0.896106</td>\n",
       "      <td>0.905767</td>\n",
       "      <td>0.897629</td>\n",
       "      <td>3.448832e+06</td>\n",
       "    </tr>\n",
       "    <tr>\n",
       "      <th>weighted avg</th>\n",
       "      <td>0.960779</td>\n",
       "      <td>0.958956</td>\n",
       "      <td>0.959255</td>\n",
       "      <td>3.448832e+06</td>\n",
       "    </tr>\n",
       "  </tbody>\n",
       "</table>\n",
       "</div>"
      ],
      "text/plain": [
       "              precision    recall  f1-score       support\n",
       "accuracy       0.958956  0.958956  0.958956  9.589560e-01\n",
       "macro avg      0.896106  0.905767  0.897629  3.448832e+06\n",
       "weighted avg   0.960779  0.958956  0.959255  3.448832e+06"
      ]
     },
     "execution_count": 21,
     "metadata": {},
     "output_type": "execute_result"
    }
   ],
   "source": [
    "preds_tabnet_coarse = correct_labels(y_true_coarse, preds_tabnet_coarse, child_matrix)\n",
    "clf_report = pd.DataFrame(classification_report(y_true_coarse, preds_tabnet_coarse, output_dict=True)).T\n",
    "clf_report_overall = clf_report.iloc[-3:].copy()\n",
    "clf_report_per_class = clf_report.iloc[:-3].copy()\n",
    "\n",
    "clf_report_overall"
   ]
  },
  {
   "cell_type": "code",
   "execution_count": 22,
   "id": "c4369a5a-3ec2-44ba-8033-c9aa579da121",
   "metadata": {
    "tags": []
   },
   "outputs": [
    {
     "data": {
      "image/png": "[encoded data removed]",
      "text/plain": [
       "<Figure size 1000x300 with 1 Axes>"
      ]
     },
     "metadata": {},
     "output_type": "display_data"
    }
   ],
   "source": [
    "plt.rcParams['figure.figsize'] = (10, 3)\n",
    "\n",
    "ax = sns.barplot(\n",
    "    data=(\n",
    "        clf_report_per_class\n",
    "        .assign(\n",
    "            cell_type=lambda df: df.index.to_series().astype(int).replace(coarse_celltype_mapping)\n",
    "        )\n",
    "        .sort_values('f1-score', ascending=False)\n",
    "    ),\n",
    "    x='cell_type',\n",
    "    y='f1-score',\n",
    "    color='#1f77b4'\n",
    ")\n",
    "ax.tick_params(axis='x', labelrotation=90)\n",
    "ax.set_xlabel('')\n",
    "ax.set_ylabel('F1-score')\n",
    "ax.xaxis.set_tick_params(labelsize='small');"
   ]
  },
  {
   "cell_type": "markdown",
   "id": "53ea6fe9-7dc6-489d-9307-abc614992175",
   "metadata": {},
   "source": [
    "### Optimized linear"
   ]
  },
  {
   "cell_type": "code",
   "execution_count": 23,
   "id": "c7690811-43f2-42dc-8421-0d045f95c299",
   "metadata": {
    "tags": []
   },
   "outputs": [],
   "source": [
    "preds_linear_coarse = np.ones(preds_linear.shape, dtype='i8') * -1\n",
    "\n",
    "for coarse, fine in grouping.items():\n",
    "    preds_linear_coarse[\n",
    "        np.isin(preds_linear, [inverse_cell_type_mapping[elem] for elem in fine])\n",
    "    ] = inverse_mapping[coarse]"
   ]
  },
  {
   "cell_type": "code",
   "execution_count": 24,
   "id": "90fa018f-8fdd-4171-8f41-622e74200893",
   "metadata": {
    "tags": []
   },
   "outputs": [
    {
     "data": {
      "text/html": [
       "<div>\n",
       "<style scoped>\n",
       "    .dataframe tbody tr th:only-of-type {\n",
       "        vertical-align: middle;\n",
       "    }\n",
       "\n",
       "    .dataframe tbody tr th {\n",
       "        vertical-align: top;\n",
       "    }\n",
       "\n",
       "    .dataframe thead th {\n",
       "        text-align: right;\n",
       "    }\n",
       "</style>\n",
       "<table border=\"1\" class=\"dataframe\">\n",
       "  <thead>\n",
       "    <tr style=\"text-align: right;\">\n",
       "      <th></th>\n",
       "      <th>precision</th>\n",
       "      <th>recall</th>\n",
       "      <th>f1-score</th>\n",
       "      <th>support</th>\n",
       "    </tr>\n",
       "  </thead>\n",
       "  <tbody>\n",
       "    <tr>\n",
       "      <th>accuracy</th>\n",
       "      <td>0.941015</td>\n",
       "      <td>0.941015</td>\n",
       "      <td>0.941015</td>\n",
       "      <td>9.410154e-01</td>\n",
       "    </tr>\n",
       "    <tr>\n",
       "      <th>macro avg</th>\n",
       "      <td>0.874771</td>\n",
       "      <td>0.902698</td>\n",
       "      <td>0.883123</td>\n",
       "      <td>3.448832e+06</td>\n",
       "    </tr>\n",
       "    <tr>\n",
       "      <th>weighted avg</th>\n",
       "      <td>0.945913</td>\n",
       "      <td>0.941015</td>\n",
       "      <td>0.942128</td>\n",
       "      <td>3.448832e+06</td>\n",
       "    </tr>\n",
       "  </tbody>\n",
       "</table>\n",
       "</div>"
      ],
      "text/plain": [
       "              precision    recall  f1-score       support\n",
       "accuracy       0.941015  0.941015  0.941015  9.410154e-01\n",
       "macro avg      0.874771  0.902698  0.883123  3.448832e+06\n",
       "weighted avg   0.945913  0.941015  0.942128  3.448832e+06"
      ]
     },
     "execution_count": 24,
     "metadata": {},
     "output_type": "execute_result"
    }
   ],
   "source": [
    "preds_linear_coarse = correct_labels(y_true_coarse, preds_linear_coarse, child_matrix)\n",
    "clf_report = pd.DataFrame(classification_report(y_true_coarse, preds_linear_coarse, output_dict=True)).T\n",
    "clf_report_overall = clf_report.iloc[-3:].copy()\n",
    "clf_report_per_class = clf_report.iloc[:-3].copy()\n",
    "\n",
    "clf_report_overall"
   ]
  },
  {
   "cell_type": "code",
   "execution_count": 25,
   "id": "04dd1cff-ea03-4e93-be7a-b345716049fb",
   "metadata": {
    "tags": []
   },
   "outputs": [
    {
     "data": {
      "image/png": "[encoded data removed]",
      "text/plain": [
       "<Figure size 1000x300 with 1 Axes>"
      ]
     },
     "metadata": {},
     "output_type": "display_data"
    }
   ],
   "source": [
    "plt.rcParams['figure.figsize'] = (10, 3)\n",
    "\n",
    "ax = sns.barplot(\n",
    "    data=(\n",
    "        clf_report_per_class\n",
    "        .assign(\n",
    "            cell_type=lambda df: df.index.to_series().astype(int).replace(coarse_celltype_mapping)\n",
    "        )\n",
    "        .sort_values('f1-score', ascending=False)\n",
    "    ),\n",
    "    x='cell_type',\n",
    "    y='f1-score',\n",
    "    color='#1f77b4'\n",
    ")\n",
    "ax.tick_params(axis='x', labelrotation=90)\n",
    "ax.set_xlabel('')\n",
    "ax.set_ylabel('F1-score')\n",
    "ax.xaxis.set_tick_params(labelsize='small');"
   ]
  },
  {
   "cell_type": "code",
   "execution_count": null,
   "id": "93764366-71e5-4c86-8cb0-7983ab0a0a94",
   "metadata": {},
   "outputs": [],
   "source": []
  }
 ],
 "metadata": {
  "kernelspec": {
   "display_name": "Python 3 (ipykernel)",
   "language": "python",
   "name": "python3"
  },
  "language_info": {
   "codemirror_mode": {
    "name": "ipython",
    "version": 3
   },
   "file_extension": ".py",
   "mimetype": "text/x-python",
   "name": "python",
   "nbconvert_exporter": "python",
   "pygments_lexer": "ipython3",
   "version": "3.8.10"
  }
 },
 "nbformat": 4,
 "nbformat_minor": 5
}
