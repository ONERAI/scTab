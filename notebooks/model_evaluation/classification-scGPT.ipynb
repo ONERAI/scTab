{
 "cells": [
  {
   "cell_type": "markdown",
   "id": "45792311-7ca5-4993-9952-7a3ddab929c8",
   "metadata": {},
   "source": [
    "# scGPT evaluation"
   ]
  },
  {
   "cell_type": "code",
   "execution_count": null,
   "id": "77472185-e106-4520-9b2a-02f50e605104",
   "metadata": {
    "tags": []
   },
   "outputs": [],
   "source": [
    "from os.path import join\n",
    "\n",
    "import anndata\n",
    "import scanpy as sc\n",
    "import numpy as np\n",
    "import pandas as pd\n",
    "import dask.dataframe as dd\n",
    "\n",
    "from scipy.sparse import csr_matrix\n",
    "from tqdm.auto import tqdm"
   ]
  },
  {
   "cell_type": "markdown",
   "id": "f415354a-226e-4ea7-8f05-b3bf9615a8db",
   "metadata": {
    "tags": []
   },
   "source": [
    "## Convert to h5ad files"
   ]
  },
  {
   "cell_type": "code",
   "execution_count": 2,
   "id": "7eacee41-663a-405d-8fc8-2a2a9b3c5edf",
   "metadata": {
    "tags": []
   },
   "outputs": [],
   "source": [
    "DATA_PATH = '/mnt/dssmcmlfs01/merlin_cxg_2023_05_15_sf-log1p'\n",
    "SAVE_PATH = '/mnt/dssfs02/scGPT-splits'"
   ]
  },
  {
   "cell_type": "code",
   "execution_count": 3,
   "id": "f933c224-82cd-46a5-ad47-4f8696e75111",
   "metadata": {
    "tags": []
   },
   "outputs": [],
   "source": [
    "def get_count_matrix(ddf):\n",
    "    x = (\n",
    "        ddf['X']\n",
    "        .map_partitions(\n",
    "            lambda xx: pd.DataFrame(np.vstack(xx.tolist())), \n",
    "            meta={col: 'f4' for col in range(19331)}\n",
    "        )\n",
    "        .to_dask_array(lengths=[1024] * ddf.npartitions)\n",
    "    )\n",
    "    \n",
    "    return x\n"
   ]
  },
  {
   "cell_type": "code",
   "execution_count": 4,
   "id": "d22119f6-c692-4887-9ded-e791272be979",
   "metadata": {
    "tags": []
   },
   "outputs": [],
   "source": [
    "n_cells_train = 1_500_000\n",
    "\n",
    "ddf_train = dd.read_parquet(join(DATA_PATH, 'train'), split_row_groups=True)\n",
    "x_train = get_count_matrix(ddf_train)[:n_cells_train, :]\n",
    "y_train = dd.read_parquet(join(DATA_PATH, 'train'), columns=['cell_type']).compute().iloc[:n_cells_train]\n",
    "\n",
    "ddf_test = dd.read_parquet(join(DATA_PATH, 'test'), split_row_groups=True)\n",
    "x_test = get_count_matrix(ddf_test)\n",
    "y_test = dd.read_parquet(join(DATA_PATH, 'test'), columns=['cell_type']).compute()\n",
    "\n",
    "var = pd.read_parquet(join(DATA_PATH, 'var.parquet'))"
   ]
  },
  {
   "cell_type": "code",
   "execution_count": null,
   "id": "79bc6281-82bc-4f27-8e6d-b6c05b1a300c",
   "metadata": {},
   "outputs": [],
   "source": []
  },
  {
   "cell_type": "markdown",
   "id": "cc7e41fc-ba1d-40dd-a135-659ca9579776",
   "metadata": {},
   "source": [
    "#### Training data"
   ]
  },
  {
   "cell_type": "code",
   "execution_count": null,
   "id": "12f9f33b-ef1e-40d3-924d-dc1dc1cd4a6a",
   "metadata": {
    "tags": []
   },
   "outputs": [],
   "source": [
    "# run inference in batches to save memory\n",
    "\n",
    "for i, idxs in tqdm(enumerate(np.array_split(np.arange(x_train.shape[0]), 10))):\n",
    "    # data is already normalized\n",
    "    anndata.AnnData(\n",
    "        X=x_train[idxs, :].map_blocks(csr_matrix).compute(), \n",
    "        var=var.set_index('feature_name'),\n",
    "        obs=y_train.iloc[idxs]\n",
    "    ).write_h5ad(join(SAVE_PATH, 'train', f'{i}.h5ad'))\n"
   ]
  },
  {
   "cell_type": "code",
   "execution_count": null,
   "id": "40fae91f-a307-4c22-9d62-65819cbdb67b",
   "metadata": {},
   "outputs": [],
   "source": []
  },
  {
   "cell_type": "markdown",
   "id": "8e1e0a2f-e080-41e9-a1e1-e23d8e900286",
   "metadata": {},
   "source": [
    "#### Test data"
   ]
  },
  {
   "cell_type": "code",
   "execution_count": null,
   "id": "3d82be9c-0064-49f6-8c76-9cd0662a5991",
   "metadata": {
    "tags": []
   },
   "outputs": [],
   "source": [
    "for i, idxs in tqdm(enumerate(np.array_split(np.arange(x_test.shape[0]), 30))):\n",
    "    # data is already normalized\n",
    "    anndata.AnnData(\n",
    "        X=x_test[idxs, :].map_blocks(csr_matrix).compute(), \n",
    "        var=var.set_index('feature_name'),\n",
    "        obs=y_test.iloc[idxs]\n",
    "    ).write_h5ad(join(SAVE_PATH, 'test', f'{i}.h5ad'))\n"
   ]
  },
  {
   "cell_type": "code",
   "execution_count": null,
   "id": "49a7a85c-9789-43f4-8194-ed6d1f5e93a0",
   "metadata": {},
   "outputs": [],
   "source": []
  },
  {
   "cell_type": "markdown",
   "id": "4446f0e8-2a9f-4d94-aef0-fb6e1ed44545",
   "metadata": {
    "tags": []
   },
   "source": [
    "## Get embeddings from scGPT"
   ]
  },
  {
   "cell_type": "code",
   "execution_count": 6,
   "id": "4d487b78-0a22-48e2-8595-102a069394af",
   "metadata": {},
   "outputs": [],
   "source": [
    "SAVE_PATH = '/mnt/dssfs02/scGPT-splits'"
   ]
  },
  {
   "cell_type": "code",
   "execution_count": 7,
   "id": "c61d8795-6c63-4bb3-a40c-9f17aac881cf",
   "metadata": {},
   "outputs": [],
   "source": [
    "from pathlib import Path\n",
    "from os.path import join\n",
    "\n",
    "import scgpt as scg\n",
    "import anndata\n",
    "import scanpy as sc"
   ]
  },
  {
   "cell_type": "code",
   "execution_count": 9,
   "id": "4448eae1-cfd2-4185-84f8-0efde629e749",
   "metadata": {
    "tags": []
   },
   "outputs": [],
   "source": [
    "model_dir = Path(\"/mnt/dssfs02/scTab-checkpoints/scGPT\")\n",
    "cell_type_key = \"cell_type\"\n",
    "gene_col = \"index\""
   ]
  },
  {
   "cell_type": "markdown",
   "id": "d678095c-32a3-4ce8-81c8-c294c9300825",
   "metadata": {},
   "source": [
    "#### Training data"
   ]
  },
  {
   "cell_type": "code",
   "execution_count": null,
   "id": "f20f11c3-072f-4f8d-b1be-0c0e666dd05f",
   "metadata": {},
   "outputs": [],
   "source": [
    "for i in range(10):\n",
    "    adata = sc.read_h5ad(join(SAVE_PATH, 'train', f'{i}.h5ad'))\n",
    "    adata = scg.tasks.embed_data(\n",
    "        adata,\n",
    "        model_dir,\n",
    "        cell_type_key=cell_type_key,\n",
    "        gene_col=gene_col,\n",
    "        batch_size=64,\n",
    "        return_new_adata=True,\n",
    "    ).write_h5ad(join(SAVE_PATH, 'train', f'{i}_embed.h5ad'))\n"
   ]
  },
  {
   "cell_type": "code",
   "execution_count": null,
   "id": "90fcf043-9c32-40fc-8d70-195266e8c0bd",
   "metadata": {},
   "outputs": [],
   "source": []
  },
  {
   "cell_type": "markdown",
   "id": "7314a3b7-1ffe-4c01-a93a-170b233ec967",
   "metadata": {},
   "source": [
    "#### Test data"
   ]
  },
  {
   "cell_type": "code",
   "execution_count": null,
   "id": "d414c46a-6916-4a38-b292-4c82f1ee0a39",
   "metadata": {},
   "outputs": [],
   "source": [
    "for i in range(30):\n",
    "    adata = sc.read_h5ad(join(SAVE_PATH, 'test', f'{i}.h5ad'))\n",
    "    adata = scg.tasks.embed_data(\n",
    "        adata,\n",
    "        model_dir,\n",
    "        cell_type_key=cell_type_key,\n",
    "        gene_col=gene_col,\n",
    "        batch_size=64,\n",
    "        return_new_adata=True,\n",
    "    ).write_h5ad(join(SAVE_PATH, 'test', f'{i}_embed.h5ad'))\n"
   ]
  },
  {
   "cell_type": "code",
   "execution_count": null,
   "id": "cdf9d727-d97d-46fb-b73f-29c8cf250a03",
   "metadata": {},
   "outputs": [],
   "source": []
  },
  {
   "cell_type": "markdown",
   "id": "69c8f85f-5301-41ee-8903-5a1fe69a12ca",
   "metadata": {},
   "source": [
    "## Evaluate scGPT embeddings"
   ]
  },
  {
   "cell_type": "code",
   "execution_count": null,
   "id": "18b377a1-824f-4dc1-a7aa-70c4dee55d42",
   "metadata": {},
   "outputs": [],
   "source": [
    "from tqdm import tqdm"
   ]
  },
  {
   "cell_type": "markdown",
   "id": "18987b77-a5bd-454d-b3e1-d1b3aa8e56d1",
   "metadata": {},
   "source": [
    "### Train Linear model"
   ]
  },
  {
   "cell_type": "code",
   "execution_count": null,
   "id": "cd69f5a5-ddc4-4ed3-87e9-98cf7417c20a",
   "metadata": {
    "tags": []
   },
   "outputs": [],
   "source": [
    "!pip install scanpy"
   ]
  },
  {
   "cell_type": "code",
   "execution_count": 2,
   "id": "aee7f125-89f7-4403-8b5a-5e4306cbcaf6",
   "metadata": {
    "tags": []
   },
   "outputs": [],
   "source": [
    "from os.path import join\n",
    "\n",
    "import anndata\n",
    "import scanpy as sc\n",
    "import numpy as np\n",
    "\n",
    "from cuml.linear_model import LogisticRegression"
   ]
  },
  {
   "cell_type": "code",
   "execution_count": 3,
   "id": "b36fab70-7b03-40b8-a16b-29b61f631210",
   "metadata": {
    "tags": []
   },
   "outputs": [],
   "source": [
    "SAVE_PATH = '/mnt/dssfs02/scGPT-splits'\n",
    "DATA_PATH = '/mnt/dssmcmlfs01/merlin_cxg_2023_05_15_sf-log1p'"
   ]
  },
  {
   "cell_type": "code",
   "execution_count": null,
   "id": "ccca2b30-4fcb-421a-bed1-bece54303cde",
   "metadata": {
    "tags": []
   },
   "outputs": [],
   "source": [
    "X = []\n",
    "y = []\n",
    "\n",
    "\n",
    "for i in range(10):\n",
    "    adata = sc.read_h5ad(join(SAVE_PATH, 'train', f'{i}_embed.h5ad'))\n",
    "    X.append(adata.X)\n",
    "    y.append(adata.obs.cell_type.to_numpy())\n",
    "\n",
    "X = np.concatenate(X, axis=0)\n",
    "y = np.concatenate(y, axis=0)"
   ]
  },
  {
   "cell_type": "code",
   "execution_count": 5,
   "id": "597dab18-1c88-403d-86f2-6cbd74015b7e",
   "metadata": {
    "tags": []
   },
   "outputs": [],
   "source": [
    "clf_list = []\n",
    "\n",
    "for i in tqdm(range(5)):\n",
    "    clf_list.append(LogisticRegression(class_weight='balanced', max_iter=5000, C=1000).fit(X, y))\n"
   ]
  },
  {
   "cell_type": "code",
   "execution_count": null,
   "id": "2d098e1d-b516-461a-b298-d24e826eea3f",
   "metadata": {
    "tags": []
   },
   "outputs": [],
   "source": []
  },
  {
   "cell_type": "markdown",
   "id": "7fa3fef7-1ed1-4a8d-94b3-141e785b7200",
   "metadata": {},
   "source": [
    "### Evaluate on test data"
   ]
  },
  {
   "cell_type": "code",
   "execution_count": 6,
   "id": "dd1969a0-f13f-4742-9e1f-263954dbdfba",
   "metadata": {
    "tags": []
   },
   "outputs": [],
   "source": [
    "import pandas as pd\n",
    "from sklearn.metrics import classification_report\n",
    "from statistics import mean, stdev\n",
    "\n",
    "from utils import correct_labels"
   ]
  },
  {
   "cell_type": "code",
   "execution_count": 7,
   "id": "670acede-8378-4daf-ac64-d74244153320",
   "metadata": {
    "tags": []
   },
   "outputs": [],
   "source": [
    "cell_type_mapping = pd.read_parquet(join(DATA_PATH, 'categorical_lookup/cell_type.parquet'))\n",
    "cell_type_hierarchy = np.load(join(DATA_PATH, 'cell_type_hierarchy/child_matrix.npy'))"
   ]
  },
  {
   "cell_type": "code",
   "execution_count": null,
   "id": "21913709-07c6-4ce8-893d-8250ba29f86a",
   "metadata": {
    "tags": []
   },
   "outputs": [],
   "source": [
    "X_test = []\n",
    "y_test = []\n",
    "\n",
    "\n",
    "for i in range(30):\n",
    "    adata = sc.read_h5ad(join(SAVE_PATH, 'test', f'{i}_embed.h5ad'))\n",
    "    X_test.append(adata.X)\n",
    "    y_test.append(adata.obs.cell_type.to_numpy())\n",
    "\n",
    "X_test = np.concatenate(X_test, axis=0)\n",
    "y_test = np.concatenate(y_test, axis=0)"
   ]
  },
  {
   "cell_type": "code",
   "execution_count": 9,
   "id": "21345f5a-42e2-4c18-bc1e-16119557e9eb",
   "metadata": {
    "tags": []
   },
   "outputs": [],
   "source": [
    "clf_reports = []\n",
    "\n",
    "for clf in clf_list:\n",
    "    preds = clf.predict(X_test)\n",
    "    preds_corr = correct_labels(y_test, preds, cell_type_hierarchy)\n",
    "    clf_reports.append(pd.DataFrame(classification_report(y_test, preds_corr, output_dict=True)).T)\n"
   ]
  },
  {
   "cell_type": "code",
   "execution_count": 10,
   "id": "cbdfb1c7-2080-4768-aeb4-06efb69caceb",
   "metadata": {
    "tags": []
   },
   "outputs": [
    {
     "name": "stdout",
     "output_type": "stream",
     "text": [
      "0.7303±0.0043\n"
     ]
    }
   ],
   "source": [
    "f1_scores_scgpt = [clf_report.loc['macro avg', 'f1-score'] for clf_report in clf_reports]\n",
    "print(f'{mean(f1_scores_scgpt):.4f}±{stdev(f1_scores_scgpt):.4f}')"
   ]
  },
  {
   "cell_type": "code",
   "execution_count": null,
   "id": "d7597074-57f2-4ec0-bf67-a9a8e1783919",
   "metadata": {},
   "outputs": [],
   "source": []
  },
  {
   "cell_type": "markdown",
   "id": "2d738fcd-f37c-484b-900d-b9f98051dc55",
   "metadata": {},
   "source": [
    "## Evaluate on PCA embeddings"
   ]
  },
  {
   "cell_type": "code",
   "execution_count": 11,
   "id": "72d29e87-3f7f-4090-8f63-84b2d4931e94",
   "metadata": {
    "tags": []
   },
   "outputs": [],
   "source": [
    "from os.path import join\n",
    "\n",
    "import numpy as np\n",
    "import dask.dataframe as dd\n",
    "\n",
    "from cuml.linear_model import LogisticRegression"
   ]
  },
  {
   "cell_type": "code",
   "execution_count": 12,
   "id": "bc0b2c99-24ed-4b06-bfbc-aab4d240a94f",
   "metadata": {
    "tags": []
   },
   "outputs": [],
   "source": [
    "DATA_PATH = '/mnt/dssmcmlfs01/merlin_cxg_2023_05_15_sf-log1p'"
   ]
  },
  {
   "cell_type": "markdown",
   "id": "f9253919-3ccb-4b84-90ea-7829ec2a52dd",
   "metadata": {},
   "source": [
    "### Train linear model "
   ]
  },
  {
   "cell_type": "code",
   "execution_count": 13,
   "id": "e0785191-322e-4131-bb99-f7b2aea363d0",
   "metadata": {
    "tags": []
   },
   "outputs": [],
   "source": [
    "n_cells_train = 1_500_000  # take same amount of cells as for scGPT + celltypist\n",
    "\n",
    "x_pca = np.load(join(DATA_PATH, 'pca/x_pca_training_train_split_256.npy'))[:n_cells_train, :]  "
   ]
  },
  {
   "cell_type": "code",
   "execution_count": 14,
   "id": "6b52b551-a8b6-47e9-b21d-1409283a061f",
   "metadata": {
    "tags": []
   },
   "outputs": [],
   "source": [
    "y_pca = dd.read_parquet(join(DATA_PATH, 'train'), columns=['cell_type']).compute().iloc[:n_cells_train]"
   ]
  },
  {
   "cell_type": "code",
   "execution_count": 15,
   "id": "f336b7f6-ecfa-4666-a09b-9e413fc487bc",
   "metadata": {
    "tags": []
   },
   "outputs": [],
   "source": [
    "y_pca = y_pca.to_numpy().flatten()"
   ]
  },
  {
   "cell_type": "code",
   "execution_count": 16,
   "id": "37acafb7-ec3d-4275-add4-3047d474fd90",
   "metadata": {
    "tags": []
   },
   "outputs": [],
   "source": [
    "clf_list_pca = []\n",
    "\n",
    "for i in tqdm(range(5)):\n",
    "    clf_list_pca.append(LogisticRegression(class_weight='balanced', max_iter=15000, C=1000).fit(x_pca, y_pca))\n"
   ]
  },
  {
   "cell_type": "code",
   "execution_count": null,
   "id": "dbe5bbdc-5ca9-41b9-a200-2cb11f4a6f9a",
   "metadata": {},
   "outputs": [],
   "source": []
  },
  {
   "cell_type": "markdown",
   "id": "b4ea1f1a-94da-4557-bd2e-d6f40c303dea",
   "metadata": {},
   "source": [
    "### Evaluate on test data"
   ]
  },
  {
   "cell_type": "code",
   "execution_count": 17,
   "id": "6464135f-6b9b-4233-a55d-c4f60b34bf0f",
   "metadata": {
    "tags": []
   },
   "outputs": [],
   "source": [
    "import pandas as pd\n",
    "from sklearn.metrics import classification_report\n",
    "from statistics import mean, stdev\n",
    "\n",
    "from utils import correct_labels"
   ]
  },
  {
   "cell_type": "code",
   "execution_count": 18,
   "id": "f8f2fe03-557f-4ffe-ae6c-1b1716e16a89",
   "metadata": {
    "tags": []
   },
   "outputs": [],
   "source": [
    "cell_type_mapping = pd.read_parquet(join(DATA_PATH, 'categorical_lookup/cell_type.parquet'))\n",
    "cell_type_hierarchy = np.load(join(DATA_PATH, 'cell_type_hierarchy/child_matrix.npy'))"
   ]
  },
  {
   "cell_type": "code",
   "execution_count": 19,
   "id": "e138fd5d-3b2f-4e8e-be1e-fe547bc4e24b",
   "metadata": {
    "tags": []
   },
   "outputs": [],
   "source": [
    "x_pca_test = np.load(join(DATA_PATH, 'pca/x_pca_training_test_split_256.npy'))\n",
    "y_pca_test = dd.read_parquet(join(DATA_PATH, 'test'), columns=['cell_type']).compute()"
   ]
  },
  {
   "cell_type": "code",
   "execution_count": 20,
   "id": "bbb0cd89-5d0a-4b9f-a5b3-9be55760d882",
   "metadata": {
    "tags": []
   },
   "outputs": [],
   "source": [
    "y_pca_test = y_pca_test.to_numpy().flatten()"
   ]
  },
  {
   "cell_type": "code",
   "execution_count": 21,
   "id": "1995c791-6abc-4d43-b2a4-f45d218b73f8",
   "metadata": {
    "tags": []
   },
   "outputs": [],
   "source": [
    "clf_reports_pca = []\n",
    "\n",
    "for clf in clf_list_pca:\n",
    "    preds = clf.predict(x_pca_test)\n",
    "    preds_corr = correct_labels(y_pca_test, preds, cell_type_hierarchy)\n",
    "    clf_reports_pca.append(pd.DataFrame(classification_report(y_pca_test, preds_corr, output_dict=True)).T)\n"
   ]
  },
  {
   "cell_type": "code",
   "execution_count": 22,
   "id": "8c0d4b49-c010-4e28-9ea2-46d28fb881ee",
   "metadata": {
    "tags": []
   },
   "outputs": [
    {
     "name": "stdout",
     "output_type": "stream",
     "text": [
      "0.7523±0.0007\n"
     ]
    }
   ],
   "source": [
    "f1_scores_pca = [clf_report.loc['macro avg', 'f1-score'] for clf_report in clf_reports_pca]\n",
    "print(f'{mean(f1_scores_pca):.4f}±{stdev(f1_scores_pca):.4f}')"
   ]
  },
  {
   "cell_type": "markdown",
   "id": "6ffe1d96-5da3-43ce-b1d6-7099c6fb8cd8",
   "metadata": {},
   "source": [
    "### Evaluate predictions from fine-tuned scGPT model"
   ]
  },
  {
   "cell_type": "code",
   "execution_count": 23,
   "id": "d21e0095-c098-4e22-892f-6b0222e4478f",
   "metadata": {
    "tags": []
   },
   "outputs": [],
   "source": [
    "# see notebooks/training/scGPT-finetuning.ipynb for code for fine-tuning + inference of finetuned model"
   ]
  },
  {
   "cell_type": "code",
   "execution_count": 24,
   "id": "05515b7d-6c86-4676-9cc6-af1d9583444b",
   "metadata": {
    "tags": []
   },
   "outputs": [],
   "source": [
    "from sklearn.metrics import classification_report\n",
    "from utils import correct_labels"
   ]
  },
  {
   "cell_type": "code",
   "execution_count": 25,
   "id": "ec79160d-3eb4-4da5-96fd-3a6da594619c",
   "metadata": {
    "tags": []
   },
   "outputs": [],
   "source": [
    "y_pred = np.load('model_eval_cache/preds_test_scGPT_finetuned.npy')\n",
    "y_true = dd.read_parquet(join(DATA_PATH, 'test'), columns='cell_type').compute().to_numpy()"
   ]
  },
  {
   "cell_type": "code",
   "execution_count": 26,
   "id": "96ccb1ea-2a1d-4c81-a4cb-f4003586500a",
   "metadata": {
    "tags": []
   },
   "outputs": [],
   "source": [
    "y_pred_corr = correct_labels(y_true, y_pred, cell_type_hierarchy)"
   ]
  },
  {
   "cell_type": "code",
   "execution_count": 27,
   "id": "41d6c71c-cd80-4b12-930b-46452b5d95d1",
   "metadata": {
    "tags": []
   },
   "outputs": [
    {
     "data": {
      "text/plain": [
       "[0.7492727747528732]"
      ]
     },
     "execution_count": 27,
     "metadata": {},
     "output_type": "execute_result"
    }
   ],
   "source": [
    "clf_report = pd.DataFrame(classification_report(y_true, y_pred_corr, output_dict=True, zero_division=0.)).T\n",
    "clf_report_overall = clf_report.iloc[-3:].copy()\n",
    "clf_report_per_class = clf_report.iloc[:-3].copy()\n",
    "\n",
    "f1_scores_scgpt_finetuned = [clf_report_overall.loc['macro avg', 'f1-score']]\n",
    "f1_scores_scgpt_finetuned"
   ]
  },
  {
   "cell_type": "code",
   "execution_count": null,
   "id": "4b020203-ab65-4efb-aea4-1c841c110614",
   "metadata": {},
   "outputs": [],
   "source": []
  },
  {
   "cell_type": "markdown",
   "id": "405c2121-0f9c-4526-84e3-8f0c0ded50f4",
   "metadata": {},
   "source": [
    "## Plot performance metrics "
   ]
  },
  {
   "cell_type": "code",
   "execution_count": 28,
   "id": "eae896c4-a439-490f-bbba-0dd13987a97e",
   "metadata": {
    "tags": []
   },
   "outputs": [],
   "source": [
    "import seaborn as sns\n",
    "import matplotlib.pyplot as plt"
   ]
  },
  {
   "cell_type": "code",
   "execution_count": 29,
   "id": "9bbe179e-b853-48a1-8a13-e585c6045b2a",
   "metadata": {
    "tags": []
   },
   "outputs": [],
   "source": [
    "model_comparision_df = pd.read_csv('model_eval_cache/model_comparision.csv', index_col=0)\n",
    "f1_scores_tabnet = model_comparision_df.query('model == \"tabnet\"')['f1-score (macro avg.)'].tolist()"
   ]
  },
  {
   "cell_type": "code",
   "execution_count": 31,
   "id": "f33b39f6-2e96-4847-8208-02bfe5c07820",
   "metadata": {
    "tags": []
   },
   "outputs": [
    {
     "name": "stderr",
     "output_type": "stream",
     "text": [
      "/tmp/ipykernel_2566520/2683842466.py:11: FutureWarning: \n",
      "\n",
      "Passing `palette` without assigning `hue` is deprecated and will be removed in v0.14.0. Assign the `x` variable to `hue` and set `legend=False` for the same effect.\n",
      "\n",
      "  ax = sns.barplot(\n"
     ]
    },
    {
     "data": {
      "image/png": "[encoded data removed]",
      "text/plain": [
       "<Figure size 640x480 with 1 Axes>"
      ]
     },
     "metadata": {},
     "output_type": "display_data"
    }
   ],
   "source": [
    "df = pd.DataFrame({\n",
    "    'f1-score (macro avg.)': f1_scores_tabnet + f1_scores_scgpt + f1_scores_pca + f1_scores_scgpt_finetuned,\n",
    "    'model': (\n",
    "        ['scTab'] * len(f1_scores_tabnet) + \n",
    "        ['scGPT (zero-shot)'] * len(f1_scores_scgpt) + \n",
    "        ['scGPT (fine-tuned)'] * len(f1_scores_scgpt_finetuned) + \n",
    "        ['PCA embedding'] * len(f1_scores_pca)\n",
    "    )\n",
    "})\n",
    "\n",
    "ax = sns.barplot(\n",
    "    x='model',\n",
    "    y='f1-score (macro avg.)',\n",
    "    #hue='model',\n",
    "    data=df,\n",
    "    errorbar='sd',\n",
    "    palette=['#ff7f0e', '#C44E52', '#C44E52', '#1f77b4']\n",
    ")\n",
    "ax.set_ylabel('F1-Score (macro avg.)')\n",
    "ax.set_xlabel('')\n",
    "ax.set_ylim(0, 1)\n",
    "\n",
    "for p in ax.patches:\n",
    "    ax.annotate(format(p.get_height(), '.2f'), \n",
    "                (p.get_x() + p.get_width() / 2., p.get_height()), \n",
    "                ha = 'center', va = 'center', \n",
    "                xytext = (0, 9), \n",
    "                textcoords = 'offset points')\n",
    "\n",
    "plt.tight_layout()\n",
    "plt.savefig('/dss/dsshome1/04/di93zer/git/cellnet/figure-plots/supp_figures/scGPT_zero_shot.pdf')\n",
    "plt.savefig('/dss/dsshome1/04/di93zer/git/cellnet/figure-plots/supp_figures/scGPT_zero_shot.png', dpi=300)"
   ]
  },
  {
   "cell_type": "code",
   "execution_count": null,
   "id": "8a17646c-029b-4a51-9459-639c76bb8a9b",
   "metadata": {},
   "outputs": [],
   "source": []
  }
 ],
 "metadata": {
  "kernelspec": {
   "display_name": "Python 3 (ipykernel)",
   "language": "python",
   "name": "python3"
  },
  "language_info": {
   "codemirror_mode": {
    "name": "ipython",
    "version": 3
   },
   "file_extension": ".py",
   "mimetype": "text/x-python",
   "name": "python",
   "nbconvert_exporter": "python",
   "pygments_lexer": "ipython3",
   "version": "3.8.10"
  }
 },
 "nbformat": 4,
 "nbformat_minor": 5
}
