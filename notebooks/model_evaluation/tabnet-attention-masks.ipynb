{
 "cells": [
  {
   "cell_type": "code",
   "execution_count": 1,
   "id": "9189e87c-79b2-48ea-bd43-a8bc29ed1b54",
   "metadata": {
    "tags": []
   },
   "outputs": [
    {
     "name": "stdout",
     "output_type": "stream",
     "text": [
      "Obtaining file:///dss/dsshome1/04/di93zer/git/cellnet\n",
      "  Preparing metadata (setup.py) ... \u001b[?25ldone\n",
      "\u001b[?25hInstalling collected packages: cellnet\n",
      "  Running setup.py develop for cellnet\n",
      "Successfully installed cellnet\n",
      "\n",
      "\u001b[1m[\u001b[0m\u001b[34;49mnotice\u001b[0m\u001b[1;39;49m]\u001b[0m\u001b[39;49m A new release of pip is available: \u001b[0m\u001b[31;49m23.1.1\u001b[0m\u001b[39;49m -> \u001b[0m\u001b[32;49m24.0\u001b[0m\n",
      "\u001b[1m[\u001b[0m\u001b[34;49mnotice\u001b[0m\u001b[1;39;49m]\u001b[0m\u001b[39;49m To update, run: \u001b[0m\u001b[32;49mpython3 -m pip install --upgrade pip\u001b[0m\n"
     ]
    }
   ],
   "source": [
    "!pip install -e /dss/dsshome1/04/di93zer/git/cellnet --no-deps"
   ]
  },
  {
   "cell_type": "code",
   "execution_count": 78,
   "id": "b9d3033c-b23a-4818-a53c-bd60e5f8216e",
   "metadata": {
    "tags": []
   },
   "outputs": [
    {
     "name": "stdout",
     "output_type": "stream",
     "text": [
      "The autoreload extension is already loaded. To reload it, use:\n",
      "  %reload_ext autoreload\n"
     ]
    }
   ],
   "source": [
    "%load_ext autoreload"
   ]
  },
  {
   "cell_type": "code",
   "execution_count": 2,
   "id": "de76ff59-edca-47d5-aa68-b134b801e171",
   "metadata": {
    "tags": []
   },
   "outputs": [],
   "source": [
    "import pickle\n",
    "import os\n",
    "from os.path import join\n",
    "\n",
    "\n",
    "import numpy as np\n",
    "import pandas as pd\n",
    "import seaborn as sns\n",
    "import matplotlib.pyplot as plt\n",
    "import dask.dataframe as dd"
   ]
  },
  {
   "cell_type": "code",
   "execution_count": 3,
   "id": "2a3f2bc9-05f8-4407-b94c-07961313a971",
   "metadata": {
    "tags": []
   },
   "outputs": [],
   "source": [
    "DATA_PATH = '/mnt/dssmcmlfs01/merlin_cxg_2023_05_15_sf-log1p'"
   ]
  },
  {
   "cell_type": "code",
   "execution_count": 4,
   "id": "2c3ea6af-d098-48e7-8a5e-6b0df259006e",
   "metadata": {
    "tags": []
   },
   "outputs": [],
   "source": [
    "import dask.dataframe as dd\n",
    "import dask.array as da\n",
    "\n",
    "from scipy.sparse import csr_matrix"
   ]
  },
  {
   "cell_type": "code",
   "execution_count": 36,
   "id": "7cb2d4a1-0529-40bf-ae08-a83828e5bd58",
   "metadata": {
    "tags": []
   },
   "outputs": [],
   "source": [
    "from cellnet.utils.tabnet_explain import explain\n",
    "from cellnet.utils.data_loading import dataloader_factory"
   ]
  },
  {
   "cell_type": "code",
   "execution_count": 6,
   "id": "b4c4f0d0-c33b-446e-84d5-fae8e4a40a52",
   "metadata": {
    "tags": []
   },
   "outputs": [],
   "source": [
    "cell_type_mapping = pd.read_parquet(join(DATA_PATH, 'categorical_lookup/cell_type.parquet'))\n",
    "inverse_cell_type_mapping = {v: k for k, v in cell_type_mapping.label.to_dict().items()}"
   ]
  },
  {
   "cell_type": "code",
   "execution_count": 25,
   "id": "83895b0a-239c-42cb-a143-17134d68dc50",
   "metadata": {
    "tags": []
   },
   "outputs": [],
   "source": [
    "# list of easy to predict cell types (already based on a small amount of training data)\n",
    "\n",
    "cell_types_to_check = [\n",
    "    'Bergmann glial cell',\n",
    "    'L6b glutamatergic cortical neuron',\n",
    "    'bronchus fibroblast of lung',\n",
    "    'cardiac neuron',\n",
    "    'caudal ganglionic eminence derived GABAergic cortical interneuron',\n",
    "    'chandelier pvalb GABAergic cortical interneuron',\n",
    "    'ependymal cell',\n",
    "    'alternatively activated macrophage',\n",
    "    'alveolar macrophage',\n",
    "    'central nervous system macrophage',\n",
    "    'elicited macrophage',\n",
    "    'inflammatory macrophage',\n",
    "    'lung macrophage',\n",
    "    'macrophage',\n",
    "    'lung pericyte',\n",
    "    'paneth cell',\n",
    "    'renal interstitial pericyte',\n",
    "    'retina horizontal cell'\n",
    "]"
   ]
  },
  {
   "cell_type": "code",
   "execution_count": 8,
   "id": "e257a883-c461-4dd9-95ff-dad32289ad97",
   "metadata": {
    "tags": []
   },
   "outputs": [],
   "source": [
    "def get_count_matrix_and_obs(ddf):\n",
    "    obs = ddf[['cell_type', 'tech_sample', 'assay', 'dataset_id', 'tissue']].compute()\n",
    "    x = (\n",
    "        ddf['X']\n",
    "        .map_partitions(\n",
    "            lambda xx: pd.DataFrame(np.vstack(xx.tolist())), \n",
    "            meta={col: 'f4' for col in range(19331)}\n",
    "        )\n",
    "        .to_dask_array(lengths=[1024] * ddf.npartitions)\n",
    "    )\n",
    "    obs = ddf[['cell_type', 'tech_sample', 'assay', 'dataset_id', 'tissue']].compute().reset_index(drop=True)\n",
    "\n",
    "    return x, obs\n"
   ]
  },
  {
   "cell_type": "code",
   "execution_count": null,
   "id": "1d710b26-98d3-49c7-811d-708b515f1c5a",
   "metadata": {},
   "outputs": [],
   "source": []
  },
  {
   "cell_type": "code",
   "execution_count": 9,
   "id": "87c15a98-500c-4e8c-adfd-92923ccd189d",
   "metadata": {
    "tags": []
   },
   "outputs": [],
   "source": [
    "ddf_train = dd.read_parquet(join(DATA_PATH, 'train'), split_row_groups=True)\n",
    "x_train, obs_train = get_count_matrix_and_obs(ddf_train)"
   ]
  },
  {
   "cell_type": "code",
   "execution_count": 10,
   "id": "143a5cb4-c8cd-43d2-bbb7-254e5157e9fc",
   "metadata": {
    "tags": []
   },
   "outputs": [],
   "source": [
    "# subset x_train to save memory\n",
    "x_train = x_train[:4_000_000, :]\n",
    "obs_train = obs_train[:4_000_000]"
   ]
  },
  {
   "cell_type": "code",
   "execution_count": 34,
   "id": "3847bd1a-193a-4333-bfb4-fbb178e128b2",
   "metadata": {
    "tags": []
   },
   "outputs": [],
   "source": [
    "idxs = []\n",
    "for celltype in cell_types_to_check:\n",
    "    idxs += obs_train[\n",
    "        obs_train.cell_type == inverse_cell_type_mapping[celltype]\n",
    "    ].index.to_numpy()[:3000].tolist()\n"
   ]
  },
  {
   "cell_type": "code",
   "execution_count": 37,
   "id": "7541d34d-b2ce-4146-bdee-adec0547df7f",
   "metadata": {
    "tags": []
   },
   "outputs": [
    {
     "name": "stderr",
     "output_type": "stream",
     "text": [
      "17it [00:12,  1.33it/s]\n"
     ]
    }
   ],
   "source": [
    "from cellnet.models import TabnetClassifier\n",
    "from cellnet.estimators import EstimatorCellTypeClassifier\n",
    "\n",
    "\n",
    "obs_ = obs_train.iloc[idxs].copy()\n",
    "obs_['cell_type'] = pd.Categorical(\n",
    "    obs_.cell_type.replace(cell_type_mapping.label.to_dict()), \n",
    "    cell_type_mapping.label.tolist(), \n",
    "    ordered=False\n",
    ")\n",
    "\n",
    "\n",
    "if not os.path.isfile('model_eval_cache/explain_extended.pkl'):\n",
    "    x_ = x_train[idxs, :].map_blocks(csr_matrix).compute()\n",
    "\n",
    "    CKPT_PATH_TABNET = '/mnt/dssfs02/tb_logs/cxg_2023_05_15_tabnet/default/w_augment_4/checkpoints/val_f1_macro_epoch=45_val_f1_macro=0.847.ckpt'\n",
    "    estim = EstimatorCellTypeClassifier(DATA_PATH)\n",
    "    estim.init_datamodule(batch_size=2048)\n",
    "    model = TabnetClassifier.load_from_checkpoint(CKPT_PATH_TABNET, **estim.get_fixed_model_params('tabnet'))\n",
    "    loader = dataloader_factory(x_, obs_)\n",
    "    explain_masks = explain(model, loader, only_return_nnz_idxs=False, normalize=True)\n",
    "    with open('model_eval_cache/explain_extended.pkl', 'wb') as f:\n",
    "        pickle.dump(explain_masks, f)\n",
    "else:\n",
    "    # load cached predictions\n",
    "    with open('model_eval_cache/explain_extended.pkl', 'rb') as f:\n",
    "        explain_masks = pickle.load(f)"
   ]
  },
  {
   "cell_type": "code",
   "execution_count": 38,
   "id": "41438d71-6dff-45be-8dd3-a71321a68e28",
   "metadata": {
    "tags": []
   },
   "outputs": [
    {
     "data": {
      "text/plain": [
       "0.010272220712622897"
      ]
     },
     "execution_count": 38,
     "metadata": {},
     "output_type": "execute_result"
    }
   ],
   "source": [
    "(explain_masks != 0.).mean()"
   ]
  },
  {
   "cell_type": "code",
   "execution_count": 39,
   "id": "bf0a5f7f-a9b4-47a9-b806-32fb65d256da",
   "metadata": {
    "tags": []
   },
   "outputs": [
    {
     "data": {
      "text/plain": [
       "(33825, 19331)"
      ]
     },
     "execution_count": 39,
     "metadata": {},
     "output_type": "execute_result"
    }
   ],
   "source": [
    "explain_masks.shape"
   ]
  },
  {
   "cell_type": "code",
   "execution_count": 40,
   "id": "8c3ec022-b5f3-43a6-b99f-b856a1578eaf",
   "metadata": {
    "tags": []
   },
   "outputs": [],
   "source": [
    "x_ = x_train[idxs, :].map_blocks(csr_matrix).compute()"
   ]
  },
  {
   "cell_type": "code",
   "execution_count": 41,
   "id": "f608ce81-fdbf-41b4-8551-a7ba1e539d9d",
   "metadata": {
    "tags": []
   },
   "outputs": [],
   "source": [
    "input_features = x_.toarray() * explain_masks"
   ]
  },
  {
   "cell_type": "code",
   "execution_count": 42,
   "id": "137b5bc0-928a-45aa-b5b4-9472594d3e7f",
   "metadata": {
    "tags": []
   },
   "outputs": [
    {
     "data": {
      "text/plain": [
       "0.0020453619239847857"
      ]
     },
     "execution_count": 42,
     "metadata": {},
     "output_type": "execute_result"
    }
   ],
   "source": [
    "(input_features != 0.).mean()"
   ]
  },
  {
   "cell_type": "code",
   "execution_count": 43,
   "id": "bb747881-fe7c-4407-824a-7cdb9cdbf5d2",
   "metadata": {
    "tags": []
   },
   "outputs": [
    {
     "data": {
      "text/plain": [
       "0.011587605400651802"
      ]
     },
     "execution_count": 43,
     "metadata": {},
     "output_type": "execute_result"
    }
   ],
   "source": [
    "(input_features.mean(axis=0) >= 1e-4).mean()"
   ]
  },
  {
   "cell_type": "code",
   "execution_count": 45,
   "id": "d6da8ec7-b0db-449f-be87-504a4a1073d1",
   "metadata": {
    "tags": []
   },
   "outputs": [
    {
     "data": {
      "text/plain": [
       "549"
      ]
     },
     "execution_count": 45,
     "metadata": {},
     "output_type": "execute_result"
    }
   ],
   "source": [
    "top_x_genes = {}\n",
    "\n",
    "for cell_type in cell_types_to_check:\n",
    "    top_x_genes[cell_type] = np.argsort(\n",
    "        -input_features[(obs_.cell_type == cell_type).to_numpy(), :].mean(axis=0)\n",
    "    )[:200]\n",
    "\n",
    "genes = []\n",
    "for gene_idxs in top_x_genes.values():\n",
    "    genes += gene_idxs.tolist()\n",
    "genes = list(set(genes))\n",
    "\n",
    "len(genes)"
   ]
  },
  {
   "cell_type": "code",
   "execution_count": 46,
   "id": "68bc43f5-d516-4870-ac71-3946f705a4d0",
   "metadata": {
    "tags": []
   },
   "outputs": [
    {
     "data": {
      "text/html": [
       "<div>\n",
       "<style scoped>\n",
       "    .dataframe tbody tr th:only-of-type {\n",
       "        vertical-align: middle;\n",
       "    }\n",
       "\n",
       "    .dataframe tbody tr th {\n",
       "        vertical-align: top;\n",
       "    }\n",
       "\n",
       "    .dataframe thead th {\n",
       "        text-align: right;\n",
       "    }\n",
       "</style>\n",
       "<table border=\"1\" class=\"dataframe\">\n",
       "  <thead>\n",
       "    <tr style=\"text-align: right;\">\n",
       "      <th></th>\n",
       "      <th>0</th>\n",
       "      <th>1</th>\n",
       "      <th>2</th>\n",
       "      <th>3</th>\n",
       "      <th>4</th>\n",
       "      <th>5</th>\n",
       "      <th>6</th>\n",
       "      <th>7</th>\n",
       "      <th>8</th>\n",
       "      <th>9</th>\n",
       "      <th>10</th>\n",
       "      <th>11</th>\n",
       "      <th>12</th>\n",
       "      <th>13</th>\n",
       "      <th>14</th>\n",
       "    </tr>\n",
       "  </thead>\n",
       "  <tbody>\n",
       "    <tr>\n",
       "      <th>Bergmann glial cell</th>\n",
       "      <td>PTPRZ1</td>\n",
       "      <td>RGL1</td>\n",
       "      <td>KCNN2</td>\n",
       "      <td>SCRG1</td>\n",
       "      <td>FASTKD2</td>\n",
       "      <td>CSMD1</td>\n",
       "      <td>KLHL32</td>\n",
       "      <td>GPM6B</td>\n",
       "      <td>LCORL</td>\n",
       "      <td>ADGRL3</td>\n",
       "      <td>PCYT2</td>\n",
       "      <td>TERF2IP</td>\n",
       "      <td>SLC44A1</td>\n",
       "      <td>SUMF1</td>\n",
       "      <td>GABRB3</td>\n",
       "    </tr>\n",
       "    <tr>\n",
       "      <th>L6b glutamatergic cortical neuron</th>\n",
       "      <td>WDFY3</td>\n",
       "      <td>SH3GL2</td>\n",
       "      <td>CDH12</td>\n",
       "      <td>WRNIP1</td>\n",
       "      <td>GNAQ</td>\n",
       "      <td>CSMD1</td>\n",
       "      <td>SYT1</td>\n",
       "      <td>KCTD16</td>\n",
       "      <td>NRXN1</td>\n",
       "      <td>IGSF21</td>\n",
       "      <td>TANC2</td>\n",
       "      <td>EPHB1</td>\n",
       "      <td>RPL6</td>\n",
       "      <td>NTM</td>\n",
       "      <td>THY1</td>\n",
       "    </tr>\n",
       "    <tr>\n",
       "      <th>bronchus fibroblast of lung</th>\n",
       "      <td>PTGES3</td>\n",
       "      <td>DGCR6L</td>\n",
       "      <td>RPS3A</td>\n",
       "      <td>CETN2</td>\n",
       "      <td>CCDC159</td>\n",
       "      <td>STX2</td>\n",
       "      <td>FTH1</td>\n",
       "      <td>ABCA10</td>\n",
       "      <td>S100A4</td>\n",
       "      <td>B2M</td>\n",
       "      <td>NDN</td>\n",
       "      <td>CEP170</td>\n",
       "      <td>RPL12</td>\n",
       "      <td>SLIT2</td>\n",
       "      <td>RPL35A</td>\n",
       "    </tr>\n",
       "    <tr>\n",
       "      <th>cardiac neuron</th>\n",
       "      <td>NRXN1</td>\n",
       "      <td>XKR4</td>\n",
       "      <td>NTM</td>\n",
       "      <td>TTC37</td>\n",
       "      <td>HIBCH</td>\n",
       "      <td>LRCH1</td>\n",
       "      <td>TACC1</td>\n",
       "      <td>AUTS2</td>\n",
       "      <td>FASTKD2</td>\n",
       "      <td>FGF12</td>\n",
       "      <td>LCORL</td>\n",
       "      <td>NCALD</td>\n",
       "      <td>EPHB1</td>\n",
       "      <td>PDE1C</td>\n",
       "      <td>PTPRZ1</td>\n",
       "    </tr>\n",
       "    <tr>\n",
       "      <th>caudal ganglionic eminence derived GABAergic cortical interneuron</th>\n",
       "      <td>SYT1</td>\n",
       "      <td>FASTKD2</td>\n",
       "      <td>SYN3</td>\n",
       "      <td>ERC2</td>\n",
       "      <td>NRXN1</td>\n",
       "      <td>MLLT3</td>\n",
       "      <td>UBE2L3</td>\n",
       "      <td>CSMD1</td>\n",
       "      <td>HDAC8</td>\n",
       "      <td>KCND2</td>\n",
       "      <td>VWC2</td>\n",
       "      <td>GNAQ</td>\n",
       "      <td>CEP170</td>\n",
       "      <td>WDFY3</td>\n",
       "      <td>FRY</td>\n",
       "    </tr>\n",
       "    <tr>\n",
       "      <th>chandelier pvalb GABAergic cortical interneuron</th>\n",
       "      <td>SYT1</td>\n",
       "      <td>CSMD2</td>\n",
       "      <td>FASTKD2</td>\n",
       "      <td>ERC2</td>\n",
       "      <td>EDIL3</td>\n",
       "      <td>CSMD1</td>\n",
       "      <td>GNAQ</td>\n",
       "      <td>NRG3</td>\n",
       "      <td>KIF1B</td>\n",
       "      <td>WDFY3</td>\n",
       "      <td>NRXN1</td>\n",
       "      <td>GRIK1</td>\n",
       "      <td>ATRNL1</td>\n",
       "      <td>ADGRL3</td>\n",
       "      <td>GABRB3</td>\n",
       "    </tr>\n",
       "    <tr>\n",
       "      <th>ependymal cell</th>\n",
       "      <td>WDFY3</td>\n",
       "      <td>KIF1B</td>\n",
       "      <td>ADK</td>\n",
       "      <td>NRG3</td>\n",
       "      <td>GNAQ</td>\n",
       "      <td>PPFIA2</td>\n",
       "      <td>KCTD16</td>\n",
       "      <td>SCN1A</td>\n",
       "      <td>WRNIP1</td>\n",
       "      <td>SLIT2</td>\n",
       "      <td>STXBP5L</td>\n",
       "      <td>LRRC7</td>\n",
       "      <td>SYT1</td>\n",
       "      <td>NTM</td>\n",
       "      <td>PFKFB2</td>\n",
       "    </tr>\n",
       "    <tr>\n",
       "      <th>alternatively activated macrophage</th>\n",
       "      <td>RPL8</td>\n",
       "      <td>RAB31</td>\n",
       "      <td>NDUFA1</td>\n",
       "      <td>FGFR1</td>\n",
       "      <td>FCGR3A</td>\n",
       "      <td>SDCBP</td>\n",
       "      <td>B2M</td>\n",
       "      <td>GNAQ</td>\n",
       "      <td>PCMT1</td>\n",
       "      <td>WRNIP1</td>\n",
       "      <td>UBE2L3</td>\n",
       "      <td>ATP1B3</td>\n",
       "      <td>S100A4</td>\n",
       "      <td>RPL35A</td>\n",
       "      <td>ATXN1</td>\n",
       "    </tr>\n",
       "    <tr>\n",
       "      <th>alveolar macrophage</th>\n",
       "      <td>WRNIP1</td>\n",
       "      <td>B2M</td>\n",
       "      <td>NDUFA1</td>\n",
       "      <td>CFL1</td>\n",
       "      <td>EEF1B2</td>\n",
       "      <td>PSAP</td>\n",
       "      <td>RAB31</td>\n",
       "      <td>GPCPD1</td>\n",
       "      <td>SDHD</td>\n",
       "      <td>C1QB</td>\n",
       "      <td>FCGR3A</td>\n",
       "      <td>ARPP19</td>\n",
       "      <td>RPS23</td>\n",
       "      <td>PITPNB</td>\n",
       "      <td>HLA-DRB1</td>\n",
       "    </tr>\n",
       "    <tr>\n",
       "      <th>central nervous system macrophage</th>\n",
       "      <td>SLC9A9</td>\n",
       "      <td>AUTS2</td>\n",
       "      <td>PGM5</td>\n",
       "      <td>FASTKD2</td>\n",
       "      <td>TACC1</td>\n",
       "      <td>HIBCH</td>\n",
       "      <td>LRCH1</td>\n",
       "      <td>ADK</td>\n",
       "      <td>NTM</td>\n",
       "      <td>NRG3</td>\n",
       "      <td>WDFY3</td>\n",
       "      <td>NXPE3</td>\n",
       "      <td>LCORL</td>\n",
       "      <td>NRXN1</td>\n",
       "      <td>IGSF21</td>\n",
       "    </tr>\n",
       "    <tr>\n",
       "      <th>elicited macrophage</th>\n",
       "      <td>RPS23</td>\n",
       "      <td>NDUFA1</td>\n",
       "      <td>B2M</td>\n",
       "      <td>WRNIP1</td>\n",
       "      <td>OST4</td>\n",
       "      <td>GPCPD1</td>\n",
       "      <td>ARPP19</td>\n",
       "      <td>FPR1</td>\n",
       "      <td>S100A6</td>\n",
       "      <td>EIF1AX</td>\n",
       "      <td>VTI1B</td>\n",
       "      <td>S100A4</td>\n",
       "      <td>FCGR3A</td>\n",
       "      <td>TMUB2</td>\n",
       "      <td>MIF</td>\n",
       "    </tr>\n",
       "    <tr>\n",
       "      <th>inflammatory macrophage</th>\n",
       "      <td>HLA-DRA</td>\n",
       "      <td>B2M</td>\n",
       "      <td>RPL8</td>\n",
       "      <td>FCGR3A</td>\n",
       "      <td>C1QB</td>\n",
       "      <td>ATP1B3</td>\n",
       "      <td>RPL12</td>\n",
       "      <td>BLOC1S6</td>\n",
       "      <td>HLA-DQB1</td>\n",
       "      <td>NDUFA1</td>\n",
       "      <td>FGFR1</td>\n",
       "      <td>S100A6</td>\n",
       "      <td>ESD</td>\n",
       "      <td>OGFRL1</td>\n",
       "      <td>RPS13</td>\n",
       "    </tr>\n",
       "    <tr>\n",
       "      <th>lung macrophage</th>\n",
       "      <td>NDUFA1</td>\n",
       "      <td>RPS23</td>\n",
       "      <td>SDCBP</td>\n",
       "      <td>S100A6</td>\n",
       "      <td>B2M</td>\n",
       "      <td>SDHD</td>\n",
       "      <td>FCGR3A</td>\n",
       "      <td>RPS13</td>\n",
       "      <td>UBE2L3</td>\n",
       "      <td>TTC37</td>\n",
       "      <td>OST4</td>\n",
       "      <td>ADK</td>\n",
       "      <td>TERF2IP</td>\n",
       "      <td>DNTTIP2</td>\n",
       "      <td>TYROBP</td>\n",
       "    </tr>\n",
       "    <tr>\n",
       "      <th>macrophage</th>\n",
       "      <td>RPS23</td>\n",
       "      <td>CCDC159</td>\n",
       "      <td>RAB31</td>\n",
       "      <td>NDUFA1</td>\n",
       "      <td>B2M</td>\n",
       "      <td>RPL18</td>\n",
       "      <td>UBE2L3</td>\n",
       "      <td>LCORL</td>\n",
       "      <td>TAB2</td>\n",
       "      <td>BLOC1S6</td>\n",
       "      <td>RPL35A</td>\n",
       "      <td>CFL1</td>\n",
       "      <td>SDHD</td>\n",
       "      <td>PSMA7</td>\n",
       "      <td>WRNIP1</td>\n",
       "    </tr>\n",
       "    <tr>\n",
       "      <th>lung pericyte</th>\n",
       "      <td>RPS27</td>\n",
       "      <td>WDFY3</td>\n",
       "      <td>RPS3</td>\n",
       "      <td>THY1</td>\n",
       "      <td>PSMA7</td>\n",
       "      <td>ESAM</td>\n",
       "      <td>MT-CYB</td>\n",
       "      <td>FASTKD2</td>\n",
       "      <td>HMOX2</td>\n",
       "      <td>B2M</td>\n",
       "      <td>DGCR6L</td>\n",
       "      <td>TMEM230</td>\n",
       "      <td>IGFBP7</td>\n",
       "      <td>AP3B1</td>\n",
       "      <td>OST4</td>\n",
       "    </tr>\n",
       "    <tr>\n",
       "      <th>paneth cell</th>\n",
       "      <td>ANKRD17</td>\n",
       "      <td>RPL12</td>\n",
       "      <td>S100A6</td>\n",
       "      <td>CCDC159</td>\n",
       "      <td>RPS14</td>\n",
       "      <td>RPL18</td>\n",
       "      <td>LCORL</td>\n",
       "      <td>TTC37</td>\n",
       "      <td>SLC25A38</td>\n",
       "      <td>B2M</td>\n",
       "      <td>EEF1B2</td>\n",
       "      <td>SDHD</td>\n",
       "      <td>NCALD</td>\n",
       "      <td>TRAPPC4</td>\n",
       "      <td>RPS3A</td>\n",
       "    </tr>\n",
       "    <tr>\n",
       "      <th>renal interstitial pericyte</th>\n",
       "      <td>WDFY3</td>\n",
       "      <td>RPS3</td>\n",
       "      <td>EEF1B2</td>\n",
       "      <td>RPS14</td>\n",
       "      <td>RPL12</td>\n",
       "      <td>KLF7</td>\n",
       "      <td>PLEKHA5</td>\n",
       "      <td>CALCRL</td>\n",
       "      <td>LRCH1</td>\n",
       "      <td>EPHB1</td>\n",
       "      <td>RPL34</td>\n",
       "      <td>FAM13C</td>\n",
       "      <td>FMO4</td>\n",
       "      <td>RPL35A</td>\n",
       "      <td>GNAQ</td>\n",
       "    </tr>\n",
       "    <tr>\n",
       "      <th>retina horizontal cell</th>\n",
       "      <td>FRY</td>\n",
       "      <td>CACNA1A</td>\n",
       "      <td>KIF1B</td>\n",
       "      <td>SYT1</td>\n",
       "      <td>FASTKD2</td>\n",
       "      <td>ERC2</td>\n",
       "      <td>AGBL3</td>\n",
       "      <td>SIMC1</td>\n",
       "      <td>ROBO1</td>\n",
       "      <td>KANSL1</td>\n",
       "      <td>WDFY3</td>\n",
       "      <td>ESRRG</td>\n",
       "      <td>MAGI1</td>\n",
       "      <td>KLHL32</td>\n",
       "      <td>PSAP</td>\n",
       "    </tr>\n",
       "  </tbody>\n",
       "</table>\n",
       "</div>"
      ],
      "text/plain": [
       "                                                         0        1        2   \\\n",
       "Bergmann glial cell                                  PTPRZ1     RGL1    KCNN2   \n",
       "L6b glutamatergic cortical neuron                     WDFY3   SH3GL2    CDH12   \n",
       "bronchus fibroblast of lung                          PTGES3   DGCR6L    RPS3A   \n",
       "cardiac neuron                                        NRXN1     XKR4      NTM   \n",
       "caudal ganglionic eminence derived GABAergic co...     SYT1  FASTKD2     SYN3   \n",
       "chandelier pvalb GABAergic cortical interneuron        SYT1    CSMD2  FASTKD2   \n",
       "ependymal cell                                        WDFY3    KIF1B      ADK   \n",
       "alternatively activated macrophage                     RPL8    RAB31   NDUFA1   \n",
       "alveolar macrophage                                  WRNIP1      B2M   NDUFA1   \n",
       "central nervous system macrophage                    SLC9A9    AUTS2     PGM5   \n",
       "elicited macrophage                                   RPS23   NDUFA1      B2M   \n",
       "inflammatory macrophage                             HLA-DRA      B2M     RPL8   \n",
       "lung macrophage                                      NDUFA1    RPS23    SDCBP   \n",
       "macrophage                                            RPS23  CCDC159    RAB31   \n",
       "lung pericyte                                         RPS27    WDFY3     RPS3   \n",
       "paneth cell                                         ANKRD17    RPL12   S100A6   \n",
       "renal interstitial pericyte                           WDFY3     RPS3   EEF1B2   \n",
       "retina horizontal cell                                  FRY  CACNA1A    KIF1B   \n",
       "\n",
       "                                                         3        4       5   \\\n",
       "Bergmann glial cell                                   SCRG1  FASTKD2   CSMD1   \n",
       "L6b glutamatergic cortical neuron                    WRNIP1     GNAQ   CSMD1   \n",
       "bronchus fibroblast of lung                           CETN2  CCDC159    STX2   \n",
       "cardiac neuron                                        TTC37    HIBCH   LRCH1   \n",
       "caudal ganglionic eminence derived GABAergic co...     ERC2    NRXN1   MLLT3   \n",
       "chandelier pvalb GABAergic cortical interneuron        ERC2    EDIL3   CSMD1   \n",
       "ependymal cell                                         NRG3     GNAQ  PPFIA2   \n",
       "alternatively activated macrophage                    FGFR1   FCGR3A   SDCBP   \n",
       "alveolar macrophage                                    CFL1   EEF1B2    PSAP   \n",
       "central nervous system macrophage                   FASTKD2    TACC1   HIBCH   \n",
       "elicited macrophage                                  WRNIP1     OST4  GPCPD1   \n",
       "inflammatory macrophage                              FCGR3A     C1QB  ATP1B3   \n",
       "lung macrophage                                      S100A6      B2M    SDHD   \n",
       "macrophage                                           NDUFA1      B2M   RPL18   \n",
       "lung pericyte                                          THY1    PSMA7    ESAM   \n",
       "paneth cell                                         CCDC159    RPS14   RPL18   \n",
       "renal interstitial pericyte                           RPS14    RPL12    KLF7   \n",
       "retina horizontal cell                                 SYT1  FASTKD2    ERC2   \n",
       "\n",
       "                                                         6        7   \\\n",
       "Bergmann glial cell                                  KLHL32    GPM6B   \n",
       "L6b glutamatergic cortical neuron                      SYT1   KCTD16   \n",
       "bronchus fibroblast of lung                            FTH1   ABCA10   \n",
       "cardiac neuron                                        TACC1    AUTS2   \n",
       "caudal ganglionic eminence derived GABAergic co...   UBE2L3    CSMD1   \n",
       "chandelier pvalb GABAergic cortical interneuron        GNAQ     NRG3   \n",
       "ependymal cell                                       KCTD16    SCN1A   \n",
       "alternatively activated macrophage                      B2M     GNAQ   \n",
       "alveolar macrophage                                   RAB31   GPCPD1   \n",
       "central nervous system macrophage                     LRCH1      ADK   \n",
       "elicited macrophage                                  ARPP19     FPR1   \n",
       "inflammatory macrophage                               RPL12  BLOC1S6   \n",
       "lung macrophage                                      FCGR3A    RPS13   \n",
       "macrophage                                           UBE2L3    LCORL   \n",
       "lung pericyte                                        MT-CYB  FASTKD2   \n",
       "paneth cell                                           LCORL    TTC37   \n",
       "renal interstitial pericyte                         PLEKHA5   CALCRL   \n",
       "retina horizontal cell                                AGBL3    SIMC1   \n",
       "\n",
       "                                                          8        9   \\\n",
       "Bergmann glial cell                                    LCORL   ADGRL3   \n",
       "L6b glutamatergic cortical neuron                      NRXN1   IGSF21   \n",
       "bronchus fibroblast of lung                           S100A4      B2M   \n",
       "cardiac neuron                                       FASTKD2    FGF12   \n",
       "caudal ganglionic eminence derived GABAergic co...     HDAC8    KCND2   \n",
       "chandelier pvalb GABAergic cortical interneuron        KIF1B    WDFY3   \n",
       "ependymal cell                                        WRNIP1    SLIT2   \n",
       "alternatively activated macrophage                     PCMT1   WRNIP1   \n",
       "alveolar macrophage                                     SDHD     C1QB   \n",
       "central nervous system macrophage                        NTM     NRG3   \n",
       "elicited macrophage                                   S100A6   EIF1AX   \n",
       "inflammatory macrophage                             HLA-DQB1   NDUFA1   \n",
       "lung macrophage                                       UBE2L3    TTC37   \n",
       "macrophage                                              TAB2  BLOC1S6   \n",
       "lung pericyte                                          HMOX2      B2M   \n",
       "paneth cell                                         SLC25A38      B2M   \n",
       "renal interstitial pericyte                            LRCH1    EPHB1   \n",
       "retina horizontal cell                                 ROBO1   KANSL1   \n",
       "\n",
       "                                                         10       11       12  \\\n",
       "Bergmann glial cell                                   PCYT2  TERF2IP  SLC44A1   \n",
       "L6b glutamatergic cortical neuron                     TANC2    EPHB1     RPL6   \n",
       "bronchus fibroblast of lung                             NDN   CEP170    RPL12   \n",
       "cardiac neuron                                        LCORL    NCALD    EPHB1   \n",
       "caudal ganglionic eminence derived GABAergic co...     VWC2     GNAQ   CEP170   \n",
       "chandelier pvalb GABAergic cortical interneuron       NRXN1    GRIK1   ATRNL1   \n",
       "ependymal cell                                      STXBP5L    LRRC7     SYT1   \n",
       "alternatively activated macrophage                   UBE2L3   ATP1B3   S100A4   \n",
       "alveolar macrophage                                  FCGR3A   ARPP19    RPS23   \n",
       "central nervous system macrophage                     WDFY3    NXPE3    LCORL   \n",
       "elicited macrophage                                   VTI1B   S100A4   FCGR3A   \n",
       "inflammatory macrophage                               FGFR1   S100A6      ESD   \n",
       "lung macrophage                                        OST4      ADK  TERF2IP   \n",
       "macrophage                                           RPL35A     CFL1     SDHD   \n",
       "lung pericyte                                        DGCR6L  TMEM230   IGFBP7   \n",
       "paneth cell                                          EEF1B2     SDHD    NCALD   \n",
       "renal interstitial pericyte                           RPL34   FAM13C     FMO4   \n",
       "retina horizontal cell                                WDFY3    ESRRG    MAGI1   \n",
       "\n",
       "                                                         13        14  \n",
       "Bergmann glial cell                                   SUMF1    GABRB3  \n",
       "L6b glutamatergic cortical neuron                       NTM      THY1  \n",
       "bronchus fibroblast of lung                           SLIT2    RPL35A  \n",
       "cardiac neuron                                        PDE1C    PTPRZ1  \n",
       "caudal ganglionic eminence derived GABAergic co...    WDFY3       FRY  \n",
       "chandelier pvalb GABAergic cortical interneuron      ADGRL3    GABRB3  \n",
       "ependymal cell                                          NTM    PFKFB2  \n",
       "alternatively activated macrophage                   RPL35A     ATXN1  \n",
       "alveolar macrophage                                  PITPNB  HLA-DRB1  \n",
       "central nervous system macrophage                     NRXN1    IGSF21  \n",
       "elicited macrophage                                   TMUB2       MIF  \n",
       "inflammatory macrophage                              OGFRL1     RPS13  \n",
       "lung macrophage                                     DNTTIP2    TYROBP  \n",
       "macrophage                                            PSMA7    WRNIP1  \n",
       "lung pericyte                                         AP3B1      OST4  \n",
       "paneth cell                                         TRAPPC4     RPS3A  \n",
       "renal interstitial pericyte                          RPL35A      GNAQ  \n",
       "retina horizontal cell                               KLHL32      PSAP  "
      ]
     },
     "execution_count": 46,
     "metadata": {},
     "output_type": "execute_result"
    }
   ],
   "source": [
    "var = pd.read_parquet(join(DATA_PATH, 'var.parquet'))\n",
    "\n",
    "top_x_genes_specific = {\n",
    "    celltype: var.loc[genes[:25].astype(str)].feature_name.tolist()\n",
    "    for celltype, genes in top_x_genes.items()\n",
    "}\n",
    "\n",
    "index = []\n",
    "data = []\n",
    "for k, v in top_x_genes_specific.items():\n",
    "    index.append(k)\n",
    "    data.append(v)\n",
    "    gene_names = v\n",
    "\n",
    "top_marker_genes = pd.DataFrame(data, index)\n",
    "top_marker_genes.to_csv('markers_extended.csv')\n",
    "top_marker_genes.loc[:, range(15)] #.to_csv('markers.csv')"
   ]
  },
  {
   "cell_type": "code",
   "execution_count": null,
   "id": "8204cdc3-ae04-400a-9352-4f370aff2acb",
   "metadata": {},
   "outputs": [],
   "source": []
  },
  {
   "cell_type": "code",
   "execution_count": null,
   "id": "9925016f-99dc-4a55-a003-e19d72ff4c1f",
   "metadata": {},
   "outputs": [],
   "source": []
  },
  {
   "cell_type": "code",
   "execution_count": null,
   "id": "9bb71c20-e895-4a71-ac1b-9b29abff87f1",
   "metadata": {},
   "outputs": [],
   "source": []
  },
  {
   "cell_type": "code",
   "execution_count": null,
   "id": "64758e2c-8db4-496f-b595-6fa98809bc93",
   "metadata": {},
   "outputs": [],
   "source": []
  }
 ],
 "metadata": {
  "kernelspec": {
   "display_name": "Python 3 (ipykernel)",
   "language": "python",
   "name": "python3"
  },
  "language_info": {
   "codemirror_mode": {
    "name": "ipython",
    "version": 3
   },
   "file_extension": ".py",
   "mimetype": "text/x-python",
   "name": "python",
   "nbconvert_exporter": "python",
   "pygments_lexer": "ipython3",
   "version": "3.8.10"
  }
 },
 "nbformat": 4,
 "nbformat_minor": 5
}
