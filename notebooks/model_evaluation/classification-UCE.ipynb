{
 "cells": [
  {
   "cell_type": "code",
   "execution_count": 24,
   "id": "7d3eead8-b4af-4ab4-831d-db56dca77a41",
   "metadata": {
    "tags": []
   },
   "outputs": [],
   "source": [
    "from os.path import join\n",
    "\n",
    "import anndata\n",
    "import numpy as np\n",
    "import pandas as pd\n",
    "import dask.dataframe as dd"
   ]
  },
  {
   "cell_type": "code",
   "execution_count": 25,
   "id": "2de2988f-0359-4daf-8304-a9a61e7fd570",
   "metadata": {
    "tags": []
   },
   "outputs": [],
   "source": [
    "DATA_PATH = '/mnt/dssmcmlfs01/merlin_cxg_2023_05_15_sf-log1p'"
   ]
  },
  {
   "cell_type": "markdown",
   "id": "5b8db630-4d0b-4944-a933-1c0cce710637",
   "metadata": {},
   "source": [
    "## Retieve embeddings for train and test data for UCE model"
   ]
  },
  {
   "cell_type": "code",
   "execution_count": null,
   "id": "bbcc0a65-e16d-4056-86db-d5b70161614e",
   "metadata": {
    "tags": []
   },
   "outputs": [],
   "source": [
    "!pip install -U cellxgene-census"
   ]
  },
  {
   "cell_type": "code",
   "execution_count": 3,
   "id": "7c5eb03b-c660-40bb-8a2c-1c0502d5acf1",
   "metadata": {
    "tags": []
   },
   "outputs": [],
   "source": [
    "import cellxgene_census\n",
    "from cellxgene_census.experimental import get_embedding"
   ]
  },
  {
   "cell_type": "code",
   "execution_count": 4,
   "id": "c04863dc-220a-4014-8a18-ab40ba9857df",
   "metadata": {
    "tags": []
   },
   "outputs": [],
   "source": [
    "cell_type_mapping = pd.read_parquet(join(DATA_PATH, 'categorical_lookup/cell_type.parquet'))\n",
    "cell_type_hierarchy = np.load(join(DATA_PATH, 'cell_type_hierarchy/child_matrix.npy'))\n",
    "dataset_id_mapping = pd.read_parquet(join(DATA_PATH, 'categorical_lookup/dataset_id.parquet'))\n",
    "donor_id_mapping = pd.read_parquet(join(DATA_PATH, 'categorical_lookup/donor_id.parquet'))\n",
    "tech_sample_mapping = pd.read_parquet(join(DATA_PATH, 'categorical_lookup/tech_sample.parquet'))"
   ]
  },
  {
   "cell_type": "code",
   "execution_count": 5,
   "id": "75b22c71-6641-4cc6-9c7f-4f28fe418895",
   "metadata": {
    "tags": []
   },
   "outputs": [],
   "source": [
    "obs_columns = ['cell_type', 'dataset_id', 'donor_id', 'tech_sample']\n",
    "ddf_train = dd.read_parquet(join(DATA_PATH, 'train'), split_row_groups=True)\n",
    "obs_train = dd.read_parquet(join(DATA_PATH, 'train'), columns=obs_columns).compute()\n",
    "ddf_test = dd.read_parquet(join(DATA_PATH, 'test'), split_row_groups=True)\n",
    "obs_test = dd.read_parquet(join(DATA_PATH, 'test'), columns=obs_columns).compute()\n",
    "var = pd.read_parquet(join(DATA_PATH, 'var.parquet'))"
   ]
  },
  {
   "cell_type": "code",
   "execution_count": 6,
   "id": "a3b12134-357c-4320-a664-0eb7810e73e7",
   "metadata": {
    "tags": []
   },
   "outputs": [],
   "source": [
    "obs_test['tech_sample'] = obs_test.tech_sample.replace(tech_sample_mapping.label.to_dict()).astype('category')\n",
    "obs_test['cell_type'] = obs_test.cell_type.replace(cell_type_mapping.label.to_dict()).astype('category')\n",
    "obs_test['dataset_id'] = obs_test.dataset_id.replace(dataset_id_mapping.label.to_dict()).astype('category')\n",
    "obs_test['donor_id'] = obs_test.donor_id.replace(donor_id_mapping.label.to_dict()).astype('category')"
   ]
  },
  {
   "cell_type": "code",
   "execution_count": 7,
   "id": "e1e29e08-a298-4d2c-9e79-738c15aa92cb",
   "metadata": {
    "tags": []
   },
   "outputs": [],
   "source": [
    "obs_train['tech_sample'] = obs_train.tech_sample.replace(tech_sample_mapping.label.to_dict()).astype('category')\n",
    "obs_train['cell_type'] = obs_train.cell_type.replace(cell_type_mapping.label.to_dict()).astype('category')\n",
    "obs_train['dataset_id'] = obs_train.dataset_id.replace(dataset_id_mapping.label.to_dict()).astype('category')\n",
    "obs_train['donor_id'] = obs_train.donor_id.replace(donor_id_mapping.label.to_dict()).astype('category')"
   ]
  },
  {
   "cell_type": "code",
   "execution_count": 8,
   "id": "912ed31c-355e-4b5c-82df-7d17a9ed5ec4",
   "metadata": {
    "tags": []
   },
   "outputs": [],
   "source": [
    "PROTOCOLS = [\n",
    "    \"10x 5' v2\", \n",
    "    \"10x 3' v3\", \n",
    "    \"10x 3' v2\", \n",
    "    \"10x 5' v1\", \n",
    "    \"10x 3' v1\", \n",
    "    \"10x 3' transcription profiling\", \n",
    "    \"10x 5' transcription profiling\"\n",
    "]\n",
    "\n",
    "\n",
    "COLUMN_NAMES = [\n",
    "    \"soma_joinid\",\n",
    "    \"is_primary_data\",\n",
    "    \"dataset_id\", \n",
    "    \"donor_id\",\n",
    "    \"assay\", \n",
    "    \"cell_type\", \n",
    "    \"development_stage\", \n",
    "    \"disease\", \n",
    "    \"tissue\", \n",
    "    \"tissue_general\"\n",
    "]"
   ]
  },
  {
   "cell_type": "code",
   "execution_count": 9,
   "id": "d142d81c-9ae4-4add-ba4d-8a5005ed1623",
   "metadata": {
    "tags": []
   },
   "outputs": [],
   "source": [
    "census = cellxgene_census.open_soma(census_version=\"2023-12-15\")"
   ]
  },
  {
   "cell_type": "code",
   "execution_count": 10,
   "id": "721c6139-02e1-4c4f-b78c-c44b5230c91c",
   "metadata": {
    "tags": []
   },
   "outputs": [],
   "source": [
    "obs = (\n",
    "    census[\"census_data\"][\"homo_sapiens\"]\n",
    "    .obs\n",
    "    .read(\n",
    "        column_names=COLUMN_NAMES,\n",
    "        value_filter=f\"is_primary_data == True and assay in {PROTOCOLS}\"\n",
    "    )\n",
    "    .concat()\n",
    "    .to_pandas()\n",
    ")"
   ]
  },
  {
   "cell_type": "code",
   "execution_count": 29,
   "id": "8851b70b-39ee-44d1-952e-d1eaa50e0c41",
   "metadata": {
    "tags": []
   },
   "outputs": [
    {
     "data": {
      "text/plain": [
       "{'0c774045-26a7-40f8-9b07-6742d3c771c0_ac03',\n",
       " '0c774045-26a7-40f8-9b07-6742d3c771c0_ac04',\n",
       " '0c774045-26a7-40f8-9b07-6742d3c771c0_ac07',\n",
       " '0c774045-26a7-40f8-9b07-6742d3c771c0_ac09',\n",
       " '0c774045-26a7-40f8-9b07-6742d3c771c0_ac15',\n",
       " '0c774045-26a7-40f8-9b07-6742d3c771c0_ac18',\n",
       " '0c774045-26a7-40f8-9b07-6742d3c771c0_ac21',\n",
       " '87ce26ed-e5d1-44b4-81cc-cc5b709a169f_CV-056',\n",
       " '87ce26ed-e5d1-44b4-81cc-cc5b709a169f_SK-008',\n",
       " '87ce26ed-e5d1-44b4-81cc-cc5b709a169f_SK-014',\n",
       " '9ff99bf8-2524-4ab5-ab6e-4bc218e4a449_pooled [sanes2022_Hu0216,sanes2022_Hu0218]',\n",
       " '9ff99bf8-2524-4ab5-ab6e-4bc218e4a449_sanes2022_Hu0216',\n",
       " 'b252b015-b488-4d5c-b16e-968c13e48a2c_SPECTRUM-OV-014',\n",
       " 'b252b015-b488-4d5c-b16e-968c13e48a2c_SPECTRUM-OV-053',\n",
       " 'b252b015-b488-4d5c-b16e-968c13e48a2c_SPECTRUM-OV-067',\n",
       " 'b252b015-b488-4d5c-b16e-968c13e48a2c_SPECTRUM-OV-075',\n",
       " 'b252b015-b488-4d5c-b16e-968c13e48a2c_SPECTRUM-OV-082',\n",
       " 'b252b015-b488-4d5c-b16e-968c13e48a2c_SPECTRUM-OV-083',\n",
       " 'b252b015-b488-4d5c-b16e-968c13e48a2c_SPECTRUM-OV-105',\n",
       " 'b252b015-b488-4d5c-b16e-968c13e48a2c_SPECTRUM-OV-115',\n",
       " 'c3d381b2-3104-444e-8ad5-d3524407bbb6_109829',\n",
       " 'd95ab381-2b7c-4885-b168-0097ed4e397f_109373'}"
      ]
     },
     "execution_count": 29,
     "metadata": {},
     "output_type": "execute_result"
    }
   ],
   "source": [
    "set(obs_test.tech_sample.unique()) - set(obs.tech_sample.unique())"
   ]
  },
  {
   "cell_type": "code",
   "execution_count": 33,
   "id": "72abafb3-13cb-4a85-868b-548f03c2cf99",
   "metadata": {
    "tags": []
   },
   "outputs": [
    {
     "data": {
      "text/plain": [
       "758"
      ]
     },
     "execution_count": 33,
     "metadata": {},
     "output_type": "execute_result"
    }
   ],
   "source": [
    "obs_test.tech_sample.nunique()"
   ]
  },
  {
   "cell_type": "code",
   "execution_count": 31,
   "id": "36823a83-aeb9-4d65-b538-804893cd4294",
   "metadata": {
    "tags": []
   },
   "outputs": [
    {
     "data": {
      "text/plain": [
       "736"
      ]
     },
     "execution_count": 31,
     "metadata": {},
     "output_type": "execute_result"
    }
   ],
   "source": [
    "obs_test.tech_sample.nunique() - len(set(obs_test.tech_sample.unique()) - set(obs.tech_sample.unique()))"
   ]
  },
  {
   "cell_type": "code",
   "execution_count": 11,
   "id": "52c3ba80-8d5a-4dc6-8e84-419e49ab1d06",
   "metadata": {
    "tags": []
   },
   "outputs": [],
   "source": [
    "obs['tech_sample'] = (obs.dataset_id + '_' + obs.donor_id).astype('category')"
   ]
  },
  {
   "cell_type": "code",
   "execution_count": 12,
   "id": "76707b1c-6260-460e-8e3d-a1cc87fa5a58",
   "metadata": {
    "tags": []
   },
   "outputs": [],
   "source": [
    "obs_subset_test = obs.query(\n",
    "    f\"tech_sample in {obs_test.tech_sample.unique().tolist()} and cell_type in {obs_test.cell_type.unique().tolist()}\"\n",
    ")\n",
    "obs_subset_train = obs.query(\n",
    "    f\"tech_sample in {obs_train.tech_sample.unique().tolist()} and cell_type in {obs_train.cell_type.unique().tolist()}\"\n",
    ")"
   ]
  },
  {
   "cell_type": "code",
   "execution_count": 13,
   "id": "4f9f509f-8889-4e1d-9251-e81b0ce5aa96",
   "metadata": {
    "tags": []
   },
   "outputs": [],
   "source": [
    "rng = np.random.default_rng(seed=1)\n",
    "soma_ids_train = rng.choice(obs_subset_train.soma_joinid.to_numpy(), 1_500_000, replace=False)\n",
    "soma_ids_test = obs_subset_test.soma_joinid.to_numpy()"
   ]
  },
  {
   "cell_type": "code",
   "execution_count": null,
   "id": "901bba26-ff95-4c87-a673-5b6af7f166db",
   "metadata": {
    "tags": []
   },
   "outputs": [],
   "source": [
    "embedding_uri = \"s3://cellxgene-contrib-public/contrib/cell-census/soma/2023-12-15/CxG-contrib-2\"\n",
    "census = cellxgene_census.open_soma(census_version=\"2023-12-15\")"
   ]
  },
  {
   "cell_type": "code",
   "execution_count": null,
   "id": "093e5423-5c56-4c71-88ee-6c5c7cb15288",
   "metadata": {
    "tags": []
   },
   "outputs": [],
   "source": [
    "embeddings_train = get_embedding(\"2023-12-15\", embedding_uri, soma_ids_train)\n",
    "embeddings_test = get_embedding(\"2023-12-15\", embedding_uri, soma_ids_test)"
   ]
  },
  {
   "cell_type": "code",
   "execution_count": null,
   "id": "1de90d9f-c549-4cb6-a264-c0ad4acc2ecd",
   "metadata": {
    "tags": []
   },
   "outputs": [],
   "source": [
    "np.save('/mnt/dssfs02/tb_logs/UCE/train_embeddings.npy', embeddings_train)\n",
    "np.save('/mnt/dssfs02/tb_logs/UCE/train_soma_ids.npy', soma_ids_train)\n",
    "np.save('/mnt/dssfs02/tb_logs/UCE/test_embeddings.npy', embeddings_test)\n",
    "np.save('/mnt/dssfs02/tb_logs/UCE/test_soma_ids.npy', soma_ids_test)"
   ]
  },
  {
   "cell_type": "code",
   "execution_count": null,
   "id": "c9e97db0-a685-42fa-8eeb-88dcdaf11276",
   "metadata": {
    "tags": []
   },
   "outputs": [
    {
     "name": "stderr",
     "output_type": "stream",
     "text": [
      "/usr/local/lib/python3.8/dist-packages/anndata/_core/anndata.py:117: ImplicitModificationWarning: Transforming to str index.\n",
      "  warnings.warn(\"Transforming to str index.\", ImplicitModificationWarning)\n",
      "/usr/local/lib/python3.8/dist-packages/anndata/_core/anndata.py:117: ImplicitModificationWarning: Transforming to str index.\n",
      "  warnings.warn(\"Transforming to str index.\", ImplicitModificationWarning)\n"
     ]
    }
   ],
   "source": [
    "anndata.AnnData(\n",
    "    X=embeddings_train,\n",
    "    obs=obs_subset_train.set_index('soma_joinid').loc[soma_ids_train]\n",
    ").write('/mnt/dssfs02/tb_logs/UCE/train.h5ad')\n",
    "\n",
    "anndata.AnnData(\n",
    "    X=embeddings_test,\n",
    "    obs=obs_subset_test.set_index('soma_joinid').loc[soma_ids_test]\n",
    ").write('/mnt/dssfs02/tb_logs/UCE/test.h5ad')"
   ]
  },
  {
   "cell_type": "code",
   "execution_count": null,
   "id": "99c22021-2afd-4d1c-aab2-867c60fb58a4",
   "metadata": {
    "tags": []
   },
   "outputs": [],
   "source": []
  },
  {
   "cell_type": "markdown",
   "id": "3b4afa51-7d74-4cc6-88f6-ff55b18c4cf3",
   "metadata": {},
   "source": [
    "## Fit linear model on top of UCE embeddings"
   ]
  },
  {
   "cell_type": "code",
   "execution_count": 1,
   "id": "1f1f99f8-3093-42da-956a-85d204455018",
   "metadata": {
    "tags": []
   },
   "outputs": [],
   "source": [
    "DATA_PATH = '/mnt/dssmcmlfs01/merlin_cxg_2023_05_15_sf-log1p'"
   ]
  },
  {
   "cell_type": "code",
   "execution_count": 2,
   "id": "7f9b117c-a913-4976-9da5-a1592cba4077",
   "metadata": {
    "tags": []
   },
   "outputs": [],
   "source": [
    "from os.path import join\n",
    "\n",
    "import anndata\n",
    "import numpy as np\n",
    "import pandas as pd\n",
    "\n",
    "from cuml.linear_model import LogisticRegression\n",
    "from tqdm import tqdm"
   ]
  },
  {
   "cell_type": "code",
   "execution_count": 3,
   "id": "6a65bd84-f46d-4125-b468-092e546c7716",
   "metadata": {
    "tags": []
   },
   "outputs": [],
   "source": [
    "adata_train = anndata.read_h5ad('/mnt/dssfs02/tb_logs/UCE/train.h5ad')"
   ]
  },
  {
   "cell_type": "code",
   "execution_count": 4,
   "id": "df144745-4ede-4b8e-80d1-9a479037a6c6",
   "metadata": {
    "tags": []
   },
   "outputs": [],
   "source": [
    "cell_type_mapping = pd.read_parquet(join(DATA_PATH, 'categorical_lookup/cell_type.parquet'))\n",
    "inverse_mapping = {v: k for k, v in cell_type_mapping.label.to_dict().items()}\n",
    "cell_type_hierarchy = np.load(join(DATA_PATH, 'cell_type_hierarchy/child_matrix.npy'))"
   ]
  },
  {
   "cell_type": "code",
   "execution_count": 5,
   "id": "e9375c3f-8d56-41b1-9ec8-7a6a7b855194",
   "metadata": {
    "tags": []
   },
   "outputs": [],
   "source": [
    "X = adata_train.X\n",
    "y = adata_train.obs.cell_type.replace(inverse_mapping).to_numpy()"
   ]
  },
  {
   "cell_type": "code",
   "execution_count": 6,
   "id": "a181204a-e60c-4bac-9ca5-2cca90081849",
   "metadata": {
    "tags": []
   },
   "outputs": [],
   "source": [
    "# embeddings have nan values -> fill those with zeros\n",
    "X[np.isnan(X)] = 0."
   ]
  },
  {
   "cell_type": "code",
   "execution_count": 7,
   "id": "ba5edb39-9806-4fe9-8a9e-8b32d2067f16",
   "metadata": {
    "tags": []
   },
   "outputs": [
    {
     "name": "stderr",
     "output_type": "stream",
     "text": [
      " 25%|██▌       | 1/4 [05:07<15:23, 307.90s/it]"
     ]
    },
    {
     "name": "stdout",
     "output_type": "stream",
     "text": [
      "[W] [19:42:44.072709] L-BFGS stopped, because the line search failed to advance (step delta = 0.000000)\n"
     ]
    },
    {
     "name": "stderr",
     "output_type": "stream",
     "text": [
      " 50%|█████     | 2/4 [09:16<09:06, 273.02s/it]"
     ]
    },
    {
     "name": "stdout",
     "output_type": "stream",
     "text": [
      "[W] [19:46:52.677486] L-BFGS line search failed (code 3); stopping at the last valid step\n"
     ]
    },
    {
     "name": "stderr",
     "output_type": "stream",
     "text": [
      " 75%|███████▌  | 3/4 [10:51<03:11, 191.65s/it]"
     ]
    },
    {
     "name": "stdout",
     "output_type": "stream",
     "text": [
      "[W] [19:48:27.502374] L-BFGS line search failed (code 3); stopping at the last valid step\n"
     ]
    },
    {
     "name": "stderr",
     "output_type": "stream",
     "text": [
      "100%|██████████| 4/4 [13:01<00:00, 195.39s/it]"
     ]
    },
    {
     "name": "stdout",
     "output_type": "stream",
     "text": [
      "[W] [19:50:37.742261] L-BFGS line search failed (code 3); stopping at the last valid step\n"
     ]
    },
    {
     "name": "stderr",
     "output_type": "stream",
     "text": [
      "\n"
     ]
    }
   ],
   "source": [
    "clf_list = []\n",
    "\n",
    "for i in tqdm(range(4)):\n",
    "    clf_list.append(LogisticRegression(class_weight='balanced').fit(X, y))\n"
   ]
  },
  {
   "cell_type": "code",
   "execution_count": null,
   "id": "3a38df75-f3e3-4f41-b65f-8666ef2debd5",
   "metadata": {
    "tags": []
   },
   "outputs": [],
   "source": []
  },
  {
   "cell_type": "markdown",
   "id": "d9ed095f-d5c6-499c-8b9f-0b5ae506761c",
   "metadata": {},
   "source": [
    "## Evaluate on test data"
   ]
  },
  {
   "cell_type": "code",
   "execution_count": 8,
   "id": "cf427743-06fb-4574-ac12-821abea30217",
   "metadata": {
    "tags": []
   },
   "outputs": [],
   "source": [
    "from sklearn.metrics import classification_report\n",
    "from statistics import mean, stdev\n",
    "\n",
    "from utils import correct_labels"
   ]
  },
  {
   "cell_type": "code",
   "execution_count": 9,
   "id": "3d5f2efd-ab9d-40f4-a8d0-bda503aafbd8",
   "metadata": {
    "tags": []
   },
   "outputs": [],
   "source": [
    "adata_test = anndata.read_h5ad('/mnt/dssfs02/tb_logs/UCE/test.h5ad')"
   ]
  },
  {
   "cell_type": "code",
   "execution_count": 10,
   "id": "c0a747c2-a4e6-49b3-873b-55e76bdee512",
   "metadata": {
    "tags": []
   },
   "outputs": [],
   "source": [
    "x_test = adata_test.X\n",
    "y_test = adata_test.obs.cell_type.replace(inverse_mapping).to_numpy()"
   ]
  },
  {
   "cell_type": "code",
   "execution_count": 11,
   "id": "3da007f2-1960-4178-9795-1fbc0071d0c9",
   "metadata": {
    "tags": []
   },
   "outputs": [],
   "source": [
    "x_test[np.isnan(x_test)] = 0."
   ]
  },
  {
   "cell_type": "code",
   "execution_count": 12,
   "id": "ea420fb9-db57-40c5-b393-8b6a4336bf0d",
   "metadata": {
    "tags": []
   },
   "outputs": [],
   "source": [
    "clf_reports = []\n",
    "\n",
    "for clf in clf_list:\n",
    "    preds = clf.predict(x_test)\n",
    "    preds_corr = correct_labels(y_test, preds, cell_type_hierarchy)\n",
    "    clf_reports.append(pd.DataFrame(classification_report(y_test, preds_corr, output_dict=True, zero_division=0.)).T)\n"
   ]
  },
  {
   "cell_type": "code",
   "execution_count": 13,
   "id": "2db24d60-1f0b-43eb-b2d8-63072b18816e",
   "metadata": {
    "tags": []
   },
   "outputs": [
    {
     "name": "stdout",
     "output_type": "stream",
     "text": [
      "0.7611±0.0018\n"
     ]
    }
   ],
   "source": [
    "f1_scores_scgpt = [clf_report.loc['macro avg', 'f1-score'] for clf_report in clf_reports]\n",
    "print(f'{mean(f1_scores_scgpt):.4f}±{stdev(f1_scores_scgpt):.4f}')"
   ]
  },
  {
   "cell_type": "code",
   "execution_count": null,
   "id": "9415b3d0-9e90-4b47-afcd-f577bb4e32f4",
   "metadata": {},
   "outputs": [],
   "source": []
  }
 ],
 "metadata": {
  "kernelspec": {
   "display_name": "Python 3 (ipykernel)",
   "language": "python",
   "name": "python3"
  },
  "language_info": {
   "codemirror_mode": {
    "name": "ipython",
    "version": 3
   },
   "file_extension": ".py",
   "mimetype": "text/x-python",
   "name": "python",
   "nbconvert_exporter": "python",
   "pygments_lexer": "ipython3",
   "version": "3.8.10"
  }
 },
 "nbformat": 4,
 "nbformat_minor": 5
}
