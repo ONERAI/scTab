{
 "cells": [
  {
   "cell_type": "code",
   "execution_count": null,
   "id": "47e69cae",
   "metadata": {
    "collapsed": false,
    "jupyter": {
     "outputs_hidden": false
    },
    "tags": []
   },
   "outputs": [],
   "source": [
    "!pip install anndata\n",
    "!pip install scanpy\n",
    "!pip install scikit-learn==1.2.1\n",
    "!pip install tqdm"
   ]
  },
  {
   "cell_type": "code",
   "execution_count": 1,
   "id": "06af81a7",
   "metadata": {
    "collapsed": false,
    "jupyter": {
     "outputs_hidden": false
    },
    "tags": []
   },
   "outputs": [
    {
     "name": "stderr",
     "output_type": "stream",
     "text": [
      "/home/felixfischer/anaconda3/envs/merlin-torch/lib/python3.10/site-packages/tqdm/auto.py:21: TqdmWarning: IProgress not found. Please update jupyter and ipywidgets. See https://ipywidgets.readthedocs.io/en/stable/user_install.html\n",
      "  from .autonotebook import tqdm as notebook_tqdm\n"
     ]
    }
   ],
   "source": [
    "import pickle\n",
    "from os.path import join\n",
    "\n",
    "import anndata\n",
    "import numpy as np\n",
    "import pandas as pd\n",
    "import torch\n",
    "import scanpy as sc\n",
    "\n",
    "from scipy.sparse import csr_matrix\n",
    "from tqdm.auto import tqdm"
   ]
  },
  {
   "cell_type": "code",
   "execution_count": 2,
   "id": "f9ede2f4-6560-4a94-9ee3-2fbceeea5567",
   "metadata": {
    "tags": []
   },
   "outputs": [],
   "source": [
    "BASE_PATH = '/home/felixfischer/model_inference'"
   ]
  },
  {
   "cell_type": "markdown",
   "id": "ec909451-f531-4eb2-b43b-33b69d8d2c76",
   "metadata": {},
   "source": [
    "# Load example data set"
   ]
  },
  {
   "cell_type": "code",
   "execution_count": 3,
   "id": "2170b572-bcc7-4fac-90eb-3d40e88ffd4d",
   "metadata": {
    "tags": []
   },
   "outputs": [
    {
     "data": {
      "text/plain": [
       "AnnData object with n_obs × n_vars = 5000 × 24185\n",
       "    obs: 'donor_id', 'nCount_RNA', 'nFeature_RNA', 'percent.mt', 'seurat_clusters', 'celltype', 'organism_ontology_term_id', 'assay_ontology_term_id', 'self_reported_ethnicity_ontology_term_id', 'tissue_ontology_term_id', 'is_primary_data', 'sex_ontology_term_id', 'development_stage_ontology_term_id', 'disease_ontology_term_id', 'cell_type_ontology_term_id', 'suspension_type', 'cell_type', 'assay', 'disease', 'organism', 'sex', 'tissue', 'self_reported_ethnicity', 'development_stage'\n",
       "    var: 'name', 'feature_is_filtered', 'feature_name', 'feature_reference', 'feature_biotype'\n",
       "    uns: 'cell_type_ontology_term_id_colors', 'schema_version', 'seurat_clusters_colors', 'title'\n",
       "    obsm: 'X_pca', 'X_umap'"
      ]
     },
     "execution_count": 3,
     "metadata": {},
     "output_type": "execute_result"
    }
   ],
   "source": [
    "adata = anndata.read_h5ad(join(BASE_PATH, 'local.h5ad'))\n",
    "# subsample to 5000 cells to make inference run faster\n",
    "sc.pp.subsample(adata, n_obs=5000)\n",
    "adata"
   ]
  },
  {
   "cell_type": "code",
   "execution_count": null,
   "id": "b899385b-0824-47ce-ba9c-1dcd0276ed4b",
   "metadata": {},
   "outputs": [],
   "source": []
  },
  {
   "cell_type": "markdown",
   "id": "1143d50f-ec2e-4117-8125-c58c0f3318f7",
   "metadata": {},
   "source": [
    "# Inference steps"
   ]
  },
  {
   "cell_type": "markdown",
   "id": "a16c3721-b1c1-476f-897a-f84a7c0e6a2c",
   "metadata": {},
   "source": [
    "## 1. Preprocess data for model inference"
   ]
  },
  {
   "cell_type": "markdown",
   "id": "1eaff8c2-e17d-4f41-9b7d-7bfd825ccb21",
   "metadata": {},
   "source": [
    "Data preparation involves the following steps:\n",
    "\n",
    "1. Streamline feature space (select genes + arrange them in the same order as model was fitted on). \n",
    "    * We should agree on a specific ensembl release\n",
    "        * Currently, I use version 104 - that's the version cellxgene uses\n",
    "        * If we have the same ensembl release we can just do string matching and rearrange the matrix\n",
    "        * If this in not done, the code below does not give the right results\n",
    "2. Normalize data:\n",
    "    * Size factor normalization: normalize each cell to have 10000 counts\n",
    "    * Quantile normalization: Run quantile norm inference (model is already fitted in training)\n",
    "    * Zero centering: Zero center each gene (means per gene are already calculated in training) -> this is done in step 3, otherwise the sparsity structure of the matrix is changed (increased memory footprint a lot)\n",
    "3. Wrap data set into pytorch data loader -> use this to feed data into model"
   ]
  },
  {
   "cell_type": "markdown",
   "id": "8c7d0774-b532-47b4-a6f7-0ceef9aa11c4",
   "metadata": {},
   "source": [
    "#### 1. Streamline feature space"
   ]
  },
  {
   "cell_type": "code",
   "execution_count": 4,
   "id": "c7b77042-f56a-4592-b261-159fef6bd59f",
   "metadata": {
    "tags": []
   },
   "outputs": [
    {
     "data": {
      "text/html": [
       "<div>\n",
       "<style scoped>\n",
       "    .dataframe tbody tr th:only-of-type {\n",
       "        vertical-align: middle;\n",
       "    }\n",
       "\n",
       "    .dataframe tbody tr th {\n",
       "        vertical-align: top;\n",
       "    }\n",
       "\n",
       "    .dataframe thead th {\n",
       "        text-align: right;\n",
       "    }\n",
       "</style>\n",
       "<table border=\"1\" class=\"dataframe\">\n",
       "  <thead>\n",
       "    <tr style=\"text-align: right;\">\n",
       "      <th></th>\n",
       "      <th>name</th>\n",
       "      <th>feature_is_filtered</th>\n",
       "      <th>feature_name</th>\n",
       "      <th>feature_reference</th>\n",
       "      <th>feature_biotype</th>\n",
       "    </tr>\n",
       "    <tr>\n",
       "      <th>gene_ids</th>\n",
       "      <th></th>\n",
       "      <th></th>\n",
       "      <th></th>\n",
       "      <th></th>\n",
       "      <th></th>\n",
       "    </tr>\n",
       "  </thead>\n",
       "  <tbody>\n",
       "    <tr>\n",
       "      <th>ENSG00000238009</th>\n",
       "      <td>RP11-34P13.7</td>\n",
       "      <td>False</td>\n",
       "      <td>RP11-34P13.7</td>\n",
       "      <td>NCBITaxon:9606</td>\n",
       "      <td>gene</td>\n",
       "    </tr>\n",
       "    <tr>\n",
       "      <th>ENSG00000279457</th>\n",
       "      <td>FO538757.2</td>\n",
       "      <td>False</td>\n",
       "      <td>WASH9P</td>\n",
       "      <td>NCBITaxon:9606</td>\n",
       "      <td>gene</td>\n",
       "    </tr>\n",
       "    <tr>\n",
       "      <th>ENSG00000228463</th>\n",
       "      <td>AP006222.2</td>\n",
       "      <td>False</td>\n",
       "      <td>AP006222.1</td>\n",
       "      <td>NCBITaxon:9606</td>\n",
       "      <td>gene</td>\n",
       "    </tr>\n",
       "    <tr>\n",
       "      <th>ENSG00000237094</th>\n",
       "      <td>RP4-669L17.10</td>\n",
       "      <td>False</td>\n",
       "      <td>RP4-669L17.4</td>\n",
       "      <td>NCBITaxon:9606</td>\n",
       "      <td>gene</td>\n",
       "    </tr>\n",
       "    <tr>\n",
       "      <th>ENSG00000230021</th>\n",
       "      <td>RP5-857K21.4</td>\n",
       "      <td>False</td>\n",
       "      <td>RP11-206L10.17</td>\n",
       "      <td>NCBITaxon:9606</td>\n",
       "      <td>gene</td>\n",
       "    </tr>\n",
       "  </tbody>\n",
       "</table>\n",
       "</div>"
      ],
      "text/plain": [
       "                          name  feature_is_filtered    feature_name  \\\n",
       "gene_ids                                                              \n",
       "ENSG00000238009   RP11-34P13.7                False    RP11-34P13.7   \n",
       "ENSG00000279457     FO538757.2                False          WASH9P   \n",
       "ENSG00000228463     AP006222.2                False      AP006222.1   \n",
       "ENSG00000237094  RP4-669L17.10                False    RP4-669L17.4   \n",
       "ENSG00000230021   RP5-857K21.4                False  RP11-206L10.17   \n",
       "\n",
       "                feature_reference feature_biotype  \n",
       "gene_ids                                           \n",
       "ENSG00000238009    NCBITaxon:9606            gene  \n",
       "ENSG00000279457    NCBITaxon:9606            gene  \n",
       "ENSG00000228463    NCBITaxon:9606            gene  \n",
       "ENSG00000237094    NCBITaxon:9606            gene  \n",
       "ENSG00000230021    NCBITaxon:9606            gene  "
      ]
     },
     "execution_count": 4,
     "metadata": {},
     "output_type": "execute_result"
    }
   ],
   "source": [
    "adata.var.head()"
   ]
  },
  {
   "cell_type": "code",
   "execution_count": 5,
   "id": "215010ff-da4e-4b1a-aa0b-6097aa41fb9e",
   "metadata": {
    "tags": []
   },
   "outputs": [
    {
     "data": {
      "text/html": [
       "<div>\n",
       "<style scoped>\n",
       "    .dataframe tbody tr th:only-of-type {\n",
       "        vertical-align: middle;\n",
       "    }\n",
       "\n",
       "    .dataframe tbody tr th {\n",
       "        vertical-align: top;\n",
       "    }\n",
       "\n",
       "    .dataframe thead th {\n",
       "        text-align: right;\n",
       "    }\n",
       "</style>\n",
       "<table border=\"1\" class=\"dataframe\">\n",
       "  <thead>\n",
       "    <tr style=\"text-align: right;\">\n",
       "      <th></th>\n",
       "      <th>gene_names</th>\n",
       "    </tr>\n",
       "  </thead>\n",
       "  <tbody>\n",
       "    <tr>\n",
       "      <th>ENSG00000000003</th>\n",
       "      <td>TSPAN6</td>\n",
       "    </tr>\n",
       "    <tr>\n",
       "      <th>ENSG00000000005</th>\n",
       "      <td>TNMD</td>\n",
       "    </tr>\n",
       "    <tr>\n",
       "      <th>ENSG00000000419</th>\n",
       "      <td>DPM1</td>\n",
       "    </tr>\n",
       "    <tr>\n",
       "      <th>ENSG00000000457</th>\n",
       "      <td>SCYL3</td>\n",
       "    </tr>\n",
       "    <tr>\n",
       "      <th>ENSG00000000460</th>\n",
       "      <td>C1orf112</td>\n",
       "    </tr>\n",
       "  </tbody>\n",
       "</table>\n",
       "</div>"
      ],
      "text/plain": [
       "                gene_names\n",
       "ENSG00000000003     TSPAN6\n",
       "ENSG00000000005       TNMD\n",
       "ENSG00000000419       DPM1\n",
       "ENSG00000000457      SCYL3\n",
       "ENSG00000000460   C1orf112"
      ]
     },
     "execution_count": 5,
     "metadata": {},
     "output_type": "execute_result"
    }
   ],
   "source": [
    "# load the gene order on which model was trained on\n",
    "genes_from_model = pd.read_parquet(join(BASE_PATH, '/home/felixfischer/model_inference/checkpoint/var.parquet'))\n",
    "genes_from_model.head()"
   ]
  },
  {
   "cell_type": "code",
   "execution_count": 6,
   "id": "929ae0c7",
   "metadata": {
    "collapsed": false,
    "jupyter": {
     "outputs_hidden": false
    },
    "tags": []
   },
   "outputs": [
    {
     "data": {
      "text/plain": [
       "(5000, 19357)"
      ]
     },
     "execution_count": 6,
     "metadata": {},
     "output_type": "execute_result"
    }
   ],
   "source": [
    "from cellnet.utils.data_loading import streamline_count_matrix\n",
    "\n",
    "\n",
    "x_streamlined = streamline_count_matrix(adata.raw.X, adata.var.index, genes_from_model.index)\n",
    "x_streamlined.shape"
   ]
  },
  {
   "cell_type": "markdown",
   "id": "488106d8-37c4-42cd-9adf-52fed2aea972",
   "metadata": {},
   "source": [
    "#### 2. Normalize data"
   ]
  },
  {
   "cell_type": "code",
   "execution_count": 7,
   "id": "e6b30a9d-9892-49c4-9473-c2f65de6c7be",
   "metadata": {
    "tags": []
   },
   "outputs": [
    {
     "data": {
      "text/html": [
       "<style>#sk-container-id-1 {color: black;background-color: white;}#sk-container-id-1 pre{padding: 0;}#sk-container-id-1 div.sk-toggleable {background-color: white;}#sk-container-id-1 label.sk-toggleable__label {cursor: pointer;display: block;width: 100%;margin-bottom: 0;padding: 0.3em;box-sizing: border-box;text-align: center;}#sk-container-id-1 label.sk-toggleable__label-arrow:before {content: \"▸\";float: left;margin-right: 0.25em;color: #696969;}#sk-container-id-1 label.sk-toggleable__label-arrow:hover:before {color: black;}#sk-container-id-1 div.sk-estimator:hover label.sk-toggleable__label-arrow:before {color: black;}#sk-container-id-1 div.sk-toggleable__content {max-height: 0;max-width: 0;overflow: hidden;text-align: left;background-color: #f0f8ff;}#sk-container-id-1 div.sk-toggleable__content pre {margin: 0.2em;color: black;border-radius: 0.25em;background-color: #f0f8ff;}#sk-container-id-1 input.sk-toggleable__control:checked~div.sk-toggleable__content {max-height: 200px;max-width: 100%;overflow: auto;}#sk-container-id-1 input.sk-toggleable__control:checked~label.sk-toggleable__label-arrow:before {content: \"▾\";}#sk-container-id-1 div.sk-estimator input.sk-toggleable__control:checked~label.sk-toggleable__label {background-color: #d4ebff;}#sk-container-id-1 div.sk-label input.sk-toggleable__control:checked~label.sk-toggleable__label {background-color: #d4ebff;}#sk-container-id-1 input.sk-hidden--visually {border: 0;clip: rect(1px 1px 1px 1px);clip: rect(1px, 1px, 1px, 1px);height: 1px;margin: -1px;overflow: hidden;padding: 0;position: absolute;width: 1px;}#sk-container-id-1 div.sk-estimator {font-family: monospace;background-color: #f0f8ff;border: 1px dotted black;border-radius: 0.25em;box-sizing: border-box;margin-bottom: 0.5em;}#sk-container-id-1 div.sk-estimator:hover {background-color: #d4ebff;}#sk-container-id-1 div.sk-parallel-item::after {content: \"\";width: 100%;border-bottom: 1px solid gray;flex-grow: 1;}#sk-container-id-1 div.sk-label:hover label.sk-toggleable__label {background-color: #d4ebff;}#sk-container-id-1 div.sk-serial::before {content: \"\";position: absolute;border-left: 1px solid gray;box-sizing: border-box;top: 0;bottom: 0;left: 50%;z-index: 0;}#sk-container-id-1 div.sk-serial {display: flex;flex-direction: column;align-items: center;background-color: white;padding-right: 0.2em;padding-left: 0.2em;position: relative;}#sk-container-id-1 div.sk-item {position: relative;z-index: 1;}#sk-container-id-1 div.sk-parallel {display: flex;align-items: stretch;justify-content: center;background-color: white;position: relative;}#sk-container-id-1 div.sk-item::before, #sk-container-id-1 div.sk-parallel-item::before {content: \"\";position: absolute;border-left: 1px solid gray;box-sizing: border-box;top: 0;bottom: 0;left: 50%;z-index: -1;}#sk-container-id-1 div.sk-parallel-item {display: flex;flex-direction: column;z-index: 1;position: relative;background-color: white;}#sk-container-id-1 div.sk-parallel-item:first-child::after {align-self: flex-end;width: 50%;}#sk-container-id-1 div.sk-parallel-item:last-child::after {align-self: flex-start;width: 50%;}#sk-container-id-1 div.sk-parallel-item:only-child::after {width: 0;}#sk-container-id-1 div.sk-dashed-wrapped {border: 1px dashed gray;margin: 0 0.4em 0.5em 0.4em;box-sizing: border-box;padding-bottom: 0.4em;background-color: white;}#sk-container-id-1 div.sk-label label {font-family: monospace;font-weight: bold;display: inline-block;line-height: 1.2em;}#sk-container-id-1 div.sk-label-container {text-align: center;}#sk-container-id-1 div.sk-container {/* jupyter's `normalize.less` sets `[hidden] { display: none; }` but bootstrap.min.css set `[hidden] { display: none !important; }` so we also need the `!important` here to be able to override the default hidden behavior on the sphinx rendered scikit-learn.org. See: https://github.com/scikit-learn/scikit-learn/issues/21755 */display: inline-block !important;position: relative;}#sk-container-id-1 div.sk-text-repr-fallback {display: none;}</style><div id=\"sk-container-id-1\" class=\"sk-top-container\"><div class=\"sk-text-repr-fallback\"><pre>Pipeline(steps=[(&#x27;sf_normalizer&#x27;,\n",
       "                 FunctionTransformer(func=&lt;function sf_normalize at 0x7f8e339156c0&gt;)),\n",
       "                (&#x27;quantile_transformer&#x27;,\n",
       "                 QuantileTransformer(ignore_implicit_zeros=True,\n",
       "                                     subsample=1000000))])</pre><b>In a Jupyter environment, please rerun this cell to show the HTML representation or trust the notebook. <br />On GitHub, the HTML representation is unable to render, please try loading this page with nbviewer.org.</b></div><div class=\"sk-container\" hidden><div class=\"sk-item sk-dashed-wrapped\"><div class=\"sk-label-container\"><div class=\"sk-label sk-toggleable\"><input class=\"sk-toggleable__control sk-hidden--visually\" id=\"sk-estimator-id-1\" type=\"checkbox\" ><label for=\"sk-estimator-id-1\" class=\"sk-toggleable__label sk-toggleable__label-arrow\">Pipeline</label><div class=\"sk-toggleable__content\"><pre>Pipeline(steps=[(&#x27;sf_normalizer&#x27;,\n",
       "                 FunctionTransformer(func=&lt;function sf_normalize at 0x7f8e339156c0&gt;)),\n",
       "                (&#x27;quantile_transformer&#x27;,\n",
       "                 QuantileTransformer(ignore_implicit_zeros=True,\n",
       "                                     subsample=1000000))])</pre></div></div></div><div class=\"sk-serial\"><div class=\"sk-item\"><div class=\"sk-estimator sk-toggleable\"><input class=\"sk-toggleable__control sk-hidden--visually\" id=\"sk-estimator-id-2\" type=\"checkbox\" ><label for=\"sk-estimator-id-2\" class=\"sk-toggleable__label sk-toggleable__label-arrow\">FunctionTransformer</label><div class=\"sk-toggleable__content\"><pre>FunctionTransformer(func=&lt;function sf_normalize at 0x7f8e339156c0&gt;)</pre></div></div></div><div class=\"sk-item\"><div class=\"sk-estimator sk-toggleable\"><input class=\"sk-toggleable__control sk-hidden--visually\" id=\"sk-estimator-id-3\" type=\"checkbox\" ><label for=\"sk-estimator-id-3\" class=\"sk-toggleable__label sk-toggleable__label-arrow\">QuantileTransformer</label><div class=\"sk-toggleable__content\"><pre>QuantileTransformer(ignore_implicit_zeros=True, subsample=1000000)</pre></div></div></div></div></div></div></div>"
      ],
      "text/plain": [
       "Pipeline(steps=[('sf_normalizer',\n",
       "                 FunctionTransformer(func=<function sf_normalize at 0x7f8e339156c0>)),\n",
       "                ('quantile_transformer',\n",
       "                 QuantileTransformer(ignore_implicit_zeros=True,\n",
       "                                     subsample=1000000))])"
      ]
     },
     "execution_count": 7,
     "metadata": {},
     "output_type": "execute_result"
    }
   ],
   "source": [
    "# this import is need for preprocessing pipeline\n",
    "from cellnet.utils.data_loading import sf_normalize\n",
    "\n",
    "# At the moment I just saved the fitted preprocessing pipeline as pickle\n",
    "# We should discuss whether this is okay for you. Open for suggestions\n",
    "# https://scikit-learn.org/stable/model_persistence.html\n",
    "\n",
    "# for this to work you need scikit-learn version 1.2.1\n",
    "preproc_pipeline = pickle.load(open(join(BASE_PATH, 'checkpoint/norm/preproc_pipeline/preproc_pipeline.pickle'), 'rb'))\n",
    "preproc_pipeline"
   ]
  },
  {
   "cell_type": "code",
   "execution_count": 8,
   "id": "18bb5604-955b-4f95-af9d-b5f1a1dfb411",
   "metadata": {
    "tags": []
   },
   "outputs": [
    {
     "data": {
      "text/plain": [
       "<5000x19357 sparse matrix of type '<class 'numpy.float32'>'\n",
       "\twith 9300693 stored elements in Compressed Sparse Row format>"
      ]
     },
     "execution_count": 8,
     "metadata": {},
     "output_type": "execute_result"
    }
   ],
   "source": [
    "x_streamlined = csr_matrix(preproc_pipeline.transform(x_streamlined))\n",
    "x_streamlined"
   ]
  },
  {
   "cell_type": "code",
   "execution_count": 9,
   "id": "2d52658c-9534-4065-abc3-0878de50fac7",
   "metadata": {
    "tags": []
   },
   "outputs": [
    {
     "data": {
      "text/plain": [
       "(1, 19357)"
      ]
     },
     "execution_count": 9,
     "metadata": {},
     "output_type": "execute_result"
    }
   ],
   "source": [
    "# Means for zero centering are just saved as a numpy array\n",
    "# Zero center data during model inference as this would otherwise break the sparsity structure (increased memory usage)\n",
    "feature_means = np.load(join(BASE_PATH, 'checkpoint/norm/zero_centering/means.npy'))\n",
    "feature_means.shape"
   ]
  },
  {
   "cell_type": "code",
   "execution_count": null,
   "id": "d607616f-521c-4a33-b2f1-ac581ef4cdf0",
   "metadata": {},
   "outputs": [],
   "source": []
  },
  {
   "cell_type": "markdown",
   "id": "2dfc8d40-61e8-4ca7-a112-744ca0b91f5a",
   "metadata": {},
   "source": [
    "#### 3. Wrap into pytroch data loader"
   ]
  },
  {
   "cell_type": "code",
   "execution_count": 10,
   "id": "0ff6e766-014f-49f7-9f69-2939c1d60f24",
   "metadata": {
    "tags": []
   },
   "outputs": [],
   "source": [
    "from cellnet.utils.data_loading import dataloader_factory\n",
    "\n",
    "# Wrap dataset into pytorch data loader to use for batched inference\n",
    "loader = dataloader_factory(x_streamlined, batch_size=2048)"
   ]
  },
  {
   "cell_type": "code",
   "execution_count": null,
   "id": "9e7540a4-b2d3-4264-865d-db2a70e15c84",
   "metadata": {},
   "outputs": [],
   "source": []
  },
  {
   "cell_type": "markdown",
   "id": "3a44f88a-7515-4706-8520-54e7e477048d",
   "metadata": {},
   "source": [
    "## 2. Load weights from checkpoint and intialize model"
   ]
  },
  {
   "cell_type": "code",
   "execution_count": 11,
   "id": "d51502d4-699d-4f50-973b-2b5728668acd",
   "metadata": {
    "tags": []
   },
   "outputs": [],
   "source": [
    "from collections import OrderedDict\n",
    "import yaml"
   ]
  },
  {
   "cell_type": "code",
   "execution_count": 12,
   "id": "2f54a308-61f7-477f-887d-84d8683bdc5b",
   "metadata": {
    "tags": []
   },
   "outputs": [],
   "source": [
    "# load checkpoint\n",
    "ckpt = torch.load(join(BASE_PATH, 'checkpoint/model.ckpt'), map_location=torch.device('cpu'))\n",
    "\n",
    "# extract state_dict of tabnet model from checkpoint\n",
    "# I can do this as well and just send you the updated checkpoint file - I think this would be the best solution\n",
    "# I just put this here for completeness\n",
    "tabnet_weights = OrderedDict()\n",
    "for name, weight in ckpt['state_dict'].items():\n",
    "    if 'classifier.' in name:\n",
    "        tabnet_weights[name.replace('classifier.', '')] = weight\n"
   ]
  },
  {
   "cell_type": "code",
   "execution_count": 13,
   "id": "2b2934ac-4864-4fde-8c64-48d1d38d4ecb",
   "metadata": {
    "tags": []
   },
   "outputs": [],
   "source": [
    "from cellnet.tabnet.tab_network import TabNet\n",
    "\n",
    "\n",
    "# load in hparams file of model to get model architecture\n",
    "with open(join(BASE_PATH, 'checkpoint/hparams.yaml')) as f:\n",
    "    model_params = yaml.full_load(f.read())\n",
    "\n",
    "\n",
    "# initialzie model with hparams from hparams.yaml file\n",
    "tabnet = TabNet(\n",
    "    input_dim=model_params['gene_dim'],\n",
    "    output_dim=model_params['type_dim'],\n",
    "    n_d=model_params['n_d'],\n",
    "    n_a=model_params['n_a'],\n",
    "    n_steps=model_params['n_steps'],\n",
    "    gamma=model_params['gamma'],\n",
    "    n_independent=model_params['n_independent'],\n",
    "    n_shared=model_params['n_shared'],\n",
    "    epsilon=model_params['epsilon'],\n",
    "    virtual_batch_size=model_params['virtual_batch_size'],\n",
    "    momentum=model_params['momentum'],\n",
    "    mask_type=model_params['mask_type'],\n",
    ")\n",
    "\n",
    "# load trained weights\n",
    "tabnet.load_state_dict(tabnet_weights)\n",
    "# set model to inference mode\n",
    "tabnet.eval();"
   ]
  },
  {
   "cell_type": "code",
   "execution_count": 14,
   "id": "b462be63",
   "metadata": {
    "collapsed": false,
    "jupyter": {
     "outputs_hidden": false
    },
    "tags": []
   },
   "outputs": [],
   "source": [
    "# convert to torch tensor\n",
    "feature_means = torch.tensor(feature_means)"
   ]
  },
  {
   "cell_type": "code",
   "execution_count": null,
   "id": "49d4043c-2f40-4c63-8000-9b9a66ec9815",
   "metadata": {},
   "outputs": [],
   "source": []
  },
  {
   "cell_type": "markdown",
   "id": "c77f515b-4841-4460-a205-a061309d011d",
   "metadata": {},
   "source": [
    "## 3. Run model inference"
   ]
  },
  {
   "cell_type": "code",
   "execution_count": 15,
   "id": "06c50c15-d2ab-4347-9643-0f80a1a27f21",
   "metadata": {
    "tags": []
   },
   "outputs": [
    {
     "name": "stderr",
     "output_type": "stream",
     "text": [
      "100%|██████████████████████████████████████████████████████████████████████████████████████████████████████████████████████████████████████████████████████████████████| 3/3 [00:45<00:00, 15.15s/it]\n"
     ]
    }
   ],
   "source": [
    "preds = []\n",
    "\n",
    "with torch.no_grad():\n",
    "    for batch in tqdm(loader):\n",
    "        # zero center data\n",
    "        x_input = batch[0]['X'] - feature_means\n",
    "        logits, _ = tabnet(x_input)\n",
    "        preds.append(torch.argmax(logits, dim=1).numpy())\n",
    "\n",
    "\n",
    "preds = np.hstack(preds)"
   ]
  },
  {
   "cell_type": "code",
   "execution_count": 16,
   "id": "da32c5c9-52c6-4290-8942-c5c2a6cc5135",
   "metadata": {
    "tags": []
   },
   "outputs": [
    {
     "data": {
      "text/plain": [
       "array([79, 12, 30, ..., 49, 10, 18])"
      ]
     },
     "execution_count": 16,
     "metadata": {},
     "output_type": "execute_result"
    }
   ],
   "source": [
    "preds"
   ]
  },
  {
   "cell_type": "code",
   "execution_count": 17,
   "id": "72917ef9-5973-433f-8b32-3f1c7c02fc9b",
   "metadata": {
    "tags": []
   },
   "outputs": [],
   "source": [
    "# model outputs just integers -> each int corresponds to a specific cell type\n",
    "# revert this mapping now\n",
    "cell_type_mapping = pd.read_parquet(join(BASE_PATH, 'checkpoint/cell_type.parquet'))"
   ]
  },
  {
   "cell_type": "code",
   "execution_count": 18,
   "id": "d4629760-fb02-4ce1-a08f-bf191e8cdb3f",
   "metadata": {
    "tags": []
   },
   "outputs": [
    {
     "data": {
      "text/plain": [
       "array(['elicited macrophage', 'natural killer cell', 'T cell', ...,\n",
       "       'macrophage', 'mast cell', 'monocyte'], dtype=object)"
      ]
     },
     "execution_count": 18,
     "metadata": {},
     "output_type": "execute_result"
    }
   ],
   "source": [
    "preds = cell_type_mapping.loc[preds]['label'].to_numpy()\n",
    "preds"
   ]
  },
  {
   "cell_type": "code",
   "execution_count": 19,
   "id": "be65ee0c-5e26-417d-84e2-b428910f22ac",
   "metadata": {
    "tags": []
   },
   "outputs": [
    {
     "data": {
      "text/plain": [
       "(5000,)"
      ]
     },
     "execution_count": 19,
     "metadata": {},
     "output_type": "execute_result"
    }
   ],
   "source": [
    "preds.shape"
   ]
  },
  {
   "cell_type": "code",
   "execution_count": null,
   "id": "1b3a1362-e45b-4bcb-af45-553da1456f48",
   "metadata": {},
   "outputs": [],
   "source": []
  }
 ],
 "metadata": {
  "kernelspec": {
   "display_name": "Python 3 (ipykernel)",
   "language": "python",
   "name": "python3"
  },
  "language_info": {
   "codemirror_mode": {
    "name": "ipython",
    "version": 3
   },
   "file_extension": ".py",
   "mimetype": "text/x-python",
   "name": "python",
   "nbconvert_exporter": "python",
   "pygments_lexer": "ipython3",
   "version": "3.10.11"
  }
 },
 "nbformat": 4,
 "nbformat_minor": 5
}
