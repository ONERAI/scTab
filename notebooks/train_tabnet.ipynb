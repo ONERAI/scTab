{
 "cells": [
  {
   "cell_type": "code",
   "execution_count": null,
   "metadata": {
    "collapsed": true
   },
   "outputs": [],
   "source": [
    "import os\n",
    "import seaborn as sns\n",
    "import torch\n",
    "from pytorch_lightning.callbacks import ModelCheckpoint, LearningRateMonitor, TQDMProgressBar\n",
    "from pytorch_lightning.loggers import TensorBoardLogger\n",
    "from pytorch_lightning.utilities.model_summary import ModelSummary\n",
    "from lightning_fabric.utilities.seed import seed_everything"
   ]
  },
  {
   "cell_type": "code",
   "execution_count": null,
   "outputs": [],
   "source": [
    "%load_ext autoreload"
   ],
   "metadata": {
    "collapsed": false
   }
  },
  {
   "cell_type": "code",
   "execution_count": null,
   "outputs": [],
   "source": [
    "%autoreload\n",
    "from cellnet.estimators import EstimatorCellTypeClassifier"
   ],
   "metadata": {
    "collapsed": false
   }
  },
  {
   "cell_type": "markdown",
   "source": [
    "# Init model"
   ],
   "metadata": {
    "collapsed": false
   }
  },
  {
   "cell_type": "code",
   "execution_count": null,
   "outputs": [],
   "source": [
    "# config parameters\n",
    "MODEL = 'cellnet'\n",
    "CHECKPOINT_PATH = os.path.join('/lustre/scratch/users/felix.fischer/tb_logs', MODEL)\n",
    "LOGS_PATH = os.path.join('/lustre/scratch/users/felix.fischer/tb_logs', MODEL)\n",
    "DATA_PATH = '/lustre/scratch/users/felix.fischer/merlin_cxg_norm_parquet'\n",
    "\n",
    "\n",
    "estim = EstimatorCellTypeClassifier(DATA_PATH)\n",
    "seed_everything(1)\n",
    "estim.init_datamodule(batch_size=4096)\n",
    "estim.init_trainer(\n",
    "    trainer_kwargs={\n",
    "        'max_epochs': 1000,\n",
    "        'gradient_clip_val': 1.,\n",
    "        'gradient_clip_algorithm': 'norm',\n",
    "        'default_root_dir': CHECKPOINT_PATH,\n",
    "        'accelerator': 'gpu',\n",
    "        'devices': 1,\n",
    "        'num_sanity_val_steps': 0,\n",
    "        'check_val_every_n_epoch': 1,\n",
    "        'logger': [TensorBoardLogger(LOGS_PATH, name='default')],\n",
    "        'log_every_n_steps': 100,\n",
    "        'detect_anomaly': False,\n",
    "        'enable_progress_bar': True,\n",
    "        'enable_model_summary': False,\n",
    "        'enable_checkpointing': True,\n",
    "        'callbacks': [\n",
    "            TQDMProgressBar(refresh_rate=100),\n",
    "            LearningRateMonitor(logging_interval='step'),\n",
    "            ModelCheckpoint(filename='train_loss_{epoch}_{train_loss:.3f}', monitor='train_loss_epoch', mode='min',\n",
    "                            every_n_epochs=1, save_top_k=2),\n",
    "            ModelCheckpoint(filename='val_f1_macro_{epoch}_{val_f1_macro:.3f}', monitor='val_f1_macro', mode='max',\n",
    "                            every_n_epochs=1, save_top_k=2),\n",
    "            ModelCheckpoint(filename='val_loss_{epoch}_{val_loss:.3f}', monitor='val_loss', mode='min',\n",
    "                            every_n_epochs=1, save_top_k=2)\n",
    "        ],\n",
    "    }\n",
    ")\n",
    "estim.init_model(\n",
    "    model_type='tabnet',\n",
    "    model_kwargs={\n",
    "        'learning_rate': 0.005,\n",
    "        'weight_decay': 0.1,\n",
    "        'lr_scheduler': torch.optim.lr_scheduler.StepLR,\n",
    "        'lr_scheduler_kwargs': {\n",
    "            'step_size': 2,\n",
    "            'gamma': 0.9,\n",
    "            'verbose': True\n",
    "        },\n",
    "        'optimizer': torch.optim.AdamW,\n",
    "        'lambda_sparse': 1e-6,\n",
    "        'n_d': 512,\n",
    "        'n_a': 128,\n",
    "        'n_steps': 5,\n",
    "        'gamma': 1.3,\n",
    "        'n_independent': 4,\n",
    "        'n_shared': 4,\n",
    "        'virtual_batch_size': 256,\n",
    "        'mask_type': 'entmax',\n",
    "    },\n",
    ")\n",
    "print(ModelSummary(estim.model))\n"
   ],
   "metadata": {
    "collapsed": false
   }
  },
  {
   "cell_type": "markdown",
   "source": [
    "# Find learning rate"
   ],
   "metadata": {
    "collapsed": false
   }
  },
  {
   "cell_type": "code",
   "execution_count": null,
   "outputs": [],
   "source": [
    "lr_find_res = estim.find_lr(lr_find_kwargs={'early_stop_threshold': 10., 'min_lr': 1e-8, 'max_lr': 10., 'num_training': 120})"
   ],
   "metadata": {
    "collapsed": false
   }
  },
  {
   "cell_type": "code",
   "execution_count": null,
   "outputs": [],
   "source": [
    "ax = sns.lineplot(x=lr_find_res[1]['lr'], y=lr_find_res[1]['loss'])\n",
    "ax.set_xscale('log')\n",
    "ax.set_ylim(12., top=20.)\n",
    "ax.set_xlim(1e-6, 10.)\n",
    "print(f'Suggested learning rate: {lr_find_res[0]}')"
   ],
   "metadata": {
    "collapsed": false
   }
  },
  {
   "cell_type": "markdown",
   "source": [
    "# Fit model"
   ],
   "metadata": {
    "collapsed": false
   }
  },
  {
   "cell_type": "code",
   "execution_count": null,
   "outputs": [],
   "source": [
    "estim.train()"
   ],
   "metadata": {
    "collapsed": false
   }
  },
  {
   "cell_type": "code",
   "execution_count": null,
   "outputs": [],
   "source": [],
   "metadata": {
    "collapsed": false
   }
  }
 ],
 "metadata": {
  "kernelspec": {
   "display_name": "Python 3",
   "language": "python",
   "name": "python3"
  },
  "language_info": {
   "codemirror_mode": {
    "name": "ipython",
    "version": 2
   },
   "file_extension": ".py",
   "mimetype": "text/x-python",
   "name": "python",
   "nbconvert_exporter": "python",
   "pygments_lexer": "ipython2",
   "version": "2.7.6"
  }
 },
 "nbformat": 4,
 "nbformat_minor": 0
}
