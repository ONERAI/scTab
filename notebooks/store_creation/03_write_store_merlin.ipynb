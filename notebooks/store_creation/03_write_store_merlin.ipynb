{
 "cells": [
  {
   "cell_type": "code",
   "execution_count": 1,
   "id": "4a93aff3-d33d-43f6-a806-71fbbfa6b525",
   "metadata": {},
   "outputs": [],
   "source": [
    "import os\n",
    "\n",
    "DATA_PATH = '/lustre/scratch/users/felix.fischer/merlin_cxg_simple_norm'\n",
    "OUT_PATH = '/lustre/scratch/users/felix.fischer/merlin_cxg_simple_norm_parquet'\n",
    "\n",
    "os.makedirs(OUT_PATH)"
   ]
  },
  {
   "cell_type": "code",
   "execution_count": null,
   "id": "64a4abdb-9561-4475-adf9-7ae6fb869992",
   "metadata": {},
   "outputs": [],
   "source": []
  },
  {
   "cell_type": "code",
   "execution_count": 2,
   "id": "bb3fb8cb-5e98-4af3-ab6e-51c33852e95b",
   "metadata": {},
   "outputs": [],
   "source": [
    "import dask\n",
    "import dask.array as da\n",
    "import dask.dataframe as dd\n",
    "import pandas as pd\n",
    "import numpy as np\n",
    "import pyarrow as pa\n",
    "\n",
    "from os.path import join\n",
    "import shutil"
   ]
  },
  {
   "cell_type": "code",
   "execution_count": 3,
   "id": "b951bc88-66fd-46fd-8a7f-5b9b56531913",
   "metadata": {
    "tags": []
   },
   "outputs": [],
   "source": [
    "from multiprocessing.pool import ThreadPool\n",
    "import dask\n",
    "\n",
    "dask.config.set(scheduler='processes', num_workers=4);"
   ]
  },
  {
   "cell_type": "code",
   "execution_count": null,
   "id": "5abed26a-6724-43f6-915a-dad9fbd08dce",
   "metadata": {},
   "outputs": [],
   "source": []
  },
  {
   "cell_type": "markdown",
   "id": "9e78af09-08ec-4c5b-9b8f-90e3cc85f9e5",
   "metadata": {},
   "source": [
    "# Copy var dataframe + norm data"
   ]
  },
  {
   "cell_type": "code",
   "execution_count": 4,
   "id": "6d13a0bc-c223-4760-9f7e-686844c255c8",
   "metadata": {
    "tags": []
   },
   "outputs": [],
   "source": [
    "shutil.copy(join(DATA_PATH, 'train', 'var.parquet'), join(OUT_PATH, 'var.parquet'));"
   ]
  },
  {
   "cell_type": "code",
   "execution_count": 5,
   "id": "c8401d2a-0dcb-4980-b712-0ce28c60679c",
   "metadata": {
    "tags": []
   },
   "outputs": [],
   "source": [
    "!cp -r {join(DATA_PATH, 'norm')} {join(OUT_PATH, 'norm')}"
   ]
  },
  {
   "cell_type": "code",
   "execution_count": null,
   "id": "01ed62d7-f3ed-4470-8f16-786145f2dafe",
   "metadata": {},
   "outputs": [],
   "source": []
  },
  {
   "cell_type": "markdown",
   "id": "f279a9d4-4146-4b76-b276-bef7c29e1103",
   "metadata": {},
   "source": [
    "# Create lookup tables for categorical variables"
   ]
  },
  {
   "cell_type": "code",
   "execution_count": 14,
   "id": "6a07e899-81ce-40cf-a5f9-5c3feb33f4ac",
   "metadata": {
    "tags": []
   },
   "outputs": [],
   "source": [
    "from pandas import testing as tm"
   ]
  },
  {
   "cell_type": "code",
   "execution_count": 7,
   "id": "ddf6b670-6ba1-4235-9fde-05947fa520bd",
   "metadata": {},
   "outputs": [],
   "source": [
    "obs_train = pd.read_parquet(join(DATA_PATH, 'train', 'obs.parquet')).reset_index(drop=True)\n",
    "obs_val = pd.read_parquet(join(DATA_PATH, 'val', 'obs.parquet')).reset_index(drop=True)\n",
    "obs_test = pd.read_parquet(join(DATA_PATH, 'test', 'obs.parquet')).reset_index(drop=True)\n",
    "\n",
    "obs = pd.concat([obs_train, obs_val, obs_test])"
   ]
  },
  {
   "cell_type": "code",
   "execution_count": 8,
   "id": "55d7697a-57f2-4615-949a-f4840896e2d1",
   "metadata": {},
   "outputs": [],
   "source": [
    "cols_train = obs_train.columns.tolist()\n",
    "assert cols_train == obs_val.columns.tolist()\n",
    "assert cols_train == obs_test.columns.tolist()"
   ]
  },
  {
   "cell_type": "code",
   "execution_count": 9,
   "id": "a5f4941e-000a-4264-962b-9b2347c2a749",
   "metadata": {},
   "outputs": [],
   "source": [
    "for col in cols_train:\n",
    "    obs[col] = obs[col].cat.remove_unused_categories()\n",
    "\n",
    "\n",
    "for col in cols_train:\n",
    "    categories = list(obs[col].cat.categories)\n",
    "    obs_train[col] = pd.Categorical(obs_train[col], categories, ordered=False)\n",
    "    obs_val[col] = pd.Categorical(obs_val[col], categories, ordered=False)\n",
    "    obs_test[col] = pd.Categorical(obs_test[col], categories, ordered=False)"
   ]
  },
  {
   "cell_type": "code",
   "execution_count": 10,
   "id": "ee8fedbb-0e17-4e48-8db5-3f9db7218a69",
   "metadata": {
    "tags": []
   },
   "outputs": [],
   "source": [
    "lookup_path = join(OUT_PATH, 'categorical_lookup')\n",
    "os.makedirs(lookup_path)\n",
    "\n",
    "for col in cols_train:\n",
    "    cats_train = pd.Series(dict(enumerate(obs_train[col].cat.categories))).to_frame().rename(columns={0: 'label'})\n",
    "    cats_val = pd.Series(dict(enumerate(obs_val[col].cat.categories))).to_frame().rename(columns={0: 'label'})\n",
    "    cats_test = pd.Series(dict(enumerate(obs_test[col].cat.categories))).to_frame().rename(columns={0: 'label'})\n",
    "    \n",
    "    tm.assert_frame_equal(cats_train, cats_val)\n",
    "    tm.assert_frame_equal(cats_train, cats_val)\n",
    "    \n",
    "    cats_train.to_parquet(join(lookup_path, f'{col}.parquet'), index=True)\n"
   ]
  },
  {
   "cell_type": "code",
   "execution_count": 11,
   "id": "398a8a0a-007b-4058-8ead-b90085bb412d",
   "metadata": {},
   "outputs": [],
   "source": [
    "# only use integer labels from now on\n",
    "for col in cols_train:\n",
    "    obs_train[col] = obs_train[col].cat.codes.astype('i8')\n",
    "    obs_val[col] = obs_val[col].cat.codes.astype('i8')\n",
    "    obs_test[col] = obs_test[col].cat.codes.astype('i8')"
   ]
  },
  {
   "cell_type": "code",
   "execution_count": 12,
   "id": "5268e753-5aed-460a-814d-83fa9e2d17c1",
   "metadata": {},
   "outputs": [],
   "source": [
    "obs_dict = {'train': obs_train, 'val': obs_val, 'test': obs_test}"
   ]
  },
  {
   "cell_type": "code",
   "execution_count": 13,
   "id": "cfcbbc45-4c01-4f36-aeea-98c2ad0689dc",
   "metadata": {},
   "outputs": [],
   "source": [
    "from sklearn.utils.class_weight import compute_class_weight\n",
    "\n",
    "# calculate and save class weights\n",
    "class_weights = compute_class_weight('balanced', classes=np.unique(obs_train['cell_type']), y=obs_train['cell_type'])\n",
    "\n",
    "with open(join(OUT_PATH, 'class_weights.npy'), 'wb') as f:\n",
    "    np.save(f, class_weights)"
   ]
  },
  {
   "cell_type": "code",
   "execution_count": null,
   "id": "8498e937-b4d1-4ded-a4fc-a5a2681b9795",
   "metadata": {},
   "outputs": [],
   "source": []
  },
  {
   "cell_type": "markdown",
   "id": "32a708b7-fde4-4f3c-b9d0-c1ba820a4a5c",
   "metadata": {},
   "source": [
    "# Write store"
   ]
  },
  {
   "cell_type": "code",
   "execution_count": 15,
   "id": "238f9e13-ce0d-498e-b832-fa824737c625",
   "metadata": {
    "tags": []
   },
   "outputs": [
    {
     "name": "stdout",
     "output_type": "stream",
     "text": [
      "train: 6631424 cells\n",
      "val: 1533952 cells\n",
      "test: 1403904 cells\n"
     ]
    }
   ],
   "source": [
    "CHUNK_SIZE = 32768\n",
    "ROW_GROUP_SIZE = 1024\n",
    "\n",
    "\n",
    "for split in ['train', 'val', 'test']:\n",
    "    X = da.from_zarr(join(DATA_PATH, split, 'zarr'), 'X')\n",
    "    obs_ = obs_dict[split]\n",
    "    \n",
    "    # cut off samples that all parquet files have the same number of samples\n",
    "    n_samples = X.shape[0]\n",
    "    n_samples = (n_samples // ROW_GROUP_SIZE) * ROW_GROUP_SIZE\n",
    "    X = X[:n_samples]\n",
    "    obs_ = obs_.iloc[:n_samples].copy()\n",
    "    print(f'{split}: {X.shape[0]} cells')\n",
    "    # add an index column to identifiy each sample\n",
    "    obs_['idx'] = np.arange(len(obs_), dtype='i8')\n",
    "\n",
    "    ddf_X = (\n",
    "        X\n",
    "        .rechunk((CHUNK_SIZE, -1))\n",
    "        .to_dask_dataframe()\n",
    "        .map_partitions(\n",
    "            lambda df: df.apply(\n",
    "                lambda row: np.array(row.tolist()).astype('f4'), axis=1\n",
    "            ).to_frame().rename(columns={0: 'X'}),\n",
    "            meta={'X': 'object'}\n",
    "        )\n",
    "    )\n",
    "    ddf = dd.multi.concat([ddf_X, obs_], axis=1)\n",
    "\n",
    "    schema = pa.schema([\n",
    "        ('X', pa.list_(pa.float32())),\n",
    "        ('id', pa.int64()),  \n",
    "        ('assay_sc', pa.int64()),\n",
    "        ('tech_sample', pa.int64()),\n",
    "        ('cell_type', pa.int64()),\n",
    "        ('cell_type_ontology_term_id', pa.int64()),\n",
    "        ('disease', pa.int64()),\n",
    "        ('development_stage', pa.int64()),\n",
    "        ('organ', pa.int64()),\n",
    "        ('idx', pa.int64()),\n",
    "    ])\n",
    "    ddf.to_parquet(\n",
    "        join(OUT_PATH, split), \n",
    "        engine='pyarrow',\n",
    "        schema=schema,\n",
    "        write_metadata_file=True,\n",
    "        row_group_size=ROW_GROUP_SIZE\n",
    "    )\n"
   ]
  },
  {
   "cell_type": "code",
   "execution_count": null,
   "id": "5ec3f52b-67dc-4b33-9716-96a983ead8ed",
   "metadata": {},
   "outputs": [],
   "source": []
  }
 ],
 "metadata": {
  "kernelspec": {
   "display_name": "Python 3 (ipykernel)",
   "language": "python",
   "name": "python3"
  },
  "language_info": {
   "codemirror_mode": {
    "name": "ipython",
    "version": 3
   },
   "file_extension": ".py",
   "mimetype": "text/x-python",
   "name": "python",
   "nbconvert_exporter": "python",
   "pygments_lexer": "ipython3",
   "version": "3.10.9"
  }
 },
 "nbformat": 4,
 "nbformat_minor": 5
}
