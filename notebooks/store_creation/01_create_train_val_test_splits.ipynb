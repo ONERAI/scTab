{
 "cells": [
  {
   "cell_type": "code",
   "execution_count": null,
   "id": "1bf0b43b-2a3a-446b-9c81-ff2b45f71297",
   "metadata": {
    "tags": []
   },
   "outputs": [],
   "source": [
    "!pip install -q cellxgene-census"
   ]
  },
  {
   "cell_type": "code",
   "execution_count": 2,
   "id": "cd979aad-6e4f-4fa1-a656-42fbf4c35a7d",
   "metadata": {
    "tags": []
   },
   "outputs": [
    {
     "name": "stdout",
     "output_type": "stream",
     "text": [
      "\n",
      "\u001b[1m[\u001b[0m\u001b[34;49mnotice\u001b[0m\u001b[1;39;49m]\u001b[0m\u001b[39;49m A new release of pip is available: \u001b[0m\u001b[31;49m23.1.1\u001b[0m\u001b[39;49m -> \u001b[0m\u001b[32;49m23.1.2\u001b[0m\n",
      "\u001b[1m[\u001b[0m\u001b[34;49mnotice\u001b[0m\u001b[1;39;49m]\u001b[0m\u001b[39;49m To update, run: \u001b[0m\u001b[32;49mpython3 -m pip install --upgrade pip\u001b[0m\n"
     ]
    }
   ],
   "source": [
    "!pip install -q obonet"
   ]
  },
  {
   "cell_type": "code",
   "execution_count": 3,
   "id": "818b5469-068e-4ecb-9228-ab90dce0d8b3",
   "metadata": {
    "tags": []
   },
   "outputs": [
    {
     "name": "stdout",
     "output_type": "stream",
     "text": [
      "\n",
      "\u001b[1m[\u001b[0m\u001b[34;49mnotice\u001b[0m\u001b[1;39;49m]\u001b[0m\u001b[39;49m A new release of pip is available: \u001b[0m\u001b[31;49m23.1.1\u001b[0m\u001b[39;49m -> \u001b[0m\u001b[32;49m23.1.2\u001b[0m\n",
      "\u001b[1m[\u001b[0m\u001b[34;49mnotice\u001b[0m\u001b[1;39;49m]\u001b[0m\u001b[39;49m To update, run: \u001b[0m\u001b[32;49mpython3 -m pip install --upgrade pip\u001b[0m\n"
     ]
    }
   ],
   "source": [
    "!pip install -q zarr"
   ]
  },
  {
   "cell_type": "code",
   "execution_count": 1,
   "id": "fc7994d3-f722-43e8-9a31-b16ab2022377",
   "metadata": {
    "tags": []
   },
   "outputs": [
    {
     "name": "stderr",
     "output_type": "stream",
     "text": [
      "/usr/local/lib/python3.8/dist-packages/tqdm/auto.py:21: TqdmWarning: IProgress not found. Please update jupyter and ipywidgets. See https://ipywidgets.readthedocs.io/en/stable/user_install.html\n",
      "  from .autonotebook import tqdm as notebook_tqdm\n"
     ]
    }
   ],
   "source": [
    "from os.path import join\n",
    "\n",
    "import pandas as pd\n",
    "import numpy as np\n",
    "\n",
    "from tqdm.auto import tqdm"
   ]
  },
  {
   "cell_type": "markdown",
   "id": "13b9f220-f20a-4e95-a6c0-30fb0662a0f7",
   "metadata": {},
   "source": [
    "# Utils code"
   ]
  },
  {
   "cell_type": "code",
   "execution_count": 2,
   "id": "2a8fd0f1-f5af-40f3-9ec5-8bf9cd711147",
   "metadata": {
    "tags": []
   },
   "outputs": [],
   "source": [
    "import obonet\n",
    "import networkx\n",
    "\n",
    "\n",
    "url = 'http://purl.obolibrary.org/obo/cl/cl-simple.obo'\n",
    "graph = obonet.read_obo(url, ignore_obsolete=True)\n",
    "\n",
    "# only use \"is_a\" edges\n",
    "edges_to_delete = []\n",
    "for i, x in enumerate(graph.edges):\n",
    "    if x[2] != 'is_a':\n",
    "        edges_to_delete.append((x[0], x[1]))\n",
    "for x in edges_to_delete:\n",
    "    graph.remove_edge(u=x[0], v=x[1])\n",
    "\n",
    "# define mapping from id to name\n",
    "id_to_name = {id_: data.get('name') for id_, data in graph.nodes(data=True)}\n",
    "# define inverse mapping from name to id\n",
    "name_to_id = {v: k for k, v in id_to_name.items()}\n",
    "\n",
    "\n",
    "def find_child_nodes(cell_type):\n",
    "    return [id_to_name[node] for node in networkx.ancestors(graph, name_to_id[cell_type])]\n",
    "\n",
    "\n",
    "def find_parent_nodes(cell_type):\n",
    "    return [id_to_name[node] for node in networkx.descendants(graph, name_to_id[cell_type])]\n"
   ]
  },
  {
   "cell_type": "code",
   "execution_count": null,
   "id": "6f47a0e9-71bb-4e5c-9c5a-4e0f1539cc8f",
   "metadata": {},
   "outputs": [],
   "source": []
  },
  {
   "cell_type": "markdown",
   "id": "844d43c8-81be-4e1b-8b7a-e8832b59a963",
   "metadata": {},
   "source": [
    "# Select data to download"
   ]
  },
  {
   "cell_type": "code",
   "execution_count": 3,
   "id": "b528a064-0cc4-4bbf-b9c9-13a5e923e52c",
   "metadata": {
    "tags": []
   },
   "outputs": [],
   "source": [
    "import cellxgene_census\n",
    "\n",
    "census = cellxgene_census.open_soma(census_version=\"2023-05-15\")"
   ]
  },
  {
   "cell_type": "code",
   "execution_count": 4,
   "id": "45c58772-b4a3-4135-b70a-cb152b025215",
   "metadata": {
    "tags": []
   },
   "outputs": [],
   "source": [
    "PROTOCOLS = [\n",
    "    \"10x 5' v2\", \n",
    "    \"10x 3' v3\", \n",
    "    \"10x 3' v2\", \n",
    "    \"10x 5' v1\", \n",
    "    \"10x 3' v1\", \n",
    "    \"10x 3' transcription profiling\", \n",
    "    \"10x 5' transcription profiling\"\n",
    "]\n",
    "\n",
    "\n",
    "COLUMN_NAMES = [\n",
    "    \"soma_joinid\",\n",
    "    \"is_primary_data\",\n",
    "    \"dataset_id\", \n",
    "    \"donor_id\",\n",
    "    \"assay\", \n",
    "    \"cell_type\", \n",
    "    \"development_stage\", \n",
    "    \"disease\", \n",
    "    \"tissue\", \n",
    "    \"tissue_general\"\n",
    "]"
   ]
  },
  {
   "cell_type": "markdown",
   "id": "e3112777-5837-400b-a723-83c7419f2458",
   "metadata": {},
   "source": [
    "### Select data for training"
   ]
  },
  {
   "cell_type": "code",
   "execution_count": 5,
   "id": "f660f1bc-33b4-42d5-92cf-eba62f066c60",
   "metadata": {
    "tags": []
   },
   "outputs": [],
   "source": [
    "obs = (\n",
    "    census[\"census_data\"][\"homo_sapiens\"]\n",
    "    .obs\n",
    "    .read(\n",
    "        column_names=COLUMN_NAMES,\n",
    "        value_filter=f\"is_primary_data == True and assay in {PROTOCOLS}\"\n",
    "    )\n",
    "    .concat()\n",
    "    .to_pandas()\n",
    ")"
   ]
  },
  {
   "cell_type": "code",
   "execution_count": 6,
   "id": "86654ff3-1991-4da3-a05d-4e1ffe25bdfa",
   "metadata": {
    "tags": []
   },
   "outputs": [],
   "source": [
    "obs['tech_sample'] = (obs.dataset_id + '_' + obs.donor_id).astype('category')\n",
    "\n",
    "for col in COLUMN_NAMES:\n",
    "    if obs[col].dtype == object:\n",
    "        obs[col] = obs[col].astype('category')\n"
   ]
  },
  {
   "cell_type": "code",
   "execution_count": 7,
   "id": "66952771-6325-46b8-a4c6-7c61310bd50c",
   "metadata": {
    "tags": []
   },
   "outputs": [
    {
     "data": {
      "text/plain": [
       "soma_joinid             int64\n",
       "is_primary_data          bool\n",
       "dataset_id           category\n",
       "donor_id             category\n",
       "assay                category\n",
       "cell_type            category\n",
       "development_stage    category\n",
       "disease              category\n",
       "tissue               category\n",
       "tissue_general       category\n",
       "tech_sample          category\n",
       "dtype: object"
      ]
     },
     "execution_count": 7,
     "metadata": {},
     "output_type": "execute_result"
    }
   ],
   "source": [
    "obs.dtypes"
   ]
  },
  {
   "cell_type": "code",
   "execution_count": 8,
   "id": "13aeb3f1-de0e-4c87-a6a5-25463bf21851",
   "metadata": {
    "tags": []
   },
   "outputs": [],
   "source": [
    "# remove all cell types which are not a subtype of native cell\n",
    "cell_types_to_remove = obs[~obs.cell_type.isin(find_child_nodes('native cell'))].cell_type.unique().tolist()\n",
    "\n",
    "# remove all cell types which have less than 5000 cells\n",
    "cell_freq = obs.cell_type.value_counts()\n",
    "cell_types_to_remove += cell_freq[cell_freq < 5000].index.tolist()\n",
    "\n",
    "# remove cell types which have less than 30 tech_samples\n",
    "tech_samples_per_cell_type = obs[['cell_type', 'tech_sample']].groupby('cell_type').agg({'tech_sample': 'nunique'}).sort_values('tech_sample')\n",
    "cell_types_to_remove += tech_samples_per_cell_type[tech_samples_per_cell_type.tech_sample <= 30].index.tolist()\n",
    "\n",
    "# filter out too granular labels\n",
    "# remove all cells that have <= 7 parents in the cell ontology\n",
    "cell_types = obs.cell_type.unique().tolist()\n",
    "\n",
    "n_children = []\n",
    "n_parents = []\n",
    "\n",
    "for cell_type in cell_types:\n",
    "    n_parents.append(len(find_parent_nodes(cell_type)))\n",
    "    n_children.append(len(find_child_nodes(cell_type)))\n",
    "\n",
    "cell_types_to_remove += (\n",
    "    pd.DataFrame({'n_children': n_children, 'n_parents': n_parents}, index=cell_types)\n",
    "    .query('n_parents <= 7')\n",
    "    .index.tolist()\n",
    ")\n",
    "cell_types_to_remove = list(set(cell_types_to_remove))"
   ]
  },
  {
   "cell_type": "code",
   "execution_count": 9,
   "id": "cb63ed0f-970e-47da-99b1-fcdab300198b",
   "metadata": {
    "tags": []
   },
   "outputs": [
    {
     "data": {
      "text/plain": [
       "164"
      ]
     },
     "execution_count": 9,
     "metadata": {},
     "output_type": "execute_result"
    }
   ],
   "source": [
    "obs.cell_type.nunique() - len(cell_types_to_remove)"
   ]
  },
  {
   "cell_type": "code",
   "execution_count": 10,
   "id": "f90ec5d2-df39-4dc0-ad51-c4fca30d899c",
   "metadata": {
    "tags": []
   },
   "outputs": [
    {
     "data": {
      "text/html": [
       "<div>\n",
       "<style scoped>\n",
       "    .dataframe tbody tr th:only-of-type {\n",
       "        vertical-align: middle;\n",
       "    }\n",
       "\n",
       "    .dataframe tbody tr th {\n",
       "        vertical-align: top;\n",
       "    }\n",
       "\n",
       "    .dataframe thead th {\n",
       "        text-align: right;\n",
       "    }\n",
       "</style>\n",
       "<table border=\"1\" class=\"dataframe\">\n",
       "  <thead>\n",
       "    <tr style=\"text-align: right;\">\n",
       "      <th></th>\n",
       "      <th>soma_joinid</th>\n",
       "      <th>is_primary_data</th>\n",
       "      <th>dataset_id</th>\n",
       "      <th>donor_id</th>\n",
       "      <th>assay</th>\n",
       "      <th>cell_type</th>\n",
       "      <th>development_stage</th>\n",
       "      <th>disease</th>\n",
       "      <th>tissue</th>\n",
       "      <th>tissue_general</th>\n",
       "      <th>tech_sample</th>\n",
       "    </tr>\n",
       "  </thead>\n",
       "  <tbody>\n",
       "    <tr>\n",
       "      <th>15</th>\n",
       "      <td>15</td>\n",
       "      <td>True</td>\n",
       "      <td>9d8e5dca-03a3-457d-b7fb-844c75735c83</td>\n",
       "      <td>donor-GOLD</td>\n",
       "      <td>10x 3' v3</td>\n",
       "      <td>macrophage</td>\n",
       "      <td>53-year-old human stage</td>\n",
       "      <td>normal</td>\n",
       "      <td>subcutaneous abdominal adipose tissue</td>\n",
       "      <td>adipose tissue</td>\n",
       "      <td>9d8e5dca-03a3-457d-b7fb-844c75735c83_donor-GOLD</td>\n",
       "    </tr>\n",
       "    <tr>\n",
       "      <th>16</th>\n",
       "      <td>16</td>\n",
       "      <td>True</td>\n",
       "      <td>9d8e5dca-03a3-457d-b7fb-844c75735c83</td>\n",
       "      <td>donor-GOLD</td>\n",
       "      <td>10x 3' v3</td>\n",
       "      <td>macrophage</td>\n",
       "      <td>53-year-old human stage</td>\n",
       "      <td>normal</td>\n",
       "      <td>subcutaneous abdominal adipose tissue</td>\n",
       "      <td>adipose tissue</td>\n",
       "      <td>9d8e5dca-03a3-457d-b7fb-844c75735c83_donor-GOLD</td>\n",
       "    </tr>\n",
       "    <tr>\n",
       "      <th>18</th>\n",
       "      <td>18</td>\n",
       "      <td>True</td>\n",
       "      <td>9d8e5dca-03a3-457d-b7fb-844c75735c83</td>\n",
       "      <td>donor-GOLD</td>\n",
       "      <td>10x 3' v3</td>\n",
       "      <td>endothelial cell</td>\n",
       "      <td>53-year-old human stage</td>\n",
       "      <td>normal</td>\n",
       "      <td>subcutaneous abdominal adipose tissue</td>\n",
       "      <td>adipose tissue</td>\n",
       "      <td>9d8e5dca-03a3-457d-b7fb-844c75735c83_donor-GOLD</td>\n",
       "    </tr>\n",
       "    <tr>\n",
       "      <th>19</th>\n",
       "      <td>19</td>\n",
       "      <td>True</td>\n",
       "      <td>9d8e5dca-03a3-457d-b7fb-844c75735c83</td>\n",
       "      <td>donor-GOLD</td>\n",
       "      <td>10x 3' v3</td>\n",
       "      <td>macrophage</td>\n",
       "      <td>53-year-old human stage</td>\n",
       "      <td>normal</td>\n",
       "      <td>subcutaneous abdominal adipose tissue</td>\n",
       "      <td>adipose tissue</td>\n",
       "      <td>9d8e5dca-03a3-457d-b7fb-844c75735c83_donor-GOLD</td>\n",
       "    </tr>\n",
       "    <tr>\n",
       "      <th>20</th>\n",
       "      <td>20</td>\n",
       "      <td>True</td>\n",
       "      <td>9d8e5dca-03a3-457d-b7fb-844c75735c83</td>\n",
       "      <td>donor-GOLD</td>\n",
       "      <td>10x 3' v3</td>\n",
       "      <td>macrophage</td>\n",
       "      <td>53-year-old human stage</td>\n",
       "      <td>normal</td>\n",
       "      <td>subcutaneous abdominal adipose tissue</td>\n",
       "      <td>adipose tissue</td>\n",
       "      <td>9d8e5dca-03a3-457d-b7fb-844c75735c83_donor-GOLD</td>\n",
       "    </tr>\n",
       "    <tr>\n",
       "      <th>...</th>\n",
       "      <td>...</td>\n",
       "      <td>...</td>\n",
       "      <td>...</td>\n",
       "      <td>...</td>\n",
       "      <td>...</td>\n",
       "      <td>...</td>\n",
       "      <td>...</td>\n",
       "      <td>...</td>\n",
       "      <td>...</td>\n",
       "      <td>...</td>\n",
       "      <td>...</td>\n",
       "    </tr>\n",
       "    <tr>\n",
       "      <th>28169969</th>\n",
       "      <td>53794723</td>\n",
       "      <td>True</td>\n",
       "      <td>8c42cfd0-0b0a-46d5-910c-fc833d83c45e</td>\n",
       "      <td>3</td>\n",
       "      <td>10x 3' v2</td>\n",
       "      <td>pericyte</td>\n",
       "      <td>51-year-old human stage</td>\n",
       "      <td>normal</td>\n",
       "      <td>lung</td>\n",
       "      <td>lung</td>\n",
       "      <td>8c42cfd0-0b0a-46d5-910c-fc833d83c45e_3</td>\n",
       "    </tr>\n",
       "    <tr>\n",
       "      <th>28169970</th>\n",
       "      <td>53794724</td>\n",
       "      <td>True</td>\n",
       "      <td>8c42cfd0-0b0a-46d5-910c-fc833d83c45e</td>\n",
       "      <td>3</td>\n",
       "      <td>10x 3' v2</td>\n",
       "      <td>pericyte</td>\n",
       "      <td>51-year-old human stage</td>\n",
       "      <td>normal</td>\n",
       "      <td>lung</td>\n",
       "      <td>lung</td>\n",
       "      <td>8c42cfd0-0b0a-46d5-910c-fc833d83c45e_3</td>\n",
       "    </tr>\n",
       "    <tr>\n",
       "      <th>28169971</th>\n",
       "      <td>53794725</td>\n",
       "      <td>True</td>\n",
       "      <td>8c42cfd0-0b0a-46d5-910c-fc833d83c45e</td>\n",
       "      <td>3</td>\n",
       "      <td>10x 3' v2</td>\n",
       "      <td>pericyte</td>\n",
       "      <td>51-year-old human stage</td>\n",
       "      <td>normal</td>\n",
       "      <td>lung</td>\n",
       "      <td>lung</td>\n",
       "      <td>8c42cfd0-0b0a-46d5-910c-fc833d83c45e_3</td>\n",
       "    </tr>\n",
       "    <tr>\n",
       "      <th>28169972</th>\n",
       "      <td>53794726</td>\n",
       "      <td>True</td>\n",
       "      <td>8c42cfd0-0b0a-46d5-910c-fc833d83c45e</td>\n",
       "      <td>3</td>\n",
       "      <td>10x 3' v2</td>\n",
       "      <td>pericyte</td>\n",
       "      <td>51-year-old human stage</td>\n",
       "      <td>normal</td>\n",
       "      <td>lung</td>\n",
       "      <td>lung</td>\n",
       "      <td>8c42cfd0-0b0a-46d5-910c-fc833d83c45e_3</td>\n",
       "    </tr>\n",
       "    <tr>\n",
       "      <th>28169973</th>\n",
       "      <td>53794727</td>\n",
       "      <td>True</td>\n",
       "      <td>8c42cfd0-0b0a-46d5-910c-fc833d83c45e</td>\n",
       "      <td>3</td>\n",
       "      <td>10x 3' v2</td>\n",
       "      <td>pericyte</td>\n",
       "      <td>51-year-old human stage</td>\n",
       "      <td>normal</td>\n",
       "      <td>lung</td>\n",
       "      <td>lung</td>\n",
       "      <td>8c42cfd0-0b0a-46d5-910c-fc833d83c45e_3</td>\n",
       "    </tr>\n",
       "  </tbody>\n",
       "</table>\n",
       "<p>22190622 rows × 11 columns</p>\n",
       "</div>"
      ],
      "text/plain": [
       "          soma_joinid  is_primary_data                            dataset_id  \\\n",
       "15                 15             True  9d8e5dca-03a3-457d-b7fb-844c75735c83   \n",
       "16                 16             True  9d8e5dca-03a3-457d-b7fb-844c75735c83   \n",
       "18                 18             True  9d8e5dca-03a3-457d-b7fb-844c75735c83   \n",
       "19                 19             True  9d8e5dca-03a3-457d-b7fb-844c75735c83   \n",
       "20                 20             True  9d8e5dca-03a3-457d-b7fb-844c75735c83   \n",
       "...               ...              ...                                   ...   \n",
       "28169969     53794723             True  8c42cfd0-0b0a-46d5-910c-fc833d83c45e   \n",
       "28169970     53794724             True  8c42cfd0-0b0a-46d5-910c-fc833d83c45e   \n",
       "28169971     53794725             True  8c42cfd0-0b0a-46d5-910c-fc833d83c45e   \n",
       "28169972     53794726             True  8c42cfd0-0b0a-46d5-910c-fc833d83c45e   \n",
       "28169973     53794727             True  8c42cfd0-0b0a-46d5-910c-fc833d83c45e   \n",
       "\n",
       "            donor_id      assay         cell_type        development_stage  \\\n",
       "15        donor-GOLD  10x 3' v3        macrophage  53-year-old human stage   \n",
       "16        donor-GOLD  10x 3' v3        macrophage  53-year-old human stage   \n",
       "18        donor-GOLD  10x 3' v3  endothelial cell  53-year-old human stage   \n",
       "19        donor-GOLD  10x 3' v3        macrophage  53-year-old human stage   \n",
       "20        donor-GOLD  10x 3' v3        macrophage  53-year-old human stage   \n",
       "...              ...        ...               ...                      ...   \n",
       "28169969           3  10x 3' v2          pericyte  51-year-old human stage   \n",
       "28169970           3  10x 3' v2          pericyte  51-year-old human stage   \n",
       "28169971           3  10x 3' v2          pericyte  51-year-old human stage   \n",
       "28169972           3  10x 3' v2          pericyte  51-year-old human stage   \n",
       "28169973           3  10x 3' v2          pericyte  51-year-old human stage   \n",
       "\n",
       "         disease                                 tissue  tissue_general  \\\n",
       "15        normal  subcutaneous abdominal adipose tissue  adipose tissue   \n",
       "16        normal  subcutaneous abdominal adipose tissue  adipose tissue   \n",
       "18        normal  subcutaneous abdominal adipose tissue  adipose tissue   \n",
       "19        normal  subcutaneous abdominal adipose tissue  adipose tissue   \n",
       "20        normal  subcutaneous abdominal adipose tissue  adipose tissue   \n",
       "...          ...                                    ...             ...   \n",
       "28169969  normal                                   lung            lung   \n",
       "28169970  normal                                   lung            lung   \n",
       "28169971  normal                                   lung            lung   \n",
       "28169972  normal                                   lung            lung   \n",
       "28169973  normal                                   lung            lung   \n",
       "\n",
       "                                              tech_sample  \n",
       "15        9d8e5dca-03a3-457d-b7fb-844c75735c83_donor-GOLD  \n",
       "16        9d8e5dca-03a3-457d-b7fb-844c75735c83_donor-GOLD  \n",
       "18        9d8e5dca-03a3-457d-b7fb-844c75735c83_donor-GOLD  \n",
       "19        9d8e5dca-03a3-457d-b7fb-844c75735c83_donor-GOLD  \n",
       "20        9d8e5dca-03a3-457d-b7fb-844c75735c83_donor-GOLD  \n",
       "...                                                   ...  \n",
       "28169969           8c42cfd0-0b0a-46d5-910c-fc833d83c45e_3  \n",
       "28169970           8c42cfd0-0b0a-46d5-910c-fc833d83c45e_3  \n",
       "28169971           8c42cfd0-0b0a-46d5-910c-fc833d83c45e_3  \n",
       "28169972           8c42cfd0-0b0a-46d5-910c-fc833d83c45e_3  \n",
       "28169973           8c42cfd0-0b0a-46d5-910c-fc833d83c45e_3  \n",
       "\n",
       "[22190622 rows x 11 columns]"
      ]
     },
     "execution_count": 10,
     "metadata": {},
     "output_type": "execute_result"
    }
   ],
   "source": [
    "obs_subset = obs[~obs.cell_type.isin(cell_types_to_remove)].copy()\n",
    "for col in obs_subset.columns:\n",
    "    if obs_subset[col].dtype == 'category':\n",
    "        obs_subset[col] = obs_subset[col].cat.remove_unused_categories()\n",
    "obs_subset"
   ]
  },
  {
   "cell_type": "code",
   "execution_count": 11,
   "id": "7ed30bb6-28bb-42f1-bade-557c0958b51d",
   "metadata": {
    "tags": []
   },
   "outputs": [],
   "source": [
    "cell_types_to_keep = obs_subset.cell_type.unique().tolist()"
   ]
  },
  {
   "cell_type": "markdown",
   "id": "8fc2782d-ecf8-4f40-8602-5e1d57a57531",
   "metadata": {
    "tags": []
   },
   "source": [
    "### Select data for out-of-distribution evaluation"
   ]
  },
  {
   "cell_type": "code",
   "execution_count": 12,
   "id": "0263ab77-1ae8-46ea-aae8-0fbc73c0b340",
   "metadata": {
    "tags": []
   },
   "outputs": [],
   "source": [
    "obs_ood = (\n",
    "    census[\"census_data\"][\"homo_sapiens\"]\n",
    "    .obs\n",
    "    .read(\n",
    "        column_names=COLUMN_NAMES,\n",
    "        value_filter=f\"is_primary_data == True and assay in {PROTOCOLS} and cell_type in {cell_types_to_remove}\"\n",
    "    )\n",
    "    .concat()\n",
    "    .to_pandas()\n",
    ")"
   ]
  },
  {
   "cell_type": "code",
   "execution_count": 13,
   "id": "af73ae07-6acd-4b5d-a7cd-7f1f1911d905",
   "metadata": {
    "tags": []
   },
   "outputs": [],
   "source": [
    "# filter out too granular labels\n",
    "# remove all cells that have <= 7 parents in the cell ontology\n",
    "cell_types = obs.cell_type.unique().tolist()\n",
    "\n",
    "n_children = []\n",
    "n_parents = []\n",
    "\n",
    "for cell_type in cell_types:\n",
    "    n_parents.append(len(find_parent_nodes(cell_type)))\n",
    "    n_children.append(len(find_child_nodes(cell_type)))\n",
    "\n",
    "cell_types_to_remove = (\n",
    "    pd.DataFrame({'n_children': n_children, 'n_parents': n_parents}, index=cell_types)\n",
    "    .query('n_parents <= 7')\n",
    "    .index.tolist()\n",
    ")\n",
    "cell_types_to_remove = list(set(cell_types_to_remove))"
   ]
  },
  {
   "cell_type": "code",
   "execution_count": 14,
   "id": "b9fc8ee2-68c3-4869-b881-539d7bed88e8",
   "metadata": {
    "tags": []
   },
   "outputs": [
    {
     "data": {
      "text/html": [
       "<div>\n",
       "<style scoped>\n",
       "    .dataframe tbody tr th:only-of-type {\n",
       "        vertical-align: middle;\n",
       "    }\n",
       "\n",
       "    .dataframe tbody tr th {\n",
       "        vertical-align: top;\n",
       "    }\n",
       "\n",
       "    .dataframe thead th {\n",
       "        text-align: right;\n",
       "    }\n",
       "</style>\n",
       "<table border=\"1\" class=\"dataframe\">\n",
       "  <thead>\n",
       "    <tr style=\"text-align: right;\">\n",
       "      <th></th>\n",
       "      <th>soma_joinid</th>\n",
       "      <th>is_primary_data</th>\n",
       "      <th>dataset_id</th>\n",
       "      <th>donor_id</th>\n",
       "      <th>assay</th>\n",
       "      <th>cell_type</th>\n",
       "      <th>development_stage</th>\n",
       "      <th>disease</th>\n",
       "      <th>tissue</th>\n",
       "      <th>tissue_general</th>\n",
       "    </tr>\n",
       "  </thead>\n",
       "  <tbody>\n",
       "    <tr>\n",
       "      <th>19</th>\n",
       "      <td>38</td>\n",
       "      <td>True</td>\n",
       "      <td>9d8e5dca-03a3-457d-b7fb-844c75735c83</td>\n",
       "      <td>donor-GOLD</td>\n",
       "      <td>10x 3' v3</td>\n",
       "      <td>fibro/adipogenic progenitor cell</td>\n",
       "      <td>53-year-old human stage</td>\n",
       "      <td>normal</td>\n",
       "      <td>subcutaneous abdominal adipose tissue</td>\n",
       "      <td>adipose tissue</td>\n",
       "    </tr>\n",
       "    <tr>\n",
       "      <th>22</th>\n",
       "      <td>44</td>\n",
       "      <td>True</td>\n",
       "      <td>9d8e5dca-03a3-457d-b7fb-844c75735c83</td>\n",
       "      <td>donor-GOLD</td>\n",
       "      <td>10x 3' v3</td>\n",
       "      <td>fibro/adipogenic progenitor cell</td>\n",
       "      <td>53-year-old human stage</td>\n",
       "      <td>normal</td>\n",
       "      <td>subcutaneous abdominal adipose tissue</td>\n",
       "      <td>adipose tissue</td>\n",
       "    </tr>\n",
       "    <tr>\n",
       "      <th>23</th>\n",
       "      <td>49</td>\n",
       "      <td>True</td>\n",
       "      <td>9d8e5dca-03a3-457d-b7fb-844c75735c83</td>\n",
       "      <td>donor-GOLD</td>\n",
       "      <td>10x 3' v3</td>\n",
       "      <td>fibro/adipogenic progenitor cell</td>\n",
       "      <td>53-year-old human stage</td>\n",
       "      <td>normal</td>\n",
       "      <td>subcutaneous abdominal adipose tissue</td>\n",
       "      <td>adipose tissue</td>\n",
       "    </tr>\n",
       "    <tr>\n",
       "      <th>24</th>\n",
       "      <td>50</td>\n",
       "      <td>True</td>\n",
       "      <td>9d8e5dca-03a3-457d-b7fb-844c75735c83</td>\n",
       "      <td>donor-GOLD</td>\n",
       "      <td>10x 3' v3</td>\n",
       "      <td>fibro/adipogenic progenitor cell</td>\n",
       "      <td>53-year-old human stage</td>\n",
       "      <td>normal</td>\n",
       "      <td>subcutaneous abdominal adipose tissue</td>\n",
       "      <td>adipose tissue</td>\n",
       "    </tr>\n",
       "    <tr>\n",
       "      <th>27</th>\n",
       "      <td>56</td>\n",
       "      <td>True</td>\n",
       "      <td>9d8e5dca-03a3-457d-b7fb-844c75735c83</td>\n",
       "      <td>donor-GOLD</td>\n",
       "      <td>10x 3' v3</td>\n",
       "      <td>fibro/adipogenic progenitor cell</td>\n",
       "      <td>53-year-old human stage</td>\n",
       "      <td>normal</td>\n",
       "      <td>subcutaneous abdominal adipose tissue</td>\n",
       "      <td>adipose tissue</td>\n",
       "    </tr>\n",
       "    <tr>\n",
       "      <th>...</th>\n",
       "      <td>...</td>\n",
       "      <td>...</td>\n",
       "      <td>...</td>\n",
       "      <td>...</td>\n",
       "      <td>...</td>\n",
       "      <td>...</td>\n",
       "      <td>...</td>\n",
       "      <td>...</td>\n",
       "      <td>...</td>\n",
       "      <td>...</td>\n",
       "    </tr>\n",
       "    <tr>\n",
       "      <th>5979347</th>\n",
       "      <td>53794324</td>\n",
       "      <td>True</td>\n",
       "      <td>8c42cfd0-0b0a-46d5-910c-fc833d83c45e</td>\n",
       "      <td>3</td>\n",
       "      <td>10x 3' v2</td>\n",
       "      <td>bronchial smooth muscle cell</td>\n",
       "      <td>51-year-old human stage</td>\n",
       "      <td>normal</td>\n",
       "      <td>lung</td>\n",
       "      <td>lung</td>\n",
       "    </tr>\n",
       "    <tr>\n",
       "      <th>5979348</th>\n",
       "      <td>53794325</td>\n",
       "      <td>True</td>\n",
       "      <td>8c42cfd0-0b0a-46d5-910c-fc833d83c45e</td>\n",
       "      <td>3</td>\n",
       "      <td>10x 3' v2</td>\n",
       "      <td>bronchial smooth muscle cell</td>\n",
       "      <td>51-year-old human stage</td>\n",
       "      <td>normal</td>\n",
       "      <td>lung</td>\n",
       "      <td>lung</td>\n",
       "    </tr>\n",
       "    <tr>\n",
       "      <th>5979349</th>\n",
       "      <td>53794326</td>\n",
       "      <td>True</td>\n",
       "      <td>8c42cfd0-0b0a-46d5-910c-fc833d83c45e</td>\n",
       "      <td>3</td>\n",
       "      <td>10x 3' v2</td>\n",
       "      <td>bronchial smooth muscle cell</td>\n",
       "      <td>51-year-old human stage</td>\n",
       "      <td>normal</td>\n",
       "      <td>lung</td>\n",
       "      <td>lung</td>\n",
       "    </tr>\n",
       "    <tr>\n",
       "      <th>5979350</th>\n",
       "      <td>53794327</td>\n",
       "      <td>True</td>\n",
       "      <td>8c42cfd0-0b0a-46d5-910c-fc833d83c45e</td>\n",
       "      <td>3</td>\n",
       "      <td>10x 3' v2</td>\n",
       "      <td>bronchial smooth muscle cell</td>\n",
       "      <td>51-year-old human stage</td>\n",
       "      <td>normal</td>\n",
       "      <td>lung</td>\n",
       "      <td>lung</td>\n",
       "    </tr>\n",
       "    <tr>\n",
       "      <th>5979351</th>\n",
       "      <td>53794328</td>\n",
       "      <td>True</td>\n",
       "      <td>8c42cfd0-0b0a-46d5-910c-fc833d83c45e</td>\n",
       "      <td>3</td>\n",
       "      <td>10x 3' v2</td>\n",
       "      <td>bronchial smooth muscle cell</td>\n",
       "      <td>51-year-old human stage</td>\n",
       "      <td>normal</td>\n",
       "      <td>lung</td>\n",
       "      <td>lung</td>\n",
       "    </tr>\n",
       "  </tbody>\n",
       "</table>\n",
       "<p>1818221 rows × 10 columns</p>\n",
       "</div>"
      ],
      "text/plain": [
       "         soma_joinid  is_primary_data                            dataset_id  \\\n",
       "19                38             True  9d8e5dca-03a3-457d-b7fb-844c75735c83   \n",
       "22                44             True  9d8e5dca-03a3-457d-b7fb-844c75735c83   \n",
       "23                49             True  9d8e5dca-03a3-457d-b7fb-844c75735c83   \n",
       "24                50             True  9d8e5dca-03a3-457d-b7fb-844c75735c83   \n",
       "27                56             True  9d8e5dca-03a3-457d-b7fb-844c75735c83   \n",
       "...              ...              ...                                   ...   \n",
       "5979347     53794324             True  8c42cfd0-0b0a-46d5-910c-fc833d83c45e   \n",
       "5979348     53794325             True  8c42cfd0-0b0a-46d5-910c-fc833d83c45e   \n",
       "5979349     53794326             True  8c42cfd0-0b0a-46d5-910c-fc833d83c45e   \n",
       "5979350     53794327             True  8c42cfd0-0b0a-46d5-910c-fc833d83c45e   \n",
       "5979351     53794328             True  8c42cfd0-0b0a-46d5-910c-fc833d83c45e   \n",
       "\n",
       "           donor_id      assay                         cell_type  \\\n",
       "19       donor-GOLD  10x 3' v3  fibro/adipogenic progenitor cell   \n",
       "22       donor-GOLD  10x 3' v3  fibro/adipogenic progenitor cell   \n",
       "23       donor-GOLD  10x 3' v3  fibro/adipogenic progenitor cell   \n",
       "24       donor-GOLD  10x 3' v3  fibro/adipogenic progenitor cell   \n",
       "27       donor-GOLD  10x 3' v3  fibro/adipogenic progenitor cell   \n",
       "...             ...        ...                               ...   \n",
       "5979347           3  10x 3' v2      bronchial smooth muscle cell   \n",
       "5979348           3  10x 3' v2      bronchial smooth muscle cell   \n",
       "5979349           3  10x 3' v2      bronchial smooth muscle cell   \n",
       "5979350           3  10x 3' v2      bronchial smooth muscle cell   \n",
       "5979351           3  10x 3' v2      bronchial smooth muscle cell   \n",
       "\n",
       "               development_stage disease  \\\n",
       "19       53-year-old human stage  normal   \n",
       "22       53-year-old human stage  normal   \n",
       "23       53-year-old human stage  normal   \n",
       "24       53-year-old human stage  normal   \n",
       "27       53-year-old human stage  normal   \n",
       "...                          ...     ...   \n",
       "5979347  51-year-old human stage  normal   \n",
       "5979348  51-year-old human stage  normal   \n",
       "5979349  51-year-old human stage  normal   \n",
       "5979350  51-year-old human stage  normal   \n",
       "5979351  51-year-old human stage  normal   \n",
       "\n",
       "                                        tissue  tissue_general  \n",
       "19       subcutaneous abdominal adipose tissue  adipose tissue  \n",
       "22       subcutaneous abdominal adipose tissue  adipose tissue  \n",
       "23       subcutaneous abdominal adipose tissue  adipose tissue  \n",
       "24       subcutaneous abdominal adipose tissue  adipose tissue  \n",
       "27       subcutaneous abdominal adipose tissue  adipose tissue  \n",
       "...                                        ...             ...  \n",
       "5979347                                   lung            lung  \n",
       "5979348                                   lung            lung  \n",
       "5979349                                   lung            lung  \n",
       "5979350                                   lung            lung  \n",
       "5979351                                   lung            lung  \n",
       "\n",
       "[1818221 rows x 10 columns]"
      ]
     },
     "execution_count": 14,
     "metadata": {},
     "output_type": "execute_result"
    }
   ],
   "source": [
    "obs_ood_subset = obs_ood[~obs_ood.cell_type.isin(cell_types_to_remove)].copy()\n",
    "for col in obs_ood_subset.columns:\n",
    "    if obs_ood_subset[col].dtype == 'category':\n",
    "        obs_ood_subset[col] = obs_ood_subset[col].cat.remove_unused_categories()\n",
    "obs_ood_subset"
   ]
  },
  {
   "cell_type": "code",
   "execution_count": null,
   "id": "76f96ce9-f18c-4698-a572-29bd08ee3862",
   "metadata": {},
   "outputs": [],
   "source": []
  },
  {
   "cell_type": "markdown",
   "id": "356d8a14-79af-420d-9ecf-71add45acb65",
   "metadata": {
    "jp-MarkdownHeadingCollapsed": true,
    "tags": []
   },
   "source": [
    "# Download data"
   ]
  },
  {
   "cell_type": "code",
   "execution_count": 12,
   "id": "374a77b2-cdf2-4e1c-8c60-ed280adb5541",
   "metadata": {
    "tags": []
   },
   "outputs": [],
   "source": [
    "protein_coding_genes = pd.read_parquet('features.parquet').gene_names.tolist()"
   ]
  },
  {
   "cell_type": "markdown",
   "id": "8d476d29-c462-40fe-b577-7d3a5425815a",
   "metadata": {},
   "source": [
    "### Download training data"
   ]
  },
  {
   "cell_type": "code",
   "execution_count": null,
   "id": "2ac6cb93-7c4a-4375-b0cf-d14889673ef2",
   "metadata": {
    "tags": []
   },
   "outputs": [
    {
     "name": "stderr",
     "output_type": "stream",
     "text": [
      "19it [19:39:25, 3355.84s/it]"
     ]
    }
   ],
   "source": [
    "BASE_PATH = '/mnt/dssfs02/cxg_census/h5ad_raw_2023_05_15'\n",
    "\n",
    "\n",
    "# download in batches to not run out of memory\n",
    "for i, idxs in tqdm(enumerate(np.array_split(obs_subset.soma_joinid.to_numpy(), 20))):\n",
    "    adata = cellxgene_census.get_anndata(\n",
    "        census=census,\n",
    "        organism=\"Homo sapiens\",\n",
    "        X_name='raw',\n",
    "        obs_coords=idxs.tolist(),\n",
    "        var_value_filter=f\"feature_name in {protein_coding_genes}\",\n",
    "        column_names={\"obs\": COLUMN_NAMES, \"var\": ['feature_id', 'feature_name']},\n",
    "    )\n",
    "    adata.write_h5ad(join(BASE_PATH, f'{i}.h5ad'))\n"
   ]
  },
  {
   "cell_type": "markdown",
   "id": "902a4c69-b221-4ee2-bc8e-9833ed3621af",
   "metadata": {},
   "source": [
    "#### Download out-of-distribution data"
   ]
  },
  {
   "cell_type": "code",
   "execution_count": null,
   "id": "c3b82220-6f4d-4f15-80a2-3bbcbec373fc",
   "metadata": {
    "tags": []
   },
   "outputs": [],
   "source": [
    "BASE_PATH = '/mnt/dssfs02/cxg_census/h5ad_raw_2023_05_15_ood'\n",
    "\n",
    "\n",
    "# download in batches to not run out of memory\n",
    "for i, idxs in tqdm(enumerate(np.array_split(obs_ood_subset.soma_joinid.to_numpy(), 2))):\n",
    "    adata = cellxgene_census.get_anndata(\n",
    "        census=census,\n",
    "        organism=\"Homo sapiens\",\n",
    "        X_name='raw',\n",
    "        obs_coords=idxs.tolist(),\n",
    "        var_value_filter=f\"feature_name in {protein_coding_genes}\",\n",
    "        column_names={\"obs\": COLUMN_NAMES, \"var\": ['feature_id', 'feature_name']},\n",
    "    )\n",
    "    adata.write_h5ad(join(BASE_PATH, f'{i}.h5ad'))\n"
   ]
  },
  {
   "cell_type": "code",
   "execution_count": null,
   "id": "411127d8-45e5-409e-988c-bbed4eb4a033",
   "metadata": {},
   "outputs": [],
   "source": []
  },
  {
   "cell_type": "markdown",
   "id": "d72668c0-96f6-47a4-a5d7-98fe4c7c0f0b",
   "metadata": {
    "tags": []
   },
   "source": [
    "# Store data"
   ]
  },
  {
   "cell_type": "code",
   "execution_count": 15,
   "id": "6023612e-b991-4281-b721-ec8470676bc2",
   "metadata": {
    "tags": []
   },
   "outputs": [],
   "source": [
    "import os\n",
    "from os.path import join\n",
    "\n",
    "import anndata\n",
    "import dask\n",
    "import dask.array as da\n",
    "\n",
    "from scipy.sparse import csr_matrix\n",
    "\n",
    "dask.config.set(scheduler='threads');"
   ]
  },
  {
   "cell_type": "code",
   "execution_count": 16,
   "id": "e576bcf7-982d-43f4-b429-895876ca0545",
   "metadata": {
    "tags": []
   },
   "outputs": [],
   "source": [
    "def read_X(path):\n",
    "    return anndata.read_h5ad(path).X\n",
    "\n",
    "\n",
    "def read_obs(path):\n",
    "    obs = anndata.read_h5ad(path, backed='r').obs\n",
    "    obs['tech_sample'] = obs.dataset_id.astype(str) + '_' + obs.donor_id.astype(str)\n",
    "    return obs\n",
    "\n",
    "\n",
    "def read_var(path):\n",
    "    return anndata.read_h5ad(path, backed='r').var\n"
   ]
  },
  {
   "cell_type": "code",
   "execution_count": null,
   "id": "607adec9-c9a5-48af-a0cc-a4250c6c5199",
   "metadata": {},
   "outputs": [],
   "source": []
  },
  {
   "cell_type": "markdown",
   "id": "1eaf0292-4cf7-43da-a5a9-8ccf8ca0397d",
   "metadata": {
    "tags": []
   },
   "source": [
    "## Training data"
   ]
  },
  {
   "cell_type": "code",
   "execution_count": 17,
   "id": "75b19d48-2b76-4235-ad0e-8d8f557457ba",
   "metadata": {
    "tags": []
   },
   "outputs": [],
   "source": [
    "BASE_PATH = '/mnt/dssfs02/cxg_census/h5ad_raw_2023_05_15'"
   ]
  },
  {
   "cell_type": "markdown",
   "id": "c164e909-2cad-4815-a5ef-59c04eed7b43",
   "metadata": {},
   "source": [
    "### Convert to zarr + DataFrame"
   ]
  },
  {
   "cell_type": "code",
   "execution_count": 18,
   "id": "bc983e79-485c-4037-93fd-71a338946cf9",
   "metadata": {
    "tags": []
   },
   "outputs": [
    {
     "name": "stdout",
     "output_type": "stream",
     "text": [
      "Loading obs...\n",
      "Loading var...\n",
      "Loading X...\n"
     ]
    }
   ],
   "source": [
    "files = [\n",
    "    join(BASE_PATH, file) for file \n",
    "    in sorted(os.listdir(BASE_PATH), key=lambda x: int(x.split('.')[0])) \n",
    "    if file.endswith('.h5ad')\n",
    "]\n",
    "\n",
    "# read obs\n",
    "print('Loading obs...')\n",
    "obs = pd.concat([read_obs(file) for file in files]).reset_index(drop=True)\n",
    "for col in obs.columns:\n",
    "    if obs[col].dtype == object:\n",
    "        obs[col] = obs[col].astype('category')\n",
    "        obs[col].cat.remove_unused_categories()\n",
    "# read var\n",
    "print('Loading var...')\n",
    "var = read_var(files[0])\n",
    "# read X\n",
    "print('Loading X...')\n",
    "split_lens = [len(split) for split in np.array_split(obs_subset.soma_joinid.to_numpy(), 20)]\n",
    "X = da.concatenate([\n",
    "    da.from_delayed(dask.delayed(read_X)(file), (split_len, len(var)), dtype='f4') \n",
    "    for file, split_len in zip(files, split_lens)\n",
    "]).persist()\n"
   ]
  },
  {
   "cell_type": "code",
   "execution_count": 19,
   "id": "d37cc3c2-c60a-4817-981a-d1059fdab248",
   "metadata": {
    "tags": []
   },
   "outputs": [
    {
     "data": {
      "text/html": [
       "<table>\n",
       "    <tr>\n",
       "        <td>\n",
       "            <table>\n",
       "                <thead>\n",
       "                    <tr>\n",
       "                        <td> </td>\n",
       "                        <th> Array </th>\n",
       "                        <th> Chunk </th>\n",
       "                    </tr>\n",
       "                </thead>\n",
       "                <tbody>\n",
       "                    \n",
       "                    <tr>\n",
       "                        <th> Bytes </th>\n",
       "                        <td> 1.56 TiB </td>\n",
       "                        <td> 79.90 GiB </td>\n",
       "                    </tr>\n",
       "                    \n",
       "                    <tr>\n",
       "                        <th> Shape </th>\n",
       "                        <td> (22190622, 19331) </td>\n",
       "                        <td> (1109532, 19331) </td>\n",
       "                    </tr>\n",
       "                    <tr>\n",
       "                        <th> Count </th>\n",
       "                        <td> 20 Tasks </td>\n",
       "                        <td> 20 Chunks </td>\n",
       "                    </tr>\n",
       "                    <tr>\n",
       "                    <th> Type </th>\n",
       "                    <td> float32 </td>\n",
       "                    <td> numpy.ndarray </td>\n",
       "                    </tr>\n",
       "                </tbody>\n",
       "            </table>\n",
       "        </td>\n",
       "        <td>\n",
       "        <svg width=\"75\" height=\"170\" style=\"stroke:rgb(0,0,0);stroke-width:1\" >\n",
       "\n",
       "  <!-- Horizontal lines -->\n",
       "  <line x1=\"0\" y1=\"0\" x2=\"25\" y2=\"0\" style=\"stroke-width:2\" />\n",
       "  <line x1=\"0\" y1=\"6\" x2=\"25\" y2=\"6\" />\n",
       "  <line x1=\"0\" y1=\"12\" x2=\"25\" y2=\"12\" />\n",
       "  <line x1=\"0\" y1=\"18\" x2=\"25\" y2=\"18\" />\n",
       "  <line x1=\"0\" y1=\"24\" x2=\"25\" y2=\"24\" />\n",
       "  <line x1=\"0\" y1=\"30\" x2=\"25\" y2=\"30\" />\n",
       "  <line x1=\"0\" y1=\"36\" x2=\"25\" y2=\"36\" />\n",
       "  <line x1=\"0\" y1=\"42\" x2=\"25\" y2=\"42\" />\n",
       "  <line x1=\"0\" y1=\"48\" x2=\"25\" y2=\"48\" />\n",
       "  <line x1=\"0\" y1=\"54\" x2=\"25\" y2=\"54\" />\n",
       "  <line x1=\"0\" y1=\"60\" x2=\"25\" y2=\"60\" />\n",
       "  <line x1=\"0\" y1=\"66\" x2=\"25\" y2=\"66\" />\n",
       "  <line x1=\"0\" y1=\"72\" x2=\"25\" y2=\"72\" />\n",
       "  <line x1=\"0\" y1=\"78\" x2=\"25\" y2=\"78\" />\n",
       "  <line x1=\"0\" y1=\"84\" x2=\"25\" y2=\"84\" />\n",
       "  <line x1=\"0\" y1=\"90\" x2=\"25\" y2=\"90\" />\n",
       "  <line x1=\"0\" y1=\"96\" x2=\"25\" y2=\"96\" />\n",
       "  <line x1=\"0\" y1=\"102\" x2=\"25\" y2=\"102\" />\n",
       "  <line x1=\"0\" y1=\"108\" x2=\"25\" y2=\"108\" />\n",
       "  <line x1=\"0\" y1=\"120\" x2=\"25\" y2=\"120\" style=\"stroke-width:2\" />\n",
       "\n",
       "  <!-- Vertical lines -->\n",
       "  <line x1=\"0\" y1=\"0\" x2=\"0\" y2=\"120\" style=\"stroke-width:2\" />\n",
       "  <line x1=\"25\" y1=\"0\" x2=\"25\" y2=\"120\" style=\"stroke-width:2\" />\n",
       "\n",
       "  <!-- Colored Rectangle -->\n",
       "  <polygon points=\"0.0,0.0 25.412616514582485,0.0 25.412616514582485,120.0 0.0,120.0\" style=\"fill:#8B4903A0;stroke-width:0\"/>\n",
       "\n",
       "  <!-- Text -->\n",
       "  <text x=\"12.706308\" y=\"140.000000\" font-size=\"1.0rem\" font-weight=\"100\" text-anchor=\"middle\" >19331</text>\n",
       "  <text x=\"45.412617\" y=\"60.000000\" font-size=\"1.0rem\" font-weight=\"100\" text-anchor=\"middle\" transform=\"rotate(-90,45.412617,60.000000)\">22190622</text>\n",
       "</svg>\n",
       "        </td>\n",
       "    </tr>\n",
       "</table>"
      ],
      "text/plain": [
       "dask.array<concatenate, shape=(22190622, 19331), dtype=float32, chunksize=(1109532, 19331), chunktype=numpy.ndarray>"
      ]
     },
     "execution_count": 19,
     "metadata": {},
     "output_type": "execute_result"
    }
   ],
   "source": [
    "X"
   ]
  },
  {
   "cell_type": "markdown",
   "id": "dd4ee991-a360-4f5a-ba74-f6891b95845e",
   "metadata": {},
   "source": [
    "### Create train, val, test split"
   ]
  },
  {
   "cell_type": "code",
   "execution_count": 21,
   "id": "1c214963-4817-4822-a477-76f6bd953a19",
   "metadata": {
    "tags": []
   },
   "outputs": [],
   "source": [
    "from statistics import mode\n",
    "from scipy.sparse import csr_matrix"
   ]
  },
  {
   "cell_type": "code",
   "execution_count": 39,
   "id": "1b86dafe-7925-4256-a4af-24c80d1d229b",
   "metadata": {
    "tags": []
   },
   "outputs": [],
   "source": [
    "from math import ceil\n",
    "\n",
    "\n",
    "def get_split(samples, val_split: float = 0.15, test_split: float = 0.15, seed = 1):\n",
    "    rng = np.random.default_rng(seed=seed)\n",
    "\n",
    "    samples = np.array(samples)\n",
    "    rng.shuffle(samples)\n",
    "    n_samples = len(samples)\n",
    "\n",
    "    n_samples_val = ceil(val_split * n_samples)\n",
    "    n_samples_test = ceil(test_split * n_samples)\n",
    "    n_samples_train = n_samples - n_samples_val - n_samples_test\n",
    "\n",
    "    return {\n",
    "        'train': samples[:n_samples_train],\n",
    "        'val': samples[n_samples_train:(n_samples_train + n_samples_val)],\n",
    "        'test': samples[(n_samples_train + n_samples_val):]\n",
    "    }\n"
   ]
  },
  {
   "cell_type": "code",
   "execution_count": 40,
   "id": "f0082d2b-53df-4972-8cfa-588d3a312a24",
   "metadata": {
    "tags": []
   },
   "outputs": [
    {
     "data": {
      "text/plain": [
       "{'train': array([       0,        1,        2, ..., 22190619, 22190620, 22190621]),\n",
       " 'val': array([   20620,    20621,    20622, ..., 22168031, 22168032, 22168033]),\n",
       " 'test': array([    7740,     7741,     7742, ..., 22158930, 22158931, 22158932])}"
      ]
     },
     "execution_count": 40,
     "metadata": {},
     "output_type": "execute_result"
    }
   ],
   "source": [
    "splits = {'train': [], 'val': [], 'test': []}\n",
    "tech_sample_splits = get_split(obs.tech_sample.unique().tolist())\n",
    "for x in ['train', 'val', 'test']:\n",
    "    splits[x] = obs[obs.tech_sample.isin(tech_sample_splits[x])].index.to_numpy()\n",
    "\n",
    "splits"
   ]
  },
  {
   "cell_type": "code",
   "execution_count": 41,
   "id": "209c1a29-1559-4960-adb8-d61ac9a3e897",
   "metadata": {
    "tags": []
   },
   "outputs": [],
   "source": [
    "assert len(np.intersect1d(splits['train'], splits['val'])) == 0\n",
    "assert len(np.intersect1d(splits['train'], splits['test'])) == 0\n",
    "assert len(np.intersect1d(splits['val'], splits['test'])) == 0\n",
    "assert len(np.intersect1d(splits['val'], splits['test'])) == 0"
   ]
  },
  {
   "cell_type": "code",
   "execution_count": 42,
   "id": "c510720d-a92b-4d56-a8c3-f83bb3d85274",
   "metadata": {
    "tags": []
   },
   "outputs": [
    {
     "name": "stdout",
     "output_type": "stream",
     "text": [
      "train: 15,241,127\n",
      "val: 3,500,170\n",
      "test: 3,449,325\n"
     ]
    }
   ],
   "source": [
    "print(f\"train: {len(obs.loc[splits['train'], :]):,}\")\n",
    "print(f\"val: {len(obs.loc[splits['val'], :]):,}\")\n",
    "print(f\"test: {len(obs.loc[splits['test'], :]):,}\")"
   ]
  },
  {
   "cell_type": "code",
   "execution_count": 43,
   "id": "b8b0f13d-1710-4e97-8419-1c4573d24c4f",
   "metadata": {
    "tags": []
   },
   "outputs": [
    {
     "name": "stdout",
     "output_type": "stream",
     "text": [
      "train: 164\n",
      "val: 164\n",
      "test: 164\n"
     ]
    }
   ],
   "source": [
    "print(f\"train: {len(np.unique(obs.loc[splits['train'], 'cell_type']))}\")\n",
    "print(f\"val: {len(np.unique(obs.loc[splits['val'], 'cell_type']))}\")\n",
    "print(f\"test: {len(np.unique(obs.loc[splits['test'], 'cell_type']))}\")"
   ]
  },
  {
   "cell_type": "code",
   "execution_count": 44,
   "id": "8b8ebefa-4d2a-4295-8321-f18296bb5942",
   "metadata": {
    "tags": []
   },
   "outputs": [
    {
     "data": {
      "text/plain": [
       "{'train': array([15380693, 14071968, 21476582, ...,  7830057,   639705,  3287217]),\n",
       " 'val': array([12641949,   192203, 17223332, ..., 11466818, 14458591,  1666073]),\n",
       " 'test': array([ 9719568,  9310073, 10488308, ...,  5888438,  6370338,  1240529])}"
      ]
     },
     "execution_count": 44,
     "metadata": {},
     "output_type": "execute_result"
    }
   ],
   "source": [
    "rng = np.random.default_rng(seed=1)\n",
    "\n",
    "splits['train'] = rng.permutation(splits['train'])\n",
    "splits['val'] = rng.permutation(splits['val'])\n",
    "splits['test'] = rng.permutation(splits['test'])\n",
    "\n",
    "splits"
   ]
  },
  {
   "cell_type": "code",
   "execution_count": null,
   "id": "4667e779-cbc6-4041-a5d9-611cf485efc0",
   "metadata": {},
   "outputs": [],
   "source": []
  },
  {
   "cell_type": "markdown",
   "id": "6362a052-3131-4b07-8889-29fa04f6c0db",
   "metadata": {},
   "source": [
    "### Save data"
   ]
  },
  {
   "cell_type": "code",
   "execution_count": 48,
   "id": "4df268a9-8cd3-4498-adec-d30523964c8c",
   "metadata": {
    "tags": []
   },
   "outputs": [],
   "source": [
    "SAVE_PATH = f'/mnt/dssfs02/cxg_census/data_2023_05_15'\n",
    "CHUNK_SIZE = 16384"
   ]
  },
  {
   "cell_type": "code",
   "execution_count": 49,
   "id": "b12e8566-3763-4546-90dc-c76052910496",
   "metadata": {
    "tags": []
   },
   "outputs": [
    {
     "name": "stderr",
     "output_type": "stream",
     "text": [
      "/tmp/ipykernel_1783881/2477127973.py:3: PerformanceWarning: Slicing with an out-of-order index is generating 723751 times more chunks\n",
      "  X_split = X[idxs, :].rechunk((CHUNK_SIZE, -1))\n",
      "/tmp/ipykernel_1783881/2477127973.py:3: PerformanceWarning: Slicing with an out-of-order index is generating 163107 times more chunks\n",
      "  X_split = X[idxs, :].rechunk((CHUNK_SIZE, -1))\n"
     ]
    }
   ],
   "source": [
    "for split, idxs in splits.items():\n",
    "    # out-of-order indexing is on purpose here as we want to shuffle the data to break up data sets\n",
    "    X_split = X[idxs, :].rechunk((CHUNK_SIZE, -1))\n",
    "    obs_split = obs.loc[idxs, :]\n",
    "    \n",
    "    save_dir = join(SAVE_PATH, split)\n",
    "    os.makedirs(save_dir)\n",
    "    \n",
    "    var.to_parquet(path=join(save_dir, 'var.parquet'), engine='pyarrow', compression='snappy', index=None)\n",
    "    obs_split.to_parquet(path=join(save_dir, 'obs.parquet'), engine='pyarrow', compression='snappy', index=None)\n",
    "    da.to_zarr(\n",
    "        X_split.map_blocks(lambda xx: xx.toarray(), dtype='f4'),\n",
    "        join(save_dir, 'zarr'),\n",
    "        component='X',\n",
    "        compute=True,\n",
    "        compressor='default', \n",
    "        order='C'\n",
    "    )\n"
   ]
  },
  {
   "cell_type": "code",
   "execution_count": null,
   "id": "3a4e6faa-87a3-4b20-8d6e-922cd2da63d0",
   "metadata": {},
   "outputs": [],
   "source": []
  },
  {
   "cell_type": "markdown",
   "id": "24c2ed70-7400-448d-9908-3c990da2168f",
   "metadata": {
    "jp-MarkdownHeadingCollapsed": true,
    "tags": []
   },
   "source": [
    "## Out-of-distribution data"
   ]
  },
  {
   "cell_type": "code",
   "execution_count": 26,
   "id": "ea2bf2b2-2eaf-45ad-a71e-b0a3a9621e49",
   "metadata": {
    "tags": []
   },
   "outputs": [],
   "source": [
    "BASE_PATH_OOD = '/mnt/dssfs02/cxg_census/h5ad_raw_2023_05_15_ood'"
   ]
  },
  {
   "cell_type": "code",
   "execution_count": 27,
   "id": "b85ed082-e5d7-44e5-9872-d8d6b42f6d35",
   "metadata": {
    "tags": []
   },
   "outputs": [
    {
     "name": "stdout",
     "output_type": "stream",
     "text": [
      "Loading obs...\n",
      "Loading var...\n",
      "Loading X...\n"
     ]
    }
   ],
   "source": [
    "files_ood = [\n",
    "    join(BASE_PATH_OOD, file) for file \n",
    "    in sorted(os.listdir(BASE_PATH_OOD), key=lambda x: int(x.split('.')[0])) \n",
    "    if file.endswith('.h5ad')\n",
    "]\n",
    "\n",
    "# read obs\n",
    "print('Loading obs...')\n",
    "obs_ood = pd.concat([read_obs(file) for file in files_ood]).reset_index(drop=True)\n",
    "for col in obs_ood.columns:\n",
    "    if obs_ood[col].dtype == object:\n",
    "        obs_ood[col] = obs_ood[col].astype('category')\n",
    "        obs_ood[col].cat.remove_unused_categories()\n",
    "# read var\n",
    "print('Loading var...')\n",
    "var_ood = read_var(files_ood[0])\n",
    "# read X\n",
    "print('Loading X...')\n",
    "split_lens = [len(split) for split in np.array_split(obs_ood_subset.soma_joinid.to_numpy(), 2)]\n",
    "X_ood = da.concatenate([\n",
    "    da.from_delayed(dask.delayed(read_X)(file), (split_len, len(var_ood)), dtype='f4') \n",
    "    for file, split_len in zip(files_ood, split_lens)\n",
    "]).persist()"
   ]
  },
  {
   "cell_type": "code",
   "execution_count": 29,
   "id": "8cd8200a-7e64-45b7-bfef-f7d18a4206e0",
   "metadata": {
    "tags": []
   },
   "outputs": [],
   "source": [
    "SAVE_PATH = f'/mnt/dssfs02/cxg_census/data_2023_05_15_ood'\n",
    "CHUNK_SIZE = 16384"
   ]
  },
  {
   "cell_type": "code",
   "execution_count": 33,
   "id": "8dfd3d32-83ef-4023-99a9-155c3e15212e",
   "metadata": {
    "tags": []
   },
   "outputs": [],
   "source": [
    "os.makedirs(SAVE_PATH)\n",
    "\n",
    "var_ood.to_parquet(path=join(SAVE_PATH, 'var.parquet'), engine='pyarrow', compression='snappy', index=None)\n",
    "obs_ood.to_parquet(path=join(SAVE_PATH, 'obs.parquet'), engine='pyarrow', compression='snappy', index=None)\n",
    "da.to_zarr(\n",
    "    X_ood.rechunk((CHUNK_SIZE, -1)).map_blocks(lambda xx: xx.toarray(), dtype='f4'),\n",
    "    join(SAVE_PATH, 'zarr'),\n",
    "    component='X',\n",
    "    compute=True,\n",
    "    compressor='default', \n",
    "    order='C'\n",
    ")\n"
   ]
  },
  {
   "cell_type": "code",
   "execution_count": null,
   "id": "7e8524f8-b383-4793-890e-7884941c2d1a",
   "metadata": {},
   "outputs": [],
   "source": []
  }
 ],
 "metadata": {
  "kernelspec": {
   "display_name": "Python 3 (ipykernel)",
   "language": "python",
   "name": "python3"
  },
  "language_info": {
   "codemirror_mode": {
    "name": "ipython",
    "version": 3
   },
   "file_extension": ".py",
   "mimetype": "text/x-python",
   "name": "python",
   "nbconvert_exporter": "python",
   "pygments_lexer": "ipython3",
   "version": "3.8.10"
  }
 },
 "nbformat": 4,
 "nbformat_minor": 5
}
