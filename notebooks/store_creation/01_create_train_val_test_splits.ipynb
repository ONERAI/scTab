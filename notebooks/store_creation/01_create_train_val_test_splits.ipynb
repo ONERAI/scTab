{
 "cells": [
  {
   "cell_type": "code",
   "execution_count": null,
   "id": "1bf0b43b-2a3a-446b-9c81-ff2b45f71297",
   "metadata": {
    "tags": []
   },
   "outputs": [],
   "source": [
    "!pip install cellxgene-census"
   ]
  },
  {
   "cell_type": "code",
   "execution_count": null,
   "id": "cd979aad-6e4f-4fa1-a656-42fbf4c35a7d",
   "metadata": {
    "tags": []
   },
   "outputs": [],
   "source": [
    "!pip install obonet"
   ]
  },
  {
   "cell_type": "code",
   "execution_count": 1,
   "id": "fc7994d3-f722-43e8-9a31-b16ab2022377",
   "metadata": {
    "tags": []
   },
   "outputs": [
    {
     "name": "stderr",
     "output_type": "stream",
     "text": [
      "/usr/local/lib/python3.8/dist-packages/tqdm/auto.py:21: TqdmWarning: IProgress not found. Please update jupyter and ipywidgets. See https://ipywidgets.readthedocs.io/en/stable/user_install.html\n",
      "  from .autonotebook import tqdm as notebook_tqdm\n"
     ]
    }
   ],
   "source": [
    "from os.path import join\n",
    "\n",
    "import pandas as pd\n",
    "import numpy as np\n",
    "\n",
    "from tqdm.auto import tqdm"
   ]
  },
  {
   "cell_type": "markdown",
   "id": "13b9f220-f20a-4e95-a6c0-30fb0662a0f7",
   "metadata": {},
   "source": [
    "# Utils code"
   ]
  },
  {
   "cell_type": "code",
   "execution_count": 2,
   "id": "2a8fd0f1-f5af-40f3-9ec5-8bf9cd711147",
   "metadata": {
    "tags": []
   },
   "outputs": [],
   "source": [
    "import obonet\n",
    "import networkx\n",
    "\n",
    "\n",
    "url = 'http://purl.obolibrary.org/obo/cl/cl-simple.obo'\n",
    "graph = obonet.read_obo(url, ignore_obsolete=True)\n",
    "\n",
    "# only use \"is_a\" edges\n",
    "edges_to_delete = []\n",
    "for i, x in enumerate(graph.edges):\n",
    "    if x[2] != 'is_a':\n",
    "        edges_to_delete.append((x[0], x[1]))\n",
    "for x in edges_to_delete:\n",
    "    graph.remove_edge(u=x[0], v=x[1])\n",
    "\n",
    "# define mapping from id to name\n",
    "id_to_name = {id_: data.get('name') for id_, data in graph.nodes(data=True)}\n",
    "# define inverse mapping from name to id\n",
    "name_to_id = {v: k for k, v in id_to_name.items()}\n",
    "\n",
    "\n",
    "def find_child_nodes(cell_type):\n",
    "    return [id_to_name[node] for node in networkx.ancestors(graph, name_to_id[cell_type])]\n",
    "\n",
    "\n",
    "def find_parent_nodes(cell_type):\n",
    "    return [id_to_name[node] for node in networkx.descendants(graph, name_to_id[cell_type])]"
   ]
  },
  {
   "cell_type": "code",
   "execution_count": null,
   "id": "6f47a0e9-71bb-4e5c-9c5a-4e0f1539cc8f",
   "metadata": {},
   "outputs": [],
   "source": []
  },
  {
   "cell_type": "markdown",
   "id": "844d43c8-81be-4e1b-8b7a-e8832b59a963",
   "metadata": {},
   "source": [
    "# Select data to download"
   ]
  },
  {
   "cell_type": "code",
   "execution_count": 3,
   "id": "b528a064-0cc4-4bbf-b9c9-13a5e923e52c",
   "metadata": {
    "tags": []
   },
   "outputs": [],
   "source": [
    "import cellxgene_census\n",
    "\n",
    "census = cellxgene_census.open_soma(census_version=\"2023-05-08\")"
   ]
  },
  {
   "cell_type": "code",
   "execution_count": 4,
   "id": "45c58772-b4a3-4135-b70a-cb152b025215",
   "metadata": {
    "tags": []
   },
   "outputs": [],
   "source": [
    "PROTOCOLS = [\n",
    "    \"10x 5' v2\", \n",
    "    \"10x 3' v3\", \n",
    "    \"10x 3' v2\", \n",
    "    \"10x 5' v1\", \n",
    "    \"10x 3' v1\", \n",
    "    \"10x 3' transcription profiling\", \n",
    "    \"10x 5' transcription profiling\"\n",
    "]\n",
    "\n",
    "\n",
    "COLUMN_NAMES = [\n",
    "    \"soma_joinid\",\n",
    "    \"is_primary_data\",\n",
    "    \"dataset_id\", \n",
    "    \"donor_id\",\n",
    "    \"assay\", \n",
    "    \"cell_type\", \n",
    "    \"development_stage\", \n",
    "    \"disease\", \n",
    "    \"tissue\", \n",
    "    \"tissue_general\"\n",
    "]"
   ]
  },
  {
   "cell_type": "code",
   "execution_count": 5,
   "id": "f660f1bc-33b4-42d5-92cf-eba62f066c60",
   "metadata": {
    "tags": []
   },
   "outputs": [],
   "source": [
    "obs = (\n",
    "    census[\"census_data\"][\"homo_sapiens\"]\n",
    "    .obs\n",
    "    .read(\n",
    "        column_names=COLUMN_NAMES,\n",
    "        value_filter=f\"is_primary_data == True and assay in {PROTOCOLS}\"\n",
    "    )\n",
    "    .concat()\n",
    "    .to_pandas()\n",
    ")"
   ]
  },
  {
   "cell_type": "code",
   "execution_count": 6,
   "id": "86654ff3-1991-4da3-a05d-4e1ffe25bdfa",
   "metadata": {
    "tags": []
   },
   "outputs": [],
   "source": [
    "obs['tech_sample'] = (obs.dataset_id + '_' + obs.donor_id).astype('category')\n",
    "\n",
    "for col in COLUMN_NAMES:\n",
    "    if obs[col].dtype == object:\n",
    "        obs[col] = obs[col].astype('category')\n"
   ]
  },
  {
   "cell_type": "code",
   "execution_count": 7,
   "id": "66952771-6325-46b8-a4c6-7c61310bd50c",
   "metadata": {
    "tags": []
   },
   "outputs": [
    {
     "data": {
      "text/plain": [
       "soma_joinid             int64\n",
       "is_primary_data          bool\n",
       "dataset_id           category\n",
       "donor_id             category\n",
       "assay                category\n",
       "cell_type            category\n",
       "development_stage    category\n",
       "disease              category\n",
       "tissue               category\n",
       "tissue_general       category\n",
       "tech_sample          category\n",
       "dtype: object"
      ]
     },
     "execution_count": 7,
     "metadata": {},
     "output_type": "execute_result"
    }
   ],
   "source": [
    "obs.dtypes"
   ]
  },
  {
   "cell_type": "code",
   "execution_count": 8,
   "id": "13aeb3f1-de0e-4c87-a6a5-25463bf21851",
   "metadata": {
    "tags": []
   },
   "outputs": [],
   "source": [
    "# remove all cell types which are not a subtype of native cell\n",
    "cell_types_to_remove = obs[~obs.cell_type.isin(find_child_nodes('native cell'))].cell_type.unique().tolist()\n",
    "\n",
    "# remove all cell types which have less than 5000 cells\n",
    "cell_freq = obs.cell_type.value_counts()\n",
    "cell_types_to_remove += cell_freq[cell_freq < 5000].index.tolist()\n",
    "\n",
    "# remove cell types which have less than 30 tech_samples\n",
    "tech_samples_per_cell_type = obs[['cell_type', 'tech_sample']].groupby('cell_type').agg({'tech_sample': 'nunique'}).sort_values('tech_sample')\n",
    "cell_types_to_remove += tech_samples_per_cell_type[tech_samples_per_cell_type.tech_sample <= 30].index.tolist()\n",
    "\n",
    "# filter out too granular labels\n",
    "# remove all cells that have <= 7 parents in the cell ontology\n",
    "cell_types = obs.cell_type.unique().tolist()\n",
    "\n",
    "n_children = []\n",
    "n_parents = []\n",
    "\n",
    "for cell_type in cell_types:\n",
    "    n_parents.append(len(find_parent_nodes(cell_type)))\n",
    "    n_children.append(len(find_child_nodes(cell_type)))\n",
    "\n",
    "cell_types_to_remove += (\n",
    "    pd.DataFrame({'n_children': n_children, 'n_parents': n_parents}, index=cell_types)\n",
    "    .query('n_parents <= 7')\n",
    "    .index.tolist()\n",
    ")\n",
    "cell_types_to_remove = list(set(cell_types_to_remove))"
   ]
  },
  {
   "cell_type": "code",
   "execution_count": 9,
   "id": "cb63ed0f-970e-47da-99b1-fcdab300198b",
   "metadata": {
    "tags": []
   },
   "outputs": [
    {
     "data": {
      "text/plain": [
       "157"
      ]
     },
     "execution_count": 9,
     "metadata": {},
     "output_type": "execute_result"
    }
   ],
   "source": [
    "obs.cell_type.nunique() - len(cell_types_to_remove)"
   ]
  },
  {
   "cell_type": "code",
   "execution_count": 10,
   "id": "f90ec5d2-df39-4dc0-ad51-c4fca30d899c",
   "metadata": {
    "tags": []
   },
   "outputs": [
    {
     "data": {
      "text/html": [
       "<div>\n",
       "<style scoped>\n",
       "    .dataframe tbody tr th:only-of-type {\n",
       "        vertical-align: middle;\n",
       "    }\n",
       "\n",
       "    .dataframe tbody tr th {\n",
       "        vertical-align: top;\n",
       "    }\n",
       "\n",
       "    .dataframe thead th {\n",
       "        text-align: right;\n",
       "    }\n",
       "</style>\n",
       "<table border=\"1\" class=\"dataframe\">\n",
       "  <thead>\n",
       "    <tr style=\"text-align: right;\">\n",
       "      <th></th>\n",
       "      <th>soma_joinid</th>\n",
       "      <th>is_primary_data</th>\n",
       "      <th>dataset_id</th>\n",
       "      <th>donor_id</th>\n",
       "      <th>assay</th>\n",
       "      <th>cell_type</th>\n",
       "      <th>development_stage</th>\n",
       "      <th>disease</th>\n",
       "      <th>tissue</th>\n",
       "      <th>tissue_general</th>\n",
       "      <th>tech_sample</th>\n",
       "    </tr>\n",
       "  </thead>\n",
       "  <tbody>\n",
       "    <tr>\n",
       "      <th>0</th>\n",
       "      <td>0</td>\n",
       "      <td>True</td>\n",
       "      <td>b0e547f0-462b-4f81-b31b-5b0a5d96f537</td>\n",
       "      <td>SG_HEL_H02a</td>\n",
       "      <td>10x 5' v2</td>\n",
       "      <td>CD16-positive, CD56-dim natural killer cell, h...</td>\n",
       "      <td>57-year-old human stage</td>\n",
       "      <td>normal</td>\n",
       "      <td>blood</td>\n",
       "      <td>blood</td>\n",
       "      <td>b0e547f0-462b-4f81-b31b-5b0a5d96f537_SG_HEL_H02a</td>\n",
       "    </tr>\n",
       "    <tr>\n",
       "      <th>1</th>\n",
       "      <td>1</td>\n",
       "      <td>True</td>\n",
       "      <td>b0e547f0-462b-4f81-b31b-5b0a5d96f537</td>\n",
       "      <td>SG_HEL_H02a</td>\n",
       "      <td>10x 5' v2</td>\n",
       "      <td>CD16-positive, CD56-dim natural killer cell, h...</td>\n",
       "      <td>57-year-old human stage</td>\n",
       "      <td>normal</td>\n",
       "      <td>blood</td>\n",
       "      <td>blood</td>\n",
       "      <td>b0e547f0-462b-4f81-b31b-5b0a5d96f537_SG_HEL_H02a</td>\n",
       "    </tr>\n",
       "    <tr>\n",
       "      <th>2</th>\n",
       "      <td>2</td>\n",
       "      <td>True</td>\n",
       "      <td>b0e547f0-462b-4f81-b31b-5b0a5d96f537</td>\n",
       "      <td>SG_HEL_H02a</td>\n",
       "      <td>10x 5' v2</td>\n",
       "      <td>CD14-positive monocyte</td>\n",
       "      <td>57-year-old human stage</td>\n",
       "      <td>normal</td>\n",
       "      <td>blood</td>\n",
       "      <td>blood</td>\n",
       "      <td>b0e547f0-462b-4f81-b31b-5b0a5d96f537_SG_HEL_H02a</td>\n",
       "    </tr>\n",
       "    <tr>\n",
       "      <th>3</th>\n",
       "      <td>3</td>\n",
       "      <td>True</td>\n",
       "      <td>b0e547f0-462b-4f81-b31b-5b0a5d96f537</td>\n",
       "      <td>SG_HEL_H02a</td>\n",
       "      <td>10x 5' v2</td>\n",
       "      <td>CD14-positive monocyte</td>\n",
       "      <td>57-year-old human stage</td>\n",
       "      <td>normal</td>\n",
       "      <td>blood</td>\n",
       "      <td>blood</td>\n",
       "      <td>b0e547f0-462b-4f81-b31b-5b0a5d96f537_SG_HEL_H02a</td>\n",
       "    </tr>\n",
       "    <tr>\n",
       "      <th>4</th>\n",
       "      <td>4</td>\n",
       "      <td>True</td>\n",
       "      <td>b0e547f0-462b-4f81-b31b-5b0a5d96f537</td>\n",
       "      <td>SG_HEL_H02a</td>\n",
       "      <td>10x 5' v2</td>\n",
       "      <td>CD8-positive, alpha-beta memory T cell</td>\n",
       "      <td>57-year-old human stage</td>\n",
       "      <td>normal</td>\n",
       "      <td>blood</td>\n",
       "      <td>blood</td>\n",
       "      <td>b0e547f0-462b-4f81-b31b-5b0a5d96f537_SG_HEL_H02a</td>\n",
       "    </tr>\n",
       "    <tr>\n",
       "      <th>...</th>\n",
       "      <td>...</td>\n",
       "      <td>...</td>\n",
       "      <td>...</td>\n",
       "      <td>...</td>\n",
       "      <td>...</td>\n",
       "      <td>...</td>\n",
       "      <td>...</td>\n",
       "      <td>...</td>\n",
       "      <td>...</td>\n",
       "      <td>...</td>\n",
       "      <td>...</td>\n",
       "    </tr>\n",
       "    <tr>\n",
       "      <th>26605250</th>\n",
       "      <td>50248977</td>\n",
       "      <td>True</td>\n",
       "      <td>8c42cfd0-0b0a-46d5-910c-fc833d83c45e</td>\n",
       "      <td>3</td>\n",
       "      <td>10x 3' v2</td>\n",
       "      <td>pericyte</td>\n",
       "      <td>51-year-old human stage</td>\n",
       "      <td>normal</td>\n",
       "      <td>lung</td>\n",
       "      <td>lung</td>\n",
       "      <td>8c42cfd0-0b0a-46d5-910c-fc833d83c45e_3</td>\n",
       "    </tr>\n",
       "    <tr>\n",
       "      <th>26605251</th>\n",
       "      <td>50248978</td>\n",
       "      <td>True</td>\n",
       "      <td>8c42cfd0-0b0a-46d5-910c-fc833d83c45e</td>\n",
       "      <td>3</td>\n",
       "      <td>10x 3' v2</td>\n",
       "      <td>pericyte</td>\n",
       "      <td>51-year-old human stage</td>\n",
       "      <td>normal</td>\n",
       "      <td>lung</td>\n",
       "      <td>lung</td>\n",
       "      <td>8c42cfd0-0b0a-46d5-910c-fc833d83c45e_3</td>\n",
       "    </tr>\n",
       "    <tr>\n",
       "      <th>26605252</th>\n",
       "      <td>50248979</td>\n",
       "      <td>True</td>\n",
       "      <td>8c42cfd0-0b0a-46d5-910c-fc833d83c45e</td>\n",
       "      <td>3</td>\n",
       "      <td>10x 3' v2</td>\n",
       "      <td>pericyte</td>\n",
       "      <td>51-year-old human stage</td>\n",
       "      <td>normal</td>\n",
       "      <td>lung</td>\n",
       "      <td>lung</td>\n",
       "      <td>8c42cfd0-0b0a-46d5-910c-fc833d83c45e_3</td>\n",
       "    </tr>\n",
       "    <tr>\n",
       "      <th>26605253</th>\n",
       "      <td>50248980</td>\n",
       "      <td>True</td>\n",
       "      <td>8c42cfd0-0b0a-46d5-910c-fc833d83c45e</td>\n",
       "      <td>3</td>\n",
       "      <td>10x 3' v2</td>\n",
       "      <td>pericyte</td>\n",
       "      <td>51-year-old human stage</td>\n",
       "      <td>normal</td>\n",
       "      <td>lung</td>\n",
       "      <td>lung</td>\n",
       "      <td>8c42cfd0-0b0a-46d5-910c-fc833d83c45e_3</td>\n",
       "    </tr>\n",
       "    <tr>\n",
       "      <th>26605254</th>\n",
       "      <td>50248981</td>\n",
       "      <td>True</td>\n",
       "      <td>8c42cfd0-0b0a-46d5-910c-fc833d83c45e</td>\n",
       "      <td>3</td>\n",
       "      <td>10x 3' v2</td>\n",
       "      <td>pericyte</td>\n",
       "      <td>51-year-old human stage</td>\n",
       "      <td>normal</td>\n",
       "      <td>lung</td>\n",
       "      <td>lung</td>\n",
       "      <td>8c42cfd0-0b0a-46d5-910c-fc833d83c45e_3</td>\n",
       "    </tr>\n",
       "  </tbody>\n",
       "</table>\n",
       "<p>21179590 rows × 11 columns</p>\n",
       "</div>"
      ],
      "text/plain": [
       "          soma_joinid  is_primary_data                            dataset_id  \\\n",
       "0                   0             True  b0e547f0-462b-4f81-b31b-5b0a5d96f537   \n",
       "1                   1             True  b0e547f0-462b-4f81-b31b-5b0a5d96f537   \n",
       "2                   2             True  b0e547f0-462b-4f81-b31b-5b0a5d96f537   \n",
       "3                   3             True  b0e547f0-462b-4f81-b31b-5b0a5d96f537   \n",
       "4                   4             True  b0e547f0-462b-4f81-b31b-5b0a5d96f537   \n",
       "...               ...              ...                                   ...   \n",
       "26605250     50248977             True  8c42cfd0-0b0a-46d5-910c-fc833d83c45e   \n",
       "26605251     50248978             True  8c42cfd0-0b0a-46d5-910c-fc833d83c45e   \n",
       "26605252     50248979             True  8c42cfd0-0b0a-46d5-910c-fc833d83c45e   \n",
       "26605253     50248980             True  8c42cfd0-0b0a-46d5-910c-fc833d83c45e   \n",
       "26605254     50248981             True  8c42cfd0-0b0a-46d5-910c-fc833d83c45e   \n",
       "\n",
       "             donor_id      assay  \\\n",
       "0         SG_HEL_H02a  10x 5' v2   \n",
       "1         SG_HEL_H02a  10x 5' v2   \n",
       "2         SG_HEL_H02a  10x 5' v2   \n",
       "3         SG_HEL_H02a  10x 5' v2   \n",
       "4         SG_HEL_H02a  10x 5' v2   \n",
       "...               ...        ...   \n",
       "26605250            3  10x 3' v2   \n",
       "26605251            3  10x 3' v2   \n",
       "26605252            3  10x 3' v2   \n",
       "26605253            3  10x 3' v2   \n",
       "26605254            3  10x 3' v2   \n",
       "\n",
       "                                                  cell_type  \\\n",
       "0         CD16-positive, CD56-dim natural killer cell, h...   \n",
       "1         CD16-positive, CD56-dim natural killer cell, h...   \n",
       "2                                    CD14-positive monocyte   \n",
       "3                                    CD14-positive monocyte   \n",
       "4                    CD8-positive, alpha-beta memory T cell   \n",
       "...                                                     ...   \n",
       "26605250                                           pericyte   \n",
       "26605251                                           pericyte   \n",
       "26605252                                           pericyte   \n",
       "26605253                                           pericyte   \n",
       "26605254                                           pericyte   \n",
       "\n",
       "                development_stage disease tissue tissue_general  \\\n",
       "0         57-year-old human stage  normal  blood          blood   \n",
       "1         57-year-old human stage  normal  blood          blood   \n",
       "2         57-year-old human stage  normal  blood          blood   \n",
       "3         57-year-old human stage  normal  blood          blood   \n",
       "4         57-year-old human stage  normal  blood          blood   \n",
       "...                           ...     ...    ...            ...   \n",
       "26605250  51-year-old human stage  normal   lung           lung   \n",
       "26605251  51-year-old human stage  normal   lung           lung   \n",
       "26605252  51-year-old human stage  normal   lung           lung   \n",
       "26605253  51-year-old human stage  normal   lung           lung   \n",
       "26605254  51-year-old human stage  normal   lung           lung   \n",
       "\n",
       "                                               tech_sample  \n",
       "0         b0e547f0-462b-4f81-b31b-5b0a5d96f537_SG_HEL_H02a  \n",
       "1         b0e547f0-462b-4f81-b31b-5b0a5d96f537_SG_HEL_H02a  \n",
       "2         b0e547f0-462b-4f81-b31b-5b0a5d96f537_SG_HEL_H02a  \n",
       "3         b0e547f0-462b-4f81-b31b-5b0a5d96f537_SG_HEL_H02a  \n",
       "4         b0e547f0-462b-4f81-b31b-5b0a5d96f537_SG_HEL_H02a  \n",
       "...                                                    ...  \n",
       "26605250            8c42cfd0-0b0a-46d5-910c-fc833d83c45e_3  \n",
       "26605251            8c42cfd0-0b0a-46d5-910c-fc833d83c45e_3  \n",
       "26605252            8c42cfd0-0b0a-46d5-910c-fc833d83c45e_3  \n",
       "26605253            8c42cfd0-0b0a-46d5-910c-fc833d83c45e_3  \n",
       "26605254            8c42cfd0-0b0a-46d5-910c-fc833d83c45e_3  \n",
       "\n",
       "[21179590 rows x 11 columns]"
      ]
     },
     "execution_count": 10,
     "metadata": {},
     "output_type": "execute_result"
    }
   ],
   "source": [
    "obs_subset = obs[~obs.cell_type.isin(cell_types_to_remove)].copy()\n",
    "for col in obs_subset.columns:\n",
    "    if obs_subset[col].dtype == 'category':\n",
    "        obs_subset[col] = obs_subset[col].cat.remove_unused_categories()\n",
    "obs_subset"
   ]
  },
  {
   "cell_type": "code",
   "execution_count": 11,
   "id": "7ed30bb6-28bb-42f1-bade-557c0958b51d",
   "metadata": {
    "tags": []
   },
   "outputs": [],
   "source": [
    "cell_types_to_keep = obs_subset.cell_type.unique().tolist()"
   ]
  },
  {
   "cell_type": "code",
   "execution_count": null,
   "id": "04ac072d-dc66-4c02-9d78-630c828b20ee",
   "metadata": {
    "tags": []
   },
   "outputs": [],
   "source": []
  },
  {
   "cell_type": "markdown",
   "id": "356d8a14-79af-420d-9ecf-71add45acb65",
   "metadata": {
    "tags": []
   },
   "source": [
    "# Download data"
   ]
  },
  {
   "cell_type": "code",
   "execution_count": 14,
   "id": "374a77b2-cdf2-4e1c-8c60-ed280adb5541",
   "metadata": {
    "tags": []
   },
   "outputs": [],
   "source": [
    "protein_coding_genes = pd.read_parquet('features.parquet').gene_names.tolist()"
   ]
  },
  {
   "cell_type": "code",
   "execution_count": 15,
   "id": "2ac6cb93-7c4a-4375-b0cf-d14889673ef2",
   "metadata": {
    "tags": []
   },
   "outputs": [],
   "source": [
    "BASE_PATH = '/mnt/dssfs02/cxg_census/slices'\n",
    "\n",
    "\n",
    "# download in batches to not run out of memory\n",
    "for i, idxs in tqdm(enumerate(np.array_split(obs_subset.soma_joinid.to_numpy(), 20))):\n",
    "    adata = cellxgene_census.get_anndata(\n",
    "        census=census,\n",
    "        organism=\"Homo sapiens\",\n",
    "        X_name='raw',\n",
    "        obs_coords=idxs.tolist(),\n",
    "        var_value_filter=f\"feature_name in {protein_coding_genes}\",\n",
    "        column_names={\"obs\": COLUMN_NAMES, \"var\": ['feature_id', 'feature_name']},\n",
    "    )\n",
    "    adata.write_h5ad(join(BASE_PATH, f'{i}.h5ad'))\n"
   ]
  },
  {
   "cell_type": "markdown",
   "id": "d72668c0-96f6-47a4-a5d7-98fe4c7c0f0b",
   "metadata": {
    "tags": []
   },
   "source": [
    "# Store data"
   ]
  },
  {
   "cell_type": "markdown",
   "id": "c164e909-2cad-4815-a5ef-59c04eed7b43",
   "metadata": {},
   "source": [
    "## Convert to zarr + DataFrame"
   ]
  },
  {
   "cell_type": "code",
   "execution_count": 14,
   "id": "75b19d48-2b76-4235-ad0e-8d8f557457ba",
   "metadata": {
    "tags": []
   },
   "outputs": [],
   "source": [
    "BASE_PATH = '/mnt/dssfs02/cxg_census/slices'"
   ]
  },
  {
   "cell_type": "code",
   "execution_count": 12,
   "id": "c6f8fcc8-bb45-42fc-acc9-71112819eb9e",
   "metadata": {
    "tags": []
   },
   "outputs": [],
   "source": [
    "import os\n",
    "from os.path import join\n",
    "\n",
    "import anndata\n",
    "import dask\n",
    "import dask.array as da\n",
    "\n",
    "from scipy.sparse import csr_matrix\n",
    "\n",
    "dask.config.set(scheduler='threads');"
   ]
  },
  {
   "cell_type": "code",
   "execution_count": 21,
   "id": "bc983e79-485c-4037-93fd-71a338946cf9",
   "metadata": {
    "tags": []
   },
   "outputs": [],
   "source": [
    "def read_X(path):\n",
    "    return anndata.read_h5ad(path).X\n",
    "\n",
    "\n",
    "def read_obs(path):\n",
    "    obs = anndata.read_h5ad(path, backed='r').obs\n",
    "    obs['tech_sample'] = obs.dataset_id.astype(str) + '_' + obs.donor_id.astype(str)\n",
    "    return obs\n",
    "\n",
    "\n",
    "def read_var(path):\n",
    "    return anndata.read_h5ad(path, backed='r').var\n",
    "\n",
    "\n",
    "files = [\n",
    "    join(BASE_PATH, file) for file \n",
    "    in sorted(os.listdir(BASE_PATH), key=lambda x: int(x.split('.')[0])) \n",
    "    if file.endswith('.h5ad')\n",
    "]\n",
    "\n",
    "# read obs\n",
    "print('Loading obs...')\n",
    "obs = pd.concat([read_obs(file) for file in files]).reset_index(drop=True)\n",
    "for col in obs.columns:\n",
    "    if obs[col].dtype == object:\n",
    "        obs[col] = obs[col].astype('category')\n",
    "        obs[col].cat.remove_unused_categories()\n",
    "# read var\n",
    "print('Loading var...')\n",
    "var = read_var(files[0])\n",
    "# read X\n",
    "print('Loading X...')\n",
    "split_lens = [len(split) for split in np.array_split(obs_subset.soma_joinid.to_numpy(), 20)]\n",
    "X = da.concatenate([\n",
    "    da.from_delayed(dask.delayed(read_X)(file), (split_len, len(var)), dtype='f4') \n",
    "    for file, split_len in zip(files, split_lens)\n",
    "]).persist()\n"
   ]
  },
  {
   "cell_type": "code",
   "execution_count": 22,
   "id": "d37cc3c2-c60a-4817-981a-d1059fdab248",
   "metadata": {
    "tags": []
   },
   "outputs": [
    {
     "data": {
      "text/html": [
       "<table>\n",
       "    <tr>\n",
       "        <td>\n",
       "            <table style=\"border-collapse: collapse;\">\n",
       "                <thead>\n",
       "                    <tr>\n",
       "                        <td> </td>\n",
       "                        <th> Array </th>\n",
       "                        <th> Chunk </th>\n",
       "                    </tr>\n",
       "                </thead>\n",
       "                <tbody>\n",
       "                    \n",
       "                    <tr>\n",
       "                        <th> Bytes </th>\n",
       "                        <td> 1.49 TiB </td>\n",
       "                        <td> 76.26 GiB </td>\n",
       "                    </tr>\n",
       "                    \n",
       "                    <tr>\n",
       "                        <th> Shape </th>\n",
       "                        <td> (21179590, 19331) </td>\n",
       "                        <td> (1058980, 19331) </td>\n",
       "                    </tr>\n",
       "                    <tr>\n",
       "                        <th> Dask graph </th>\n",
       "                        <td colspan=\"2\"> 20 chunks in 1 graph layer </td>\n",
       "                    </tr>\n",
       "                    <tr>\n",
       "                        <th> Data type </th>\n",
       "                        <td colspan=\"2\"> float32 numpy.ndarray </td>\n",
       "                    </tr>\n",
       "                </tbody>\n",
       "            </table>\n",
       "        </td>\n",
       "        <td>\n",
       "        <svg width=\"75\" height=\"170\" style=\"stroke:rgb(0,0,0);stroke-width:1\" >\n",
       "\n",
       "  <!-- Horizontal lines -->\n",
       "  <line x1=\"0\" y1=\"0\" x2=\"25\" y2=\"0\" style=\"stroke-width:2\" />\n",
       "  <line x1=\"0\" y1=\"6\" x2=\"25\" y2=\"6\" />\n",
       "  <line x1=\"0\" y1=\"12\" x2=\"25\" y2=\"12\" />\n",
       "  <line x1=\"0\" y1=\"18\" x2=\"25\" y2=\"18\" />\n",
       "  <line x1=\"0\" y1=\"24\" x2=\"25\" y2=\"24\" />\n",
       "  <line x1=\"0\" y1=\"30\" x2=\"25\" y2=\"30\" />\n",
       "  <line x1=\"0\" y1=\"36\" x2=\"25\" y2=\"36\" />\n",
       "  <line x1=\"0\" y1=\"42\" x2=\"25\" y2=\"42\" />\n",
       "  <line x1=\"0\" y1=\"48\" x2=\"25\" y2=\"48\" />\n",
       "  <line x1=\"0\" y1=\"54\" x2=\"25\" y2=\"54\" />\n",
       "  <line x1=\"0\" y1=\"60\" x2=\"25\" y2=\"60\" />\n",
       "  <line x1=\"0\" y1=\"66\" x2=\"25\" y2=\"66\" />\n",
       "  <line x1=\"0\" y1=\"72\" x2=\"25\" y2=\"72\" />\n",
       "  <line x1=\"0\" y1=\"78\" x2=\"25\" y2=\"78\" />\n",
       "  <line x1=\"0\" y1=\"84\" x2=\"25\" y2=\"84\" />\n",
       "  <line x1=\"0\" y1=\"90\" x2=\"25\" y2=\"90\" />\n",
       "  <line x1=\"0\" y1=\"96\" x2=\"25\" y2=\"96\" />\n",
       "  <line x1=\"0\" y1=\"102\" x2=\"25\" y2=\"102\" />\n",
       "  <line x1=\"0\" y1=\"108\" x2=\"25\" y2=\"108\" />\n",
       "  <line x1=\"0\" y1=\"120\" x2=\"25\" y2=\"120\" style=\"stroke-width:2\" />\n",
       "\n",
       "  <!-- Vertical lines -->\n",
       "  <line x1=\"0\" y1=\"0\" x2=\"0\" y2=\"120\" style=\"stroke-width:2\" />\n",
       "  <line x1=\"25\" y1=\"0\" x2=\"25\" y2=\"120\" style=\"stroke-width:2\" />\n",
       "\n",
       "  <!-- Colored Rectangle -->\n",
       "  <polygon points=\"0.0,0.0 25.412616514582485,0.0 25.412616514582485,120.0 0.0,120.0\" style=\"fill:#8B4903A0;stroke-width:0\"/>\n",
       "\n",
       "  <!-- Text -->\n",
       "  <text x=\"12.706308\" y=\"140.000000\" font-size=\"1.0rem\" font-weight=\"100\" text-anchor=\"middle\" >19331</text>\n",
       "  <text x=\"45.412617\" y=\"60.000000\" font-size=\"1.0rem\" font-weight=\"100\" text-anchor=\"middle\" transform=\"rotate(-90,45.412617,60.000000)\">21179590</text>\n",
       "</svg>\n",
       "        </td>\n",
       "    </tr>\n",
       "</table>"
      ],
      "text/plain": [
       "dask.array<concatenate, shape=(21179590, 19331), dtype=float32, chunksize=(1058980, 19331), chunktype=numpy.ndarray>"
      ]
     },
     "execution_count": 22,
     "metadata": {},
     "output_type": "execute_result"
    }
   ],
   "source": [
    "X"
   ]
  },
  {
   "cell_type": "code",
   "execution_count": null,
   "id": "32712941-318c-40b3-963e-326b6437b7ea",
   "metadata": {},
   "outputs": [],
   "source": []
  },
  {
   "cell_type": "markdown",
   "id": "dd4ee991-a360-4f5a-ba74-f6891b95845e",
   "metadata": {},
   "source": [
    "## Create train, val, test split"
   ]
  },
  {
   "cell_type": "code",
   "execution_count": 43,
   "id": "1c214963-4817-4822-a477-76f6bd953a19",
   "metadata": {
    "tags": []
   },
   "outputs": [],
   "source": [
    "from statistics import mode\n",
    "from scipy.sparse import csr_matrix"
   ]
  },
  {
   "cell_type": "code",
   "execution_count": 44,
   "id": "62be2225-373c-406d-bc86-7d749c72d930",
   "metadata": {
    "tags": []
   },
   "outputs": [],
   "source": [
    "from math import ceil\n",
    "\n",
    "\n",
    "def get_split(samples, val_split: float = 0.15, test_split: float = 0.15, seed = 1):\n",
    "    rng = np.random.default_rng(seed=seed)\n",
    "\n",
    "    samples = np.array(samples)\n",
    "    rng.shuffle(samples)\n",
    "    n_samples = len(samples)\n",
    "\n",
    "    n_samples_val = ceil(val_split * n_samples)\n",
    "    n_samples_test = ceil(test_split * n_samples)\n",
    "    n_samples_train = n_samples - n_samples_val - n_samples_test\n",
    "\n",
    "    return {\n",
    "        'train': samples[:n_samples_train],\n",
    "        'val': samples[n_samples_train:(n_samples_train + n_samples_val)],\n",
    "        'test': samples[(n_samples_train + n_samples_val):]\n",
    "    }\n",
    "\n",
    "\n",
    "tech_samples_per_cell_type = obs[['cell_type', 'tech_sample']].groupby('cell_type').agg({'tech_sample': 'unique'})\n",
    "\n",
    "\n",
    "splits = {'train': [], 'val': [], 'test': []}\n",
    "for cell_type in tech_samples_per_cell_type.index:\n",
    "    samples = tech_samples_per_cell_type.loc[cell_type, 'tech_sample']\n",
    "    split = get_split(samples)\n",
    "    for x in ['train', 'val', 'test']:\n",
    "        assert len(split[x]) >= 1\n",
    "        idxs = obs[(obs.tech_sample.isin(split[x])) & (obs.cell_type == cell_type)].index.tolist()\n",
    "        splits[x] += idxs\n"
   ]
  },
  {
   "cell_type": "code",
   "execution_count": 45,
   "id": "e42b2b0b-8aa1-4d9d-afc0-7ee501c8895e",
   "metadata": {
    "tags": []
   },
   "outputs": [
    {
     "data": {
      "text/plain": [
       "{'train': array([    211,     418,    1151, ..., 2578190, 2578201, 2578240]),\n",
       " 'val': array([   5696,    5990,    6085, ..., 2578045, 2578065, 2578224]),\n",
       " 'test': array([   2445,   15793,   17027, ..., 2578101, 2578133, 2578175])}"
      ]
     },
     "execution_count": 45,
     "metadata": {},
     "output_type": "execute_result"
    }
   ],
   "source": [
    "splits['train'] = np.array(splits['train'])\n",
    "splits['val'] = np.array(splits['val'])\n",
    "splits['test'] = np.array(splits['test'])\n",
    "\n",
    "splits"
   ]
  },
  {
   "cell_type": "code",
   "execution_count": 46,
   "id": "209c1a29-1559-4960-adb8-d61ac9a3e897",
   "metadata": {
    "tags": []
   },
   "outputs": [],
   "source": [
    "assert len(np.intersect1d(splits['train'], splits['val'])) == 0\n",
    "assert len(np.intersect1d(splits['train'], splits['test'])) == 0\n",
    "assert len(np.intersect1d(splits['val'], splits['test'])) == 0\n",
    "assert len(np.intersect1d(splits['val'], splits['test'])) == 0"
   ]
  },
  {
   "cell_type": "code",
   "execution_count": 47,
   "id": "c510720d-a92b-4d56-a8c3-f83bb3d85274",
   "metadata": {
    "tags": []
   },
   "outputs": [
    {
     "name": "stdout",
     "output_type": "stream",
     "text": [
      "train: 14,843,199\n",
      "val: 3,091,012\n",
      "test: 3,245,379\n"
     ]
    }
   ],
   "source": [
    "print(f\"train: {len(obs.loc[splits['train'], :]):,}\")\n",
    "print(f\"val: {len(obs.loc[splits['val'], :]):,}\")\n",
    "print(f\"test: {len(obs.loc[splits['test'], :]):,}\")"
   ]
  },
  {
   "cell_type": "code",
   "execution_count": 48,
   "id": "b8b0f13d-1710-4e97-8419-1c4573d24c4f",
   "metadata": {
    "tags": []
   },
   "outputs": [
    {
     "name": "stdout",
     "output_type": "stream",
     "text": [
      "train: 157\n",
      "val: 157\n",
      "test: 157\n"
     ]
    }
   ],
   "source": [
    "print(f\"train: {obs.loc[splits['train'], :].cell_type.nunique()}\")\n",
    "print(f\"val: {obs.loc[splits['val'], :].cell_type.nunique()}\")\n",
    "print(f\"test: {obs.loc[splits['test'], :].cell_type.nunique()}\")"
   ]
  },
  {
   "cell_type": "code",
   "execution_count": 49,
   "id": "8b8ebefa-4d2a-4295-8321-f18296bb5942",
   "metadata": {
    "tags": []
   },
   "outputs": [
    {
     "data": {
      "text/plain": [
       "{'train': array([ 1371708, 11273954, 15187976, ..., 16091352, 19464233, 18237670]),\n",
       " 'val': array([11607099, 15186124, 13612104, ...,  3928036, 21129690,  8283678]),\n",
       " 'test': array([15528101,  8082559,   697058, ..., 11167194,  5659546,   416708])}"
      ]
     },
     "execution_count": 49,
     "metadata": {},
     "output_type": "execute_result"
    }
   ],
   "source": [
    "rng = np.random.default_rng(seed=1)\n",
    "\n",
    "splits['train'] = rng.permutation(splits['train'])\n",
    "splits['val'] = rng.permutation(splits['val'])\n",
    "splits['test'] = rng.permutation(splits['test'])\n",
    "\n",
    "splits"
   ]
  },
  {
   "cell_type": "code",
   "execution_count": null,
   "id": "3887e579-b0be-4699-9756-ad4bc0526de1",
   "metadata": {},
   "outputs": [],
   "source": []
  },
  {
   "cell_type": "markdown",
   "id": "6362a052-3131-4b07-8889-29fa04f6c0db",
   "metadata": {},
   "source": [
    "## Save data"
   ]
  },
  {
   "cell_type": "code",
   "execution_count": 53,
   "id": "4df268a9-8cd3-4498-adec-d30523964c8c",
   "metadata": {
    "tags": []
   },
   "outputs": [],
   "source": [
    "SAVE_PATH = '/mnt/dssfs02/cxg_census/data'\n",
    "CHUNK_SIZE = 16384"
   ]
  },
  {
   "cell_type": "code",
   "execution_count": 54,
   "id": "b12e8566-3763-4546-90dc-c76052910496",
   "metadata": {
    "tags": []
   },
   "outputs": [
    {
     "name": "stderr",
     "output_type": "stream",
     "text": [
      "/tmp/ipykernel_552060/2477127973.py:3: PerformanceWarning: Slicing with an out-of-order index is generating 704986 times more chunks\n",
      "  X_split = X[idxs, :].rechunk((CHUNK_SIZE, -1))\n",
      "/tmp/ipykernel_552060/2477127973.py:3: PerformanceWarning: Slicing with an out-of-order index is generating 146727 times more chunks\n",
      "  X_split = X[idxs, :].rechunk((CHUNK_SIZE, -1))\n",
      "/tmp/ipykernel_552060/2477127973.py:3: PerformanceWarning: Slicing with an out-of-order index is generating 153863 times more chunks\n",
      "  X_split = X[idxs, :].rechunk((CHUNK_SIZE, -1))\n"
     ]
    }
   ],
   "source": [
    "for split, idxs in splits.items():\n",
    "    # out-of-order indexing is on purpose here as we want to shuffle the data to break up data sets\n",
    "    X_split = X[idxs, :].rechunk((CHUNK_SIZE, -1))\n",
    "    obs_split = obs.loc[idxs, :]\n",
    "    \n",
    "    save_dir = join(SAVE_PATH, split)\n",
    "    os.makedirs(save_dir)\n",
    "    \n",
    "    var.to_parquet(path=join(save_dir, 'var.parquet'), engine='pyarrow', compression='snappy', index=None)\n",
    "    obs_split.to_parquet(path=join(save_dir, 'obs.parquet'), engine='pyarrow', compression='snappy', index=None)\n",
    "    da.to_zarr(\n",
    "        X_split.map_blocks(lambda xx: xx.toarray(), dtype='f4'),\n",
    "        join(save_dir, 'zarr'),\n",
    "        component='X',\n",
    "        compute=True,\n",
    "        compressor='default', \n",
    "        order='C'\n",
    "    )\n"
   ]
  },
  {
   "cell_type": "code",
   "execution_count": null,
   "id": "2cc5463a-1794-46d6-b621-db23f4a1ae07",
   "metadata": {},
   "outputs": [],
   "source": []
  }
 ],
 "metadata": {
  "kernelspec": {
   "display_name": "Python 3 (ipykernel)",
   "language": "python",
   "name": "python3"
  },
  "language_info": {
   "codemirror_mode": {
    "name": "ipython",
    "version": 3
   },
   "file_extension": ".py",
   "mimetype": "text/x-python",
   "name": "python",
   "nbconvert_exporter": "python",
   "pygments_lexer": "ipython3",
   "version": "3.8.10"
  }
 },
 "nbformat": 4,
 "nbformat_minor": 5
}
