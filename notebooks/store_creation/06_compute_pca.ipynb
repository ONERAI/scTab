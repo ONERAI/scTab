{
 "cells": [
  {
   "cell_type": "code",
   "execution_count": 1,
   "id": "ef2525df-6418-493c-bfed-cecfc934a467",
   "metadata": {
    "tags": []
   },
   "outputs": [],
   "source": [
    "import os\n",
    "from os.path import join\n",
    "\n",
    "import dask.dataframe as dd\n",
    "import dask.array as da\n",
    "import numpy as np\n",
    "import pandas as pd\n",
    "\n",
    "\n",
    "from dask_ml.decomposition import IncrementalPCA"
   ]
  },
  {
   "cell_type": "code",
   "execution_count": 2,
   "id": "e91c67be-8ca7-4496-94d8-b6a71299e560",
   "metadata": {
    "tags": []
   },
   "outputs": [],
   "source": [
    "PATH = '/lustre/scratch/users/felix.fischer/merlin_cxg_simple_norm_parquet'"
   ]
  },
  {
   "cell_type": "code",
   "execution_count": 3,
   "id": "417a896b-5667-43fc-a018-c34acf9ea27d",
   "metadata": {
    "tags": []
   },
   "outputs": [],
   "source": [
    "def get_count_matrix(ddf):\n",
    "    x = (\n",
    "        ddf['X']\n",
    "        .map_partitions(\n",
    "            lambda xx: pd.DataFrame(np.vstack(xx.tolist())), \n",
    "            meta={col: 'f4' for col in range(19357)}\n",
    "        )\n",
    "        .to_dask_array(lengths=[1024] * ddf.npartitions)\n",
    "    )\n",
    "\n",
    "    return x\n"
   ]
  },
  {
   "cell_type": "code",
   "execution_count": 4,
   "id": "43fb96d0-7155-4e7d-8428-2757183474a0",
   "metadata": {
    "tags": []
   },
   "outputs": [
    {
     "name": "stderr",
     "output_type": "stream",
     "text": [
      "/home/icb/felix.fischer/Programs/anaconda3/envs/dask/lib/python3.10/site-packages/dask/core.py:119: RuntimeWarning: invalid value encountered in divide\n",
      "  return func(*(_execute_task(a, cache) for a in args))\n",
      "/home/icb/felix.fischer/Programs/anaconda3/envs/dask/lib/python3.10/site-packages/dask/core.py:119: RuntimeWarning: invalid value encountered in divide\n",
      "  return func(*(_execute_task(a, cache) for a in args))\n",
      "/home/icb/felix.fischer/Programs/anaconda3/envs/dask/lib/python3.10/site-packages/dask/core.py:119: RuntimeWarning: invalid value encountered in divide\n",
      "  return func(*(_execute_task(a, cache) for a in args))\n"
     ]
    }
   ],
   "source": [
    "os.makedirs(join(PATH, 'pca'), exist_ok=True)\n",
    "\n",
    "for split in ['test', 'val', 'train']:\n",
    "    \n",
    "    x = get_count_matrix(dd.read_parquet(join(PATH, split)))\n",
    "    pca = IncrementalPCA(n_components=64, iterated_power=3)\n",
    "    x_pca = da.compute(pca.fit_transform(x))[0]\n",
    "    \n",
    "    with open(join(PATH, 'pca', f'x_pca_{split}.npy'), 'wb') as f:\n",
    "        np.save(f, x_pca)\n"
   ]
  },
  {
   "cell_type": "code",
   "execution_count": null,
   "id": "abc0eec8-8810-4904-8c15-893c504be725",
   "metadata": {},
   "outputs": [],
   "source": []
  }
 ],
 "metadata": {
  "kernelspec": {
   "display_name": "Python 3 (ipykernel)",
   "language": "python",
   "name": "python3"
  },
  "language_info": {
   "codemirror_mode": {
    "name": "ipython",
    "version": 3
   },
   "file_extension": ".py",
   "mimetype": "text/x-python",
   "name": "python",
   "nbconvert_exporter": "python",
   "pygments_lexer": "ipython3",
   "version": "3.10.9"
  }
 },
 "nbformat": 4,
 "nbformat_minor": 5
}
