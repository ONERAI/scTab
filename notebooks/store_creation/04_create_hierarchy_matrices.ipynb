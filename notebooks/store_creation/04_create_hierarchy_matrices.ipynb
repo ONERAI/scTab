{
 "cells": [
  {
   "cell_type": "code",
   "execution_count": null,
   "id": "c4f0f77e-761c-4eb5-9c55-6eb8ea42dbf2",
   "metadata": {
    "tags": []
   },
   "outputs": [],
   "source": [
    "!pip install obonet"
   ]
  },
  {
   "cell_type": "code",
   "execution_count": 1,
   "id": "efec7d77-fd77-4224-becf-6b51dba6adc4",
   "metadata": {
    "tags": []
   },
   "outputs": [],
   "source": [
    "import os\n",
    "from os.path import join\n",
    "\n",
    "import pandas as pd\n",
    "import numpy as np"
   ]
  },
  {
   "cell_type": "code",
   "execution_count": 2,
   "id": "2b02397a-ad12-4797-9e4f-58e3243f5856",
   "metadata": {
    "tags": []
   },
   "outputs": [],
   "source": [
    "# DATA_PATH = '/lustre/scratch/users/felix.fischer/merlin_cxg_simple_norm_parquet'\n",
    "DATA_PATH = '/mnt/dssmcmlfs01/merlin_cxg_norm_parquet'"
   ]
  },
  {
   "cell_type": "markdown",
   "id": "39bc8541-9f3c-4567-b8a3-93ce7dfb8675",
   "metadata": {},
   "source": [
    "# Compute lookup matrices "
   ]
  },
  {
   "cell_type": "code",
   "execution_count": 3,
   "id": "1aeafb86-ead1-4b93-aa3f-80dfb880b663",
   "metadata": {
    "tags": []
   },
   "outputs": [
    {
     "data": {
      "text/html": [
       "<div>\n",
       "<style scoped>\n",
       "    .dataframe tbody tr th:only-of-type {\n",
       "        vertical-align: middle;\n",
       "    }\n",
       "\n",
       "    .dataframe tbody tr th {\n",
       "        vertical-align: top;\n",
       "    }\n",
       "\n",
       "    .dataframe thead th {\n",
       "        text-align: right;\n",
       "    }\n",
       "</style>\n",
       "<table border=\"1\" class=\"dataframe\">\n",
       "  <thead>\n",
       "    <tr style=\"text-align: right;\">\n",
       "      <th></th>\n",
       "      <th>idx</th>\n",
       "    </tr>\n",
       "    <tr>\n",
       "      <th>label</th>\n",
       "      <th></th>\n",
       "    </tr>\n",
       "  </thead>\n",
       "  <tbody>\n",
       "    <tr>\n",
       "      <th>B cell</th>\n",
       "      <td>0</td>\n",
       "    </tr>\n",
       "    <tr>\n",
       "      <th>Bergmann glial cell</th>\n",
       "      <td>1</td>\n",
       "    </tr>\n",
       "    <tr>\n",
       "      <th>CD14-low, CD16-positive monocyte</th>\n",
       "      <td>2</td>\n",
       "    </tr>\n",
       "    <tr>\n",
       "      <th>CD14-positive monocyte</th>\n",
       "      <td>3</td>\n",
       "    </tr>\n",
       "    <tr>\n",
       "      <th>CD14-positive, CD16-negative classical monocyte</th>\n",
       "      <td>4</td>\n",
       "    </tr>\n",
       "  </tbody>\n",
       "</table>\n",
       "</div>"
      ],
      "text/plain": [
       "                                                 idx\n",
       "label                                               \n",
       "B cell                                             0\n",
       "Bergmann glial cell                                1\n",
       "CD14-low, CD16-positive monocyte                   2\n",
       "CD14-positive monocyte                             3\n",
       "CD14-positive, CD16-negative classical monocyte    4"
      ]
     },
     "execution_count": 3,
     "metadata": {},
     "output_type": "execute_result"
    }
   ],
   "source": [
    "cell_type_mapping = pd.read_parquet(join(DATA_PATH, 'categorical_lookup/cell_type.parquet'))\n",
    "\n",
    "inverse_mapping = (\n",
    "    cell_type_mapping\n",
    "    .assign(idx=range(len(cell_type_mapping)))\n",
    "    .set_index('label', drop=True)\n",
    ")\n",
    "inverse_mapping.head()"
   ]
  },
  {
   "cell_type": "code",
   "execution_count": null,
   "id": "68169843-8e5a-45db-bf82-44719e361b00",
   "metadata": {
    "tags": []
   },
   "outputs": [],
   "source": [
    "!wget https://github.com/obophenotype/cell-ontology/archive/refs/tags/v2022-09-15.zip\n",
    "!unzip v2022-09-15.zip"
   ]
  },
  {
   "cell_type": "code",
   "execution_count": 5,
   "id": "44c6c23c-6ae2-4a7f-92fa-0c8777366a7e",
   "metadata": {
    "tags": []
   },
   "outputs": [],
   "source": [
    "from typing import List\n",
    "\n",
    "import obonet\n",
    "import networkx\n",
    "\n",
    "\n",
    "url = 'cell-ontology-2022-09-15/cl-simple.obo'  # use same version as cellxgene data\n",
    "graph = obonet.read_obo(url, ignore_obsolete=True)\n",
    "\n",
    "# only use \"is_a\" edges\n",
    "edges_to_delete = []\n",
    "for i, x in enumerate(graph.edges):\n",
    "    if x[2] != 'is_a':\n",
    "        edges_to_delete.append((x[0], x[1]))\n",
    "for x in edges_to_delete:\n",
    "    graph.remove_edge(u=x[0], v=x[1])\n",
    "\n",
    "# define mapping from id to name\n",
    "id_to_name = {id_: data.get('name') for id_, data in graph.nodes(data=True)}\n",
    "# define inverse mapping from name to id\n",
    "name_to_id = {v: k for k, v in id_to_name.items()}\n",
    "\n",
    "# lookup child and parent nodes\n",
    "celltypes = cell_type_mapping.label.tolist()\n",
    "child_nodes_dict = {}\n",
    "parent_nodes_dict = {}\n",
    "for celltype in celltypes:\n",
    "    # find child nodes\n",
    "    child_nodes_dict[celltype] = [id_to_name[node] for node in networkx.ancestors(graph, name_to_id[celltype]) if id_to_name[node] in celltypes]\n",
    "    # find parent nodes\n",
    "    parent_nodes_dict[celltype] = [id_to_name[node] for node in networkx.descendants(graph, name_to_id[celltype]) if id_to_name[node] in celltypes]\n"
   ]
  },
  {
   "cell_type": "code",
   "execution_count": 6,
   "id": "bcd3f5b2-b3c3-4966-a23c-e78d21b53c57",
   "metadata": {
    "tags": []
   },
   "outputs": [],
   "source": [
    "parents_idx = []\n",
    "children_idx = []\n",
    "\n",
    "for cell_type in cell_type_mapping.label:\n",
    "    parent_nodes = parent_nodes_dict[cell_type]\n",
    "    parents_idx.append(inverse_mapping.loc[parent_nodes].idx.sort_values().tolist())\n",
    "    \n",
    "    child_nodes = child_nodes_dict[cell_type]\n",
    "    children_idx.append(inverse_mapping.loc[child_nodes].idx.sort_values().tolist())\n",
    "    \n",
    "cell_type_mapping['children'] = children_idx\n",
    "cell_type_mapping['parents'] = parents_idx"
   ]
  },
  {
   "cell_type": "code",
   "execution_count": 7,
   "id": "8bbd85ee-ce46-49af-b9d1-e6d70f045e0f",
   "metadata": {
    "tags": []
   },
   "outputs": [
    {
     "data": {
      "text/html": [
       "<div>\n",
       "<style scoped>\n",
       "    .dataframe tbody tr th:only-of-type {\n",
       "        vertical-align: middle;\n",
       "    }\n",
       "\n",
       "    .dataframe tbody tr th {\n",
       "        vertical-align: top;\n",
       "    }\n",
       "\n",
       "    .dataframe thead th {\n",
       "        text-align: right;\n",
       "    }\n",
       "</style>\n",
       "<table border=\"1\" class=\"dataframe\">\n",
       "  <thead>\n",
       "    <tr style=\"text-align: right;\">\n",
       "      <th></th>\n",
       "      <th>label</th>\n",
       "      <th>children</th>\n",
       "      <th>parents</th>\n",
       "    </tr>\n",
       "  </thead>\n",
       "  <tbody>\n",
       "    <tr>\n",
       "      <th>0</th>\n",
       "      <td>B cell</td>\n",
       "      <td>[46, 80, 102, 108, 116, 131, 134, 151]</td>\n",
       "      <td>[95, 98]</td>\n",
       "    </tr>\n",
       "    <tr>\n",
       "      <th>1</th>\n",
       "      <td>Bergmann glial cell</td>\n",
       "      <td>[]</td>\n",
       "      <td>[32]</td>\n",
       "    </tr>\n",
       "    <tr>\n",
       "      <th>2</th>\n",
       "      <td>CD14-low, CD16-positive monocyte</td>\n",
       "      <td>[]</td>\n",
       "      <td>[3, 95, 112, 125]</td>\n",
       "    </tr>\n",
       "    <tr>\n",
       "      <th>3</th>\n",
       "      <td>CD14-positive monocyte</td>\n",
       "      <td>[2, 4, 5]</td>\n",
       "      <td>[95, 112]</td>\n",
       "    </tr>\n",
       "    <tr>\n",
       "      <th>4</th>\n",
       "      <td>CD14-positive, CD16-negative classical monocyte</td>\n",
       "      <td>[]</td>\n",
       "      <td>[3, 47, 95, 112]</td>\n",
       "    </tr>\n",
       "  </tbody>\n",
       "</table>\n",
       "</div>"
      ],
      "text/plain": [
       "                                             label  \\\n",
       "0                                           B cell   \n",
       "1                              Bergmann glial cell   \n",
       "2                 CD14-low, CD16-positive monocyte   \n",
       "3                           CD14-positive monocyte   \n",
       "4  CD14-positive, CD16-negative classical monocyte   \n",
       "\n",
       "                                 children            parents  \n",
       "0  [46, 80, 102, 108, 116, 131, 134, 151]           [95, 98]  \n",
       "1                                      []               [32]  \n",
       "2                                      []  [3, 95, 112, 125]  \n",
       "3                               [2, 4, 5]          [95, 112]  \n",
       "4                                      []   [3, 47, 95, 112]  "
      ]
     },
     "execution_count": 7,
     "metadata": {},
     "output_type": "execute_result"
    }
   ],
   "source": [
    "cell_type_mapping.head()"
   ]
  },
  {
   "cell_type": "code",
   "execution_count": 8,
   "id": "01efe5cf-844a-42c8-bd83-82d016db49fc",
   "metadata": {
    "tags": []
   },
   "outputs": [],
   "source": [
    "os.makedirs(join(DATA_PATH, 'cell_type_hierarchy'), exist_ok=True)"
   ]
  },
  {
   "cell_type": "code",
   "execution_count": 9,
   "id": "8d00fc17-10d7-4e03-877f-cf8aa2b1228d",
   "metadata": {
    "tags": []
   },
   "outputs": [],
   "source": [
    "parent_matrix = np.eye(len(cell_type_mapping))\n",
    "\n",
    "for i, parent_nodes in enumerate(cell_type_mapping.parents):\n",
    "    parent_matrix[i, parent_nodes] = 1.\n",
    "\n",
    "with open(join(DATA_PATH, 'cell_type_hierarchy/parent_matrix.npy'), 'wb') as f:\n",
    "    np.save(f, parent_matrix)\n"
   ]
  },
  {
   "cell_type": "code",
   "execution_count": 10,
   "id": "57c8a716-861e-4081-86a4-6f741a6219b3",
   "metadata": {
    "tags": []
   },
   "outputs": [],
   "source": [
    "child_matrix = np.eye(len(cell_type_mapping))\n",
    "\n",
    "for i, child_nodes in enumerate(cell_type_mapping.children):\n",
    "    child_matrix[i, child_nodes] = 1.\n",
    "    \n",
    "with open(join(DATA_PATH, 'cell_type_hierarchy/child_matrix.npy'), 'wb') as f:\n",
    "    np.save(f, child_matrix)\n"
   ]
  },
  {
   "cell_type": "code",
   "execution_count": null,
   "id": "5d3a20f4-1620-432b-8ca3-41c470f4724b",
   "metadata": {},
   "outputs": [],
   "source": []
  },
  {
   "cell_type": "markdown",
   "id": "56c3c7b2-2a4d-482a-9922-6d20a3a287b7",
   "metadata": {},
   "source": [
    "# Sanity check lookup matrices"
   ]
  },
  {
   "cell_type": "code",
   "execution_count": 11,
   "id": "edef0da1-0a58-4e1c-b785-7d9af54f9486",
   "metadata": {
    "tags": []
   },
   "outputs": [
    {
     "data": {
      "text/plain": [
       "['B cell',\n",
       " 'class switched memory B cell',\n",
       " 'immature B cell',\n",
       " 'mature B cell',\n",
       " 'memory B cell',\n",
       " 'naive B cell',\n",
       " 'plasmablast',\n",
       " 'precursor B cell',\n",
       " 'transitional stage B cell']"
      ]
     },
     "execution_count": 11,
     "metadata": {},
     "output_type": "execute_result"
    }
   ],
   "source": [
    "cell_type_mapping.loc[np.where(child_matrix[0, :] == 1.)[0]].label.tolist()"
   ]
  },
  {
   "cell_type": "code",
   "execution_count": 12,
   "id": "0cfdefd2-f1a8-4977-b787-603db224a231",
   "metadata": {
    "tags": []
   },
   "outputs": [
    {
     "data": {
      "text/plain": [
       "['B cell', 'leukocyte', 'lymphocyte']"
      ]
     },
     "execution_count": 12,
     "metadata": {},
     "output_type": "execute_result"
    }
   ],
   "source": [
    "cell_type_mapping.loc[np.where(parent_matrix[0, :] == 1.)[0]].label.tolist()"
   ]
  },
  {
   "cell_type": "code",
   "execution_count": null,
   "id": "2cf96a2d-c451-4a6d-bf55-3654d9658788",
   "metadata": {},
   "outputs": [],
   "source": []
  }
 ],
 "metadata": {
  "kernelspec": {
   "display_name": "Python 3 (ipykernel)",
   "language": "python",
   "name": "python3"
  },
  "language_info": {
   "codemirror_mode": {
    "name": "ipython",
    "version": 3
   },
   "file_extension": ".py",
   "mimetype": "text/x-python",
   "name": "python",
   "nbconvert_exporter": "python",
   "pygments_lexer": "ipython3",
   "version": "3.8.10"
  }
 },
 "nbformat": 4,
 "nbformat_minor": 5
}
