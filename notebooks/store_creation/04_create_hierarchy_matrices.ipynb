{
 "cells": [
  {
   "cell_type": "code",
   "execution_count": 2,
   "id": "efec7d77-fd77-4224-becf-6b51dba6adc4",
   "metadata": {},
   "outputs": [],
   "source": [
    "import os\n",
    "from os.path import join\n",
    "\n",
    "import pandas as pd\n",
    "import numpy as np"
   ]
  },
  {
   "cell_type": "code",
   "execution_count": null,
   "id": "c4f0f77e-761c-4eb5-9c55-6eb8ea42dbf2",
   "metadata": {},
   "outputs": [],
   "source": []
  },
  {
   "cell_type": "code",
   "execution_count": 3,
   "id": "2b02397a-ad12-4797-9e4f-58e3243f5856",
   "metadata": {},
   "outputs": [],
   "source": [
    "DATA_PATH = '/lustre/scratch/users/felix.fischer/merlin_cxg_simple_norm_parquet'"
   ]
  },
  {
   "cell_type": "markdown",
   "id": "39bc8541-9f3c-4567-b8a3-93ce7dfb8675",
   "metadata": {},
   "source": [
    "# Compute lookup matrices "
   ]
  },
  {
   "cell_type": "code",
   "execution_count": 4,
   "id": "1aeafb86-ead1-4b93-aa3f-80dfb880b663",
   "metadata": {},
   "outputs": [
    {
     "data": {
      "text/html": [
       "<div>\n",
       "<style scoped>\n",
       "    .dataframe tbody tr th:only-of-type {\n",
       "        vertical-align: middle;\n",
       "    }\n",
       "\n",
       "    .dataframe tbody tr th {\n",
       "        vertical-align: top;\n",
       "    }\n",
       "\n",
       "    .dataframe thead th {\n",
       "        text-align: right;\n",
       "    }\n",
       "</style>\n",
       "<table border=\"1\" class=\"dataframe\">\n",
       "  <thead>\n",
       "    <tr style=\"text-align: right;\">\n",
       "      <th></th>\n",
       "      <th>idx</th>\n",
       "    </tr>\n",
       "    <tr>\n",
       "      <th>label</th>\n",
       "      <th></th>\n",
       "    </tr>\n",
       "  </thead>\n",
       "  <tbody>\n",
       "    <tr>\n",
       "      <th>B cell</th>\n",
       "      <td>0</td>\n",
       "    </tr>\n",
       "    <tr>\n",
       "      <th>CD4-positive, alpha-beta T cell</th>\n",
       "      <td>1</td>\n",
       "    </tr>\n",
       "    <tr>\n",
       "      <th>CD8-positive, alpha-beta T cell</th>\n",
       "      <td>2</td>\n",
       "    </tr>\n",
       "    <tr>\n",
       "      <th>capillary endothelial cell</th>\n",
       "      <td>3</td>\n",
       "    </tr>\n",
       "    <tr>\n",
       "      <th>classical monocyte</th>\n",
       "      <td>4</td>\n",
       "    </tr>\n",
       "  </tbody>\n",
       "</table>\n",
       "</div>"
      ],
      "text/plain": [
       "                                 idx\n",
       "label                               \n",
       "B cell                             0\n",
       "CD4-positive, alpha-beta T cell    1\n",
       "CD8-positive, alpha-beta T cell    2\n",
       "capillary endothelial cell         3\n",
       "classical monocyte                 4"
      ]
     },
     "execution_count": 4,
     "metadata": {},
     "output_type": "execute_result"
    }
   ],
   "source": [
    "cell_type_mapping = pd.read_parquet(join(DATA_PATH, 'categorical_lookup/cell_type.parquet'))\n",
    "\n",
    "inverse_mapping = (\n",
    "    cell_type_mapping\n",
    "    .assign(idx=range(len(cell_type_mapping)))\n",
    "    .set_index('label', drop=True)\n",
    ")\n",
    "inverse_mapping.head()"
   ]
  },
  {
   "cell_type": "code",
   "execution_count": 5,
   "id": "56d9870b-efe1-4ede-a190-56b8cd249dc9",
   "metadata": {},
   "outputs": [
    {
     "name": "stderr",
     "output_type": "stream",
     "text": [
      "WARNING:root:name and ontology keys are both missing\n",
      "WARNING:nxontology.imports:Cannot add edge: MmusDv:0000000 --> MmusDv:0000038 (mouse life cycle stage --> infant stage): node does not exist in graph: MmusDv:0000038\n",
      "WARNING:nxontology.imports:Cannot add edge: MmusDv:0000000 --> MmusDv:0000043 (mouse life cycle stage --> immature stage): node does not exist in graph: MmusDv:0000043\n",
      "WARNING:nxontology.imports:Cannot add edge: MmusDv:0000000 --> MmusDv:0000044 (mouse life cycle stage --> 1-7 days): node does not exist in graph: MmusDv:0000044\n",
      "WARNING:nxontology.imports:Cannot add edge: MmusDv:0000000 --> MmusDv:0000096 (mouse life cycle stage --> early immature stage): node does not exist in graph: MmusDv:0000096\n"
     ]
    }
   ],
   "source": [
    "from sfaira.consts import OC\n",
    "\n",
    "celltype_ontology = OC.cell_type\n",
    "celltypes = cell_type_mapping.label.tolist()"
   ]
  },
  {
   "cell_type": "code",
   "execution_count": 6,
   "id": "620252d0-cd9c-4cef-8749-dc71848531e8",
   "metadata": {},
   "outputs": [],
   "source": [
    "parents = []\n",
    "parents_idx = []\n",
    "\n",
    "children = []\n",
    "children_idxs = []\n",
    "\n",
    "for cell_type in cell_type_mapping.label:\n",
    "    parent_nodes = [celltype_ontology.convert_to_name(node) for node in celltype_ontology.get_descendants(cell_type)]\n",
    "    parent_nodes = [node for node in parent_nodes if node in celltypes]\n",
    "    parents.append(parent_nodes)\n",
    "    parents_idx.append(inverse_mapping.loc[parent_nodes].idx.tolist())\n",
    "    \n",
    "    child_nodes = [celltype_ontology.convert_to_name(node) for node in celltype_ontology.get_ancestors(cell_type)]\n",
    "    child_nodes = [node for node in child_nodes if node in celltypes]\n",
    "    children.append(child_nodes)\n",
    "    children_idxs.append(inverse_mapping.loc[child_nodes].idx.tolist())\n",
    "\n",
    "    \n",
    "cell_type_mapping['children'] = children_idxs\n",
    "cell_type_mapping['parents'] = parents_idx"
   ]
  },
  {
   "cell_type": "code",
   "execution_count": 7,
   "id": "4ad56cdb-7a05-4bce-8de1-bc703e6da82e",
   "metadata": {},
   "outputs": [
    {
     "data": {
      "text/html": [
       "<div>\n",
       "<style scoped>\n",
       "    .dataframe tbody tr th:only-of-type {\n",
       "        vertical-align: middle;\n",
       "    }\n",
       "\n",
       "    .dataframe tbody tr th {\n",
       "        vertical-align: top;\n",
       "    }\n",
       "\n",
       "    .dataframe thead th {\n",
       "        text-align: right;\n",
       "    }\n",
       "</style>\n",
       "<table border=\"1\" class=\"dataframe\">\n",
       "  <thead>\n",
       "    <tr style=\"text-align: right;\">\n",
       "      <th></th>\n",
       "      <th>label</th>\n",
       "      <th>children</th>\n",
       "      <th>parents</th>\n",
       "    </tr>\n",
       "  </thead>\n",
       "  <tbody>\n",
       "    <tr>\n",
       "      <th>0</th>\n",
       "      <td>B cell</td>\n",
       "      <td>[98, 19, 50, 100, 53]</td>\n",
       "      <td>[48, 111]</td>\n",
       "    </tr>\n",
       "    <tr>\n",
       "      <th>1</th>\n",
       "      <td>CD4-positive, alpha-beta T cell</td>\n",
       "      <td>[25, 31, 102, 26, 96, 107, 115, 54]</td>\n",
       "      <td>[48, 69, 111, 30, 17]</td>\n",
       "    </tr>\n",
       "    <tr>\n",
       "      <th>2</th>\n",
       "      <td>CD8-positive, alpha-beta T cell</td>\n",
       "      <td>[28, 108, 127, 36, 103, 27, 126, 55]</td>\n",
       "      <td>[48, 69, 111, 30, 17]</td>\n",
       "    </tr>\n",
       "    <tr>\n",
       "      <th>3</th>\n",
       "      <td>capillary endothelial cell</td>\n",
       "      <td>[84, 83]</td>\n",
       "      <td>[37, 40, 33]</td>\n",
       "    </tr>\n",
       "    <tr>\n",
       "      <th>4</th>\n",
       "      <td>classical monocyte</td>\n",
       "      <td>[67]</td>\n",
       "      <td>[48, 18]</td>\n",
       "    </tr>\n",
       "  </tbody>\n",
       "</table>\n",
       "</div>"
      ],
      "text/plain": [
       "                             label                              children  \\\n",
       "0                           B cell                 [98, 19, 50, 100, 53]   \n",
       "1  CD4-positive, alpha-beta T cell   [25, 31, 102, 26, 96, 107, 115, 54]   \n",
       "2  CD8-positive, alpha-beta T cell  [28, 108, 127, 36, 103, 27, 126, 55]   \n",
       "3       capillary endothelial cell                              [84, 83]   \n",
       "4               classical monocyte                                  [67]   \n",
       "\n",
       "                 parents  \n",
       "0              [48, 111]  \n",
       "1  [48, 69, 111, 30, 17]  \n",
       "2  [48, 69, 111, 30, 17]  \n",
       "3           [37, 40, 33]  \n",
       "4               [48, 18]  "
      ]
     },
     "execution_count": 7,
     "metadata": {},
     "output_type": "execute_result"
    }
   ],
   "source": [
    "cell_type_mapping.head()"
   ]
  },
  {
   "cell_type": "code",
   "execution_count": 8,
   "id": "c602255e-b39a-45a5-bdf6-8b345b41dc25",
   "metadata": {},
   "outputs": [],
   "source": [
    "os.makedirs(join(DATA_PATH, 'cell_type_hierarchy'), exist_ok=True)"
   ]
  },
  {
   "cell_type": "code",
   "execution_count": 9,
   "id": "09db3a73-a03b-42b0-8adf-b4d4ffae8b8e",
   "metadata": {},
   "outputs": [],
   "source": [
    "parent_matrix = np.eye(len(cell_type_mapping))\n",
    "\n",
    "for i, parent_nodes in enumerate(cell_type_mapping.parents):\n",
    "    parent_matrix[i, parent_nodes] = 1.\n",
    "\n",
    "with open(join(DATA_PATH, 'cell_type_hierarchy/parent_matrix.npy'), 'wb') as f:\n",
    "    np.save(f, parent_matrix)\n"
   ]
  },
  {
   "cell_type": "code",
   "execution_count": null,
   "id": "5f076152-2af2-4e6a-8d16-67038b90dbfd",
   "metadata": {},
   "outputs": [],
   "source": []
  },
  {
   "cell_type": "code",
   "execution_count": 10,
   "id": "b28ca5c4-2af9-4e74-8c5d-82bdea59a417",
   "metadata": {},
   "outputs": [],
   "source": [
    "child_matrix = np.eye(len(cell_type_mapping))\n",
    "\n",
    "for i, child_nodes in enumerate(cell_type_mapping.children):\n",
    "    child_matrix[i, child_nodes] = 1.\n",
    "    \n",
    "with open(join(DATA_PATH, 'cell_type_hierarchy/child_matrix.npy'), 'wb') as f:\n",
    "    np.save(f, child_matrix)\n"
   ]
  },
  {
   "cell_type": "markdown",
   "id": "56c3c7b2-2a4d-482a-9922-6d20a3a287b7",
   "metadata": {},
   "source": [
    "# Sanity check lookup matrices"
   ]
  },
  {
   "cell_type": "code",
   "execution_count": 11,
   "id": "04134758-8ee1-4387-a6e0-1edfe9baa5e4",
   "metadata": {},
   "outputs": [],
   "source": [
    "import torch"
   ]
  },
  {
   "cell_type": "code",
   "execution_count": 12,
   "id": "57f0e810-4c37-4a68-adae-cdd91a5692a8",
   "metadata": {},
   "outputs": [],
   "source": [
    "child_lookup = torch.nn.Embedding.from_pretrained(torch.tensor(child_matrix))\n",
    "parent_lookup = torch.nn.Embedding.from_pretrained(torch.tensor(parent_matrix))"
   ]
  },
  {
   "cell_type": "code",
   "execution_count": null,
   "id": "0cfdefd2-f1a8-4977-b787-603db224a231",
   "metadata": {},
   "outputs": [],
   "source": []
  },
  {
   "cell_type": "code",
   "execution_count": 13,
   "id": "3df22f1c-aafa-47f1-8582-5cd20aafa5cc",
   "metadata": {},
   "outputs": [
    {
     "data": {
      "text/plain": [
       "['B cell',\n",
       " 'plasmablast',\n",
       " 'memory B cell',\n",
       " 'naive B cell',\n",
       " 'immature B cell',\n",
       " 'precursor B cell']"
      ]
     },
     "execution_count": 13,
     "metadata": {},
     "output_type": "execute_result"
    }
   ],
   "source": [
    "cell_type_mapping.loc[np.where(child_lookup(torch.tensor([0])).numpy().squeeze() == 1.)[0]].label.tolist()"
   ]
  },
  {
   "cell_type": "code",
   "execution_count": 14,
   "id": "5ee910c0-b601-4b62-9726-cd9e16cf1542",
   "metadata": {},
   "outputs": [
    {
     "data": {
      "text/plain": [
       "['B cell', 'leukocyte', 'lymphocyte']"
      ]
     },
     "execution_count": 14,
     "metadata": {},
     "output_type": "execute_result"
    }
   ],
   "source": [
    "cell_type_mapping.loc[np.where(parent_lookup(torch.tensor([0])).numpy().squeeze() == 1.)[0]].label.tolist()"
   ]
  },
  {
   "cell_type": "code",
   "execution_count": null,
   "id": "2cf96a2d-c451-4a6d-bf55-3654d9658788",
   "metadata": {},
   "outputs": [],
   "source": []
  },
  {
   "cell_type": "code",
   "execution_count": null,
   "id": "6edc8403-40fd-4c29-b4ae-ac29b66f4128",
   "metadata": {},
   "outputs": [],
   "source": []
  }
 ],
 "metadata": {
  "kernelspec": {
   "display_name": "Python 3 (ipykernel)",
   "language": "python",
   "name": "python3"
  },
  "language_info": {
   "codemirror_mode": {
    "name": "ipython",
    "version": 3
   },
   "file_extension": ".py",
   "mimetype": "text/x-python",
   "name": "python",
   "nbconvert_exporter": "python",
   "pygments_lexer": "ipython3",
   "version": "3.10.9"
  }
 },
 "nbformat": 4,
 "nbformat_minor": 5
}
