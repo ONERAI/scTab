{
 "cells": [
  {
   "cell_type": "code",
   "execution_count": 1,
   "id": "08e1a1f4-4d57-42f0-8ead-5b9702a433e6",
   "metadata": {
    "tags": []
   },
   "outputs": [],
   "source": [
    "# Define paths\n",
    "DATA_PATH = '/mnt/dssfs02/cxg_census/data'\n",
    "SAVE_PATH = '/mnt/dssfs02/cxg_census/data_normed'"
   ]
  },
  {
   "cell_type": "code",
   "execution_count": null,
   "id": "e85b42d5-9fb8-499e-9259-c21ad194a750",
   "metadata": {},
   "outputs": [],
   "source": []
  },
  {
   "cell_type": "markdown",
   "id": "af310cf9-d0fa-4216-aa66-0ad57d1509ca",
   "metadata": {},
   "source": [
    "# Read train data"
   ]
  },
  {
   "cell_type": "code",
   "execution_count": 2,
   "id": "1fc697eb-d90e-4c9a-96e8-99f8de2307b1",
   "metadata": {
    "tags": []
   },
   "outputs": [],
   "source": [
    "import os\n",
    "\n",
    "import numpy as np\n",
    "import seaborn as sns\n",
    "import dask.array as da\n",
    "import pandas as pd\n",
    "\n",
    "from scipy.sparse import csc_matrix, csr_matrix, issparse\n",
    "from os.path import join\n",
    "\n",
    "import dask\n",
    "dask.config.set(scheduler='threads');"
   ]
  },
  {
   "cell_type": "code",
   "execution_count": 3,
   "id": "30251bd5-469b-4355-b95e-40b056676c80",
   "metadata": {
    "tags": []
   },
   "outputs": [],
   "source": [
    "X = da.from_zarr(join(DATA_PATH, 'train', 'zarr'), 'X')\n",
    "obs = pd.read_parquet(join(DATA_PATH, 'train', 'obs.parquet')).reset_index(drop=True)"
   ]
  },
  {
   "cell_type": "code",
   "execution_count": 4,
   "id": "c4d34678-0e4b-4d51-aa6c-5516932be9c2",
   "metadata": {
    "tags": []
   },
   "outputs": [
    {
     "data": {
      "text/html": [
       "<table>\n",
       "    <tr>\n",
       "        <td>\n",
       "            <table style=\"border-collapse: collapse;\">\n",
       "                <thead>\n",
       "                    <tr>\n",
       "                        <td> </td>\n",
       "                        <th> Array </th>\n",
       "                        <th> Chunk </th>\n",
       "                    </tr>\n",
       "                </thead>\n",
       "                <tbody>\n",
       "                    \n",
       "                    <tr>\n",
       "                        <th> Bytes </th>\n",
       "                        <td> 1.04 TiB </td>\n",
       "                        <td> 1.18 GiB </td>\n",
       "                    </tr>\n",
       "                    \n",
       "                    <tr>\n",
       "                        <th> Shape </th>\n",
       "                        <td> (14843199, 19331) </td>\n",
       "                        <td> (16384, 19331) </td>\n",
       "                    </tr>\n",
       "                    <tr>\n",
       "                        <th> Dask graph </th>\n",
       "                        <td colspan=\"2\"> 906 chunks in 2 graph layers </td>\n",
       "                    </tr>\n",
       "                    <tr>\n",
       "                        <th> Data type </th>\n",
       "                        <td colspan=\"2\"> float32 numpy.ndarray </td>\n",
       "                    </tr>\n",
       "                </tbody>\n",
       "            </table>\n",
       "        </td>\n",
       "        <td>\n",
       "        <svg width=\"75\" height=\"170\" style=\"stroke:rgb(0,0,0);stroke-width:1\" >\n",
       "\n",
       "  <!-- Horizontal lines -->\n",
       "  <line x1=\"0\" y1=\"0\" x2=\"25\" y2=\"0\" style=\"stroke-width:2\" />\n",
       "  <line x1=\"0\" y1=\"6\" x2=\"25\" y2=\"6\" />\n",
       "  <line x1=\"0\" y1=\"12\" x2=\"25\" y2=\"12\" />\n",
       "  <line x1=\"0\" y1=\"18\" x2=\"25\" y2=\"18\" />\n",
       "  <line x1=\"0\" y1=\"25\" x2=\"25\" y2=\"25\" />\n",
       "  <line x1=\"0\" y1=\"31\" x2=\"25\" y2=\"31\" />\n",
       "  <line x1=\"0\" y1=\"37\" x2=\"25\" y2=\"37\" />\n",
       "  <line x1=\"0\" y1=\"44\" x2=\"25\" y2=\"44\" />\n",
       "  <line x1=\"0\" y1=\"50\" x2=\"25\" y2=\"50\" />\n",
       "  <line x1=\"0\" y1=\"56\" x2=\"25\" y2=\"56\" />\n",
       "  <line x1=\"0\" y1=\"63\" x2=\"25\" y2=\"63\" />\n",
       "  <line x1=\"0\" y1=\"69\" x2=\"25\" y2=\"69\" />\n",
       "  <line x1=\"0\" y1=\"75\" x2=\"25\" y2=\"75\" />\n",
       "  <line x1=\"0\" y1=\"81\" x2=\"25\" y2=\"81\" />\n",
       "  <line x1=\"0\" y1=\"88\" x2=\"25\" y2=\"88\" />\n",
       "  <line x1=\"0\" y1=\"94\" x2=\"25\" y2=\"94\" />\n",
       "  <line x1=\"0\" y1=\"100\" x2=\"25\" y2=\"100\" />\n",
       "  <line x1=\"0\" y1=\"107\" x2=\"25\" y2=\"107\" />\n",
       "  <line x1=\"0\" y1=\"113\" x2=\"25\" y2=\"113\" />\n",
       "  <line x1=\"0\" y1=\"120\" x2=\"25\" y2=\"120\" style=\"stroke-width:2\" />\n",
       "\n",
       "  <!-- Vertical lines -->\n",
       "  <line x1=\"0\" y1=\"0\" x2=\"0\" y2=\"120\" style=\"stroke-width:2\" />\n",
       "  <line x1=\"25\" y1=\"0\" x2=\"25\" y2=\"120\" style=\"stroke-width:2\" />\n",
       "\n",
       "  <!-- Colored Rectangle -->\n",
       "  <polygon points=\"0.0,0.0 25.412616514582485,0.0 25.412616514582485,120.0 0.0,120.0\" style=\"fill:#8B4903A0;stroke-width:0\"/>\n",
       "\n",
       "  <!-- Text -->\n",
       "  <text x=\"12.706308\" y=\"140.000000\" font-size=\"1.0rem\" font-weight=\"100\" text-anchor=\"middle\" >19331</text>\n",
       "  <text x=\"45.412617\" y=\"60.000000\" font-size=\"1.0rem\" font-weight=\"100\" text-anchor=\"middle\" transform=\"rotate(-90,45.412617,60.000000)\">14843199</text>\n",
       "</svg>\n",
       "        </td>\n",
       "    </tr>\n",
       "</table>"
      ],
      "text/plain": [
       "dask.array<from-zarr, shape=(14843199, 19331), dtype=float32, chunksize=(16384, 19331), chunktype=numpy.ndarray>"
      ]
     },
     "execution_count": 4,
     "metadata": {},
     "output_type": "execute_result"
    }
   ],
   "source": [
    "X"
   ]
  },
  {
   "cell_type": "code",
   "execution_count": 5,
   "id": "cba4c408-03d6-4d49-ab06-5faf0d27888d",
   "metadata": {
    "tags": []
   },
   "outputs": [
    {
     "data": {
      "text/html": [
       "<div>\n",
       "<style scoped>\n",
       "    .dataframe tbody tr th:only-of-type {\n",
       "        vertical-align: middle;\n",
       "    }\n",
       "\n",
       "    .dataframe tbody tr th {\n",
       "        vertical-align: top;\n",
       "    }\n",
       "\n",
       "    .dataframe thead th {\n",
       "        text-align: right;\n",
       "    }\n",
       "</style>\n",
       "<table border=\"1\" class=\"dataframe\">\n",
       "  <thead>\n",
       "    <tr style=\"text-align: right;\">\n",
       "      <th></th>\n",
       "      <th>soma_joinid</th>\n",
       "      <th>is_primary_data</th>\n",
       "      <th>dataset_id</th>\n",
       "      <th>donor_id</th>\n",
       "      <th>assay</th>\n",
       "      <th>cell_type</th>\n",
       "      <th>development_stage</th>\n",
       "      <th>disease</th>\n",
       "      <th>tissue</th>\n",
       "      <th>tissue_general</th>\n",
       "      <th>tech_sample</th>\n",
       "    </tr>\n",
       "  </thead>\n",
       "  <tbody>\n",
       "    <tr>\n",
       "      <th>0</th>\n",
       "      <td>2597175</td>\n",
       "      <td>True</td>\n",
       "      <td>0ba636a1-4754-4786-a8be-7ab3cf760fd6</td>\n",
       "      <td>HBCA_Donor_18</td>\n",
       "      <td>10x 3' v3</td>\n",
       "      <td>myoepithelial cell of mammary gland</td>\n",
       "      <td>29-year-old human stage</td>\n",
       "      <td>normal</td>\n",
       "      <td>breast</td>\n",
       "      <td>breast</td>\n",
       "      <td>0ba636a1-4754-4786-a8be-7ab3cf760fd6_HBCA_Dono...</td>\n",
       "    </tr>\n",
       "    <tr>\n",
       "      <th>1</th>\n",
       "      <td>27253448</td>\n",
       "      <td>True</td>\n",
       "      <td>9ea768a2-87ab-46b6-a73d-c4e915f25af3</td>\n",
       "      <td>TxK4</td>\n",
       "      <td>10x 3' v2</td>\n",
       "      <td>epithelial cell of proximal tubule</td>\n",
       "      <td>72-year-old human stage</td>\n",
       "      <td>normal</td>\n",
       "      <td>cortex of kidney</td>\n",
       "      <td>kidney</td>\n",
       "      <td>9ea768a2-87ab-46b6-a73d-c4e915f25af3_TxK4</td>\n",
       "    </tr>\n",
       "    <tr>\n",
       "      <th>2</th>\n",
       "      <td>34231840</td>\n",
       "      <td>True</td>\n",
       "      <td>32b9bdce-2481-4c85-ba1b-6ad5fcea844c</td>\n",
       "      <td>32-10074</td>\n",
       "      <td>10x 3' v3</td>\n",
       "      <td>epithelial cell of proximal tubule</td>\n",
       "      <td>eighth decade human stage</td>\n",
       "      <td>acute kidney failure</td>\n",
       "      <td>kidney</td>\n",
       "      <td>kidney</td>\n",
       "      <td>32b9bdce-2481-4c85-ba1b-6ad5fcea844c_32-10074</td>\n",
       "    </tr>\n",
       "    <tr>\n",
       "      <th>3</th>\n",
       "      <td>26796846</td>\n",
       "      <td>True</td>\n",
       "      <td>ed5d841d-6346-47d4-ab2f-7119ad7e3a35</td>\n",
       "      <td>P1</td>\n",
       "      <td>10x 3' v3</td>\n",
       "      <td>central memory CD8-positive, alpha-beta T cell</td>\n",
       "      <td>unknown</td>\n",
       "      <td>normal</td>\n",
       "      <td>blood</td>\n",
       "      <td>blood</td>\n",
       "      <td>ed5d841d-6346-47d4-ab2f-7119ad7e3a35_P1</td>\n",
       "    </tr>\n",
       "    <tr>\n",
       "      <th>4</th>\n",
       "      <td>3378141</td>\n",
       "      <td>True</td>\n",
       "      <td>c2876b1b-06d8-4d96-a56b-5304f815b99a</td>\n",
       "      <td>H21.33.012</td>\n",
       "      <td>10x 3' v3</td>\n",
       "      <td>L2/3-6 intratelencephalic projecting glutamate...</td>\n",
       "      <td>80 year-old and over human stage</td>\n",
       "      <td>dementia</td>\n",
       "      <td>middle temporal gyrus</td>\n",
       "      <td>brain</td>\n",
       "      <td>c2876b1b-06d8-4d96-a56b-5304f815b99a_H21.33.012</td>\n",
       "    </tr>\n",
       "  </tbody>\n",
       "</table>\n",
       "</div>"
      ],
      "text/plain": [
       "   soma_joinid  is_primary_data                            dataset_id  \\\n",
       "0      2597175             True  0ba636a1-4754-4786-a8be-7ab3cf760fd6   \n",
       "1     27253448             True  9ea768a2-87ab-46b6-a73d-c4e915f25af3   \n",
       "2     34231840             True  32b9bdce-2481-4c85-ba1b-6ad5fcea844c   \n",
       "3     26796846             True  ed5d841d-6346-47d4-ab2f-7119ad7e3a35   \n",
       "4      3378141             True  c2876b1b-06d8-4d96-a56b-5304f815b99a   \n",
       "\n",
       "        donor_id      assay  \\\n",
       "0  HBCA_Donor_18  10x 3' v3   \n",
       "1           TxK4  10x 3' v2   \n",
       "2       32-10074  10x 3' v3   \n",
       "3             P1  10x 3' v3   \n",
       "4     H21.33.012  10x 3' v3   \n",
       "\n",
       "                                           cell_type  \\\n",
       "0                myoepithelial cell of mammary gland   \n",
       "1                 epithelial cell of proximal tubule   \n",
       "2                 epithelial cell of proximal tubule   \n",
       "3     central memory CD8-positive, alpha-beta T cell   \n",
       "4  L2/3-6 intratelencephalic projecting glutamate...   \n",
       "\n",
       "                  development_stage               disease  \\\n",
       "0           29-year-old human stage                normal   \n",
       "1           72-year-old human stage                normal   \n",
       "2         eighth decade human stage  acute kidney failure   \n",
       "3                           unknown                normal   \n",
       "4  80 year-old and over human stage              dementia   \n",
       "\n",
       "                  tissue tissue_general  \\\n",
       "0                 breast         breast   \n",
       "1       cortex of kidney         kidney   \n",
       "2                 kidney         kidney   \n",
       "3                  blood          blood   \n",
       "4  middle temporal gyrus          brain   \n",
       "\n",
       "                                         tech_sample  \n",
       "0  0ba636a1-4754-4786-a8be-7ab3cf760fd6_HBCA_Dono...  \n",
       "1          9ea768a2-87ab-46b6-a73d-c4e915f25af3_TxK4  \n",
       "2      32b9bdce-2481-4c85-ba1b-6ad5fcea844c_32-10074  \n",
       "3            ed5d841d-6346-47d4-ab2f-7119ad7e3a35_P1  \n",
       "4    c2876b1b-06d8-4d96-a56b-5304f815b99a_H21.33.012  "
      ]
     },
     "execution_count": 5,
     "metadata": {},
     "output_type": "execute_result"
    }
   ],
   "source": [
    "obs.head()"
   ]
  },
  {
   "cell_type": "code",
   "execution_count": null,
   "id": "a19cb30c-10cc-43d1-8a7f-94036cf1ce09",
   "metadata": {},
   "outputs": [],
   "source": []
  },
  {
   "cell_type": "markdown",
   "id": "0e6c2808-4d3c-4b02-b4fa-6b0761a4d198",
   "metadata": {},
   "source": [
    "# Fit normalization + save model"
   ]
  },
  {
   "cell_type": "code",
   "execution_count": 2,
   "id": "ba055e81-d025-4e6f-8e86-083d02b07499",
   "metadata": {
    "tags": []
   },
   "outputs": [
    {
     "data": {
      "text/plain": [
       "'1.2.2'"
      ]
     },
     "execution_count": 2,
     "metadata": {},
     "output_type": "execute_result"
    }
   ],
   "source": [
    "import sklearn\n",
    "sklearn.__version__"
   ]
  },
  {
   "cell_type": "code",
   "execution_count": 3,
   "id": "6690a948-2c6d-42a4-94f7-da17dbca1e8b",
   "metadata": {
    "tags": []
   },
   "outputs": [],
   "source": [
    "import numpy as np\n",
    "\n",
    "from sklearn.preprocessing import Normalizer, QuantileTransformer, StandardScaler, FunctionTransformer\n",
    "from sklearn.pipeline import Pipeline\n",
    "\n",
    "\n",
    "from scipy.sparse import csc_matrix, csr_matrix, issparse\n",
    "from sklearn.utils import sparsefuncs\n",
    "\n",
    "\n",
    "def sf_normalize(X):\n",
    "    X = X.copy()\n",
    "    counts = np.array(X.sum(axis=1))\n",
    "    # avoid zero devision error\n",
    "    counts += counts == 0.\n",
    "    # normalize to 10000. counts\n",
    "    scaling_factor = 10000. / counts\n",
    "\n",
    "    if issparse(X):\n",
    "        sparsefuncs.inplace_row_scale(X, scaling_factor)\n",
    "    else:\n",
    "        np.multiply(X, scaling_factor.reshape((-1, 1)), out=X)\n",
    "\n",
    "    return X\n"
   ]
  },
  {
   "cell_type": "code",
   "execution_count": 8,
   "id": "16bc98cd-0a21-4c66-9797-5397d213db86",
   "metadata": {
    "tags": []
   },
   "outputs": [
    {
     "data": {
      "text/plain": [
       "array([ 7614642, 14104737,  2141988, ...,  8085558,   184839, 10901594])"
      ]
     },
     "execution_count": 8,
     "metadata": {},
     "output_type": "execute_result"
    }
   ],
   "source": [
    "WEIGHTED_SAMPLING = True\n",
    "SAMPLE_SIZE = 1_000_000\n",
    "\n",
    "\n",
    "rng = np.random.default_rng(seed=1)\n",
    "\n",
    "\n",
    "if WEIGHTED_SAMPLING:\n",
    "    obs['tech_sample_occurances'] = obs.tech_sample.replace(obs.tech_sample.value_counts().to_dict()).astype(float)\n",
    "    obs['sampling_prob'] = 1. / obs.tech_sample_occurances\n",
    "    obs['sampling_prob'] = obs.sampling_prob / obs.sampling_prob.sum()\n",
    "    idx_subsample = rng.choice(obs.index.to_numpy(), size=SAMPLE_SIZE, replace=False, p=obs.sampling_prob.to_numpy())\n",
    "else:\n",
    "    idx_subsample = rng.choice(obs.index.to_numpy(), size=SAMPLE_SIZE, replace=False)\n",
    "\n",
    "\n",
    "idx_subsample"
   ]
  },
  {
   "cell_type": "code",
   "execution_count": 9,
   "id": "ddd21d4d-da04-428a-9ee1-a03ad50037a2",
   "metadata": {
    "tags": []
   },
   "outputs": [
    {
     "data": {
      "text/plain": [
       "1000000"
      ]
     },
     "execution_count": 9,
     "metadata": {},
     "output_type": "execute_result"
    }
   ],
   "source": [
    "len(np.unique(idx_subsample))"
   ]
  },
  {
   "cell_type": "code",
   "execution_count": 10,
   "id": "cd2e6285-50d1-4ed4-8d36-7da792e61184",
   "metadata": {
    "tags": []
   },
   "outputs": [],
   "source": [
    "X_sparse = X[np.sort(idx_subsample), :].map_blocks(csc_matrix).compute().tocsc()"
   ]
  },
  {
   "cell_type": "code",
   "execution_count": 11,
   "id": "560c8f88-47cd-453f-96e7-166e79d89de5",
   "metadata": {
    "tags": []
   },
   "outputs": [],
   "source": [
    "N_QUANTILES = 1000\n",
    "\n",
    "\n",
    "preproc_pipeline = Pipeline([\n",
    "    ('sf_normalizer', FunctionTransformer(sf_normalize)),\n",
    "    (\n",
    "        'quantile_transformer', \n",
    "        QuantileTransformer(n_quantiles=N_QUANTILES, output_distribution='uniform', ignore_implicit_zeros=True, subsample=len(idx_subsample))\n",
    "    )\n",
    "])\n",
    "X_normed = preproc_pipeline.fit_transform(X_sparse)"
   ]
  },
  {
   "cell_type": "code",
   "execution_count": 12,
   "id": "12986a12-a4a6-43a6-a0af-f2fb572cda07",
   "metadata": {
    "tags": []
   },
   "outputs": [],
   "source": [
    "feature_means = np.array(X_normed.mean(axis=0))"
   ]
  },
  {
   "cell_type": "code",
   "execution_count": 13,
   "id": "20ee1562-dc59-4d34-a234-fe034e85c90c",
   "metadata": {
    "tags": []
   },
   "outputs": [],
   "source": [
    "from os.path import join\n",
    "import pickle\n",
    "\n",
    "save_path_norm = join(SAVE_PATH, 'norm')\n",
    "os.makedirs(save_path_norm)\n",
    "\n",
    "# save fit data\n",
    "os.makedirs(save_path_norm, exist_ok=True)\n",
    "os.makedirs(join(save_path_norm, 'quantile_transform'), exist_ok=True)\n",
    "os.makedirs(join(save_path_norm, 'zero_centering'))\n",
    "np.save(join(save_path_norm, 'quantile_transform', 'quantiles.npy'), preproc_pipeline.steps[1][1].quantiles_)\n",
    "np.save(join(save_path_norm, 'quantile_transform', 'references.npy'), preproc_pipeline.steps[1][1].references_)\n",
    "np.save(join(save_path_norm, 'zero_centering', 'means.npy'), feature_means)\n",
    "\n",
    "# save preproc pipeline\n",
    "os.makedirs(join(save_path_norm, 'preproc_pipeline'), exist_ok=True)\n",
    "pickle.dump(preproc_pipeline, open(join(save_path_norm, 'preproc_pipeline', 'preproc_pipeline.pickle'), 'wb'))"
   ]
  },
  {
   "cell_type": "markdown",
   "id": "e681c581-c023-4ff7-82d0-55b314047a3e",
   "metadata": {},
   "source": [
    "# Inference + save preprocessed data to disk"
   ]
  },
  {
   "cell_type": "markdown",
   "id": "c39550ce-c4bc-47c4-963c-329250442cce",
   "metadata": {},
   "source": [
    "Restart notebook / dask scheduler for this to use processes scheduler for this part"
   ]
  },
  {
   "cell_type": "code",
   "execution_count": 4,
   "id": "ecd326de-0c91-406b-9e73-ad1255b08722",
   "metadata": {
    "tags": []
   },
   "outputs": [],
   "source": [
    "from os.path import join\n",
    "import shutil\n",
    "from tqdm import tqdm\n",
    "import os\n",
    "import pickle\n",
    "\n",
    "import numpy as np\n",
    "import dask.array as da"
   ]
  },
  {
   "cell_type": "code",
   "execution_count": 5,
   "id": "9f98247f-2ec5-4931-b0c8-0b01a3425a1a",
   "metadata": {
    "tags": []
   },
   "outputs": [],
   "source": [
    "preproc_pipeline = pickle.load(open(join(SAVE_PATH, 'norm', 'preproc_pipeline', 'preproc_pipeline.pickle'), 'rb'))"
   ]
  },
  {
   "cell_type": "code",
   "execution_count": 6,
   "id": "503d98ba-1255-41b9-a79d-db6b02e92112",
   "metadata": {
    "tags": []
   },
   "outputs": [],
   "source": [
    "import dask\n",
    "dask.config.set(scheduler='processes', num_workers=20)\n",
    "\n",
    "\n",
    "def preprocess_gene_matrix(x):\n",
    "    x_normed = preproc_pipeline.transform(x)\n",
    "    x_normed = x_normed.astype(np.float32)\n",
    "\n",
    "    return x_normed\n",
    "\n",
    "\n",
    "for split in ['train', 'val', 'test']:\n",
    "    \n",
    "    path_raw = join(DATA_PATH, split)\n",
    "    save_path = join(SAVE_PATH, split)\n",
    "    os.makedirs(save_path)\n",
    "    \n",
    "    for file in ['obs.parquet', 'var.parquet']:\n",
    "        shutil.copy(join(path_raw, file), join(save_path, file))\n",
    "        \n",
    "    da.to_zarr(\n",
    "        da.from_zarr(join(path_raw, 'zarr'), component='X').map_blocks(preprocess_gene_matrix, dtype='f4'), \n",
    "        join(save_path, 'zarr'),\n",
    "        component='X',\n",
    "        compute=True,\n",
    "        compressor='default', \n",
    "        order='C'\n",
    "    )\n"
   ]
  },
  {
   "cell_type": "code",
   "execution_count": null,
   "id": "4dc2efaf-2bb1-4e39-ba1c-aea83f46b0d1",
   "metadata": {},
   "outputs": [],
   "source": []
  },
  {
   "cell_type": "code",
   "execution_count": null,
   "id": "c031c10d-2b39-40ba-acc7-9f3064c8bc11",
   "metadata": {},
   "outputs": [],
   "source": []
  }
 ],
 "metadata": {
  "kernelspec": {
   "display_name": "Python 3 (ipykernel)",
   "language": "python",
   "name": "python3"
  },
  "language_info": {
   "codemirror_mode": {
    "name": "ipython",
    "version": 3
   },
   "file_extension": ".py",
   "mimetype": "text/x-python",
   "name": "python",
   "nbconvert_exporter": "python",
   "pygments_lexer": "ipython3",
   "version": "3.8.10"
  }
 },
 "nbformat": 4,
 "nbformat_minor": 5
}
