{
 "cells": [
  {
   "cell_type": "code",
   "execution_count": 1,
   "id": "08e1a1f4-4d57-42f0-8ead-5b9702a433e6",
   "metadata": {},
   "outputs": [],
   "source": [
    "# Define paths\n",
    "DATA_PATH = '/lustre/scratch/users/felix.fischer/merlin_cxg_simple'\n",
    "SAVE_PATH = '/lustre/scratch/users/felix.fischer/merlin_cxg_simple_norm'"
   ]
  },
  {
   "cell_type": "code",
   "execution_count": null,
   "id": "e85b42d5-9fb8-499e-9259-c21ad194a750",
   "metadata": {},
   "outputs": [],
   "source": []
  },
  {
   "cell_type": "markdown",
   "id": "af310cf9-d0fa-4216-aa66-0ad57d1509ca",
   "metadata": {},
   "source": [
    "# Read train data"
   ]
  },
  {
   "cell_type": "code",
   "execution_count": 2,
   "id": "1fc697eb-d90e-4c9a-96e8-99f8de2307b1",
   "metadata": {},
   "outputs": [],
   "source": [
    "import os\n",
    "\n",
    "import numpy as np\n",
    "import seaborn as sns\n",
    "import dask.array as da\n",
    "import pandas as pd\n",
    "\n",
    "from scipy.sparse import csc_matrix, csr_matrix, issparse\n",
    "from os.path import join\n",
    "\n",
    "import dask\n",
    "dask.config.set(scheduler='threads');"
   ]
  },
  {
   "cell_type": "code",
   "execution_count": 3,
   "id": "30251bd5-469b-4355-b95e-40b056676c80",
   "metadata": {},
   "outputs": [],
   "source": [
    "X = da.from_zarr(join(DATA_PATH, 'train', 'zarr'), 'X')\n",
    "obs = pd.read_parquet(join(DATA_PATH, 'train', 'obs.parquet')).reset_index(drop=True)"
   ]
  },
  {
   "cell_type": "code",
   "execution_count": 4,
   "id": "c4d34678-0e4b-4d51-aa6c-5516932be9c2",
   "metadata": {},
   "outputs": [
    {
     "data": {
      "text/html": [
       "<table>\n",
       "    <tr>\n",
       "        <td>\n",
       "            <table>\n",
       "                <thead>\n",
       "                    <tr>\n",
       "                        <td> </td>\n",
       "                        <th> Array </th>\n",
       "                        <th> Chunk </th>\n",
       "                    </tr>\n",
       "                </thead>\n",
       "                <tbody>\n",
       "                    \n",
       "                    <tr>\n",
       "                        <th> Bytes </th>\n",
       "                        <td> 478.27 GiB </td>\n",
       "                        <td> 75.61 MiB </td>\n",
       "                    </tr>\n",
       "                    \n",
       "                    <tr>\n",
       "                        <th> Shape </th>\n",
       "                        <td> (6632427, 19357) </td>\n",
       "                        <td> (1024, 19357) </td>\n",
       "                    </tr>\n",
       "                    <tr>\n",
       "                        <th> Count </th>\n",
       "                        <td> 6478 Tasks </td>\n",
       "                        <td> 6477 Chunks </td>\n",
       "                    </tr>\n",
       "                    <tr>\n",
       "                    <th> Type </th>\n",
       "                    <td> float32 </td>\n",
       "                    <td> numpy.ndarray </td>\n",
       "                    </tr>\n",
       "                </tbody>\n",
       "            </table>\n",
       "        </td>\n",
       "        <td>\n",
       "        <svg width=\"75\" height=\"170\" style=\"stroke:rgb(0,0,0);stroke-width:1\" >\n",
       "\n",
       "  <!-- Horizontal lines -->\n",
       "  <line x1=\"0\" y1=\"0\" x2=\"25\" y2=\"0\" style=\"stroke-width:2\" />\n",
       "  <line x1=\"0\" y1=\"6\" x2=\"25\" y2=\"6\" />\n",
       "  <line x1=\"0\" y1=\"12\" x2=\"25\" y2=\"12\" />\n",
       "  <line x1=\"0\" y1=\"18\" x2=\"25\" y2=\"18\" />\n",
       "  <line x1=\"0\" y1=\"25\" x2=\"25\" y2=\"25\" />\n",
       "  <line x1=\"0\" y1=\"31\" x2=\"25\" y2=\"31\" />\n",
       "  <line x1=\"0\" y1=\"37\" x2=\"25\" y2=\"37\" />\n",
       "  <line x1=\"0\" y1=\"44\" x2=\"25\" y2=\"44\" />\n",
       "  <line x1=\"0\" y1=\"50\" x2=\"25\" y2=\"50\" />\n",
       "  <line x1=\"0\" y1=\"56\" x2=\"25\" y2=\"56\" />\n",
       "  <line x1=\"0\" y1=\"63\" x2=\"25\" y2=\"63\" />\n",
       "  <line x1=\"0\" y1=\"69\" x2=\"25\" y2=\"69\" />\n",
       "  <line x1=\"0\" y1=\"75\" x2=\"25\" y2=\"75\" />\n",
       "  <line x1=\"0\" y1=\"82\" x2=\"25\" y2=\"82\" />\n",
       "  <line x1=\"0\" y1=\"88\" x2=\"25\" y2=\"88\" />\n",
       "  <line x1=\"0\" y1=\"94\" x2=\"25\" y2=\"94\" />\n",
       "  <line x1=\"0\" y1=\"101\" x2=\"25\" y2=\"101\" />\n",
       "  <line x1=\"0\" y1=\"107\" x2=\"25\" y2=\"107\" />\n",
       "  <line x1=\"0\" y1=\"113\" x2=\"25\" y2=\"113\" />\n",
       "  <line x1=\"0\" y1=\"120\" x2=\"25\" y2=\"120\" style=\"stroke-width:2\" />\n",
       "\n",
       "  <!-- Vertical lines -->\n",
       "  <line x1=\"0\" y1=\"0\" x2=\"0\" y2=\"120\" style=\"stroke-width:2\" />\n",
       "  <line x1=\"25\" y1=\"0\" x2=\"25\" y2=\"120\" style=\"stroke-width:2\" />\n",
       "\n",
       "  <!-- Colored Rectangle -->\n",
       "  <polygon points=\"0.0,0.0 25.412616514582485,0.0 25.412616514582485,120.0 0.0,120.0\" style=\"fill:#8B4903A0;stroke-width:0\"/>\n",
       "\n",
       "  <!-- Text -->\n",
       "  <text x=\"12.706308\" y=\"140.000000\" font-size=\"1.0rem\" font-weight=\"100\" text-anchor=\"middle\" >19357</text>\n",
       "  <text x=\"45.412617\" y=\"60.000000\" font-size=\"1.0rem\" font-weight=\"100\" text-anchor=\"middle\" transform=\"rotate(-90,45.412617,60.000000)\">6632427</text>\n",
       "</svg>\n",
       "        </td>\n",
       "    </tr>\n",
       "</table>"
      ],
      "text/plain": [
       "dask.array<from-zarr, shape=(6632427, 19357), dtype=float32, chunksize=(1024, 19357), chunktype=numpy.ndarray>"
      ]
     },
     "execution_count": 4,
     "metadata": {},
     "output_type": "execute_result"
    }
   ],
   "source": [
    "X"
   ]
  },
  {
   "cell_type": "code",
   "execution_count": 5,
   "id": "cba4c408-03d6-4d49-ab06-5faf0d27888d",
   "metadata": {},
   "outputs": [
    {
     "data": {
      "text/html": [
       "<div>\n",
       "<style scoped>\n",
       "    .dataframe tbody tr th:only-of-type {\n",
       "        vertical-align: middle;\n",
       "    }\n",
       "\n",
       "    .dataframe tbody tr th {\n",
       "        vertical-align: top;\n",
       "    }\n",
       "\n",
       "    .dataframe thead th {\n",
       "        text-align: right;\n",
       "    }\n",
       "</style>\n",
       "<table border=\"1\" class=\"dataframe\">\n",
       "  <thead>\n",
       "    <tr style=\"text-align: right;\">\n",
       "      <th></th>\n",
       "      <th>id</th>\n",
       "      <th>assay_sc</th>\n",
       "      <th>tech_sample</th>\n",
       "      <th>cell_type</th>\n",
       "      <th>cell_type_ontology_term_id</th>\n",
       "      <th>disease</th>\n",
       "      <th>development_stage</th>\n",
       "      <th>organ</th>\n",
       "    </tr>\n",
       "  </thead>\n",
       "  <tbody>\n",
       "    <tr>\n",
       "      <th>0</th>\n",
       "      <td>1ba3d0cb-18e2-470c-92be-70ad3fa820fb</td>\n",
       "      <td>10x 5' v2</td>\n",
       "      <td>1ba3d0cb-18e2-470c-92be-70ad3fa820fb10x 5' v2_...</td>\n",
       "      <td>CD8-positive, alpha-beta T cell</td>\n",
       "      <td>CL:0000625</td>\n",
       "      <td>COVID-19</td>\n",
       "      <td>49-year-old human stage</td>\n",
       "      <td>blood</td>\n",
       "    </tr>\n",
       "    <tr>\n",
       "      <th>1</th>\n",
       "      <td>ea762ec0-f8f2-4f16-ba53-6bf7464b879b</td>\n",
       "      <td>10x 3' v3</td>\n",
       "      <td>ea762ec0-f8f2-4f16-ba53-6bf7464b879b10x 3' v3_...</td>\n",
       "      <td>kidney connecting tubule epithelial cell</td>\n",
       "      <td>CL:1000768</td>\n",
       "      <td>normal</td>\n",
       "      <td>seventh decade human stage</td>\n",
       "      <td>cortex of kidney</td>\n",
       "    </tr>\n",
       "    <tr>\n",
       "      <th>2</th>\n",
       "      <td>1ba3d0cb-18e2-470c-92be-70ad3fa820fb</td>\n",
       "      <td>10x 5' v2</td>\n",
       "      <td>1ba3d0cb-18e2-470c-92be-70ad3fa820fb10x 5' v2_...</td>\n",
       "      <td>CD8-positive, alpha-beta T cell</td>\n",
       "      <td>CL:0000625</td>\n",
       "      <td>COVID-19</td>\n",
       "      <td>35-year-old human stage</td>\n",
       "      <td>blood</td>\n",
       "    </tr>\n",
       "    <tr>\n",
       "      <th>3</th>\n",
       "      <td>48f8ad54-091a-41be-ac40-1ad6f13e6ca3</td>\n",
       "      <td>10x 3' v3</td>\n",
       "      <td>48f8ad54-091a-41be-ac40-1ad6f13e6ca310x 3' v3_...</td>\n",
       "      <td>monocyte</td>\n",
       "      <td>CL:0000576</td>\n",
       "      <td>malignant ovarian serous tumor</td>\n",
       "      <td>57-year-old human stage</td>\n",
       "      <td>right ovary</td>\n",
       "    </tr>\n",
       "    <tr>\n",
       "      <th>4</th>\n",
       "      <td>c0660294-0bef-4274-9525-6cc901975ea3</td>\n",
       "      <td>10x 3' v3</td>\n",
       "      <td>c0660294-0bef-4274-9525-6cc901975ea310x 3' v3_...</td>\n",
       "      <td>L2/3-6 intratelencephalic projecting glutamate...</td>\n",
       "      <td>CL:4023040</td>\n",
       "      <td>dementia</td>\n",
       "      <td>human adult stage</td>\n",
       "      <td>middle temporal gyrus</td>\n",
       "    </tr>\n",
       "  </tbody>\n",
       "</table>\n",
       "</div>"
      ],
      "text/plain": [
       "                                     id   assay_sc  \\\n",
       "0  1ba3d0cb-18e2-470c-92be-70ad3fa820fb  10x 5' v2   \n",
       "1  ea762ec0-f8f2-4f16-ba53-6bf7464b879b  10x 3' v3   \n",
       "2  1ba3d0cb-18e2-470c-92be-70ad3fa820fb  10x 5' v2   \n",
       "3  48f8ad54-091a-41be-ac40-1ad6f13e6ca3  10x 3' v3   \n",
       "4  c0660294-0bef-4274-9525-6cc901975ea3  10x 3' v3   \n",
       "\n",
       "                                         tech_sample  \\\n",
       "0  1ba3d0cb-18e2-470c-92be-70ad3fa820fb10x 5' v2_...   \n",
       "1  ea762ec0-f8f2-4f16-ba53-6bf7464b879b10x 3' v3_...   \n",
       "2  1ba3d0cb-18e2-470c-92be-70ad3fa820fb10x 5' v2_...   \n",
       "3  48f8ad54-091a-41be-ac40-1ad6f13e6ca310x 3' v3_...   \n",
       "4  c0660294-0bef-4274-9525-6cc901975ea310x 3' v3_...   \n",
       "\n",
       "                                           cell_type  \\\n",
       "0                    CD8-positive, alpha-beta T cell   \n",
       "1           kidney connecting tubule epithelial cell   \n",
       "2                    CD8-positive, alpha-beta T cell   \n",
       "3                                           monocyte   \n",
       "4  L2/3-6 intratelencephalic projecting glutamate...   \n",
       "\n",
       "  cell_type_ontology_term_id                         disease  \\\n",
       "0                 CL:0000625                        COVID-19   \n",
       "1                 CL:1000768                          normal   \n",
       "2                 CL:0000625                        COVID-19   \n",
       "3                 CL:0000576  malignant ovarian serous tumor   \n",
       "4                 CL:4023040                        dementia   \n",
       "\n",
       "            development_stage                  organ  \n",
       "0     49-year-old human stage                  blood  \n",
       "1  seventh decade human stage       cortex of kidney  \n",
       "2     35-year-old human stage                  blood  \n",
       "3     57-year-old human stage            right ovary  \n",
       "4           human adult stage  middle temporal gyrus  "
      ]
     },
     "execution_count": 5,
     "metadata": {},
     "output_type": "execute_result"
    }
   ],
   "source": [
    "obs.head()"
   ]
  },
  {
   "cell_type": "code",
   "execution_count": null,
   "id": "a19cb30c-10cc-43d1-8a7f-94036cf1ce09",
   "metadata": {},
   "outputs": [],
   "source": []
  },
  {
   "cell_type": "markdown",
   "id": "0e6c2808-4d3c-4b02-b4fa-6b0761a4d198",
   "metadata": {},
   "source": [
    "# Fit normalization + save model"
   ]
  },
  {
   "cell_type": "code",
   "execution_count": 5,
   "id": "ba055e81-d025-4e6f-8e86-083d02b07499",
   "metadata": {},
   "outputs": [
    {
     "data": {
      "text/plain": [
       "'1.2.1'"
      ]
     },
     "execution_count": 5,
     "metadata": {},
     "output_type": "execute_result"
    }
   ],
   "source": [
    "import sklearn\n",
    "sklearn.__version__"
   ]
  },
  {
   "cell_type": "code",
   "execution_count": 4,
   "id": "6690a948-2c6d-42a4-94f7-da17dbca1e8b",
   "metadata": {},
   "outputs": [],
   "source": [
    "import numpy as np\n",
    "\n",
    "from sklearn.preprocessing import Normalizer, QuantileTransformer, StandardScaler, FunctionTransformer\n",
    "from sklearn.pipeline import Pipeline\n",
    "\n",
    "\n",
    "from scipy.sparse import csc_matrix, csr_matrix, issparse\n",
    "from sklearn.utils import sparsefuncs\n",
    "\n",
    "\n",
    "def sf_normalize(X):\n",
    "    X = X.copy()\n",
    "    counts = np.array(X.sum(axis=1))\n",
    "    # avoid zero devision error\n",
    "    counts += counts == 0.\n",
    "    # normalize to 10000. counts\n",
    "    scaling_factor = 10000. / counts\n",
    "\n",
    "    if issparse(X):\n",
    "        sparsefuncs.inplace_row_scale(X, scaling_factor)\n",
    "    else:\n",
    "        np.multiply(X, scaling_factor.reshape((-1, 1)), out=X)\n",
    "\n",
    "    return X\n"
   ]
  },
  {
   "cell_type": "code",
   "execution_count": 9,
   "id": "16bc98cd-0a21-4c66-9797-5397d213db86",
   "metadata": {},
   "outputs": [
    {
     "data": {
      "text/plain": [
       "array([3393313, 6300848,  959415, ..., 3812005, 1585100, 3691064])"
      ]
     },
     "execution_count": 9,
     "metadata": {},
     "output_type": "execute_result"
    }
   ],
   "source": [
    "WEIGHTED_SAMPLING = True\n",
    "SAMPLE_SIZE = 1_000_000\n",
    "\n",
    "\n",
    "rng = np.random.default_rng(seed=1)\n",
    "\n",
    "\n",
    "if WEIGHTED_SAMPLING:\n",
    "    obs['tech_sample_occurances'] = obs.tech_sample.replace(obs.tech_sample.value_counts().to_dict()).astype(float)\n",
    "    obs['sampling_prob'] = 1. / obs.tech_sample_occurances\n",
    "    obs['sampling_prob'] = obs.sampling_prob / obs.sampling_prob.sum()\n",
    "    idx_subsample = rng.choice(obs.index.to_numpy(), size=SAMPLE_SIZE, replace=False, p=obs.sampling_prob.to_numpy())\n",
    "else:\n",
    "    idx_subsample = rng.choice(obs.index.to_numpy(), size=SAMPLE_SIZE, replace=False)\n",
    "\n",
    "\n",
    "idx_subsample"
   ]
  },
  {
   "cell_type": "code",
   "execution_count": 10,
   "id": "ddd21d4d-da04-428a-9ee1-a03ad50037a2",
   "metadata": {},
   "outputs": [
    {
     "data": {
      "text/plain": [
       "1000000"
      ]
     },
     "execution_count": 10,
     "metadata": {},
     "output_type": "execute_result"
    }
   ],
   "source": [
    "len(np.unique(idx_subsample))"
   ]
  },
  {
   "cell_type": "code",
   "execution_count": 11,
   "id": "cd2e6285-50d1-4ed4-8d36-7da792e61184",
   "metadata": {},
   "outputs": [],
   "source": [
    "X_sparse = X[np.sort(idx_subsample), :].map_blocks(csc_matrix).compute().tocsc()"
   ]
  },
  {
   "cell_type": "code",
   "execution_count": 12,
   "id": "560c8f88-47cd-453f-96e7-166e79d89de5",
   "metadata": {},
   "outputs": [],
   "source": [
    "N_QUANTILES = 1000\n",
    "\n",
    "\n",
    "preproc_pipeline = Pipeline([\n",
    "    ('sf_normalizer', FunctionTransformer(sf_normalize)),\n",
    "    (\n",
    "        'quantile_transformer', \n",
    "        QuantileTransformer(n_quantiles=N_QUANTILES, output_distribution='uniform', ignore_implicit_zeros=True, subsample=len(idx_subsample))\n",
    "    )\n",
    "])\n",
    "X_normed = preproc_pipeline.fit_transform(X_sparse)"
   ]
  },
  {
   "cell_type": "code",
   "execution_count": 13,
   "id": "12986a12-a4a6-43a6-a0af-f2fb572cda07",
   "metadata": {},
   "outputs": [],
   "source": [
    "feature_means = np.array(X_normed.mean(axis=0))"
   ]
  },
  {
   "cell_type": "code",
   "execution_count": 14,
   "id": "20ee1562-dc59-4d34-a234-fe034e85c90c",
   "metadata": {},
   "outputs": [],
   "source": [
    "from os.path import join\n",
    "import pickle\n",
    "\n",
    "save_path_norm = join(SAVE_PATH, 'norm')\n",
    "os.makedirs(save_path_norm)\n",
    "\n",
    "# save fit data\n",
    "os.makedirs(save_path_norm, exist_ok=True)\n",
    "os.makedirs(join(save_path_norm, 'quantile_transform'), exist_ok=True)\n",
    "os.makedirs(join(save_path_norm, 'zero_centering'))\n",
    "np.save(join(save_path_norm, 'quantile_transform', 'quantiles.npy'), preproc_pipeline.steps[1][1].quantiles_)\n",
    "np.save(join(save_path_norm, 'quantile_transform', 'references.npy'), preproc_pipeline.steps[1][1].references_)\n",
    "np.save(join(save_path_norm, 'zero_centering', 'means.npy'), feature_means)\n",
    "\n",
    "# save preproc pipeline\n",
    "os.makedirs(join(save_path_norm, 'preproc_pipeline'), exist_ok=True)\n",
    "pickle.dump(preproc_pipeline, open(join(save_path_norm, 'preproc_pipeline', 'preproc_pipeline.pickle'), 'wb'))"
   ]
  },
  {
   "cell_type": "markdown",
   "id": "e681c581-c023-4ff7-82d0-55b314047a3e",
   "metadata": {},
   "source": [
    "# Inference + save preprocessed data to disk"
   ]
  },
  {
   "cell_type": "markdown",
   "id": "c39550ce-c4bc-47c4-963c-329250442cce",
   "metadata": {},
   "source": [
    "Restart notebook / dask scheduler for this to use processes scheduler for this part"
   ]
  },
  {
   "cell_type": "code",
   "execution_count": 2,
   "id": "ecd326de-0c91-406b-9e73-ad1255b08722",
   "metadata": {},
   "outputs": [],
   "source": [
    "from os.path import join\n",
    "import shutil\n",
    "from tqdm import tqdm\n",
    "import os\n",
    "import pickle\n",
    "\n",
    "import numpy as np\n",
    "import dask.array as da"
   ]
  },
  {
   "cell_type": "code",
   "execution_count": 6,
   "id": "9f98247f-2ec5-4931-b0c8-0b01a3425a1a",
   "metadata": {},
   "outputs": [],
   "source": [
    "preproc_pipeline = pickle.load(open(join(SAVE_PATH, 'norm', 'preproc_pipeline', 'preproc_pipeline.pickle'), 'rb'))"
   ]
  },
  {
   "cell_type": "code",
   "execution_count": 7,
   "id": "503d98ba-1255-41b9-a79d-db6b02e92112",
   "metadata": {},
   "outputs": [],
   "source": [
    "import dask\n",
    "dask.config.set(scheduler='processes', num_workers=12)\n",
    "\n",
    "\n",
    "def preprocess_gene_matrix(x):\n",
    "    x_normed = preproc_pipeline.transform(x)\n",
    "    x_normed = x_normed.astype(np.float32)\n",
    "\n",
    "    return x_normed\n",
    "\n",
    "\n",
    "for split in ['train', 'val', 'test']:\n",
    "    \n",
    "    path_raw = join(DATA_PATH, split)\n",
    "    save_path = join(SAVE_PATH, split)\n",
    "    os.makedirs(save_path)\n",
    "    \n",
    "    for file in ['obs.parquet', 'var.parquet']:\n",
    "        shutil.copy(join(path_raw, file), join(save_path, file))\n",
    "        \n",
    "    da.to_zarr(\n",
    "        da.from_zarr(join(path_raw, 'zarr'), component='X').map_blocks(preprocess_gene_matrix, dtype='f4'), \n",
    "        join(save_path, 'zarr'),\n",
    "        component='X',\n",
    "        compute=True,\n",
    "        compressor='default', \n",
    "        order='C'\n",
    "    )\n"
   ]
  },
  {
   "cell_type": "code",
   "execution_count": null,
   "id": "4dc2efaf-2bb1-4e39-ba1c-aea83f46b0d1",
   "metadata": {},
   "outputs": [],
   "source": []
  },
  {
   "cell_type": "code",
   "execution_count": null,
   "id": "c031c10d-2b39-40ba-acc7-9f3064c8bc11",
   "metadata": {},
   "outputs": [],
   "source": []
  }
 ],
 "metadata": {
  "kernelspec": {
   "display_name": "Python 3 (ipykernel)",
   "language": "python",
   "name": "python3"
  },
  "language_info": {
   "codemirror_mode": {
    "name": "ipython",
    "version": 3
   },
   "file_extension": ".py",
   "mimetype": "text/x-python",
   "name": "python",
   "nbconvert_exporter": "python",
   "pygments_lexer": "ipython3",
   "version": "3.9.15"
  }
 },
 "nbformat": 4,
 "nbformat_minor": 5
}
